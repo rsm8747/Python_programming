{
 "cells": [
  {
   "cell_type": "code",
   "execution_count": 1,
   "id": "009c18b4-5dc0-44cb-9a0b-f535739481fb",
   "metadata": {},
   "outputs": [
    {
     "name": "stdout",
     "output_type": "stream",
     "text": [
      "olleh\n"
     ]
    }
   ],
   "source": [
    "#  1. Reverse a string \n",
    "s = \"hello\"\n",
    "print(s[::-1])"
   ]
  },
  {
   "cell_type": "code",
   "execution_count": 3,
   "id": "d1b63954-8ed4-4938-a975-70eb0150fd83",
   "metadata": {},
   "outputs": [
    {
     "name": "stdout",
     "output_type": "stream",
     "text": [
      "Prime\n"
     ]
    }
   ],
   "source": [
    "# 2. check if number is prime or not\n",
    "num = 7\n",
    "if num > 1:\n",
    "    for i in range(2,num):\n",
    "        if num % i==0:\n",
    "            print(\"Not prime\")\n",
    "            break\n",
    "    else:\n",
    "        print(\"Prime\")\n",
    "else:\n",
    "    print(\"Not prime\")"
   ]
  },
  {
   "cell_type": "code",
   "execution_count": 5,
   "id": "25515fd3-142b-4776-960f-31db967125e5",
   "metadata": {},
   "outputs": [
    {
     "name": "stdout",
     "output_type": "stream",
     "text": [
      "5\n"
     ]
    }
   ],
   "source": [
    "# 3. Count Vowels in a string \n",
    "s = \"data science\"\n",
    "vowels = 'aeiouAEIOU'\n",
    "count = sum(1 for ch in s if ch in vowels)\n",
    "print(count)"
   ]
  },
  {
   "cell_type": "code",
   "execution_count": 7,
   "id": "b94ac876-7627-47fb-b7be-d4f1f9aa1ddd",
   "metadata": {},
   "outputs": [
    {
     "name": "stdout",
     "output_type": "stream",
     "text": [
      "Palindrome\n"
     ]
    }
   ],
   "source": [
    "# 4. Check palindrome (String)\n",
    "s  = \"madam\"\n",
    "print(\"Palindrome\"  if s == s[::-1] else \"Not palindrome\")"
   ]
  },
  {
   "cell_type": "code",
   "execution_count": 11,
   "id": "7a7033f3-8988-41df-b051-99fdbbfbc54c",
   "metadata": {},
   "outputs": [
    {
     "name": "stdout",
     "output_type": "stream",
     "text": [
      "120\n"
     ]
    }
   ],
   "source": [
    "# 5. Find factorial (recursive)\n",
    "def fatorial(n):\n",
    "    return 1 if n == 0 else n*fatorial(n-1)\n",
    "\n",
    "print(fatorial(5))"
   ]
  },
  {
   "cell_type": "code",
   "execution_count": 15,
   "id": "ffe804b2-404c-4b70-9ceb-46c5183769fb",
   "metadata": {},
   "outputs": [
    {
     "name": "stdout",
     "output_type": "stream",
     "text": [
      "55\n"
     ]
    }
   ],
   "source": [
    "# 6. FInd second largest number in s list\n",
    "nums = [4,8,12,89,55]\n",
    "unique = list(set(nums))\n",
    "unique.sort()\n",
    "print(unique[-2])"
   ]
  },
  {
   "cell_type": "code",
   "execution_count": 17,
   "id": "b7aeaaed-8cbc-4676-9137-f3b47e1e76bb",
   "metadata": {},
   "outputs": [
    {
     "name": "stdout",
     "output_type": "stream",
     "text": [
      "[1, 2, 3, 4, 5]\n"
     ]
    }
   ],
   "source": [
    "# 7. Remove duplicate froms list \n",
    "lst = [1,2,3,3,4,4,4,5]\n",
    "print(list(set(lst)))"
   ]
  },
  {
   "cell_type": "code",
   "execution_count": 21,
   "id": "b3f3477c-5f24-4783-8c8f-7a4e4fc9550b",
   "metadata": {},
   "outputs": [
    {
     "name": "stdout",
     "output_type": "stream",
     "text": [
      "{1: 1, 2: 2, 3: 3}\n"
     ]
    }
   ],
   "source": [
    "# 8. Count freqywncy of elements in alist\n",
    "from collections import Counter\n",
    "lst = [1,2,2,3,3,3]\n",
    "print(dict(Counter(lst)))"
   ]
  },
  {
   "cell_type": "code",
   "execution_count": 23,
   "id": "e340b524-f1a3-4588-b6a6-6e07da5f282f",
   "metadata": {},
   "outputs": [
    {
     "name": "stdout",
     "output_type": "stream",
     "text": [
      "0 1 1 2 3 "
     ]
    }
   ],
   "source": [
    "# 9. Fibonaccci Series up to n terms \n",
    "n = 5\n",
    "a,b=0,1\n",
    "for _ in range(n):\n",
    "    print(a,end=' ')\n",
    "    a,b=b,a+b"
   ]
  },
  {
   "cell_type": "code",
   "execution_count": 27,
   "id": "05400619-703c-4f1a-bb54-cde1c9c969c4",
   "metadata": {},
   "outputs": [
    {
     "name": "stdout",
     "output_type": "stream",
     "text": [
      "Sorted\n"
     ]
    }
   ],
   "source": [
    "# 10. Check if list is sorted \n",
    "lst = [1,2,3,4]\n",
    "print(\"Sorted\" if lst==sorted(lst) else \"NOt Sorted\")"
   ]
  }
 ],
 "metadata": {
  "kernelspec": {
   "display_name": "Python 3 (ipykernel)",
   "language": "python",
   "name": "python3"
  },
  "language_info": {
   "codemirror_mode": {
    "name": "ipython",
    "version": 3
   },
   "file_extension": ".py",
   "mimetype": "text/x-python",
   "name": "python",
   "nbconvert_exporter": "python",
   "pygments_lexer": "ipython3",
   "version": "3.12.7"
  }
 },
 "nbformat": 4,
 "nbformat_minor": 5
}
