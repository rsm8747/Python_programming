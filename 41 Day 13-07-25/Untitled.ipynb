{
 "cells": [
  {
   "cell_type": "code",
   "execution_count": null,
   "id": "7782db1d-9434-4b6a-be3d-7a5754795a42",
   "metadata": {},
   "outputs": [],
   "source": []
  },
  {
   "cell_type": "code",
   "execution_count": 17,
   "id": "43c2346c-1df6-4290-9a79-428a90146d0e",
   "metadata": {},
   "outputs": [
    {
     "name": "stdout",
     "output_type": "stream",
     "text": [
      "Input: [2, 4, 1, 1, 6, 5]\n",
      "Hills and Valley: 3\n",
      "Input: [6, 6, 5, 5, 4, 1]\n",
      "Hills adn valley: 2\n",
      "Input: [1, 2, 3, 2, 1, 2, 3]\n",
      "Hills and valley: 3\n"
     ]
    }
   ],
   "source": [
    "from typing import List\n",
    "class Solution:\n",
    "    def countHillValley(self,nums: List[int])->int:\n",
    "        # Step 1 : Remove consecutive duplicates\n",
    "        filtered = [nums[0]]\n",
    "        for num in nums[1:]:\n",
    "            if num!=filtered[-1]:\n",
    "                filtered.append(num)\n",
    "        # Step 2 COunt hills and valley\n",
    "        count = 0\n",
    "        for i in range(1,len(filtered)-1):\n",
    "            if filtered[i] > filtered[i-1] and filtered[i] > filtered[i+1]:\n",
    "                count += 1 # Hills\n",
    "            elif filtered[i] < filtered[i-1] and filtered[i] < filtered[i-1]:\n",
    "                count += 1 #Valley\n",
    "        return count\n",
    "\n",
    "solution = Solution()\n",
    "\n",
    "# test case 1 \n",
    "nums1 = [2,4,1,1,6,5]\n",
    "print(\"Input:\",nums1)\n",
    "print(\"Hills and Valley:\", solution.countHillValley(nums1))\n",
    "\n",
    "# test case 2:\n",
    "nums2 = [6,6,5,5,4,1]\n",
    "print(\"Input:\",nums2)\n",
    "print(\"Hills adn valley:\", solution.countHillValley(nums2))\n",
    "\n",
    "# test case 3:\n",
    "nums3=[1,2,3,2,1,2,3]\n",
    "print(\"Input:\",nums3)\n",
    "print(\"Hills and valley:\", solution.countHillValley(nums3))"
   ]
  }
 ],
 "metadata": {
  "kernelspec": {
   "display_name": "Python 3 (ipykernel)",
   "language": "python",
   "name": "python3"
  },
  "language_info": {
   "codemirror_mode": {
    "name": "ipython",
    "version": 3
   },
   "file_extension": ".py",
   "mimetype": "text/x-python",
   "name": "python",
   "nbconvert_exporter": "python",
   "pygments_lexer": "ipython3",
   "version": "3.12.7"
  }
 },
 "nbformat": 4,
 "nbformat_minor": 5
}
