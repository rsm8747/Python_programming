{
 "cells": [
  {
   "cell_type": "code",
   "execution_count": 1,
   "id": "3af4c42c-236d-494f-ad86-0a9e176c0962",
   "metadata": {},
   "outputs": [
    {
     "name": "stdout",
     "output_type": "stream",
     "text": [
      "[(4, 2), (5, 1)]\n"
     ]
    }
   ],
   "source": [
    "# 51. Find all pairs with given sum\n",
    "def find_pairs(lst,target):\n",
    "    result=[]\n",
    "    seen=set()\n",
    "    for num in lst:\n",
    "        if target-num in seen:\n",
    "            result.append((num,target-num))\n",
    "        seen.add(num)\n",
    "    return result\n",
    "\n",
    "print(find_pairs([1,2,3,4,5],6))"
   ]
  },
  {
   "cell_type": "code",
   "execution_count": 3,
   "id": "524c5c1d-901e-4942-bc79-eb8111310b19",
   "metadata": {},
   "outputs": [
    {
     "name": "stdout",
     "output_type": "stream",
     "text": [
      "{'a': 1, 'b': 2, 'c': 3}\n"
     ]
    }
   ],
   "source": [
    "# 52. Create a Dictionary from Two Lists\n",
    "def make_dict(keys, values):\n",
    "    return dict(zip(keys,values))\n",
    "\n",
    "print(make_dict([\"a\",\"b\",\"c\"],[1,2,3]))"
   ]
  },
  {
   "cell_type": "code",
   "execution_count": 5,
   "id": "04ed0ecf-50c6-4b2e-b96b-ee0503594f63",
   "metadata": {},
   "outputs": [
    {
     "name": "stdout",
     "output_type": "stream",
     "text": [
      "[1, 2, 3, 4, 5]\n"
     ]
    }
   ],
   "source": [
    "# 53. Flatten a Nested List\n",
    "def flatten(lst):\n",
    "    return [item for sublist in lst for item in sublist]\n",
    "\n",
    "print(flatten([[1,2],[3,4],[5]]))"
   ]
  },
  {
   "cell_type": "code",
   "execution_count": 9,
   "id": "74d03ffe-b449-488c-8a5e-eb56e8c06ca5",
   "metadata": {},
   "outputs": [
    {
     "name": "stdout",
     "output_type": "stream",
     "text": [
      "1\n",
      "12\n",
      "123\n",
      "1234\n",
      "12345\n"
     ]
    }
   ],
   "source": [
    "# 54. Print Numbers in Pyramid Pattern \n",
    "def pyramid(n):\n",
    "    for i in range(1,n+1):\n",
    "        print(''*(n-1)+''.join(str(x) for x in range(1,i+1)))\n",
    "\n",
    "pyramid(5)"
   ]
  },
  {
   "cell_type": "code",
   "execution_count": 13,
   "id": "520595e8-72c2-4bdd-af08-03d88f473c3c",
   "metadata": {},
   "outputs": [
    {
     "name": "stdout",
     "output_type": "stream",
     "text": [
      "[2, 4, 6]\n"
     ]
    }
   ],
   "source": [
    "# 55. Get List of All Even NUmbers Using List Comprehension\n",
    "def even_list(lst):\n",
    "    return [x for x in lst if x % 2 == 0]\n",
    "\n",
    "print(even_list([1, 2, 3, 4, 5, 6]))\n"
   ]
  },
  {
   "cell_type": "code",
   "execution_count": 15,
   "id": "be39b397-37b1-4fd8-b5f0-afee77122b36",
   "metadata": {},
   "outputs": [
    {
     "name": "stdout",
     "output_type": "stream",
     "text": [
      "[1, 2, 3, 4, 6, 12]\n"
     ]
    }
   ],
   "source": [
    "# 56. Find all Divisiors of a Number \n",
    "def divisors(n):\n",
    "    return [i for i in range(1,n+1) if n % i ==0]\n",
    "\n",
    "print(divisors(12))"
   ]
  },
  {
   "cell_type": "code",
   "execution_count": 17,
   "id": "ee733ce7-a586-4c7a-bad7-55956eeccb3f",
   "metadata": {},
   "outputs": [
    {
     "name": "stdout",
     "output_type": "stream",
     "text": [
      "{'orange': 1, 'banana': 2, 'apple': 3}\n"
     ]
    }
   ],
   "source": [
    "# 57. Create a frequency dictionary of words\n",
    "def word_freq(s):\n",
    "    words = s.split()\n",
    "    return {word: words.count(word) for word in set(words)}\n",
    "\n",
    "print(word_freq(\"apple banana apple orange banana apple\"))"
   ]
  },
  {
   "cell_type": "code",
   "execution_count": 19,
   "id": "a006b143-ef6a-4d37-ad6f-c6dc8ad462d7",
   "metadata": {},
   "outputs": [
    {
     "name": "stdout",
     "output_type": "stream",
     "text": [
      "True\n"
     ]
    }
   ],
   "source": [
    "# 58. Check if Two Strings are Rotations \n",
    "def is_rotation(s1,s2):\n",
    "    return len(s1) == len(s2) and s2 in (s1+s1)\n",
    "\n",
    "print(is_rotation(\"abcde\",\"deabc\")) # true"
   ]
  },
  {
   "cell_type": "code",
   "execution_count": 25,
   "id": "00724e64-4a8f-44f3-8c5f-3b733f50f2fe",
   "metadata": {},
   "outputs": [
    {
     "name": "stdout",
     "output_type": "stream",
     "text": [
      "L^f4|FV\\\n"
     ]
    }
   ],
   "source": [
    "# 59. Generate Random Password\n",
    "import random\n",
    "import string  # You forgot to import the string module\n",
    "\n",
    "def generate_password(length=8):\n",
    "    chars = string.ascii_letters + string.digits + string.punctuation\n",
    "    return ''.join(random.choice(chars) for _ in range(length))\n",
    "\n",
    "print(generate_password())\n"
   ]
  },
  {
   "cell_type": "code",
   "execution_count": 33,
   "id": "155596b2-71e7-4ea4-a7e8-3e0bbbab700d",
   "metadata": {},
   "outputs": [
    {
     "name": "stdout",
     "output_type": "stream",
     "text": [
      "[1, 2, 2, 3, 4, 4, 5]\n"
     ]
    }
   ],
   "source": [
    "# 60. Remove Duplicates from list without set()\n",
    "def remove_duplicate(lst):\n",
    "    result=[]\n",
    "    for x in lst:\n",
    "        result.append(x)\n",
    "    return result\n",
    "\n",
    "print(remove_duplicate([1,2,2,3,4,4,5]))"
   ]
  }
 ],
 "metadata": {
  "kernelspec": {
   "display_name": "Python 3 (ipykernel)",
   "language": "python",
   "name": "python3"
  },
  "language_info": {
   "codemirror_mode": {
    "name": "ipython",
    "version": 3
   },
   "file_extension": ".py",
   "mimetype": "text/x-python",
   "name": "python",
   "nbconvert_exporter": "python",
   "pygments_lexer": "ipython3",
   "version": "3.12.7"
  }
 },
 "nbformat": 4,
 "nbformat_minor": 5
}
