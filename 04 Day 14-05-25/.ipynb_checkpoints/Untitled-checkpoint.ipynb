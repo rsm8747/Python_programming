{
 "cells": [
  {
   "cell_type": "code",
   "execution_count": 1,
   "id": "d6c3530c-b0f1-435a-998a-31421d65668f",
   "metadata": {},
   "outputs": [
    {
     "name": "stdout",
     "output_type": "stream",
     "text": [
      "a\n",
      "ab\n",
      "abc\n",
      "b\n",
      "bc\n",
      "c\n"
     ]
    }
   ],
   "source": [
    "# 31. print all substring of a string\n",
    "def all_substrings(s):\n",
    "    for i in range(len(s)):\n",
    "        for j in range(i+1,len(s)+1):\n",
    "            print(s[i:j])\n",
    "\n",
    "all_substrings(\"abc\")"
   ]
  },
  {
   "cell_type": "code",
   "execution_count": 3,
   "id": "12a7c779-2ad7-453b-a293-3eb7e3bc8988",
   "metadata": {},
   "outputs": [
    {
     "name": "stdout",
     "output_type": "stream",
     "text": [
      "[2, 3]\n"
     ]
    }
   ],
   "source": [
    "# 32. find common elements between two list \n",
    "def common_elements(a,b):\n",
    "    return list(set(a) & set(b))\n",
    "\n",
    "print(common_elements([1,2,3],[2,3,4]))"
   ]
  },
  {
   "cell_type": "code",
   "execution_count": 7,
   "id": "0a18a0f9-f7e4-41ac-b74e-8f09989c4bf8",
   "metadata": {},
   "outputs": [
    {
     "name": "stdout",
     "output_type": "stream",
     "text": [
      "*\n",
      "**\n",
      "***\n",
      "****\n",
      "*****\n"
     ]
    }
   ],
   "source": [
    "# 33. Print Pattern : RIght Angle Triangle \n",
    "def pattern(n):\n",
    "    for i in range(1,n+1):\n",
    "        print(\"*\"*i)\n",
    "\n",
    "pattern(5)"
   ]
  },
  {
   "cell_type": "code",
   "execution_count": 15,
   "id": "3b714f47-64b3-4022-b9af-01309de5947c",
   "metadata": {},
   "outputs": [
    {
     "name": "stdout",
     "output_type": "stream",
     "text": [
      "5\n"
     ]
    }
   ],
   "source": [
    "# 34. Count Number of Digits in a NUmber\n",
    "def count_digit(n):\n",
    "    return len(str(n))\n",
    "\n",
    "print(count_digit(12345))"
   ]
  },
  {
   "cell_type": "code",
   "execution_count": 11,
   "id": "e8de811a-6604-46df-9362-fa57976ad447",
   "metadata": {},
   "outputs": [
    {
     "name": "stdout",
     "output_type": "stream",
     "text": [
      "1102.5\n"
     ]
    }
   ],
   "source": [
    "# 35. Calculate Compound Interest\n",
    "def compound_interest(p,r,t):\n",
    "    return p*(1+r/100)**t\n",
    "\n",
    "print(compound_interest(1000,5,2))"
   ]
  },
  {
   "cell_type": "code",
   "execution_count": 17,
   "id": "7181f1f7-f056-43ba-9dd4-f622d3533948",
   "metadata": {},
   "outputs": [
    {
     "name": "stdout",
     "output_type": "stream",
     "text": [
      "[2, 3, 4, 1]\n"
     ]
    }
   ],
   "source": [
    "# 36. Rotate List Left by One \n",
    "def rotate_left(lst):\n",
    "    return lst[1:]+lst[:1]\n",
    "\n",
    "print(rotate_left([1,2,3,4]))"
   ]
  },
  {
   "cell_type": "code",
   "execution_count": 23,
   "id": "b6e5f120-a85a-4e16-9ab1-fd0842cad4e8",
   "metadata": {},
   "outputs": [
    {
     "name": "stdout",
     "output_type": "stream",
     "text": [
      "14\n"
     ]
    }
   ],
   "source": [
    "# 37.Sum of Squares of Digits\n",
    "def sum_of_squares(n):\n",
    "    return sum(int(d)**2 for d in str(n))\n",
    "\n",
    "print(sum_of_squares(123))"
   ]
  },
  {
   "cell_type": "code",
   "execution_count": 25,
   "id": "322a2857-ff22-4749-940d-20ef6e65280d",
   "metadata": {},
   "outputs": [
    {
     "name": "stdout",
     "output_type": "stream",
     "text": [
      "False\n"
     ]
    }
   ],
   "source": [
    "# 38. Check if all elements in list are unique\n",
    "def all_unique(lst):\n",
    "    return len(lst)==len(set(lst))\n",
    "\n",
    "print(all_unique([1,2,3,4,2]))"
   ]
  },
  {
   "cell_type": "code",
   "execution_count": 27,
   "id": "95174ec0-344a-47c6-9abf-85ebb6f5e3a5",
   "metadata": {},
   "outputs": [
    {
     "name": "stdout",
     "output_type": "stream",
     "text": [
      "Hello World\n"
     ]
    }
   ],
   "source": [
    "# 39. Capitalize first letter of each word\n",
    "\n",
    "def capitalize_words(sentence):\n",
    "    return sentence.title()\n",
    "\n",
    "print(capitalize_words(\"hello world\"))"
   ]
  },
  {
   "cell_type": "code",
   "execution_count": 33,
   "id": "054f4352-2278-40e0-bacd-2f5dbb5e2826",
   "metadata": {},
   "outputs": [
    {
     "name": "stdout",
     "output_type": "stream",
     "text": [
      "bdf\n"
     ]
    }
   ],
   "source": [
    "# 40. Print Even positioned characters of string \n",
    "def even_positioned_char(s):\n",
    "    return s[1::2]\n",
    "\n",
    "print(even_positioned_char(\"abcdef\"))\n"
   ]
  }
 ],
 "metadata": {
  "kernelspec": {
   "display_name": "Python 3 (ipykernel)",
   "language": "python",
   "name": "python3"
  },
  "language_info": {
   "codemirror_mode": {
    "name": "ipython",
    "version": 3
   },
   "file_extension": ".py",
   "mimetype": "text/x-python",
   "name": "python",
   "nbconvert_exporter": "python",
   "pygments_lexer": "ipython3",
   "version": "3.12.7"
  }
 },
 "nbformat": 4,
 "nbformat_minor": 5
}
