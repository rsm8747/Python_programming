{
 "cells": [
  {
   "cell_type": "code",
   "execution_count": 1,
   "id": "7e8da125-3867-49f6-8825-0c3ffed90935",
   "metadata": {},
   "outputs": [
    {
     "name": "stdout",
     "output_type": "stream",
     "text": [
      "False\n"
     ]
    }
   ],
   "source": [
    "# 61. Check if sentence is Palindrome (Ignore Case, Space)\n",
    "def sentence_palindrome(s):\n",
    "    s = ''.join(c.lower() for c in s if c.isalnum())\n",
    "    return s == s[::-1]\n",
    "\n",
    "print(sentence_palindrome(\"A man, a plan, a canal: Pananma\"))"
   ]
  },
  {
   "cell_type": "code",
   "execution_count": 5,
   "id": "08ffd243-305f-4a09-b24a-77b3988b4944",
   "metadata": {},
   "outputs": [
    {
     "name": "stdout",
     "output_type": "stream",
     "text": [
      "K\n"
     ]
    }
   ],
   "source": [
    "# 62. Implement Caesar Cipher (Encryption)\n",
    "def caesar_encrypt(text, shift):\n",
    "    result=''\n",
    "    for char in text:\n",
    "        if char.isalpha():\n",
    "            base=ord('a') if char.islower() else ord('A')\n",
    "            result+=chr((ord(char)-base+shift)%26+base)\n",
    "        else:\n",
    "            result += char\n",
    "        return result\n",
    "\n",
    "print(caesar_encrypt(\"HELLO\",3))"
   ]
  },
  {
   "cell_type": "code",
   "execution_count": 11,
   "id": "febe5727-5393-478c-acb9-fc223052cad3",
   "metadata": {},
   "outputs": [
    {
     "name": "stdout",
     "output_type": "stream",
     "text": [
      "False\n"
     ]
    }
   ],
   "source": [
    "# 63 CHeck if list contains Duplicate Elements\n",
    "def has_duplicate(lst):\n",
    "    return len(lst)!=len(set(lst))\n",
    "\n",
    "#print(has_duplicate([1,2,3,4,2]))\n",
    "print(has_duplicate([1,2,3,4]))"
   ]
  },
  {
   "cell_type": "code",
   "execution_count": 13,
   "id": "bb15a274-ac08-4b51-b236-c335d2968aa4",
   "metadata": {},
   "outputs": [
    {
     "name": "stdout",
     "output_type": "stream",
     "text": [
      "None\n"
     ]
    }
   ],
   "source": [
    "# 64 Find First Non-repeating character\n",
    "from collections import Counter\n",
    "def first_non_repeating(s):\n",
    "    freq = Counter(s)\n",
    "    for c in s:\n",
    "        if freq[c]==1:\n",
    "            return c\n",
    "        return None\n",
    "\n",
    "print(first_non_repeating(\"aaabbbsddf\"))"
   ]
  },
  {
   "cell_type": "code",
   "execution_count": 17,
   "id": "b19ce266-fd49-40cf-ade2-5da1a88d95fa",
   "metadata": {},
   "outputs": [
    {
     "name": "stdout",
     "output_type": "stream",
     "text": [
      "011235"
     ]
    }
   ],
   "source": [
    "# 65. Generate Fibonacci Using Recursion \n",
    "\n",
    "def fibonacci_recursive(n):\n",
    "    if n <= 1:\n",
    "        return n\n",
    "    return fibonacci_recursive(n-1) + fibonacci_recursive(n-2)\n",
    "\n",
    "for i in range(6):\n",
    "    print(fibonacci_recursive(i), end='')"
   ]
  },
  {
   "cell_type": "code",
   "execution_count": 19,
   "id": "e3f35bbe-8d84-455c-b734-f368d9650f74",
   "metadata": {},
   "outputs": [
    {
     "name": "stdout",
     "output_type": "stream",
     "text": [
      "98.6\n"
     ]
    }
   ],
   "source": [
    "# 66. Convert Temperature (Celsius to Fahrenheit)\n",
    "def celsius_to_fahrenheit(c):\n",
    "    return (c*9/5)+32\n",
    "\n",
    "print(celsius_to_fahrenheit(37))"
   ]
  },
  {
   "cell_type": "code",
   "execution_count": 23,
   "id": "a74ed971-9456-4b9e-82b2-0086d9084a19",
   "metadata": {},
   "outputs": [
    {
     "name": "stdout",
     "output_type": "stream",
     "text": [
      "hkhkhk\n"
     ]
    }
   ],
   "source": [
    "# 67. Replace Vowel with '*'\n",
    "def replace_vowel(s):\n",
    "    return ''.join('*' if c in 'aeiouAEIOU' else c for c in s)\n",
    "\n",
    "#print(replace_vowel(\"Hello World\"))\n",
    "print(replace_vowel(\"hkhkhk\"))"
   ]
  },
  {
   "cell_type": "code",
   "execution_count": 27,
   "id": "f7e1edd1-47f1-4b55-ac7a-aadc5f33e5a7",
   "metadata": {},
   "outputs": [
    {
     "name": "stdout",
     "output_type": "stream",
     "text": [
      "{'0': 0, '1': 2, '2': 2, '3': 2, '4': 2, '5': 2, '6': 0, '7': 0, '8': 0, '9': 0}\n"
     ]
    }
   ],
   "source": [
    "# 68. Count Occurrences of Each Digit in a Number\n",
    "def digit_count(n):\n",
    "    return {str(d):str(n).count(str(d)) for d in range(10)}\n",
    "\n",
    "print(digit_count(1122334455))"
   ]
  },
  {
   "cell_type": "code",
   "execution_count": 31,
   "id": "c85bce13-b5a7-45fe-aabd-10256fd1eee0",
   "metadata": {},
   "outputs": [
    {
     "name": "stdout",
     "output_type": "stream",
     "text": [
      "[4, 5, 6]\n"
     ]
    }
   ],
   "source": [
    " # 69. Print Elements Greater than average\n",
    "def greater_than_avg(lst):\n",
    "    avg=sum(lst)/len(lst)\n",
    "    return [x for x in lst if x>avg]\n",
    "\n",
    "print(greater_than_avg([1,2,3,4,5,6]))"
   ]
  },
  {
   "cell_type": "code",
   "execution_count": null,
   "id": "bd7bc585-6837-49fc-a40f-447dd8c6bce4",
   "metadata": {},
   "outputs": [],
   "source": [
    "# 70. Sort List by Length pfStrings\n",
    "def sort_by_length(lst):\n",
    "    return sorted(lst,key=len)\n",
    "\n",
    "print(sort_by_length(["
   ]
  }
 ],
 "metadata": {
  "kernelspec": {
   "display_name": "Python 3 (ipykernel)",
   "language": "python",
   "name": "python3"
  },
  "language_info": {
   "codemirror_mode": {
    "name": "ipython",
    "version": 3
   },
   "file_extension": ".py",
   "mimetype": "text/x-python",
   "name": "python",
   "nbconvert_exporter": "python",
   "pygments_lexer": "ipython3",
   "version": "3.12.7"
  }
 },
 "nbformat": 4,
 "nbformat_minor": 5
}
