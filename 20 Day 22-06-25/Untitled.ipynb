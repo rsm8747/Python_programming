{
 "cells": [
  {
   "cell_type": "code",
   "execution_count": 5,
   "id": "57f85cdf-9995-4427-8b2e-533230797220",
   "metadata": {},
   "outputs": [
    {
     "name": "stdout",
     "output_type": "stream",
     "text": [
      "12\n"
     ]
    }
   ],
   "source": [
    "# 191. FInd The GCD (Greatest Common Divisor) of two numbers\n",
    "def gcd(a, b):\n",
    "    while b:\n",
    "        a, b = b, a % b\n",
    "    return a\n",
    "\n",
    "print(gcd(36, 60))\n"
   ]
  },
  {
   "cell_type": "code",
   "execution_count": 9,
   "id": "7ba1f3de-30d6-40e8-a540-3c09ab98ac42",
   "metadata": {},
   "outputs": [
    {
     "name": "stdout",
     "output_type": "stream",
     "text": [
      "12\n"
     ]
    }
   ],
   "source": [
    "# 192. Find the LCM (LEast Common Multiple) of two numbers\n",
    "def lcm(a,b):\n",
    "    def gcd(x,y):\n",
    "        while y:\n",
    "            x,y = y,x%y\n",
    "        return x\n",
    "    return abs(a*b) //gcd(a,b)\n",
    "print(lcm(4,6))"
   ]
  },
  {
   "cell_type": "code",
   "execution_count": 11,
   "id": "27149742-e150-4c40-8059-809d3fde7536",
   "metadata": {},
   "outputs": [
    {
     "name": "stdout",
     "output_type": "stream",
     "text": [
      "[1, 2, 3]\n"
     ]
    }
   ],
   "source": [
    "# 193. Extract Digits from a String \n",
    "def extract_digits(s):\n",
    "    return [int(c) for c in s if c.isdigit()]\n",
    "\n",
    "print(extract_digits(\"abc123xyz\"))"
   ]
  },
  {
   "cell_type": "code",
   "execution_count": 15,
   "id": "9ee6b4ae-d1e0-462e-8e5c-2b58dc324fb5",
   "metadata": {},
   "outputs": [
    {
     "name": "stdout",
     "output_type": "stream",
     "text": [
      "5050\n"
     ]
    }
   ],
   "source": [
    "#194. Calculate the sum of first n natural numbers\n",
    "def sum_natural(n):\n",
    "    return n*(n+1)//2\n",
    "print(sum_natural(100))"
   ]
  },
  {
   "cell_type": "code",
   "execution_count": 17,
   "id": "a0ce5db8-5773-454f-b0f6-0ceaf33deabb",
   "metadata": {},
   "outputs": [
    {
     "name": "stdout",
     "output_type": "stream",
     "text": [
      "[2, 4, 6, 8, 10]\n"
     ]
    }
   ],
   "source": [
    "# 195. Create a list of even numbers from 1 to n\n",
    "def even_numbers(n):\n",
    "    return [x for x in range(2,n+1,2)]\n",
    "print(even_numbers(10))"
   ]
  },
  {
   "cell_type": "code",
   "execution_count": 19,
   "id": "92b9fc26-59f8-4026-97df-cdfd0de5729e",
   "metadata": {},
   "outputs": [
    {
     "name": "stdout",
     "output_type": "stream",
     "text": [
      "3\n"
     ]
    }
   ],
   "source": [
    "# 196. Find the second largest elements in a list\n",
    "def second_largest(lst):\n",
    "    unique=list(set(lst))\n",
    "    unique.sort()\n",
    "    return unique[-2] if len(unique)>=2 else None\n",
    "\n",
    "print(second_largest([1,2,3,4,4]))"
   ]
  },
  {
   "cell_type": "code",
   "execution_count": 23,
   "id": "134a9e23-8d5a-4956-b5bb-6036298e5307",
   "metadata": {},
   "outputs": [
    {
     "name": "stdout",
     "output_type": "stream",
     "text": [
      "45\n"
     ]
    }
   ],
   "source": [
    "def second_largest(lst):\n",
    "    unique = list(set(lst))  # Remove duplicates\n",
    "    unique.sort()  # Sort the list\n",
    "    max_val = unique[-1]  # Get the maximum value\n",
    "    second_largest = unique[-2]  # Get the value just before max\n",
    "    return second_largest\n",
    "\n",
    "# Example\n",
    "print(second_largest([10, 20, 20, 4, 45, 99]))  # Output: 45\n"
   ]
  },
  {
   "cell_type": "code",
   "execution_count": 25,
   "id": "beeb584f-2ec4-490d-8be6-4026634582e4",
   "metadata": {},
   "outputs": [
    {
     "name": "stdout",
     "output_type": "stream",
     "text": [
      "2\n"
     ]
    }
   ],
   "source": [
    "#197. Find the First Repeatinf Elements in a list \n",
    "def first_repeating(lst):\n",
    "    seen = set()\n",
    "    for x in lst:\n",
    "        if x in seen:\n",
    "            return x\n",
    "        seen.add(x)\n",
    "    return None\n",
    "print(first_repeating([1,2,3,2,4]))\n"
   ]
  },
  {
   "cell_type": "code",
   "execution_count": 33,
   "id": "e3c7414b-906c-4828-a44b-e65867beec39",
   "metadata": {},
   "outputs": [
    {
     "name": "stdout",
     "output_type": "stream",
     "text": [
      "b#b#c#\n"
     ]
    }
   ],
   "source": [
    "# 198. Replace All Digits in a String with \n",
    "def mask_digits(s):\n",
    "    return ''.join(\"#\" if c.isdigit() else c for c in s )\n",
    "print(mask_digits(\"b1b2c3\"))"
   ]
  },
  {
   "cell_type": "code",
   "execution_count": 35,
   "id": "6c06caf8-3192-44cc-bac9-0405a28f57ff",
   "metadata": {},
   "outputs": [
    {
     "name": "stdout",
     "output_type": "stream",
     "text": [
      "[1, 4, 9, 16, 25]\n"
     ]
    }
   ],
   "source": [
    "# 199. Create a list squared numbers from 1 to N \n",
    "def squares(n):\n",
    "    return [x**2 for x in range(1,n+1)]\n",
    "print(squares(5))"
   ]
  },
  {
   "cell_type": "code",
   "execution_count": 39,
   "id": "4b65eef2-f4ed-497d-a0f1-fdfc7cd187d8",
   "metadata": {},
   "outputs": [
    {
     "name": "stdout",
     "output_type": "stream",
     "text": [
      "2.5\n"
     ]
    }
   ],
   "source": [
    "# 200. Find the median of a lsit\n",
    "def find_median(lst):\n",
    "    lst.sort()\n",
    "    n = len(lst)\n",
    "    mid = n//2\n",
    "    if n % 2 == 0:\n",
    "        return (lst[mid-1]+lst[mid])/2\n",
    "    else:\n",
    "        return lst[mid]\n",
    "print(find_median([3,1,4,2]))"
   ]
  },
  {
   "cell_type": "code",
   "execution_count": 43,
   "id": "f942fd39-5101-4a51-bf84-fbfca253aa85",
   "metadata": {},
   "outputs": [
    {
     "name": "stdout",
     "output_type": "stream",
     "text": [
      "2.5\n"
     ]
    }
   ],
   "source": [
    "import statistics \n",
    "data = [3,1,4,2]\n",
    "print(statistics.median(data))\n"
   ]
  }
 ],
 "metadata": {
  "kernelspec": {
   "display_name": "Python 3 (ipykernel)",
   "language": "python",
   "name": "python3"
  },
  "language_info": {
   "codemirror_mode": {
    "name": "ipython",
    "version": 3
   },
   "file_extension": ".py",
   "mimetype": "text/x-python",
   "name": "python",
   "nbconvert_exporter": "python",
   "pygments_lexer": "ipython3",
   "version": "3.12.7"
  }
 },
 "nbformat": 4,
 "nbformat_minor": 5
}
