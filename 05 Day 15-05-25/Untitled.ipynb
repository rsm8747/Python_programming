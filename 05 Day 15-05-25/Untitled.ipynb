{
 "cells": [
  {
   "cell_type": "code",
   "execution_count": 3,
   "id": "792cbce5-dfc3-4f2c-bda8-95ff32b7df04",
   "metadata": {},
   "outputs": [
    {
     "name": "stdout",
     "output_type": "stream",
     "text": [
      "12\n"
     ]
    }
   ],
   "source": [
    "# 41. Find largest in a list \n",
    "def find_largest(lst):\n",
    "    return max(lst)\n",
    "\n",
    "print(find_largest([3,9,1,12,7]))"
   ]
  },
  {
   "cell_type": "code",
   "execution_count": 7,
   "id": "de7d8849-887c-4268-bfa8-a0b40564a699",
   "metadata": {},
   "outputs": [
    {
     "name": "stdout",
     "output_type": "stream",
     "text": [
      "23\n"
     ]
    }
   ],
   "source": [
    "# 42. Find Sum of Elements in Nested List\n",
    "def nested_sum(lst):\n",
    "    return sum(sum(inner) for inner in lst)\n",
    "\n",
    "print(nested_sum([[1,2],[3,4],[4,],[4,5]]))"
   ]
  },
  {
   "cell_type": "code",
   "execution_count": 13,
   "id": "80f9f3b3-c54d-4c61-9f28-b2154296e14d",
   "metadata": {},
   "outputs": [
    {
     "name": "stdout",
     "output_type": "stream",
     "text": [
      "True\n"
     ]
    }
   ],
   "source": [
    "# 43. Check Pangram (Contains All Alphabets)\n",
    "import string\n",
    "\n",
    "def is_pangram(s):\n",
    "    return set(string.ascii_lowercase).issubset(set(s.lower()))\n",
    "\n",
    "print(is_pangram(\"The quick brown fox jumps over the lazy dog\"))"
   ]
  },
  {
   "cell_type": "code",
   "execution_count": 15,
   "id": "aba484ed-a497-48de-87d8-99532f6e94b0",
   "metadata": {},
   "outputs": [
    {
     "name": "stdout",
     "output_type": "stream",
     "text": [
      "[4, 2, 3, 1]\n"
     ]
    }
   ],
   "source": [
    "# 44. Swap first adn last elements in list \n",
    "def swap_ends(lst):\n",
    "    lst[0],lst[-1]=lst[-1],lst[0]\n",
    "    return lst\n",
    "\n",
    "print(swap_ends([1,2,3,4]))"
   ]
  },
  {
   "cell_type": "code",
   "execution_count": 17,
   "id": "eeb49e49-a8ba-4c99-b364-2b46b7dd518b",
   "metadata": {},
   "outputs": [
    {
     "name": "stdout",
     "output_type": "stream",
     "text": [
      "(2, 8)\n"
     ]
    }
   ],
   "source": [
    "# 45. Count Upper and Lowercase characters\n",
    "def count_case(s):\n",
    "    upper = sum(1 for c in s if c.isupper())\n",
    "    lower = sum(1 for c in s if c.islower())\n",
    "    return upper,lower\n",
    "\n",
    "print(count_case(\"HEllo world\"))"
   ]
  },
  {
   "cell_type": "code",
   "execution_count": 19,
   "id": "65c974a4-86c5-4cca-adbb-865bb2379042",
   "metadata": {},
   "outputs": [
    {
     "name": "stdout",
     "output_type": "stream",
     "text": [
      "[2, 50]\n"
     ]
    }
   ],
   "source": [
    "# 46 Find all prime Factors of a number \n",
    "def prime_factors(n):\n",
    "    i = 2\n",
    "    factors=[]\n",
    "    while i*i<=n:\n",
    "        if n % i:\n",
    "            i+=1\n",
    "        else:\n",
    "            n//=i\n",
    "            factors.append(i)\n",
    "        if n >1:\n",
    "            factors.append(n)\n",
    "            return factors\n",
    "\n",
    "print(prime_factors(100))"
   ]
  },
  {
   "cell_type": "code",
   "execution_count": 21,
   "id": "012ab5fc-089b-481c-8226-0e23a47c3d21",
   "metadata": {},
   "outputs": [
    {
     "name": "stdout",
     "output_type": "stream",
     "text": [
      "funisPython\n"
     ]
    }
   ],
   "source": [
    "# 47. Reverse words in a sentence\n",
    "def reverse_words(s):\n",
    "    return ''.join(s.split()[::-1])\n",
    "\n",
    "print(reverse_words(\"Python is fun\"))"
   ]
  },
  {
   "cell_type": "code",
   "execution_count": 27,
   "id": "426bffa3-eb01-4011-9482-4d0818562638",
   "metadata": {},
   "outputs": [
    {
     "name": "stdout",
     "output_type": "stream",
     "text": [
      "hello how are you\n"
     ]
    }
   ],
   "source": [
    "# 48. Remove Punctuation from String\n",
    "import string\n",
    "def reomove_punctuation(s):\n",
    "    return ''.join(c for c in s if c not in string.punctuation)\n",
    "\n",
    "print(reomove_punctuation(\"hello! how are you?\"))"
   ]
  },
  {
   "cell_type": "code",
   "execution_count": 29,
   "id": "9c8958ee-ea9d-4553-9790-93c9000544c6",
   "metadata": {},
   "outputs": [
    {
     "name": "stdout",
     "output_type": "stream",
     "text": [
      "{2: ['hi'], 5: ['hello', 'worls'], 3: ['hey']}\n"
     ]
    }
   ],
   "source": [
    "# 49. Group words by length\n",
    "def group_by_length(words):\n",
    "    result={}\n",
    "    for word in words:\n",
    "        result.setdefault(len(word),[]).append(word)\n",
    "    return result\n",
    "\n",
    "print(group_by_length([\"hi\",\"hello\",\"hey\",\"worls\"]))"
   ]
  },
  {
   "cell_type": "code",
   "execution_count": 33,
   "id": "295a7891-5cf5-41f3-9a06-07ab796fff98",
   "metadata": {},
   "outputs": [
    {
     "name": "stdout",
     "output_type": "stream",
     "text": [
      "2\n"
     ]
    }
   ],
   "source": [
    "# 50. Count Specific word in sentence\n",
    "import string\n",
    "\n",
    "def count_word(s, word):\n",
    "    s = s.translate(str.maketrans('', '', string.punctuation))\n",
    "    return s.lower().split().count(word.lower())\n",
    "\n",
    "print(count_word(\"This is a test. This is only a test.\", \"this\"))\n"
   ]
  }
 ],
 "metadata": {
  "kernelspec": {
   "display_name": "Python 3 (ipykernel)",
   "language": "python",
   "name": "python3"
  },
  "language_info": {
   "codemirror_mode": {
    "name": "ipython",
    "version": 3
   },
   "file_extension": ".py",
   "mimetype": "text/x-python",
   "name": "python",
   "nbconvert_exporter": "python",
   "pygments_lexer": "ipython3",
   "version": "3.12.7"
  }
 },
 "nbformat": 4,
 "nbformat_minor": 5
}
