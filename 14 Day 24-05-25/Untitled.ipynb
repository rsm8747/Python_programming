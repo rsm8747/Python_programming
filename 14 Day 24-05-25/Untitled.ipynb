{
 "cells": [
  {
   "cell_type": "code",
   "execution_count": 3,
   "id": "0d7d98f6-0ee9-408e-b86c-55f45d143d5f",
   "metadata": {},
   "outputs": [
    {
     "name": "stdout",
     "output_type": "stream",
     "text": [
      "1010\n"
     ]
    }
   ],
   "source": [
    "# 131. Convert a Decimanl number ot binary (wihtou bin() funcion)\n",
    "\n",
    "def decimal_to_binary(n):\n",
    "    binary = \"\"\n",
    "    while n > 0:\n",
    "        binary = str(n % 2) + binary\n",
    "        n = n // 2\n",
    "    return binary or \"0\"\n",
    "\n",
    "print(decimal_to_binary(10))\n",
    "\n",
    "        "
   ]
  },
  {
   "cell_type": "code",
   "execution_count": 9,
   "id": "5fa156d1-2972-479a-8974-4ca833787078",
   "metadata": {},
   "outputs": [
    {
     "name": "stdout",
     "output_type": "stream",
     "text": [
      "12\n"
     ]
    }
   ],
   "source": [
    "# 132. Find the sum of even numbers in a list\n",
    "\n",
    "def sum_even(lst):\n",
    "    return sum(x for x in lst if x % 2 == 0)\n",
    "\n",
    "print(sum_even([1, 2, 3, 4, 5, 6]))\n"
   ]
  },
  {
   "cell_type": "code",
   "execution_count": 15,
   "id": "11caa84e-c2f3-4eb9-970b-37ea7f1e237d",
   "metadata": {},
   "outputs": [
    {
     "name": "stdout",
     "output_type": "stream",
     "text": [
      "[1, 2, 3, 4]\n"
     ]
    }
   ],
   "source": [
    "# 133. Remove duplicate from a list without changing order\n",
    "def remove_duplicates(lst):\n",
    "    seen = set()\n",
    "    result = []\n",
    "    for item in lst:\n",
    "        if item not in seen:\n",
    "            result.append(item)\n",
    "            seen.add(item)\n",
    "    return result\n",
    "\n",
    "print(remove_duplicates([1, 2, 2, 3, 1, 4]))\n"
   ]
  },
  {
   "cell_type": "code",
   "execution_count": 21,
   "id": "56b82360-6ec2-44c6-830e-b73f54be799e",
   "metadata": {},
   "outputs": [
    {
     "name": "stdout",
     "output_type": "stream",
     "text": [
      "24\n"
     ]
    }
   ],
   "source": [
    "# 134 Check if a list is  a palindrome\n",
    "def multiply_list(lst):\n",
    "    result = 1\n",
    "    for num in lst:\n",
    "        result *= num\n",
    "    return result\n",
    "\n",
    "print(multiply_list([1, 2, 3, 4]))\n"
   ]
  },
  {
   "cell_type": "code",
   "execution_count": 25,
   "id": "f362f245-dec6-4ccd-84b5-35c0433b0afd",
   "metadata": {},
   "outputs": [
    {
     "name": "stdout",
     "output_type": "stream",
     "text": [
      "24\n"
     ]
    }
   ],
   "source": [
    "# 135. Multiply all numbers in  a list\n",
    "def multiply_list(lst):\n",
    "    result=1\n",
    "    for num in lst:\n",
    "        result *=num\n",
    "    return result\n",
    "\n",
    "print(multiply_list([1,2,3,4]))"
   ]
  },
  {
   "cell_type": "code",
   "execution_count": 27,
   "id": "74d99339-33d4-4bac-933c-d7b85f601ad9",
   "metadata": {},
   "outputs": [
    {
     "name": "stdout",
     "output_type": "stream",
     "text": [
      "None\n"
     ]
    }
   ],
   "source": [
    "# 136. Find the first non-repeating character in a string \n",
    "from collections import Counter\n",
    "def first_unique_char(s):\n",
    "    freq = Counter(s)\n",
    "    for ch in s:\n",
    "        if freq[ch]==1:\n",
    "            return ch\n",
    "        return None\n",
    "\n",
    "print(first_unique_char(\"aabbcde\"))\n",
    "    "
   ]
  },
  {
   "cell_type": "code",
   "execution_count": 31,
   "id": "aea646cc-a284-43ec-94c8-f1b1e1b5adb3",
   "metadata": {},
   "outputs": [
    {
     "name": "stdout",
     "output_type": "stream",
     "text": [
      "{3: ['cat', 'dog'], 5: ['apple'], 2: ['hi']}\n"
     ]
    }
   ],
   "source": [
    "# 137. Group words by their length\n",
    "from collections import defaultdict\n",
    "def group_by_length(words):\n",
    "    grouped=defaultdict(list)\n",
    "    for word in words:\n",
    "        grouped[len(word)].append(word)\n",
    "    return dict(grouped)\n",
    "print(group_by_length([\"cat\",\"dog\",\"apple\",\"hi\"]))"
   ]
  },
  {
   "cell_type": "code",
   "execution_count": 33,
   "id": "887206cd-2780-4fa3-bed6-45944463a711",
   "metadata": {},
   "outputs": [
    {
     "name": "stdout",
     "output_type": "stream",
     "text": [
      "Python Is Fun\n"
     ]
    }
   ],
   "source": [
    "# 138. Capitalize the first letter of each word in s string \n",
    "def capitalize_words(s):\n",
    "    return s.title()\n",
    "\n",
    "print(capitalize_words(\"python is fun\"))"
   ]
  },
  {
   "cell_type": "code",
   "execution_count": 35,
   "id": "d7eacf4a-4e56-4635-beb8-8b1053ca0d5f",
   "metadata": {},
   "outputs": [
    {
     "name": "stdout",
     "output_type": "stream",
     "text": [
      "[1, 3]\n"
     ]
    }
   ],
   "source": [
    "# 139. Find all indices of a element in a list\n",
    "def find_indices(lst,target):\n",
    "    return [i for i, x in enumerate(lst) if x == target]\n",
    "\n",
    "print(find_indices([1,2,3,2,4],2))"
   ]
  },
  {
   "cell_type": "code",
   "execution_count": null,
   "id": "be7d20ae-317c-4e55-8b33-1e0595a72337",
   "metadata": {},
   "outputs": [],
   "source": [
    "# 140 Count Uppercase and lowercase letter in a string \n",
    "def count_case(s):\n",
    "    upper = sum(1 for c in s if c.isupper())\n",
    "    lower = sum(1 for "
   ]
  }
 ],
 "metadata": {
  "kernelspec": {
   "display_name": "Python 3 (ipykernel)",
   "language": "python",
   "name": "python3"
  },
  "language_info": {
   "codemirror_mode": {
    "name": "ipython",
    "version": 3
   },
   "file_extension": ".py",
   "mimetype": "text/x-python",
   "name": "python",
   "nbconvert_exporter": "python",
   "pygments_lexer": "ipython3",
   "version": "3.12.7"
  }
 },
 "nbformat": 4,
 "nbformat_minor": 5
}
