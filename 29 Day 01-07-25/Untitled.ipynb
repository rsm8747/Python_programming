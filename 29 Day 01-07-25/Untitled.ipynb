{
 "cells": [
  {
   "cell_type": "code",
   "execution_count": 3,
   "id": "ce0c8ec4-3b9f-41d5-a98c-de5071f7e72b",
   "metadata": {},
   "outputs": [
    {
     "name": "stdout",
     "output_type": "stream",
     "text": [
      "3\n"
     ]
    }
   ],
   "source": [
    "# 281. Find the missing number in a consecutive sequence\n",
    "def find_missing_number(nums):\n",
    "    n = len(nums)+1\n",
    "    total=n*(n+1)//2\n",
    "    return total-sum(nums)\n",
    "\n",
    "print(find_missing_number([1,2,4,5,6]))"
   ]
  },
  {
   "cell_type": "code",
   "execution_count": 5,
   "id": "e84dfdd5-457a-4309-82cd-a3d9c1f2aee5",
   "metadata": {},
   "outputs": [
    {
     "name": "stdout",
     "output_type": "stream",
     "text": [
      "True\n",
      "False\n"
     ]
    }
   ],
   "source": [
    "# 282. Check if a number is a harshad number (a number divisible by the sum of its digits)\n",
    "def is_harshad(n):\n",
    "    s = sum(int(d) for d in str(n))\n",
    "    return n % s ==0\n",
    "\n",
    "print(is_harshad(18))\n",
    "print(is_harshad(19))"
   ]
  },
  {
   "cell_type": "code",
   "execution_count": 9,
   "id": "f52e53f8-4c06-4041-9eb7-2dcc4deb1593",
   "metadata": {},
   "outputs": [
    {
     "name": "stdout",
     "output_type": "stream",
     "text": [
      "3\n"
     ]
    }
   ],
   "source": [
    "# 283. Find the length of the longest substring without repeating characters\n",
    "def length_of_longest_substring(s):\n",
    "    char_index={}\n",
    "    start = max_length=0\n",
    "    for i,ch in enumerate(s):\n",
    "        if ch in char_index and char_index[ch]>=start:\n",
    "            start = char_index[ch]+1\n",
    "        char_index[ch]=i\n",
    "        max_length=max(max_length,i-start+1)\n",
    "    return max_length\n",
    "print(length_of_longest_substring(\"abcabcbb\"))\n",
    "            "
   ]
  },
  {
   "cell_type": "code",
   "execution_count": 11,
   "id": "1dba0b8e-280b-488e-8192-bdd3d286ae07",
   "metadata": {},
   "outputs": [
    {
     "name": "stdout",
     "output_type": "stream",
     "text": [
      "1\n"
     ]
    }
   ],
   "source": [
    "# 284. Find the element that appears once when all others appear twice\n",
    "def single_number(nums):\n",
    "    result=0\n",
    "    for num in nums:\n",
    "        result^=num\n",
    "    return result\n",
    "\n",
    "print(single_number([2,2,1]))"
   ]
  },
  {
   "cell_type": "code",
   "execution_count": 13,
   "id": "a1e98cc2-0c7b-412c-b32c-692ee0692250",
   "metadata": {},
   "outputs": [
    {
     "name": "stdout",
     "output_type": "stream",
     "text": [
      "True\n",
      "False\n"
     ]
    }
   ],
   "source": [
    "# 285. Check if a string is a valid palindrome (ignoring non-alphanumeric and case)\n",
    "import re\n",
    "\n",
    "def is_valid_palindrome(s):\n",
    "    s = re.sub('[^A-Za-z0-9]', '', s).lower()  # Remove non-alphanumeric and convert to lowercase\n",
    "    return s == s[::-1]  # Check if string equals its reverse\n",
    "\n",
    "print(is_valid_palindrome(\"A man, a plan, a canal: Panama\"))  # True\n",
    "print(is_valid_palindrome(\"race a car\"))  # False\n"
   ]
  },
  {
   "cell_type": "code",
   "execution_count": 17,
   "id": "f4685e81-f800-48ae-a042-1b9bc0eb468d",
   "metadata": {},
   "outputs": [
    {
     "name": "stdout",
     "output_type": "stream",
     "text": [
      "3\n"
     ]
    }
   ],
   "source": [
    "# 286. Count the number of islaands in a 2D Grid(An island is surrounded by water and connected horizontally or vertically)\n",
    "def num_islands(grid):\n",
    "    if not grid:\n",
    "        return 0\n",
    "\n",
    "    rows, cols = len(grid), len(grid[0])\n",
    "\n",
    "    def dfs(r, c):\n",
    "        if r < 0 or c < 0 or r >= rows or c >= cols or grid[r][c] == '0':\n",
    "            return\n",
    "        grid[r][c] = '0'  # Mark visited\n",
    "        dfs(r-1, c)  # Up\n",
    "        dfs(r+1, c)  # Down\n",
    "        dfs(r, c-1)  # Left\n",
    "        dfs(r, c+1)  # Right\n",
    "\n",
    "    count = 0\n",
    "    for r in range(rows):\n",
    "        for c in range(cols):\n",
    "            if grid[r][c] == '1':\n",
    "                dfs(r, c)\n",
    "                count += 1\n",
    "\n",
    "    return count\n",
    "\n",
    "grid = [\n",
    "    [\"1\",\"1\",\"0\",\"0\",\"0\"],\n",
    "    [\"1\",\"1\",\"0\",\"0\",\"0\"],\n",
    "    [\"0\",\"0\",\"1\",\"0\",\"0\"],\n",
    "    [\"0\",\"0\",\"0\",\"1\",\"1\"]\n",
    "]\n",
    "\n",
    "print(num_islands(grid))\n"
   ]
  },
  {
   "cell_type": "code",
   "execution_count": null,
   "id": "68bbfae6-418f-4a9d-b4c8-7f3ab9afe18d",
   "metadata": {},
   "outputs": [],
   "source": [
    "# 287. Find the maximum product of two integers in a list\n",
    "def max_product(nums):\n",
    "    nums.sort()\n",
    "    return max(nums[0]*nums[1],nums[-1]*nums[-2])\n",
    "\n",
    "print"
   ]
  }
 ],
 "metadata": {
  "kernelspec": {
   "display_name": "Python 3 (ipykernel)",
   "language": "python",
   "name": "python3"
  },
  "language_info": {
   "codemirror_mode": {
    "name": "ipython",
    "version": 3
   },
   "file_extension": ".py",
   "mimetype": "text/x-python",
   "name": "python",
   "nbconvert_exporter": "python",
   "pygments_lexer": "ipython3",
   "version": "3.12.7"
  }
 },
 "nbformat": 4,
 "nbformat_minor": 5
}
