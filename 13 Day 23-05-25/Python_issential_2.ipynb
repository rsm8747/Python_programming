{
 "cells": [
  {
   "cell_type": "markdown",
   "id": "5ba26b40-9134-4c60-a9b2-c5db06540b82",
   "metadata": {},
   "source": [
    "# Arithmetic operators"
   ]
  },
  {
   "cell_type": "code",
   "execution_count": 2,
   "id": "433028ee-0d85-4fee-ae44-6b192cf7fce9",
   "metadata": {},
   "outputs": [],
   "source": [
    " a = 10 \n",
    " b = 20"
   ]
  },
  {
   "cell_type": "code",
   "execution_count": 3,
   "id": "346272b4-fa39-421c-a189-5879f03b3512",
   "metadata": {},
   "outputs": [
    {
     "name": "stdout",
     "output_type": "stream",
     "text": [
      "addition +:  30\n",
      "sub-:  -10\n",
      "mul 200\n",
      "divi:  0.5\n",
      "modulo:  10\n",
      "floor division:  0\n",
      "square:  100000000000000000000\n",
      "pow(5,4) 625\n",
      "x = round(2.987654212345678987654):  3\n"
     ]
    }
   ],
   "source": [
    "# addition\n",
    "print(\"addition +: \",a+b)\n",
    "# substraction\n",
    "print('sub-: ',a-b)\n",
    "#multiplication\n",
    "print('mul',a*b)\n",
    "#division\n",
    "print('divi: ',a/b)\n",
    "print('modulo: ',a%b)\n",
    "print('floor division: ',a//b) #gives quotiont\n",
    "print('square: ',a**b)\n",
    "print('pow(5,4)',pow(5,4))\n",
    "#print('round: ',a(b))\n",
    "x = round(2.987654212345678987654)\n",
    "print('x = round(2.987654212345678987654): ',x)"
   ]
  },
  {
   "cell_type": "code",
   "execution_count": 4,
   "id": "a17d68a3-4af8-42f9-ae89-e96a1969c0b6",
   "metadata": {},
   "outputs": [
    {
     "name": "stdout",
     "output_type": "stream",
     "text": [
      "a>b False\n",
      "a<b True\n",
      "a>=b False\n",
      "a<=b True\n",
      "a==b False\n",
      "a!=b True\n"
     ]
    }
   ],
   "source": [
    "# comparision op\n",
    "print('a>b',a>b)\n",
    "print('a<b',a<b)\n",
    "print('a>=b',a>=b)\n",
    "print('a<=b',a<=b)\n",
    "print('a==b',a==b)\n",
    "print('a!=b',a!=b)"
   ]
  },
  {
   "cell_type": "code",
   "execution_count": 5,
   "id": "b31bddc4-47c5-4928-8e11-9a8b25600aca",
   "metadata": {},
   "outputs": [
    {
     "name": "stdout",
     "output_type": "stream",
     "text": [
      "True\n",
      "False\n",
      "False\n",
      "False\n",
      "\n",
      "True\n",
      "False\n",
      "False\n",
      "False\n",
      "\n",
      "False\n",
      "True\n"
     ]
    }
   ],
   "source": [
    "# and\n",
    "print(True and True)\n",
    "print(True and False)\n",
    "print(False and True)\n",
    "print(False and False)\n",
    "# or \n",
    "print()\n",
    "print(True and True)\n",
    "print(False and True)\n",
    "print(True and False)\n",
    "print(False and False)\n",
    "# NOT\n",
    "print()\n",
    "\n",
    "print(not True)\n",
    "print(not False)"
   ]
  },
  {
   "cell_type": "code",
   "execution_count": 6,
   "id": "9a2d648d-a427-42d0-8f5d-8f0cc868c8a2",
   "metadata": {},
   "outputs": [
    {
     "name": "stdout",
     "output_type": "stream",
     "text": [
      "Logical AND operation :  False\n",
      "Logical OR operation:  True\n",
      "NOT operation:  True\n"
     ]
    }
   ],
   "source": [
    "x= True\n",
    "y = False\n",
    "print('Logical AND operation : ',x and y)\n",
    "print('Logical OR operation: ',x or y)\n",
    "print('NOT operation: ', not y)"
   ]
  },
  {
   "cell_type": "code",
   "execution_count": 7,
   "id": "5b89cb81-7667-42ca-9f4c-8eb57d2a9056",
   "metadata": {},
   "outputs": [
    {
     "data": {
      "text/plain": [
       "8"
      ]
     },
     "execution_count": 7,
     "metadata": {},
     "output_type": "execute_result"
    }
   ],
   "source": [
    "42//5"
   ]
  },
  {
   "cell_type": "markdown",
   "id": "fb9966f4-842b-4338-99b4-73b9564354ca",
   "metadata": {},
   "source": [
    "# if conditional statement "
   ]
  },
  {
   "cell_type": "code",
   "execution_count": 16,
   "id": "d4daa651-9133-40da-bebc-eba1551e771d",
   "metadata": {},
   "outputs": [
    {
     "name": "stdout",
     "output_type": "stream",
     "text": [
      "we started to work om conditional statements\n",
      "Hello\n"
     ]
    }
   ],
   "source": [
    "a = 3\n",
    "if a<6:\n",
    "    print('we started to work om conditional statements')\n",
    "print('Hello')"
   ]
  },
  {
   "cell_type": "code",
   "execution_count": 18,
   "id": "131e44f6-61ea-4d82-ba86-8b33b3ebc933",
   "metadata": {},
   "outputs": [
    {
     "name": "stdout",
     "output_type": "stream",
     "text": [
      "false\n"
     ]
    }
   ],
   "source": [
    "a=7\n",
    "if a==3:\n",
    "    print('conditional is true')\n",
    "print('false')"
   ]
  },
  {
   "cell_type": "code",
   "execution_count": 20,
   "id": "27375aef-0620-457d-b4f5-8fe4d13e3a8e",
   "metadata": {},
   "outputs": [
    {
     "name": "stdout",
     "output_type": "stream",
     "text": [
      "else block\n"
     ]
    }
   ],
   "source": [
    "x = - 23\n",
    "if x>0:\n",
    "    print('i am in if block')\n",
    "else:\n",
    "    print('else block')"
   ]
  },
  {
   "cell_type": "markdown",
   "id": "ec856a4a-1247-494c-bd51-f30ccd3c195f",
   "metadata": {},
   "source": [
    "if(5>4):\n",
    "    print('5 is big ')\n",
    "print('i am in if block')\n",
    "print('i am out of if block')"
   ]
  },
  {
   "cell_type": "code",
   "execution_count": 24,
   "id": "af8c00f7-b05d-4334-ba5b-b0edfd9ec652",
   "metadata": {},
   "outputs": [
    {
     "name": "stdout",
     "output_type": "stream",
     "text": [
      "x is negative\n",
      "i am in else block\n",
      "run code\n"
     ]
    }
   ],
   "source": [
    "# if ..... else\n",
    "\n",
    "x =0\n",
    "if x>0:\n",
    "    print('x is +ve')\n",
    "    print('i am in IF block')\n",
    "else:\n",
    "    print('x is negative')\n",
    "    print('i am in else block')\n",
    "\n",
    "print('run code')"
   ]
  },
  {
   "cell_type": "markdown",
   "id": "a50579d0-4e6b-411e-8df7-c33dc9c99398",
   "metadata": {},
   "source": [
    "# Input function\n",
    "\n",
    "### input takes values as string by default"
   ]
  },
  {
   "cell_type": "code",
   "execution_count": 29,
   "id": "921fca64-868a-43fd-af43-c6aa14dc39d0",
   "metadata": {},
   "outputs": [
    {
     "name": "stdin",
     "output_type": "stream",
     "text": [
      "Enter your name:  rahul\n"
     ]
    }
   ],
   "source": [
    "a = input('Enter your name: ')"
   ]
  },
  {
   "cell_type": "code",
   "execution_count": 32,
   "id": "43668cb8-c5e0-426d-b508-423f15bb7cbc",
   "metadata": {},
   "outputs": [
    {
     "data": {
      "text/plain": [
       "str"
      ]
     },
     "execution_count": 32,
     "metadata": {},
     "output_type": "execute_result"
    }
   ],
   "source": [
    "type(a)"
   ]
  },
  {
   "cell_type": "code",
   "execution_count": 42,
   "id": "ce168b6d-fc82-4cdd-90d6-77e5421198f7",
   "metadata": {},
   "outputs": [
    {
     "name": "stdin",
     "output_type": "stream",
     "text": [
      "Enter your age:  12\n"
     ]
    }
   ],
   "source": [
    "c = int(input('Enter your age: '))"
   ]
  },
  {
   "cell_type": "code",
   "execution_count": 40,
   "id": "537b12fd-133c-40f2-98ce-1f167c2e6cab",
   "metadata": {},
   "outputs": [
    {
     "data": {
      "text/plain": [
       "int"
      ]
     },
     "execution_count": 40,
     "metadata": {},
     "output_type": "execute_result"
    }
   ],
   "source": [
    "type(c)\n"
   ]
  },
  {
   "cell_type": "code",
   "execution_count": 44,
   "id": "0ac81157-b00c-4950-b7ed-8a8d2ae92746",
   "metadata": {},
   "outputs": [
    {
     "data": {
      "text/plain": [
       "12"
      ]
     },
     "execution_count": 44,
     "metadata": {},
     "output_type": "execute_result"
    }
   ],
   "source": [
    "c"
   ]
  },
  {
   "cell_type": "code",
   "execution_count": 56,
   "id": "a0d26b14-cd97-4c47-bda6-2762e3c265ec",
   "metadata": {},
   "outputs": [
    {
     "name": "stdin",
     "output_type": "stream",
     "text": [
      "Enter a number 0\n"
     ]
    },
    {
     "name": "stdout",
     "output_type": "stream",
     "text": [
      "x== 0\n"
     ]
    }
   ],
   "source": [
    "x = int(input('Enter a number'))\n",
    "if(x>10):\n",
    "    print('x is greater than 10',x,'>10')\n",
    "elif(x==6):\n",
    "    print(\"x==\",x)\n",
    "elif(x==0):\n",
    "    print(\"x==\",x)\n",
    "else:\n",
    "    \n",
    "    print('Excuton done')"
   ]
  },
  {
   "cell_type": "code",
   "execution_count": 62,
   "id": "8a802195-486a-495d-86e5-fe5418081726",
   "metadata": {},
   "outputs": [
    {
     "name": "stdin",
     "output_type": "stream",
     "text": [
      "Enter a number:  -1\n"
     ]
    },
    {
     "name": "stdout",
     "output_type": "stream",
     "text": [
      "negative number:  -1\n"
     ]
    }
   ],
   "source": [
    "num = int(input(\"Enter a number: \"))\n",
    "if num>0:\n",
    "    print(\"positive num: \",num)\n",
    "elif num == 0:\n",
    "    print('zero',num)\n",
    "elif num<0:\n",
    "    print('negative number: ',num)"
   ]
  },
  {
   "cell_type": "code",
   "execution_count": 64,
   "id": "a48a21b2-ea27-46db-86f0-5478da2468dd",
   "metadata": {},
   "outputs": [
    {
     "name": "stdout",
     "output_type": "stream",
     "text": [
      "-1\n"
     ]
    }
   ],
   "source": [
    "print(num)"
   ]
  },
  {
   "cell_type": "code",
   "execution_count": 66,
   "id": "538a64de-aa1e-4a4e-bc4f-09fb92b8e676",
   "metadata": {},
   "outputs": [
    {
     "name": "stdout",
     "output_type": "stream",
     "text": [
      "<class 'int'>\n"
     ]
    }
   ],
   "source": [
    "print(type(num))"
   ]
  },
  {
   "cell_type": "code",
   "execution_count": 70,
   "id": "d3ba2849-ca12-476e-bbb6-e1d2e446426f",
   "metadata": {},
   "outputs": [
    {
     "name": "stdin",
     "output_type": "stream",
     "text": [
      "Enter a num:  -1\n"
     ]
    },
    {
     "name": "stdout",
     "output_type": "stream",
     "text": [
      "x is -ve:  -1\n",
      "execution done...\n"
     ]
    }
   ],
   "source": [
    "# if elif else\n",
    "\n",
    "x = int(input('Enter a num: '))\n",
    "\n",
    "if x >0:\n",
    "    print(\"x is +ve: \",x)\n",
    "elif x ==0:\n",
    "    print(\"x is zero\",x)\n",
    "elif x<0:\n",
    "    print('x is -ve: ',x)\n",
    "print('execution done...')"
   ]
  },
  {
   "cell_type": "code",
   "execution_count": 74,
   "id": "a855d196-c4db-4636-8025-3e83c40a846f",
   "metadata": {},
   "outputs": [
    {
     "name": "stdout",
     "output_type": "stream",
     "text": [
      "i am in 1st if \n",
      "i am in 1st in 1st if\n"
     ]
    }
   ],
   "source": [
    "# nesting of if\n",
    "x = 5\n",
    "if(x>=3):\n",
    "    print('i am in 1st if ')\n",
    "    if(x>2):\n",
    "        print('i am in 1st in 1st if')\n",
    "        if(x==2):\n",
    "            print('i am in 1st if=>1st if=>1st if')\n",
    "            if(x==5):\n",
    "                print(x)"
   ]
  },
  {
   "cell_type": "code",
   "execution_count": 79,
   "id": "5483a6a9-113a-4a25-ac2f-85b357a6cb89",
   "metadata": {},
   "outputs": [
    {
     "name": "stdin",
     "output_type": "stream",
     "text": [
      "Emnter the number:  1\n"
     ]
    },
    {
     "name": "stdout",
     "output_type": "stream",
     "text": [
      "odd  number: \n"
     ]
    }
   ],
   "source": [
    "num = int(input(\"Emnter the number: \"))\n",
    "if num %2==0:\n",
    "    print('even number: ')\n",
    "else:\n",
    "    print('odd  number: ')"
   ]
  },
  {
   "cell_type": "code",
   "execution_count": 81,
   "id": "d04a1cd3-d70d-4e57-93cf-d679119f51a9",
   "metadata": {},
   "outputs": [
    {
     "name": "stdout",
     "output_type": "stream",
     "text": [
      "fisrt loop\n",
      "out of the 2nd loop\n"
     ]
    }
   ],
   "source": [
    "i =6 \n",
    "if(i>0):\n",
    "    print('fisrt loop')\n",
    "    if(i<=5):\n",
    "        print('2nd loop')\n",
    "        print('num is primary range')\n",
    "        if(i>5): #false\n",
    "            print('mid range')\n",
    "        else:\n",
    "            print('end od the loop')\n",
    "else:\n",
    "    print('number is negative')\n",
    "print('out of the 2nd loop')"
   ]
  },
  {
   "cell_type": "code",
   "execution_count": 83,
   "id": "417fd987-4c7e-4641-a9fd-c2d7ff9e20b5",
   "metadata": {},
   "outputs": [
    {
     "name": "stdin",
     "output_type": "stream",
     "text": [
      "Enter a string hul\n"
     ]
    },
    {
     "name": "stdout",
     "output_type": "stream",
     "text": [
      "hul in lower case\n"
     ]
    }
   ],
   "source": [
    "str1 = input('Enter a string')\n",
    "if str1==str1.upper():\n",
    "    print(str1,'is in uppercase')\n",
    "else:\n",
    "    print(str1,'in lower case')"
   ]
  },
  {
   "cell_type": "code",
   "execution_count": 85,
   "id": "db95fb0e-c03f-4526-a272-753a9b024fa3",
   "metadata": {},
   "outputs": [
    {
     "name": "stdout",
     "output_type": "stream",
     "text": [
      "10 < 15\n",
      "10 <12\n"
     ]
    }
   ],
   "source": [
    "i =10\n",
    "if(i==10):\n",
    "    if(i<15):\n",
    "        print(i,'< 15')\n",
    "    if(i<12):\n",
    "        print(i,'<12')\n",
    "    else:\n",
    "        print(i,'>15')\n",
    "else:\n",
    "    print('code execute')"
   ]
  },
  {
   "cell_type": "code",
   "execution_count": 91,
   "id": "ea4610fe-b2e9-4bfb-a357-32ea02e52118",
   "metadata": {},
   "outputs": [
    {
     "name": "stdin",
     "output_type": "stream",
     "text": [
      " 9\n"
     ]
    },
    {
     "name": "stdout",
     "output_type": "stream",
     "text": [
      "9 yes it correct\n"
     ]
    }
   ],
   "source": [
    "x = int(input())\n",
    "if x <10:\n",
    "    print(x,'yes it correct')\n",
    "elif x < 2:\n",
    "    print(x,'number is small less than 10')"
   ]
  },
  {
   "cell_type": "code",
   "execution_count": 99,
   "id": "87802aa0-8c43-4619-acd9-215874f9594e",
   "metadata": {},
   "outputs": [],
   "source": [
    "from datetime import date"
   ]
  },
  {
   "cell_type": "code",
   "execution_count": 101,
   "id": "889bf4bb-b11f-4f6f-a685-91c145c6da74",
   "metadata": {},
   "outputs": [
    {
     "name": "stdout",
     "output_type": "stream",
     "text": [
      "2024-12-12\n"
     ]
    }
   ],
   "source": [
    "x = date.today()\n",
    "print(x)"
   ]
  },
  {
   "cell_type": "code",
   "execution_count": 107,
   "id": "91c87b09-df92-47a5-b45f-89a0d96b13f5",
   "metadata": {},
   "outputs": [],
   "source": [
    "from datetime import time "
   ]
  },
  {
   "cell_type": "code",
   "execution_count": 109,
   "id": "9d2967e3-6c45-4d1c-9cad-860082727e89",
   "metadata": {},
   "outputs": [
    {
     "name": "stdout",
     "output_type": "stream",
     "text": [
      "00:00:00\n"
     ]
    }
   ],
   "source": [
    "y = time()\n",
    "print(y)"
   ]
  },
  {
   "cell_type": "code",
   "execution_count": 111,
   "id": "037eb272-a732-4c45-a0c7-7c057cbf0fbd",
   "metadata": {},
   "outputs": [
    {
     "name": "stdout",
     "output_type": "stream",
     "text": [
      "Time is :  2024-12-12 11:11:59.748357\n"
     ]
    }
   ],
   "source": [
    "from datetime import datetime as dt\n",
    "date1=dt.now()\n",
    "print('Time is : ',date1)"
   ]
  },
  {
   "cell_type": "code",
   "execution_count": 115,
   "id": "49534f3c-2eb7-4312-92ec-0d00fa6c75fe",
   "metadata": {},
   "outputs": [
    {
     "data": {
      "text/plain": [
       "datetime.date(2024, 12, 12)"
      ]
     },
     "execution_count": 115,
     "metadata": {},
     "output_type": "execute_result"
    }
   ],
   "source": [
    "dt.date(date1)"
   ]
  },
  {
   "cell_type": "code",
   "execution_count": 117,
   "id": "a2684eaf-992d-46c3-8ac7-67b9442e7a2d",
   "metadata": {},
   "outputs": [
    {
     "data": {
      "text/plain": [
       "datetime.time(11, 11, 59, 748357)"
      ]
     },
     "execution_count": 117,
     "metadata": {},
     "output_type": "execute_result"
    }
   ],
   "source": [
    "dt.time(date1)"
   ]
  },
  {
   "cell_type": "code",
   "execution_count": 131,
   "id": "fdb25554-1320-4613-ac9b-0a8a7681af07",
   "metadata": {},
   "outputs": [
    {
     "name": "stdout",
     "output_type": "stream",
     "text": [
      "10  is smaller than 15\n",
      "i is less than 10\n"
     ]
    }
   ],
   "source": [
    "i = 10\n",
    "if (i == 10):\n",
    "    #  First if statement\n",
    "    if (i < 15):\n",
    "        print(i,\" is smaller than 15\")\n",
    "\n",
    "    # Nested - if statement\n",
    "    # Will only be executed if statement above\n",
    "    # it is true\n",
    "    if (i == 11):\n",
    "        print(\"i= 10 \")\n",
    "    else:\n",
    "        print(\"i is less than 10\")"
   ]
  },
  {
   "cell_type": "markdown",
   "id": "f9f4d48a-61f0-472c-ba56-30703c6cc209",
   "metadata": {},
   "source": [
    "## Packages\n",
    "### Datetime packages"
   ]
  },
  {
   "cell_type": "code",
   "execution_count": 3,
   "id": "e1223ddd-cc4e-4171-a446-d9a51bd38879",
   "metadata": {},
   "outputs": [],
   "source": [
    "from datetime import date"
   ]
  },
  {
   "cell_type": "code",
   "execution_count": 9,
   "id": "06963ca9-b0d8-463d-b8d4-5e37a1a5f2db",
   "metadata": {},
   "outputs": [],
   "source": [
    "my_date = date(2024,12,16) ## simple date creation"
   ]
  },
  {
   "cell_type": "code",
   "execution_count": 11,
   "id": "c0ffaad8-65a5-4f77-8c0c-f1802b4aa828",
   "metadata": {},
   "outputs": [
    {
     "data": {
      "text/plain": [
       "datetime.date(2024, 12, 16)"
      ]
     },
     "execution_count": 11,
     "metadata": {},
     "output_type": "execute_result"
    }
   ],
   "source": [
    "my_date"
   ]
  },
  {
   "cell_type": "code",
   "execution_count": 13,
   "id": "a251035a-99c1-4c93-b416-25f6a76b85bf",
   "metadata": {},
   "outputs": [
    {
     "name": "stdout",
     "output_type": "stream",
     "text": [
      "Today's date is :  2024-12-16\n"
     ]
    }
   ],
   "source": [
    "# getting today's date\n",
    "today1 =date.today()\n",
    "print(\"Today's date is : \",today1)"
   ]
  },
  {
   "cell_type": "code",
   "execution_count": 15,
   "id": "293314aa-fb0d-4697-ad52-0b7cffac4e45",
   "metadata": {},
   "outputs": [
    {
     "data": {
      "text/plain": [
       "1"
      ]
     },
     "execution_count": 15,
     "metadata": {},
     "output_type": "execute_result"
    }
   ],
   "source": [
    "today1.isoweekday()"
   ]
  },
  {
   "cell_type": "code",
   "execution_count": 17,
   "id": "aa2c9d7e-1aec-4029-a409-324eb7ecf08d",
   "metadata": {},
   "outputs": [
    {
     "data": {
      "text/plain": [
       "2024"
      ]
     },
     "execution_count": 17,
     "metadata": {},
     "output_type": "execute_result"
    }
   ],
   "source": [
    "today1.year"
   ]
  },
  {
   "cell_type": "code",
   "execution_count": 19,
   "id": "68c8dc81-139e-4167-bbdc-2b61b2c4ce3e",
   "metadata": {},
   "outputs": [
    {
     "data": {
      "text/plain": [
       "12"
      ]
     },
     "execution_count": 19,
     "metadata": {},
     "output_type": "execute_result"
    }
   ],
   "source": [
    "today1.month"
   ]
  },
  {
   "cell_type": "code",
   "execution_count": 21,
   "id": "211b27a0-9488-4172-98dc-abe0a4e8f9b6",
   "metadata": {},
   "outputs": [
    {
     "name": "stdout",
     "output_type": "stream",
     "text": [
      "Current year:  2024\n",
      "Current month:  12\n",
      "Current day:  16\n"
     ]
    }
   ],
   "source": [
    " # Get today's year, month, date\n",
    "print(\"Current year: \",today1.year)\n",
    "print(\"Current month: \",today1.month)\n",
    "print(\"Current day: \",today1.day)"
   ]
  },
  {
   "cell_type": "code",
   "execution_count": 23,
   "id": "f7698779-6985-41da-a83b-4fd8a6094f13",
   "metadata": {},
   "outputs": [],
   "source": [
    "# get date  from datetime sub module\n",
    "from datetime import datetime as dt"
   ]
  },
  {
   "cell_type": "code",
   "execution_count": 25,
   "id": "bdb84b5f-0821-4575-a0f1-b4ae90c94096",
   "metadata": {},
   "outputs": [],
   "source": [
    "date1=dt.now()"
   ]
  },
  {
   "cell_type": "code",
   "execution_count": 27,
   "id": "805ca1da-7984-46a2-9b1f-ba29f8b12643",
   "metadata": {},
   "outputs": [
    {
     "name": "stdout",
     "output_type": "stream",
     "text": [
      "Time is :  2024-12-16 10:03:58.370919\n"
     ]
    }
   ],
   "source": [
    "print(\"Time is : \",date1)"
   ]
  },
  {
   "cell_type": "code",
   "execution_count": 29,
   "id": "7ed4f59f-de3a-4f38-bbf5-b53f071cdaad",
   "metadata": {},
   "outputs": [
    {
     "data": {
      "text/plain": [
       "datetime.date(2024, 12, 16)"
      ]
     },
     "execution_count": 29,
     "metadata": {},
     "output_type": "execute_result"
    }
   ],
   "source": [
    "dt.date(date1)"
   ]
  },
  {
   "cell_type": "code",
   "execution_count": 31,
   "id": "60c220ce-7f05-43d1-81b6-e82873245af2",
   "metadata": {},
   "outputs": [
    {
     "data": {
      "text/plain": [
       "datetime.time(10, 3, 58, 370919)"
      ]
     },
     "execution_count": 31,
     "metadata": {},
     "output_type": "execute_result"
    }
   ],
   "source": [
    "dt.time(date1)"
   ]
  },
  {
   "cell_type": "code",
   "execution_count": 33,
   "id": "8a2225c8-b2c3-471e-89fe-8a26fd089010",
   "metadata": {},
   "outputs": [
    {
     "data": {
      "text/plain": [
       "16"
      ]
     },
     "execution_count": 33,
     "metadata": {},
     "output_type": "execute_result"
    }
   ],
   "source": [
    "date1.day"
   ]
  },
  {
   "cell_type": "code",
   "execution_count": 35,
   "id": "4e17483c-122b-420a-a6bc-ef8d3f6bd847",
   "metadata": {},
   "outputs": [
    {
     "data": {
      "text/plain": [
       "10"
      ]
     },
     "execution_count": 35,
     "metadata": {},
     "output_type": "execute_result"
    }
   ],
   "source": [
    "date1.hour"
   ]
  },
  {
   "cell_type": "code",
   "execution_count": 37,
   "id": "24b2c27a-aba6-4085-a7f4-9a8e98a24286",
   "metadata": {},
   "outputs": [
    {
     "data": {
      "text/plain": [
       "1"
      ]
     },
     "execution_count": 37,
     "metadata": {},
     "output_type": "execute_result"
    }
   ],
   "source": [
    "date1.isoweekday()"
   ]
  },
  {
   "cell_type": "code",
   "execution_count": 39,
   "id": "e68e924a-deec-467a-8682-36d84f3b4787",
   "metadata": {},
   "outputs": [
    {
     "data": {
      "text/plain": [
       "12"
      ]
     },
     "execution_count": 39,
     "metadata": {},
     "output_type": "execute_result"
    }
   ],
   "source": [
    "date1.month"
   ]
  },
  {
   "cell_type": "code",
   "execution_count": 41,
   "id": "57e697bf-b0cf-46eb-b04a-7784c461ac73",
   "metadata": {},
   "outputs": [
    {
     "data": {
      "text/plain": [
       "10"
      ]
     },
     "execution_count": 41,
     "metadata": {},
     "output_type": "execute_result"
    }
   ],
   "source": [
    "date1.hour"
   ]
  },
  {
   "cell_type": "code",
   "execution_count": 45,
   "id": "35eb6cae-e581-49f7-9ff9-e9058c2b01a5",
   "metadata": {},
   "outputs": [],
   "source": [
    "# time submodule\n",
    "from datetime import time"
   ]
  },
  {
   "cell_type": "code",
   "execution_count": 47,
   "id": "e746532d-17cd-42fa-82cf-39fb247e2d47",
   "metadata": {},
   "outputs": [],
   "source": [
    "my_time = time(7,8,45)"
   ]
  },
  {
   "cell_type": "code",
   "execution_count": 49,
   "id": "aba5ab54-5784-48d2-8917-f84ff8d0831a",
   "metadata": {},
   "outputs": [
    {
     "name": "stdout",
     "output_type": "stream",
     "text": [
      "Enterd time:  07:08:45\n"
     ]
    }
   ],
   "source": [
    "print('Enterd time: ',my_time)"
   ]
  },
  {
   "cell_type": "code",
   "execution_count": 55,
   "id": "ad3aaf91-55d8-4fb7-90cd-edbe4b5ce047",
   "metadata": {},
   "outputs": [
    {
     "data": {
      "text/plain": [
       "datetime.date(2026, 12, 16)"
      ]
     },
     "execution_count": 55,
     "metadata": {},
     "output_type": "execute_result"
    }
   ],
   "source": [
    "# timdedelta function demonstartion\n",
    "from datetime import date,timedelta\n",
    "current_date = date.today()\n",
    "future_date_after_2yrs= current_date+timedelta(days=730)\n",
    "future_date_after_2yrs"
   ]
  },
  {
   "cell_type": "code",
   "execution_count": 1,
   "id": "2389e9c9-7f3a-4c61-b389-8b1aa6ab5d1f",
   "metadata": {},
   "outputs": [
    {
     "name": "stdout",
     "output_type": "stream",
     "text": [
      "38.6986301369863 years\n"
     ]
    }
   ],
   "source": [
    "# task\n",
    "from datetime import date,timedelta\n",
    "age = 25\n",
    "day_after = 5000/365\n",
    "result = age+day_after\n",
    "print(result,'years')"
   ]
  },
  {
   "cell_type": "code",
   "execution_count": 65,
   "id": "8b7269e0-60cf-4411-88a1-49cdb9ba5eab",
   "metadata": {},
   "outputs": [
    {
     "name": "stdout",
     "output_type": "stream",
     "text": [
      "Date:  2014-01-05\n"
     ]
    }
   ],
   "source": [
    "from datetime import date,timedelta\n",
    "bod= date(2000,4,28)\n",
    "date = bod+timedelta(days=5000)\n",
    "print(\"Date: \",date)\n",
    "# cal age \n",
    "bod"
   ]
  },
  {
   "cell_type": "markdown",
   "id": "d50202da-44f8-4414-9ed1-7c6959e7c89a",
   "metadata": {},
   "source": [
    "# data struicture\n",
    "### list"
   ]
  },
  {
   "cell_type": "code",
   "execution_count": 69,
   "id": "0efd0526-2bf5-43a7-a190-31df9f25cc9c",
   "metadata": {},
   "outputs": [],
   "source": [
    "# list creation\n",
    "l1=[] #empty list"
   ]
  },
  {
   "cell_type": "code",
   "execution_count": 71,
   "id": "63d7f0ed-2849-4530-bd45-082df0326e0f",
   "metadata": {},
   "outputs": [
    {
     "data": {
      "text/plain": [
       "[]"
      ]
     },
     "execution_count": 71,
     "metadata": {},
     "output_type": "execute_result"
    }
   ],
   "source": [
    "l1\n"
   ]
  },
  {
   "cell_type": "code",
   "execution_count": 73,
   "id": "4e036f06-9be3-4e02-9747-f6bad8b50a16",
   "metadata": {},
   "outputs": [
    {
     "data": {
      "text/plain": [
       "list"
      ]
     },
     "execution_count": 73,
     "metadata": {},
     "output_type": "execute_result"
    }
   ],
   "source": [
    "type(l1)"
   ]
  },
  {
   "cell_type": "code",
   "execution_count": 75,
   "id": "ca2291b1-6bc2-4e82-acb3-7d453747e5df",
   "metadata": {},
   "outputs": [],
   "source": [
    "a=[1,2,3,4]"
   ]
  },
  {
   "cell_type": "code",
   "execution_count": 77,
   "id": "0b7d37b7-d35a-4f00-bbf7-1f0a2baaa066",
   "metadata": {},
   "outputs": [
    {
     "data": {
      "text/plain": [
       "list"
      ]
     },
     "execution_count": 77,
     "metadata": {},
     "output_type": "execute_result"
    }
   ],
   "source": [
    "type(a)"
   ]
  },
  {
   "cell_type": "code",
   "execution_count": 79,
   "id": "c87fb36f-5847-4a38-8475-c892d3100b13",
   "metadata": {},
   "outputs": [],
   "source": [
    "l2=list([1,2,3,4])"
   ]
  },
  {
   "cell_type": "code",
   "execution_count": 87,
   "id": "54d365aa-4fee-4189-b532-042f3989c5f6",
   "metadata": {},
   "outputs": [
    {
     "data": {
      "text/plain": [
       "list"
      ]
     },
     "execution_count": 87,
     "metadata": {},
     "output_type": "execute_result"
    }
   ],
   "source": [
    "# list of string \n",
    "l3=[\"Acb\",\"dsa\",\"hj\",\"osdfj\"]\n",
    "len(l3)\n",
    "type(l3)"
   ]
  },
  {
   "cell_type": "markdown",
   "id": "9c74d2dc-04fe-4e7c-90d0-6479aa86a4ca",
   "metadata": {},
   "source": [
    "# lis of float\n",
    "l4 = [12.2,324.54,78,8]\n",
    "l4"
   ]
  },
  {
   "cell_type": "code",
   "execution_count": 91,
   "id": "72c89455-ebd3-4ab1-8b1d-23cdc5a18b3b",
   "metadata": {},
   "outputs": [],
   "source": [
    "# mixed data \n",
    "l5 = ['Data',23,[80,90],['ha','hi']]"
   ]
  },
  {
   "cell_type": "code",
   "execution_count": 93,
   "id": "4d538d3f-b9be-43cb-94ab-cfd38bce66f8",
   "metadata": {},
   "outputs": [
    {
     "data": {
      "text/plain": [
       "4"
      ]
     },
     "execution_count": 93,
     "metadata": {},
     "output_type": "execute_result"
    }
   ],
   "source": [
    "len(l5)"
   ]
  },
  {
   "cell_type": "code",
   "execution_count": 95,
   "id": "8c7f768a-dc6b-4ee5-9c02-f35fd9a2b149",
   "metadata": {},
   "outputs": [],
   "source": [
    "l6 = [100, 'Data',17.765]"
   ]
  },
  {
   "cell_type": "code",
   "execution_count": 97,
   "id": "557cd6a9-dfd5-4411-8655-03117601f9e5",
   "metadata": {},
   "outputs": [
    {
     "data": {
      "text/plain": [
       "3"
      ]
     },
     "execution_count": 97,
     "metadata": {},
     "output_type": "execute_result"
    }
   ],
   "source": [
    "len(l6)"
   ]
  },
  {
   "cell_type": "markdown",
   "id": "a8d19914-8230-46db-ae2e-b799525caab8",
   "metadata": {},
   "source": [
    "# List indexing and slicing"
   ]
  },
  {
   "cell_type": "code",
   "execution_count": 102,
   "id": "f81fa03f-e1c1-4bfa-8d48-d68990829cff",
   "metadata": {},
   "outputs": [],
   "source": [
    "mylist = ['one','two','three','four','five','six','seven','eight']"
   ]
  },
  {
   "cell_type": "code",
   "execution_count": 104,
   "id": "adf7c04d-f545-4c86-9b96-8e72c9269158",
   "metadata": {},
   "outputs": [
    {
     "data": {
      "text/plain": [
       "'seven'"
      ]
     },
     "execution_count": 104,
     "metadata": {},
     "output_type": "execute_result"
    }
   ],
   "source": [
    "mylist[6]"
   ]
  },
  {
   "cell_type": "code",
   "execution_count": 106,
   "id": "4d7896f1-ac92-47dd-8464-9cdf898578c7",
   "metadata": {},
   "outputs": [
    {
     "data": {
      "text/plain": [
       "['one', 'two', 'three']"
      ]
     },
     "execution_count": 106,
     "metadata": {},
     "output_type": "execute_result"
    }
   ],
   "source": [
    "mylist[0:3]"
   ]
  },
  {
   "cell_type": "code",
   "execution_count": 108,
   "id": "46c7cd25-6d17-4e81-a0c1-6745a66575e8",
   "metadata": {},
   "outputs": [
    {
     "data": {
      "text/plain": [
       "['one', 'three', 'five', 'seven']"
      ]
     },
     "execution_count": 108,
     "metadata": {},
     "output_type": "execute_result"
    }
   ],
   "source": [
    "mylist[0:7:2]"
   ]
  },
  {
   "cell_type": "markdown",
   "id": "37e3cd30-8e01-4b86-994c-cf516e479b01",
   "metadata": {},
   "source": [
    "# Add"
   ]
  },
  {
   "cell_type": "code",
   "execution_count": 111,
   "id": "dba9d7a5-02d1-4022-a708-dda997869a84",
   "metadata": {},
   "outputs": [
    {
     "data": {
      "text/plain": [
       "['one', 'two', 'three', 'four', 'five', 'six', 'seven', 'eight']"
      ]
     },
     "execution_count": 111,
     "metadata": {},
     "output_type": "execute_result"
    }
   ],
   "source": [
    "mylist"
   ]
  },
  {
   "cell_type": "code",
   "execution_count": 113,
   "id": "4717d02c-c9b8-4dcc-b7b0-9955baeb08b0",
   "metadata": {},
   "outputs": [],
   "source": [
    "mylist.append('nine')"
   ]
  },
  {
   "cell_type": "code",
   "execution_count": 115,
   "id": "a7399bf8-9326-4692-84b2-675ace75758d",
   "metadata": {},
   "outputs": [
    {
     "data": {
      "text/plain": [
       "['one', 'two', 'three', 'four', 'five', 'six', 'seven', 'eight', 'nine']"
      ]
     },
     "execution_count": 115,
     "metadata": {},
     "output_type": "execute_result"
    }
   ],
   "source": [
    "mylist"
   ]
  },
  {
   "cell_type": "code",
   "execution_count": 119,
   "id": "5ccdf4e0-6d7e-4db7-bbf0-72aa8cfbaf67",
   "metadata": {},
   "outputs": [],
   "source": [
    "mylist.append(2)"
   ]
  },
  {
   "cell_type": "code",
   "execution_count": 121,
   "id": "5bd9e93a-1328-4416-bd71-2040a938c97c",
   "metadata": {},
   "outputs": [
    {
     "data": {
      "text/plain": [
       "['one', 'two', 'three', 'four', 'five', 'six', 'seven', 'eight', 'nine', 2]"
      ]
     },
     "execution_count": 121,
     "metadata": {},
     "output_type": "execute_result"
    }
   ],
   "source": [
    "mylist"
   ]
  },
  {
   "cell_type": "code",
   "execution_count": 123,
   "id": "53c59ea3-ef51-4ea0-9f07-85e5deea500c",
   "metadata": {},
   "outputs": [],
   "source": [
    "l = [1,2,3]"
   ]
  },
  {
   "cell_type": "code",
   "execution_count": 125,
   "id": "f4e2d5ab-3e36-4e00-b1b5-c840eddbc8b1",
   "metadata": {},
   "outputs": [],
   "source": [
    "mylist.insert(3,1)"
   ]
  },
  {
   "cell_type": "code",
   "execution_count": 127,
   "id": "18bd51ac-5453-408d-9cc4-518345032f84",
   "metadata": {},
   "outputs": [
    {
     "data": {
      "text/plain": [
       "['one', 'two', 'three', 1, 'four', 'five', 'six', 'seven', 'eight', 'nine', 2]"
      ]
     },
     "execution_count": 127,
     "metadata": {},
     "output_type": "execute_result"
    }
   ],
   "source": [
    "mylist"
   ]
  },
  {
   "cell_type": "code",
   "execution_count": 129,
   "id": "42448590-5ad3-43fe-9a16-debae59d5b89",
   "metadata": {},
   "outputs": [
    {
     "data": {
      "text/plain": [
       "11"
      ]
     },
     "execution_count": 129,
     "metadata": {},
     "output_type": "execute_result"
    }
   ],
   "source": [
    "len(mylist)"
   ]
  },
  {
   "cell_type": "code",
   "execution_count": 133,
   "id": "694bd733-27b0-4a46-99a3-d3e3482ee74c",
   "metadata": {},
   "outputs": [
    {
     "data": {
      "text/plain": [
       "['one',\n",
       " 'two',\n",
       " 'three',\n",
       " 'tenn',\n",
       " 1,\n",
       " 'four',\n",
       " 'five',\n",
       " 'six',\n",
       " 'seven',\n",
       " 'eight',\n",
       " 'nine',\n",
       " 2,\n",
       " 1,\n",
       " 2,\n",
       " 3]"
      ]
     },
     "execution_count": 133,
     "metadata": {},
     "output_type": "execute_result"
    }
   ],
   "source": [
    "mylist.extend([1,2,3])\n",
    "mylist"
   ]
  },
  {
   "cell_type": "code",
   "execution_count": 135,
   "id": "0cb14a9b-02b4-49ea-bf4a-e90ff4087990",
   "metadata": {},
   "outputs": [
    {
     "data": {
      "text/plain": [
       "3"
      ]
     },
     "execution_count": 135,
     "metadata": {},
     "output_type": "execute_result"
    }
   ],
   "source": [
    "mylist.pop() # delete last element in the list"
   ]
  },
  {
   "cell_type": "code",
   "execution_count": 137,
   "id": "e5b5c4f0-fed6-40fc-b9d7-f19b8e80bfce",
   "metadata": {},
   "outputs": [
    {
     "data": {
      "text/plain": [
       "['one',\n",
       " 'two',\n",
       " 'three',\n",
       " 'tenn',\n",
       " 1,\n",
       " 'four',\n",
       " 'five',\n",
       " 'six',\n",
       " 'seven',\n",
       " 'eight',\n",
       " 'nine',\n",
       " 2,\n",
       " 1,\n",
       " 2]"
      ]
     },
     "execution_count": 137,
     "metadata": {},
     "output_type": "execute_result"
    }
   ],
   "source": [
    "mylist"
   ]
  },
  {
   "cell_type": "code",
   "execution_count": 139,
   "id": "b12f4db2-5ba6-4ab6-a26e-b29158664515",
   "metadata": {},
   "outputs": [
    {
     "data": {
      "text/plain": [
       "'two'"
      ]
     },
     "execution_count": 139,
     "metadata": {},
     "output_type": "execute_result"
    }
   ],
   "source": [
    "mylist.pop(1) #it will delete index 1th element"
   ]
  },
  {
   "cell_type": "code",
   "execution_count": 141,
   "id": "f7e82d67-7016-44a9-ae70-05e35f2bebc5",
   "metadata": {},
   "outputs": [],
   "source": [
    "mylist.remove('one') # remove 'one from list'"
   ]
  },
  {
   "cell_type": "code",
   "execution_count": 143,
   "id": "2b09d3d2-a9cc-47d0-a796-88aa4973d0a8",
   "metadata": {},
   "outputs": [
    {
     "data": {
      "text/plain": [
       "['three', 'tenn', 1, 'four', 'five', 'six', 'seven', 'eight', 'nine', 2, 1, 2]"
      ]
     },
     "execution_count": 143,
     "metadata": {},
     "output_type": "execute_result"
    }
   ],
   "source": [
    "mylist"
   ]
  },
  {
   "cell_type": "code",
   "execution_count": 145,
   "id": "3c5b60f8-8965-45b5-9fd0-ff9858c6b259",
   "metadata": {},
   "outputs": [
    {
     "data": {
      "text/plain": [
       "[]"
      ]
     },
     "execution_count": 145,
     "metadata": {},
     "output_type": "execute_result"
    }
   ],
   "source": [
    "mylist.clear() # it will remove all element in tge list\n",
    "mylist"
   ]
  },
  {
   "cell_type": "code",
   "execution_count": 147,
   "id": "73fccff8-4566-42cf-a29c-5d6951fd0931",
   "metadata": {},
   "outputs": [
    {
     "data": {
      "text/plain": [
       "['HI']"
      ]
     },
     "execution_count": 147,
     "metadata": {},
     "output_type": "execute_result"
    }
   ],
   "source": [
    "mylist.append('HI')\n",
    "mylist"
   ]
  },
  {
   "cell_type": "code",
   "execution_count": 167,
   "id": "9309444e-c10d-4843-b63c-8ff1aadc9f41",
   "metadata": {},
   "outputs": [
    {
     "data": {
      "text/plain": [
       "[8, 888, 90, 90, 90, 888, 90, 6, 5, 7, 8, 8, 6, 5, 7, 8, 8, 6, 5, 7, 8]"
      ]
     },
     "execution_count": 167,
     "metadata": {},
     "output_type": "execute_result"
    }
   ],
   "source": [
    "mylist.insert(1,90)\n",
    "mylist.extend([8,6,5,7,8])\n",
    "mylist.insert(1,888)\n",
    "mylist.insert(4,90)\n",
    "mylist"
   ]
  },
  {
   "cell_type": "code",
   "execution_count": 169,
   "id": "7935afb3-3990-4194-9c1d-06f43fa4ffc7",
   "metadata": {},
   "outputs": [
    {
     "data": {
      "text/plain": [
       "[888, 90, 90, 90, 888, 90, 6, 5, 7, 8, 8, 6, 5, 7, 8, 8, 6, 5, 7, 8]"
      ]
     },
     "execution_count": 169,
     "metadata": {},
     "output_type": "execute_result"
    }
   ],
   "source": [
    "del mylist[0]\n",
    "mylist"
   ]
  },
  {
   "cell_type": "code",
   "execution_count": 175,
   "id": "5588ae03-6b2d-4455-a064-141e40ea2176",
   "metadata": {},
   "outputs": [
    {
     "ename": "NameError",
     "evalue": "name 'mylist' is not defined",
     "output_type": "error",
     "traceback": [
      "\u001b[1;31m---------------------------------------------------------------------------\u001b[0m",
      "\u001b[1;31mNameError\u001b[0m                                 Traceback (most recent call last)",
      "Cell \u001b[1;32mIn[175], line 1\u001b[0m\n\u001b[1;32m----> 1\u001b[0m \u001b[38;5;28;01mdel\u001b[39;00m mylist\n",
      "\u001b[1;31mNameError\u001b[0m: name 'mylist' is not defined"
     ]
    }
   ],
   "source": [
    "del mylist # it is dlt mylist"
   ]
  },
  {
   "cell_type": "code",
   "execution_count": 177,
   "id": "9be6d4a4-5c3e-4af6-82e7-d91b4018547d",
   "metadata": {},
   "outputs": [
    {
     "ename": "NameError",
     "evalue": "name 'mylist' is not defined",
     "output_type": "error",
     "traceback": [
      "\u001b[1;31m---------------------------------------------------------------------------\u001b[0m",
      "\u001b[1;31mNameError\u001b[0m                                 Traceback (most recent call last)",
      "Cell \u001b[1;32mIn[177], line 1\u001b[0m\n\u001b[1;32m----> 1\u001b[0m mylist\n",
      "\u001b[1;31mNameError\u001b[0m: name 'mylist' is not defined"
     ]
    }
   ],
   "source": [
    "mylist"
   ]
  },
  {
   "cell_type": "markdown",
   "id": "f852558c-8574-4920-8853-58a8e9cbf8e9",
   "metadata": {},
   "source": [
    "# Join Lits"
   ]
  },
  {
   "cell_type": "code",
   "execution_count": 180,
   "id": "d5c507c3-d69a-4993-b746-dfc456bc9c85",
   "metadata": {},
   "outputs": [],
   "source": [
    "list2 = ['ten','twenty','el..','twel..']\n",
    "list1 =['one','two','three','four']"
   ]
  },
  {
   "cell_type": "markdown",
   "id": "517a744c-e639-41c1-8b61-8b080253a93d",
   "metadata": {},
   "source": [
    "list1 \n",
    "list2"
   ]
  },
  {
   "cell_type": "code",
   "execution_count": 183,
   "id": "66ef4334-282e-432c-800e-9abde5145991",
   "metadata": {},
   "outputs": [
    {
     "data": {
      "text/plain": [
       "['one', 'two', 'three', 'four', 'ten', 'twenty', 'el..', 'twel..']"
      ]
     },
     "execution_count": 183,
     "metadata": {},
     "output_type": "execute_result"
    }
   ],
   "source": [
    "list3 = list1+list2\n",
    "list3"
   ]
  },
  {
   "cell_type": "code",
   "execution_count": 185,
   "id": "f6191221-9da4-4ded-8a16-48317b9b9d9c",
   "metadata": {},
   "outputs": [],
   "source": [
    "list2.extend(list1) # ti will add elements of list 1 in list 2 at the end "
   ]
  },
  {
   "cell_type": "code",
   "execution_count": 187,
   "id": "15f0274d-0ee3-44dc-b134-1a3856f01fab",
   "metadata": {},
   "outputs": [
    {
     "data": {
      "text/plain": [
       "['ten', 'twenty', 'el..', 'twel..', 'one', 'two', 'three', 'four']"
      ]
     },
     "execution_count": 187,
     "metadata": {},
     "output_type": "execute_result"
    }
   ],
   "source": [
    "list2"
   ]
  },
  {
   "cell_type": "code",
   "execution_count": 191,
   "id": "5ed9cd6d-cc33-452f-8fba-05fb31e6a372",
   "metadata": {},
   "outputs": [],
   "source": [
    "list1.append(list2) # append will add elemets of list2 in the index one and [[list1],list2]"
   ]
  },
  {
   "cell_type": "code",
   "execution_count": 193,
   "id": "87bb1030-44db-44aa-99ff-44d541c51605",
   "metadata": {},
   "outputs": [
    {
     "data": {
      "text/plain": [
       "['one',\n",
       " 'two',\n",
       " 'three',\n",
       " 'four',\n",
       " ['ten', 'twenty', 'el..', 'twel..', 'one', 'two', 'three', 'four']]"
      ]
     },
     "execution_count": 193,
     "metadata": {},
     "output_type": "execute_result"
    }
   ],
   "source": [
    "list1"
   ]
  },
  {
   "cell_type": "code",
   "execution_count": 195,
   "id": "5f893a65-6420-4499-8649-3141648b1325",
   "metadata": {},
   "outputs": [
    {
     "data": {
      "text/plain": [
       "5"
      ]
     },
     "execution_count": 195,
     "metadata": {},
     "output_type": "execute_result"
    }
   ],
   "source": [
    "len(list1)"
   ]
  },
  {
   "cell_type": "markdown",
   "id": "37bf7e32-7117-4af8-8416-5c2d1b4c21cc",
   "metadata": {},
   "source": [
    "# List membership"
   ]
  },
  {
   "cell_type": "code",
   "execution_count": 198,
   "id": "bc2948a5-9292-49b2-ae2e-44e083f35a8d",
   "metadata": {},
   "outputs": [
    {
     "data": {
      "text/plain": [
       "True"
      ]
     },
     "execution_count": 198,
     "metadata": {},
     "output_type": "execute_result"
    }
   ],
   "source": [
    "'one' in list1 #'in' keywords works=> it is present or not if yes then print true"
   ]
  },
  {
   "cell_type": "code",
   "execution_count": 200,
   "id": "ce33c7c5-b2bc-405c-a89e-d04624f9e9cd",
   "metadata": {},
   "outputs": [
    {
     "data": {
      "text/plain": [
       "True"
      ]
     },
     "execution_count": 200,
     "metadata": {},
     "output_type": "execute_result"
    }
   ],
   "source": [
    "10 not in list1 #not in print if not exit then print True"
   ]
  },
  {
   "cell_type": "markdown",
   "id": "c5106a30-1e3c-4cb0-890f-5b6f7daec7b0",
   "metadata": {},
   "source": [
    "## Reverse & sort list"
   ]
  },
  {
   "cell_type": "code",
   "execution_count": 205,
   "id": "5518c4f9-00b7-46bf-9d5f-7bd26a00245f",
   "metadata": {},
   "outputs": [],
   "source": [
    "list1 = [5,6,7,2,1] #reverse order"
   ]
  },
  {
   "cell_type": "code",
   "execution_count": 207,
   "id": "60b8dd0f-8a13-4ede-abf5-699a383ceed7",
   "metadata": {},
   "outputs": [
    {
     "data": {
      "text/plain": [
       "[5, 6, 7, 2, 1]"
      ]
     },
     "execution_count": 207,
     "metadata": {},
     "output_type": "execute_result"
    }
   ],
   "source": [
    "list1"
   ]
  },
  {
   "cell_type": "code",
   "execution_count": 209,
   "id": "13563030-f56b-48f7-8ceb-0c7bc1ad584c",
   "metadata": {},
   "outputs": [
    {
     "data": {
      "text/plain": [
       "[1, 2, 7, 6, 5]"
      ]
     },
     "execution_count": 209,
     "metadata": {},
     "output_type": "execute_result"
    }
   ],
   "source": [
    "list1.reverse()\n",
    "list1"
   ]
  },
  {
   "cell_type": "code",
   "execution_count": 211,
   "id": "7bd8c736-3434-43c2-a35e-8006e43f0256",
   "metadata": {},
   "outputs": [
    {
     "data": {
      "text/plain": [
       "[1, 2, 7, 6, 5]"
      ]
     },
     "execution_count": 211,
     "metadata": {},
     "output_type": "execute_result"
    }
   ],
   "source": [
    "list1"
   ]
  },
  {
   "cell_type": "code",
   "execution_count": 213,
   "id": "71b31e79-a52e-4449-888b-674829c63643",
   "metadata": {},
   "outputs": [
    {
     "data": {
      "text/plain": [
       "[5, 6, 7, 2, 1]"
      ]
     },
     "execution_count": 213,
     "metadata": {},
     "output_type": "execute_result"
    }
   ],
   "source": [
    "list1[::-1]"
   ]
  },
  {
   "cell_type": "code",
   "execution_count": 217,
   "id": "93d2831c-a049-4776-b781-a66c88b5176f",
   "metadata": {},
   "outputs": [],
   "source": [
    "list1.sort()"
   ]
  },
  {
   "cell_type": "code",
   "execution_count": 219,
   "id": "553e9c43-11bd-44eb-bfc9-a4cced442473",
   "metadata": {},
   "outputs": [
    {
     "data": {
      "text/plain": [
       "[1, 2, 5, 6, 7]"
      ]
     },
     "execution_count": 219,
     "metadata": {},
     "output_type": "execute_result"
    }
   ],
   "source": [
    "list1"
   ]
  },
  {
   "cell_type": "code",
   "execution_count": 221,
   "id": "1c273af6-d45f-4488-9027-75b0a226e4ca",
   "metadata": {},
   "outputs": [],
   "source": [
    "list4=[1,2,3.5,6]"
   ]
  },
  {
   "cell_type": "code",
   "execution_count": 223,
   "id": "59a853ba-b313-4a55-8c6a-dd00287d2329",
   "metadata": {},
   "outputs": [],
   "source": [
    "list4.sort()"
   ]
  },
  {
   "cell_type": "code",
   "execution_count": 225,
   "id": "3bc7942d-c5b4-46dc-b230-0ff51defd342",
   "metadata": {},
   "outputs": [
    {
     "data": {
      "text/plain": [
       "[1, 2, 3.5, 6]"
      ]
     },
     "execution_count": 225,
     "metadata": {},
     "output_type": "execute_result"
    }
   ],
   "source": [
    "list4"
   ]
  },
  {
   "cell_type": "code",
   "execution_count": 227,
   "id": "88879341-b66b-4f73-a18e-3c417615e80f",
   "metadata": {},
   "outputs": [
    {
     "data": {
      "text/plain": [
       "[0, 1, 5, 9, 34, 88, 99, 100]"
      ]
     },
     "execution_count": 227,
     "metadata": {},
     "output_type": "execute_result"
    }
   ],
   "source": [
    "mylist3 = [9,5,99,100,1,88,0,34]\n",
    "mylist3.sort(reverse=False) # sort() =>asc order\n",
    "mylist3"
   ]
  },
  {
   "cell_type": "code",
   "execution_count": 229,
   "id": "4001fe34-0330-4e2d-896c-35d053e34ee1",
   "metadata": {},
   "outputs": [],
   "source": [
    "mylist3 = [9,5,2,99,12,88,34]"
   ]
  },
  {
   "cell_type": "code",
   "execution_count": 231,
   "id": "f669823b-1c6c-4eed-b59f-dd1c0183015a",
   "metadata": {},
   "outputs": [
    {
     "data": {
      "text/plain": [
       "[99, 88, 34, 12, 9, 5, 2]"
      ]
     },
     "execution_count": 231,
     "metadata": {},
     "output_type": "execute_result"
    }
   ],
   "source": [
    "mylist3.sort(reverse=True) #sort list in dec order\n",
    "mylist3"
   ]
  },
  {
   "cell_type": "code",
   "execution_count": 233,
   "id": "8f514678-b10c-4aaa-b907-0b8daeccae3d",
   "metadata": {},
   "outputs": [],
   "source": [
    "list4=[1,2,3,'cat','dog','egg']"
   ]
  },
  {
   "cell_type": "code",
   "execution_count": 235,
   "id": "28be45eb-06e0-4b7d-8b3d-9c0283b9afd8",
   "metadata": {},
   "outputs": [
    {
     "data": {
      "text/plain": [
       "[1, 2, 3, 'cat', 'dog', 'egg']"
      ]
     },
     "execution_count": 235,
     "metadata": {},
     "output_type": "execute_result"
    }
   ],
   "source": [
    "list4"
   ]
  },
  {
   "cell_type": "code",
   "execution_count": 237,
   "id": "a0cc6e67-4a0b-467a-9847-7d68efc3bbe8",
   "metadata": {},
   "outputs": [
    {
     "ename": "TypeError",
     "evalue": "'<' not supported between instances of 'str' and 'int'",
     "output_type": "error",
     "traceback": [
      "\u001b[1;31m---------------------------------------------------------------------------\u001b[0m",
      "\u001b[1;31mTypeError\u001b[0m                                 Traceback (most recent call last)",
      "Cell \u001b[1;32mIn[237], line 1\u001b[0m\n\u001b[1;32m----> 1\u001b[0m list4\u001b[38;5;241m.\u001b[39msort()\n",
      "\u001b[1;31mTypeError\u001b[0m: '<' not supported between instances of 'str' and 'int'"
     ]
    }
   ],
   "source": [
    "list4.sort() # can't do int and string in list for sort"
   ]
  },
  {
   "cell_type": "code",
   "execution_count": 239,
   "id": "1c37da56-77fe-428a-b15f-b2c40e18e7cd",
   "metadata": {},
   "outputs": [],
   "source": [
    "l1=['abs','abc','aaf','fre','klj','def']"
   ]
  },
  {
   "cell_type": "code",
   "execution_count": 241,
   "id": "8b4a9aa9-420e-4c95-8cb3-166a1a346148",
   "metadata": {},
   "outputs": [],
   "source": [
    "l1.sort()"
   ]
  },
  {
   "cell_type": "code",
   "execution_count": 243,
   "id": "263142e8-9638-49b5-8ca2-c3f6e920ac82",
   "metadata": {},
   "outputs": [
    {
     "data": {
      "text/plain": [
       "['aaf', 'abc', 'abs', 'def', 'fre', 'klj']"
      ]
     },
     "execution_count": 243,
     "metadata": {},
     "output_type": "execute_result"
    }
   ],
   "source": [
    "l1"
   ]
  },
  {
   "cell_type": "code",
   "execution_count": 247,
   "id": "04cc2968-065c-4fee-9822-036ce2790642",
   "metadata": {},
   "outputs": [
    {
     "name": "stdout",
     "output_type": "stream",
     "text": [
      "clist:-  [0, 9, 8, 1, [0]]\n"
     ]
    },
    {
     "ename": "TypeError",
     "evalue": "'<' not supported between instances of 'list' and 'int'",
     "output_type": "error",
     "traceback": [
      "\u001b[1;31m---------------------------------------------------------------------------\u001b[0m",
      "\u001b[1;31mTypeError\u001b[0m                                 Traceback (most recent call last)",
      "Cell \u001b[1;32mIn[247], line 4\u001b[0m\n\u001b[0;32m      2\u001b[0m clist \u001b[38;5;241m=\u001b[39m [\u001b[38;5;241m0\u001b[39m,\u001b[38;5;241m9\u001b[39m,\u001b[38;5;241m8\u001b[39m,\u001b[38;5;241m1\u001b[39m,[\u001b[38;5;241m000\u001b[39m]]\n\u001b[0;32m      3\u001b[0m \u001b[38;5;28mprint\u001b[39m(\u001b[38;5;124m'\u001b[39m\u001b[38;5;124mclist:- \u001b[39m\u001b[38;5;124m'\u001b[39m,clist)\n\u001b[1;32m----> 4\u001b[0m clist\u001b[38;5;241m.\u001b[39msort()\n\u001b[0;32m      5\u001b[0m clist\n",
      "\u001b[1;31mTypeError\u001b[0m: '<' not supported between instances of 'list' and 'int'"
     ]
    }
   ],
   "source": [
    "# complex list\n",
    "clist = [0,9,8,1,[000]]\n",
    "print('clist:- ',clist)\n",
    "clist.sort()\n",
    "clist"
   ]
  },
  {
   "cell_type": "markdown",
   "id": "da59bbf3-2005-48be-8da5-c267cbeb98af",
   "metadata": {},
   "source": [
    "# All/ any"
   ]
  },
  {
   "cell_type": "code",
   "execution_count": 250,
   "id": "b8f9b1d3-a4aa-4278-8b94-494431929db0",
   "metadata": {},
   "outputs": [],
   "source": [
    "L1 = [1,2,3]"
   ]
  },
  {
   "cell_type": "code",
   "execution_count": 252,
   "id": "3fc3d1d5-3d7c-43c7-a09b-3b5c81b68afb",
   "metadata": {},
   "outputs": [],
   "source": [
    "L3 = [1,2,3,4,5,0]"
   ]
  },
  {
   "cell_type": "code",
   "execution_count": 254,
   "id": "89b3ac90-e0f6-4c6c-9782-08dea05c056d",
   "metadata": {},
   "outputs": [
    {
     "data": {
      "text/plain": [
       "True"
      ]
     },
     "execution_count": 254,
     "metadata": {},
     "output_type": "execute_result"
    }
   ],
   "source": [
    "all(L1)"
   ]
  },
  {
   "cell_type": "code",
   "execution_count": 256,
   "id": "28f94e5d-63a7-40c0-b8f8-b1ba2ae823b9",
   "metadata": {},
   "outputs": [
    {
     "data": {
      "text/plain": [
       "False"
      ]
     },
     "execution_count": 256,
     "metadata": {},
     "output_type": "execute_result"
    }
   ],
   "source": [
    "all(L3) #it gives us false 2cz here is 0"
   ]
  },
  {
   "cell_type": "code",
   "execution_count": 258,
   "id": "fe1d0f3c-d9e9-4896-baca-def68c5c064c",
   "metadata": {},
   "outputs": [
    {
     "data": {
      "text/plain": [
       "True"
      ]
     },
     "execution_count": 258,
     "metadata": {},
     "output_type": "execute_result"
    }
   ],
   "source": [
    "any(L3)"
   ]
  },
  {
   "cell_type": "code",
   "execution_count": 260,
   "id": "0a7e3a6f-01f2-4416-a3fd-aedd619cd674",
   "metadata": {},
   "outputs": [
    {
     "data": {
      "text/plain": [
       "False"
      ]
     },
     "execution_count": 260,
     "metadata": {},
     "output_type": "execute_result"
    }
   ],
   "source": [
    "l=[0,0,0]\n",
    "any(l)"
   ]
  },
  {
   "cell_type": "code",
   "execution_count": 262,
   "id": "7358ad91-b530-4420-89d7-dff85e262b27",
   "metadata": {},
   "outputs": [
    {
     "data": {
      "text/plain": [
       "False"
      ]
     },
     "execution_count": 262,
     "metadata": {},
     "output_type": "execute_result"
    }
   ],
   "source": [
    "all(l)"
   ]
  },
  {
   "cell_type": "code",
   "execution_count": 264,
   "id": "969a5f1a-b179-43f3-953a-e022d5246218",
   "metadata": {},
   "outputs": [
    {
     "name": "stdout",
     "output_type": "stream",
     "text": [
      "True\n"
     ]
    }
   ],
   "source": [
    "L2=['a','c','d','0']\n",
    "print(any(L2))"
   ]
  },
  {
   "cell_type": "code",
   "execution_count": 266,
   "id": "45ec755b-c7f7-4a95-844b-9128071bdaeb",
   "metadata": {},
   "outputs": [
    {
     "name": "stdout",
     "output_type": "stream",
     "text": [
      "True\n"
     ]
    }
   ],
   "source": [
    "print(all(L2))"
   ]
  },
  {
   "cell_type": "markdown",
   "id": "0b207a0d-c29a-43de-8fae-e224e2ce34ba",
   "metadata": {},
   "source": [
    "# Tuples "
   ]
  },
  {
   "cell_type": "code",
   "execution_count": 269,
   "id": "587c3ddc-ae83-401a-aa20-a9dc8a4ab5d3",
   "metadata": {},
   "outputs": [],
   "source": [
    "tup1 = ()"
   ]
  },
  {
   "cell_type": "code",
   "execution_count": 271,
   "id": "36847f76-919b-4c3b-af04-1b5de6d75f4f",
   "metadata": {},
   "outputs": [
    {
     "data": {
      "text/plain": [
       "()"
      ]
     },
     "execution_count": 271,
     "metadata": {},
     "output_type": "execute_result"
    }
   ],
   "source": [
    "tup1"
   ]
  },
  {
   "cell_type": "code",
   "execution_count": 273,
   "id": "3723ed25-9e4a-4afe-8ecf-fda9576e22e4",
   "metadata": {},
   "outputs": [
    {
     "data": {
      "text/plain": [
       "tuple"
      ]
     },
     "execution_count": 273,
     "metadata": {},
     "output_type": "execute_result"
    }
   ],
   "source": [
    "type(tup1)"
   ]
  },
  {
   "cell_type": "code",
   "execution_count": 275,
   "id": "0bf3be0b-91cd-4a5c-ba4a-a9312f4b6fc4",
   "metadata": {},
   "outputs": [],
   "source": [
    "tup2=(10,20,30)"
   ]
  },
  {
   "cell_type": "code",
   "execution_count": 277,
   "id": "5114b29b-273f-40d5-aae2-3de03b5f28e8",
   "metadata": {},
   "outputs": [
    {
     "name": "stdout",
     "output_type": "stream",
     "text": [
      "(10, 20, 30)\n"
     ]
    }
   ],
   "source": [
    "print(tup2)"
   ]
  },
  {
   "cell_type": "code",
   "execution_count": 279,
   "id": "6faac1a1-cd29-46d6-9f50-88cf0c2e0e98",
   "metadata": {},
   "outputs": [
    {
     "name": "stdout",
     "output_type": "stream",
     "text": [
      "<class 'tuple'>\n"
     ]
    }
   ],
   "source": [
    "print(type(tup2))"
   ]
  },
  {
   "cell_type": "code",
   "execution_count": 281,
   "id": "ae94b3ad-b072-43f8-a312-fac2b878189a",
   "metadata": {},
   "outputs": [],
   "source": [
    "tup3=(10.77,30.66,60.89)"
   ]
  },
  {
   "cell_type": "code",
   "execution_count": 283,
   "id": "a22c9ee3-210c-41be-befa-8e5219432952",
   "metadata": {},
   "outputs": [],
   "source": [
    "tup4=('one','two','three')"
   ]
  },
  {
   "cell_type": "code",
   "execution_count": 285,
   "id": "91904a0a-772b-48c3-aa54-abe6689407fe",
   "metadata": {},
   "outputs": [],
   "source": [
    "tup5 = ('Data',25,(50,100),(150,90))"
   ]
  },
  {
   "cell_type": "code",
   "execution_count": 289,
   "id": "e2297ee8-bb51-4b91-903b-c7e2d7f5f2e2",
   "metadata": {},
   "outputs": [],
   "source": [
    "tup6 =(100,'Data',17.765)"
   ]
  },
  {
   "cell_type": "code",
   "execution_count": 291,
   "id": "bcb1f41d-44e6-458a-8bd7-2f3c006591bc",
   "metadata": {},
   "outputs": [],
   "source": [
    "tup7 = ('Data',25,[50,100],[150,90],['John','David'],(99,22,33))"
   ]
  },
  {
   "cell_type": "code",
   "execution_count": 293,
   "id": "14e8e5e3-b0a8-4a44-8f43-d3eba97ba334",
   "metadata": {},
   "outputs": [
    {
     "data": {
      "text/plain": [
       "('Data', 25, [50, 100], [150, 90], ['John', 'David'], (99, 22, 33))"
      ]
     },
     "execution_count": 293,
     "metadata": {},
     "output_type": "execute_result"
    }
   ],
   "source": [
    "tup7"
   ]
  },
  {
   "cell_type": "code",
   "execution_count": 295,
   "id": "71fa92f1-cc76-4068-a929-f1d8fef086ab",
   "metadata": {},
   "outputs": [
    {
     "data": {
      "text/plain": [
       "'John'"
      ]
     },
     "execution_count": 295,
     "metadata": {},
     "output_type": "execute_result"
    }
   ],
   "source": [
    "tup7[4][0]"
   ]
  },
  {
   "cell_type": "code",
   "execution_count": 297,
   "id": "b3f35f0f-1cc6-4037-8ada-842ee82817af",
   "metadata": {},
   "outputs": [
    {
     "data": {
      "text/plain": [
       "6"
      ]
     },
     "execution_count": 297,
     "metadata": {},
     "output_type": "execute_result"
    }
   ],
   "source": [
    "len(tup7)"
   ]
  },
  {
   "cell_type": "code",
   "execution_count": 299,
   "id": "1cd0c883-2eb4-4f10-b7e5-2a498b7d2949",
   "metadata": {},
   "outputs": [
    {
     "name": "stdout",
     "output_type": "stream",
     "text": [
      "(10, 20, 30)\n"
     ]
    }
   ],
   "source": [
    "print(tup2)"
   ]
  },
  {
   "cell_type": "code",
   "execution_count": 301,
   "id": "b539db67-19c4-4b78-8fc1-0472e3a0f2b8",
   "metadata": {},
   "outputs": [
    {
     "name": "stdout",
     "output_type": "stream",
     "text": [
      "(10.77, 30.66, 60.89)\n"
     ]
    }
   ],
   "source": [
    "print(tup3)"
   ]
  },
  {
   "cell_type": "code",
   "execution_count": 303,
   "id": "0abb3ccd-8c83-4512-a1ad-5c691520fef9",
   "metadata": {},
   "outputs": [
    {
     "name": "stdout",
     "output_type": "stream",
     "text": [
      "('one', 'two', 'three') ('Data', 25, (50, 100), (150, 90))\n"
     ]
    }
   ],
   "source": [
    "print(tup4,tup5)"
   ]
  },
  {
   "cell_type": "code",
   "execution_count": 305,
   "id": "5b77b95f-28cb-4117-afd7-fc573e8226bc",
   "metadata": {},
   "outputs": [
    {
     "name": "stdout",
     "output_type": "stream",
     "text": [
      "(100, 'Data', 17.765) ('Data', 25, [50, 100], [150, 90], ['John', 'David'], (99, 22, 33))\n"
     ]
    }
   ],
   "source": [
    "print(tup6,tup7)"
   ]
  },
  {
   "cell_type": "markdown",
   "id": "21dba1e5-c96d-439a-887c-7d4dd8335492",
   "metadata": {},
   "source": [
    "# Tuple indexing"
   ]
  },
  {
   "cell_type": "code",
   "execution_count": 308,
   "id": "92fbd691-4b90-4dda-922a-97f78138323d",
   "metadata": {},
   "outputs": [
    {
     "data": {
      "text/plain": [
       "(10, 20, 30)"
      ]
     },
     "execution_count": 308,
     "metadata": {},
     "output_type": "execute_result"
    }
   ],
   "source": [
    "tup2"
   ]
  },
  {
   "cell_type": "code",
   "execution_count": 310,
   "id": "1f0476e4-156a-414e-97d1-b88acd12e05f",
   "metadata": {},
   "outputs": [
    {
     "data": {
      "text/plain": [
       "20"
      ]
     },
     "execution_count": 310,
     "metadata": {},
     "output_type": "execute_result"
    }
   ],
   "source": [
    "tup2[1]"
   ]
  },
  {
   "cell_type": "code",
   "execution_count": 312,
   "id": "9cb254b2-a8ef-4843-aa17-9b6412c97e8b",
   "metadata": {},
   "outputs": [],
   "source": [
    "tup2=(5,8,'apple',10,True)"
   ]
  },
  {
   "cell_type": "code",
   "execution_count": 314,
   "id": "71484cd4-509d-4afe-9408-ce38716dd60b",
   "metadata": {},
   "outputs": [
    {
     "data": {
      "text/plain": [
       "(5, 8, 'apple')"
      ]
     },
     "execution_count": 314,
     "metadata": {},
     "output_type": "execute_result"
    }
   ],
   "source": [
    "tup2[0:3]"
   ]
  },
  {
   "cell_type": "code",
   "execution_count": 316,
   "id": "4ee74688-7b35-493b-9843-bd42070a078e",
   "metadata": {},
   "outputs": [],
   "source": [
    "tup8=('Data',25,[50,100],[150,90],['David','john'],(99,22,33))"
   ]
  },
  {
   "cell_type": "code",
   "execution_count": 318,
   "id": "9a38626b-0c20-4220-81e6-a6eabedef95e",
   "metadata": {},
   "outputs": [
    {
     "data": {
      "text/plain": [
       "('Data', 25, [50, 100], [150, 90], ['David', 'john'], (99, 22, 33))"
      ]
     },
     "execution_count": 318,
     "metadata": {},
     "output_type": "execute_result"
    }
   ],
   "source": [
    "tup8"
   ]
  },
  {
   "cell_type": "code",
   "execution_count": 320,
   "id": "cbc976dd-116e-4820-ad3a-7872510482f5",
   "metadata": {},
   "outputs": [
    {
     "data": {
      "text/plain": [
       "100"
      ]
     },
     "execution_count": 320,
     "metadata": {},
     "output_type": "execute_result"
    }
   ],
   "source": [
    "tup8[2][1]"
   ]
  },
  {
   "cell_type": "code",
   "execution_count": 322,
   "id": "0400205c-5375-4666-9979-899667b9f6d9",
   "metadata": {},
   "outputs": [
    {
     "data": {
      "text/plain": [
       "22"
      ]
     },
     "execution_count": 322,
     "metadata": {},
     "output_type": "execute_result"
    }
   ],
   "source": [
    "tup8[5][1]"
   ]
  },
  {
   "cell_type": "code",
   "execution_count": 324,
   "id": "1a6ff55b-2401-4479-8971-ac0745dfe49b",
   "metadata": {},
   "outputs": [
    {
     "data": {
      "text/plain": [
       "1"
      ]
     },
     "execution_count": 324,
     "metadata": {},
     "output_type": "execute_result"
    }
   ],
   "source": [
    "tup8.index(25)"
   ]
  },
  {
   "cell_type": "code",
   "execution_count": 338,
   "id": "c78e586c-502a-45f7-9627-174fdb3bc34a",
   "metadata": {},
   "outputs": [
    {
     "data": {
      "text/plain": [
       "0"
      ]
     },
     "execution_count": 338,
     "metadata": {},
     "output_type": "execute_result"
    }
   ],
   "source": [
    "tup8.index('Data')"
   ]
  },
  {
   "cell_type": "code",
   "execution_count": 340,
   "id": "edc25068-10bd-4499-907a-94deb7e624b7",
   "metadata": {},
   "outputs": [
    {
     "data": {
      "text/plain": [
       "4"
      ]
     },
     "execution_count": 340,
     "metadata": {},
     "output_type": "execute_result"
    }
   ],
   "source": [
    "tup8.index(['David', 'john'])"
   ]
  },
  {
   "cell_type": "markdown",
   "id": "bc5a115e-e1e8-4f61-bace-e1c42acac67f",
   "metadata": {},
   "source": [
    "## Tuple Slicing"
   ]
  },
  {
   "cell_type": "code",
   "execution_count": 343,
   "id": "a6197338-5aba-44cb-870d-ecf4300ac27b",
   "metadata": {},
   "outputs": [],
   "source": [
    "mytuple = ('one' , 'two' , 'three' ,\n",
    "           'four' , 'five' , 'six' , 'seven' , 'eight')"
   ]
  },
  {
   "cell_type": "code",
   "execution_count": 345,
   "id": "cfa41910-78e7-4760-987d-ed530618be26",
   "metadata": {},
   "outputs": [
    {
     "data": {
      "text/plain": [
       "('one', 'two', 'three')"
      ]
     },
     "execution_count": 345,
     "metadata": {},
     "output_type": "execute_result"
    }
   ],
   "source": [
    "mytuple[0:3]"
   ]
  },
  {
   "cell_type": "markdown",
   "id": "f0ba8792-e2ef-4467-874e-c3a86904dd95",
   "metadata": {},
   "source": [
    "## Remove & change item"
   ]
  },
  {
   "cell_type": "code",
   "execution_count": 348,
   "id": "574823f4-be2f-493f-9d5a-957bb3aa2a0f",
   "metadata": {},
   "outputs": [
    {
     "data": {
      "text/plain": [
       "('one', 'two', 'three', 'four', 'five', 'six', 'seven', 'eight')"
      ]
     },
     "execution_count": 348,
     "metadata": {},
     "output_type": "execute_result"
    }
   ],
   "source": [
    "mytuple"
   ]
  },
  {
   "cell_type": "code",
   "execution_count": 350,
   "id": "81e210a4-343b-40a6-b3c6-c58f4e2cc7a3",
   "metadata": {},
   "outputs": [
    {
     "ename": "TypeError",
     "evalue": "'tuple' object doesn't support item deletion",
     "output_type": "error",
     "traceback": [
      "\u001b[1;31m---------------------------------------------------------------------------\u001b[0m",
      "\u001b[1;31mTypeError\u001b[0m                                 Traceback (most recent call last)",
      "Cell \u001b[1;32mIn[350], line 1\u001b[0m\n\u001b[1;32m----> 1\u001b[0m \u001b[38;5;28;01mdel\u001b[39;00m mytuple[\u001b[38;5;241m0\u001b[39m]\n",
      "\u001b[1;31mTypeError\u001b[0m: 'tuple' object doesn't support item deletion"
     ]
    }
   ],
   "source": [
    "del mytuple[0] # thorw's an error cz tuples are immutable"
   ]
  },
  {
   "cell_type": "code",
   "execution_count": 352,
   "id": "1d7a7fd0-d165-4542-a92c-8d7554c8c78d",
   "metadata": {},
   "outputs": [
    {
     "ename": "TypeError",
     "evalue": "'tuple' object does not support item assignment",
     "output_type": "error",
     "traceback": [
      "\u001b[1;31m---------------------------------------------------------------------------\u001b[0m",
      "\u001b[1;31mTypeError\u001b[0m                                 Traceback (most recent call last)",
      "Cell \u001b[1;32mIn[352], line 1\u001b[0m\n\u001b[1;32m----> 1\u001b[0m mytuple[\u001b[38;5;241m0\u001b[39m]\u001b[38;5;241m=\u001b[39m\u001b[38;5;241m1\u001b[39m\n",
      "\u001b[1;31mTypeError\u001b[0m: 'tuple' object does not support item assignment"
     ]
    }
   ],
   "source": [
    "mytuple[0]=1 # can't cange value cz tuples are immmutable"
   ]
  },
  {
   "cell_type": "code",
   "execution_count": 354,
   "id": "57f8e892-361f-4486-8be2-7594c7d4b92d",
   "metadata": {},
   "outputs": [],
   "source": [
    "del mytuple # happens cz it will dlt all tuple not happens (remove,clear)"
   ]
  },
  {
   "cell_type": "markdown",
   "id": "ee5c2c92-6109-413a-828c-8a00bb95f6fe",
   "metadata": {},
   "source": [
    " # count"
   ]
  },
  {
   "cell_type": "code",
   "execution_count": 357,
   "id": "bc5417fe-533c-43db-8261-c4033eef4ed6",
   "metadata": {},
   "outputs": [],
   "source": [
    "mytuple1=('one' , 'two' , 'three' ,\n",
    "           'four' , 'five' , 'six' , 'seven' , 'eight')"
   ]
  },
  {
   "cell_type": "code",
   "execution_count": 359,
   "id": "e6f949eb-d21b-4397-a058-1110bb23503f",
   "metadata": {},
   "outputs": [
    {
     "data": {
      "text/plain": [
       "1"
      ]
     },
     "execution_count": 359,
     "metadata": {},
     "output_type": "execute_result"
    }
   ],
   "source": [
    "mytuple1.count('one') # it will count how many 'one' cames"
   ]
  },
  {
   "cell_type": "code",
   "execution_count": 361,
   "id": "03e71ebb-a0c7-4e73-b4e6-3c8c7bee4770",
   "metadata": {},
   "outputs": [
    {
     "data": {
      "text/plain": [
       "1"
      ]
     },
     "execution_count": 361,
     "metadata": {},
     "output_type": "execute_result"
    }
   ],
   "source": [
    "mytuple1.index('two') #it will give two index"
   ]
  },
  {
   "cell_type": "markdown",
   "id": "4dc69b81-6143-4689-8dce-f9915d602432",
   "metadata": {},
   "source": [
    "## tuple memebership"
   ]
  },
  {
   "cell_type": "code",
   "execution_count": 364,
   "id": "81b4f295-7006-4aaf-91b3-1a971afa13e9",
   "metadata": {},
   "outputs": [
    {
     "data": {
      "text/plain": [
       "('one', 'two', 'three', 'four', 'five', 'six', 'seven', 'eight')"
      ]
     },
     "execution_count": 364,
     "metadata": {},
     "output_type": "execute_result"
    }
   ],
   "source": [
    "mytuple1"
   ]
  },
  {
   "cell_type": "code",
   "execution_count": 366,
   "id": "72fd118d-c13e-4809-a758-b628c7fa2f46",
   "metadata": {},
   "outputs": [
    {
     "data": {
      "text/plain": [
       "False"
      ]
     },
     "execution_count": 366,
     "metadata": {},
     "output_type": "execute_result"
    }
   ],
   "source": [
    "'80' in mytuple1 #check 80 exist or not"
   ]
  },
  {
   "cell_type": "markdown",
   "id": "d4acb200-273e-42a7-983a-f85381742c63",
   "metadata": {},
   "source": [
    "# Sorting"
   ]
  },
  {
   "cell_type": "code",
   "execution_count": 369,
   "id": "0dd679a1-e1d4-46e4-a9d6-9e9929937d91",
   "metadata": {},
   "outputs": [],
   "source": [
    "mytuple2 = (43,67,99,12,6,90,67)"
   ]
  },
  {
   "cell_type": "code",
   "execution_count": 371,
   "id": "6b7a084f-075a-476b-ad34-89d77f98ee04",
   "metadata": {},
   "outputs": [
    {
     "data": {
      "text/plain": [
       "(43, 67, 99, 12, 6, 90, 67)"
      ]
     },
     "execution_count": 371,
     "metadata": {},
     "output_type": "execute_result"
    }
   ],
   "source": [
    "mytuple2"
   ]
  },
  {
   "cell_type": "code",
   "execution_count": 373,
   "id": "a4edb2ae-0649-4569-ad27-f0a46b91781a",
   "metadata": {},
   "outputs": [
    {
     "data": {
      "text/plain": [
       "tuple"
      ]
     },
     "execution_count": 373,
     "metadata": {},
     "output_type": "execute_result"
    }
   ],
   "source": [
    "type(mytuple2)"
   ]
  },
  {
   "cell_type": "code",
   "execution_count": 375,
   "id": "d349119e-600a-4714-be8a-dd874ebb23cc",
   "metadata": {},
   "outputs": [
    {
     "data": {
      "text/plain": [
       "[6, 12, 43, 67, 67, 90, 99]"
      ]
     },
     "execution_count": 375,
     "metadata": {},
     "output_type": "execute_result"
    }
   ],
   "source": [
    "sorted(mytuple2)  #sort elemenst in asc order"
   ]
  },
  {
   "cell_type": "code",
   "execution_count": 389,
   "id": "9de2870b-e579-4e02-bd4e-11bda6867948",
   "metadata": {},
   "outputs": [
    {
     "data": {
      "text/plain": [
       "[99, 90, 67, 67, 43, 12, 6]"
      ]
     },
     "execution_count": 389,
     "metadata": {},
     "output_type": "execute_result"
    }
   ],
   "source": [
    "sorted(mytuple2, reverse= True) #reverse order by sorting"
   ]
  },
  {
   "cell_type": "code",
   "execution_count": 387,
   "id": "3442ba47-4632-4ad6-af7a-482352a8dfb5",
   "metadata": {},
   "outputs": [
    {
     "data": {
      "text/plain": [
       "(43, 67, 99, 12, 6, 90, 67)"
      ]
     },
     "execution_count": 387,
     "metadata": {},
     "output_type": "execute_result"
    }
   ],
   "source": [
    "mytuple2"
   ]
  },
  {
   "cell_type": "code",
   "execution_count": 383,
   "id": "66e83e10-96fc-4b27-90ab-8ba1cf1c3d0c",
   "metadata": {},
   "outputs": [
    {
     "data": {
      "text/plain": [
       "(67, 90, 6, 12, 99, 67, 43)"
      ]
     },
     "execution_count": 383,
     "metadata": {},
     "output_type": "execute_result"
    }
   ],
   "source": [
    "mytuple2[::-1]"
   ]
  },
  {
   "cell_type": "code",
   "execution_count": 391,
   "id": "19c4e2b0-a635-40d9-99eb-15d3f2ec9731",
   "metadata": {},
   "outputs": [
    {
     "data": {
      "text/plain": [
       "[6, 12, 43, 67, 67, 90, 99]"
      ]
     },
     "execution_count": 391,
     "metadata": {},
     "output_type": "execute_result"
    }
   ],
   "source": [
    "sorted(mytuple2, reverse= False)"
   ]
  },
  {
   "cell_type": "markdown",
   "id": "c789be6f-2c5b-4a68-98e6-98fa18f20817",
   "metadata": {},
   "source": [
    " # Sets"
   ]
  },
  {
   "cell_type": "code",
   "execution_count": 396,
   "id": "bde367eb-27f0-4b5d-9d67-48d126d985c4",
   "metadata": {},
   "outputs": [],
   "source": [
    "myset1={} # Empty set cannot be created by curly braces"
   ]
  },
  {
   "cell_type": "code",
   "execution_count": 398,
   "id": "2d669a16-0486-4aa0-9602-d72e18d872eb",
   "metadata": {},
   "outputs": [
    {
     "data": {
      "text/plain": [
       "{}"
      ]
     },
     "execution_count": 398,
     "metadata": {},
     "output_type": "execute_result"
    }
   ],
   "source": [
    "myset1"
   ]
  },
  {
   "cell_type": "code",
   "execution_count": 400,
   "id": "6daf5e62-16f9-42c2-81b5-c238cee199da",
   "metadata": {},
   "outputs": [
    {
     "data": {
      "text/plain": [
       "dict"
      ]
     },
     "execution_count": 400,
     "metadata": {},
     "output_type": "execute_result"
    }
   ],
   "source": [
    "type(myset1)"
   ]
  },
  {
   "cell_type": "code",
   "execution_count": 402,
   "id": "a60b081b-c7ba-4c40-9d5f-d17a2e672971",
   "metadata": {},
   "outputs": [
    {
     "data": {
      "text/plain": [
       "set()"
      ]
     },
     "execution_count": 402,
     "metadata": {},
     "output_type": "execute_result"
    }
   ],
   "source": [
    "myset = set() # crt empty set\n",
    "myset"
   ]
  },
  {
   "cell_type": "code",
   "execution_count": 404,
   "id": "164aba45-d8c3-489b-9f81-5209524a76ec",
   "metadata": {},
   "outputs": [
    {
     "data": {
      "text/plain": [
       "{1, 2, 3, 4, 5}"
      ]
     },
     "execution_count": 404,
     "metadata": {},
     "output_type": "execute_result"
    }
   ],
   "source": [
    "myset={1,2,3,4,5}\n",
    "myset"
   ]
  },
  {
   "cell_type": "code",
   "execution_count": 406,
   "id": "26389efa-f816-4d85-9116-7f55fd0a93b0",
   "metadata": {},
   "outputs": [
    {
     "data": {
      "text/plain": [
       "set"
      ]
     },
     "execution_count": 406,
     "metadata": {},
     "output_type": "execute_result"
    }
   ],
   "source": [
    "type(myset)"
   ]
  },
  {
   "cell_type": "code",
   "execution_count": 408,
   "id": "9158a762-3faf-4f03-87f9-7aa64364b566",
   "metadata": {},
   "outputs": [
    {
     "data": {
      "text/plain": [
       "5"
      ]
     },
     "execution_count": 408,
     "metadata": {},
     "output_type": "execute_result"
    }
   ],
   "source": [
    "len(myset)"
   ]
  },
  {
   "cell_type": "code",
   "execution_count": 410,
   "id": "ebfa4d59-312b-44e6-b8ce-4a8bd37d8ae1",
   "metadata": {},
   "outputs": [],
   "source": [
    "my_set ={1,2,1,2,1,2,3,3,5,5,6,6}"
   ]
  },
  {
   "cell_type": "code",
   "execution_count": 412,
   "id": "fd34ffe0-68ac-434a-a07a-8744abdbc43b",
   "metadata": {},
   "outputs": [
    {
     "data": {
      "text/plain": [
       "{1, 2, 3, 5, 6}"
      ]
     },
     "execution_count": 412,
     "metadata": {},
     "output_type": "execute_result"
    }
   ],
   "source": [
    "my_set"
   ]
  },
  {
   "cell_type": "code",
   "execution_count": 414,
   "id": "19db8294-b80c-474f-8bff-b8654d18c046",
   "metadata": {},
   "outputs": [
    {
     "data": {
      "text/plain": [
       "5"
      ]
     },
     "execution_count": 414,
     "metadata": {},
     "output_type": "execute_result"
    }
   ],
   "source": [
    "len(my_set)"
   ]
  },
  {
   "cell_type": "code",
   "execution_count": 416,
   "id": "29d76a86-ed9a-409f-a606-16902406d8b3",
   "metadata": {},
   "outputs": [
    {
     "data": {
      "text/plain": [
       "{1.89, 2.89, 4.89, 90.88}"
      ]
     },
     "execution_count": 416,
     "metadata": {},
     "output_type": "execute_result"
    }
   ],
   "source": [
    "myset1 = {1.89,2.89,4.89,90.88}\n",
    "myset1"
   ]
  },
  {
   "cell_type": "code",
   "execution_count": 418,
   "id": "e61d03e0-26d8-424a-a29f-2a9e4111c603",
   "metadata": {},
   "outputs": [],
   "source": [
    "myset2={'Data','John','tyrion','John'}"
   ]
  },
  {
   "cell_type": "code",
   "execution_count": 420,
   "id": "a2c13715-e87e-49f2-af06-ec6e7fc9e3fe",
   "metadata": {},
   "outputs": [
    {
     "data": {
      "text/plain": [
       "{'Data', 'John', 'tyrion'}"
      ]
     },
     "execution_count": 420,
     "metadata": {},
     "output_type": "execute_result"
    }
   ],
   "source": [
    "myset2"
   ]
  },
  {
   "cell_type": "code",
   "execution_count": 422,
   "id": "b40c11de-17d6-4a73-a707-7de0af6b230e",
   "metadata": {},
   "outputs": [],
   "source": [
    "myset3 = {(11,22,32),10,20,\"Hola\"}"
   ]
  },
  {
   "cell_type": "code",
   "execution_count": 424,
   "id": "8217d0a3-bf35-402b-be6b-ad420cc9ccd8",
   "metadata": {},
   "outputs": [
    {
     "data": {
      "text/plain": [
       "{(11, 22, 32), 10, 20, 'Hola'}"
      ]
     },
     "execution_count": 424,
     "metadata": {},
     "output_type": "execute_result"
    }
   ],
   "source": [
    "myset3"
   ]
  },
  {
   "cell_type": "code",
   "execution_count": 426,
   "id": "c23e704d-c965-44b1-852c-cc71b67f9163",
   "metadata": {},
   "outputs": [
    {
     "data": {
      "text/plain": [
       "set"
      ]
     },
     "execution_count": 426,
     "metadata": {},
     "output_type": "execute_result"
    }
   ],
   "source": [
    "type(myset3)"
   ]
  },
  {
   "cell_type": "markdown",
   "id": "fdf6e319-676c-4d9f-9796-7d468a8005c0",
   "metadata": {},
   "source": [
    "# Set membership"
   ]
  },
  {
   "cell_type": "code",
   "execution_count": 429,
   "id": "8090a09d-b340-427e-a394-52967f24ce16",
   "metadata": {},
   "outputs": [],
   "source": [
    "myset = {'one','two','three', 'four', 'five', 'six',\n",
    "         'seven', 'eight'}"
   ]
  },
  {
   "cell_type": "code",
   "execution_count": 431,
   "id": "a9bd1080-4b93-4b61-9600-e06bd9a14a6f",
   "metadata": {},
   "outputs": [
    {
     "data": {
      "text/plain": [
       "{'eight', 'five', 'four', 'one', 'seven', 'six', 'three', 'two'}"
      ]
     },
     "execution_count": 431,
     "metadata": {},
     "output_type": "execute_result"
    }
   ],
   "source": [
    "myset"
   ]
  },
  {
   "cell_type": "code",
   "execution_count": 433,
   "id": "de7015c0-d832-49ac-961c-5bd7f97fc8fb",
   "metadata": {},
   "outputs": [
    {
     "data": {
      "text/plain": [
       "False"
      ]
     },
     "execution_count": 433,
     "metadata": {},
     "output_type": "execute_result"
    }
   ],
   "source": [
    "'nine' in myset"
   ]
  },
  {
   "cell_type": "markdown",
   "id": "3e4ffaa1-1c06-4741-aa27-82c84c2f8163",
   "metadata": {},
   "source": [
    "# Add & Remove items"
   ]
  },
  {
   "cell_type": "code",
   "execution_count": 438,
   "id": "229f70b9-585c-4052-af49-dc8cd54cfdb7",
   "metadata": {},
   "outputs": [],
   "source": [
    "myset ={2,3,4}"
   ]
  },
  {
   "cell_type": "code",
   "execution_count": 440,
   "id": "18716237-97fd-4870-9891-35e9fc47f1f4",
   "metadata": {},
   "outputs": [
    {
     "data": {
      "text/plain": [
       "{2, 3, 4, '9'}"
      ]
     },
     "execution_count": 440,
     "metadata": {},
     "output_type": "execute_result"
    }
   ],
   "source": [
    "myset.add('9')\n",
    "myset"
   ]
  },
  {
   "cell_type": "code",
   "execution_count": 444,
   "id": "41b915ac-57cc-4027-9b5a-13eb10c76352",
   "metadata": {},
   "outputs": [
    {
     "ename": "TypeError",
     "evalue": "'set' object is not subscriptable",
     "output_type": "error",
     "traceback": [
      "\u001b[1;31m---------------------------------------------------------------------------\u001b[0m",
      "\u001b[1;31mTypeError\u001b[0m                                 Traceback (most recent call last)",
      "Cell \u001b[1;32mIn[444], line 1\u001b[0m\n\u001b[1;32m----> 1\u001b[0m myset[\u001b[38;5;241m1\u001b[39m]\n",
      "\u001b[1;31mTypeError\u001b[0m: 'set' object is not subscriptable"
     ]
    }
   ],
   "source": [
    "myset[1] # idexinf not supported"
   ]
  },
  {
   "cell_type": "code",
   "execution_count": 446,
   "id": "4a0ea86e-f523-4042-b447-a2e176c08411",
   "metadata": {},
   "outputs": [
    {
     "data": {
      "text/plain": [
       "{2, 3, 4, '9', 'ELEVEN', 'TEN', 'TWELVE'}"
      ]
     },
     "execution_count": 446,
     "metadata": {},
     "output_type": "execute_result"
    }
   ],
   "source": [
    "myset.update(['TEN','ELEVEN','TWELVE'])\n",
    "myset"
   ]
  },
  {
   "cell_type": "code",
   "execution_count": 448,
   "id": "8db65288-3987-48de-b524-0bc6524e2dc2",
   "metadata": {},
   "outputs": [
    {
     "data": {
      "text/plain": [
       "'ELEVEN'"
      ]
     },
     "execution_count": 448,
     "metadata": {},
     "output_type": "execute_result"
    }
   ],
   "source": [
    "# delete random element\n",
    "myset.pop()"
   ]
  },
  {
   "cell_type": "code",
   "execution_count": 450,
   "id": "ff722e3e-0ee7-4bc9-81dd-630ee0cddc3b",
   "metadata": {},
   "outputs": [],
   "source": [
    "myset.remove(2)"
   ]
  },
  {
   "cell_type": "code",
   "execution_count": 452,
   "id": "1e905a5c-7016-492a-a1d3-90d4b60ff6a7",
   "metadata": {},
   "outputs": [
    {
     "data": {
      "text/plain": [
       "{3, 4, '9', 'TEN', 'TWELVE'}"
      ]
     },
     "execution_count": 452,
     "metadata": {},
     "output_type": "execute_result"
    }
   ],
   "source": [
    "myset"
   ]
  },
  {
   "cell_type": "code",
   "execution_count": 454,
   "id": "4ee6de1b-19cb-45d5-8a89-4e2c151d9aec",
   "metadata": {},
   "outputs": [
    {
     "data": {
      "text/plain": [
       "{3, 4, 'TEN', 'TWELVE'}"
      ]
     },
     "execution_count": 454,
     "metadata": {},
     "output_type": "execute_result"
    }
   ],
   "source": [
    "myset.discard('9')#it will also remove by taking value similar to remove\n",
    "myset"
   ]
  },
  {
   "cell_type": "code",
   "execution_count": 456,
   "id": "6495f48e-ef9b-4278-8f2b-1b1951dd29ca",
   "metadata": {},
   "outputs": [],
   "source": [
    "myset.add('Eleven')"
   ]
  },
  {
   "cell_type": "code",
   "execution_count": 458,
   "id": "412768a5-b809-435c-b97f-57264818adeb",
   "metadata": {},
   "outputs": [
    {
     "data": {
      "text/plain": [
       "{3, 4, 'Eleven', 'TEN', 'TWELVE'}"
      ]
     },
     "execution_count": 458,
     "metadata": {},
     "output_type": "execute_result"
    }
   ],
   "source": [
    "myset"
   ]
  },
  {
   "cell_type": "code",
   "execution_count": 460,
   "id": "069335e1-e5d9-44e5-9340-7d0b60c08826",
   "metadata": {},
   "outputs": [
    {
     "data": {
      "text/plain": [
       "'Eleven'"
      ]
     },
     "execution_count": 460,
     "metadata": {},
     "output_type": "execute_result"
    }
   ],
   "source": [
    "myset.pop()"
   ]
  },
  {
   "cell_type": "code",
   "execution_count": 462,
   "id": "1ca92ca2-eb57-44f8-b41a-cf29aa158a3c",
   "metadata": {},
   "outputs": [],
   "source": [
    "myset.add('Delete')"
   ]
  },
  {
   "cell_type": "code",
   "execution_count": 464,
   "id": "c74076a3-5896-47be-b8ea-58ccdfc5d6f7",
   "metadata": {},
   "outputs": [
    {
     "data": {
      "text/plain": [
       "3"
      ]
     },
     "execution_count": 464,
     "metadata": {},
     "output_type": "execute_result"
    }
   ],
   "source": [
    "myset.pop()"
   ]
  },
  {
   "cell_type": "code",
   "execution_count": 466,
   "id": "42d71bd7-ae12-434f-958b-f7791dbda603",
   "metadata": {},
   "outputs": [
    {
     "data": {
      "text/plain": [
       "{4, 'Delete', 'TEN', 'TWELVE'}"
      ]
     },
     "execution_count": 466,
     "metadata": {},
     "output_type": "execute_result"
    }
   ],
   "source": [
    "myset"
   ]
  },
  {
   "cell_type": "code",
   "execution_count": 470,
   "id": "2b9ddf24-d256-468c-9082-2c8df0818ffb",
   "metadata": {},
   "outputs": [
    {
     "data": {
      "text/plain": [
       "set()"
      ]
     },
     "execution_count": 470,
     "metadata": {},
     "output_type": "execute_result"
    }
   ],
   "source": [
    "myset.clear()\n",
    "myset"
   ]
  },
  {
   "cell_type": "code",
   "execution_count": 472,
   "id": "c9833e31-2843-4faa-a449-a77f60776cd9",
   "metadata": {},
   "outputs": [],
   "source": [
    "del myset"
   ]
  },
  {
   "cell_type": "code",
   "execution_count": 474,
   "id": "1f78b5b2-2e77-4321-9683-0e21bfb31356",
   "metadata": {},
   "outputs": [
    {
     "ename": "NameError",
     "evalue": "name 'myset' is not defined",
     "output_type": "error",
     "traceback": [
      "\u001b[1;31m---------------------------------------------------------------------------\u001b[0m",
      "\u001b[1;31mNameError\u001b[0m                                 Traceback (most recent call last)",
      "Cell \u001b[1;32mIn[474], line 1\u001b[0m\n\u001b[1;32m----> 1\u001b[0m myset\n",
      "\u001b[1;31mNameError\u001b[0m: name 'myset' is not defined"
     ]
    }
   ],
   "source": [
    "myset"
   ]
  },
  {
   "cell_type": "markdown",
   "id": "46c8a528-a929-4c8f-9b3f-a82e0dbfee9c",
   "metadata": {},
   "source": [
    "# Set operation"
   ]
  },
  {
   "cell_type": "code",
   "execution_count": 479,
   "id": "0fbe2666-11ad-4337-8100-509b345feb69",
   "metadata": {},
   "outputs": [],
   "source": [
    "A = {1,2,3,4,5}\n",
    "B = {4,5,6,7,8}\n",
    "C =  {8,9,10}"
   ]
  },
  {
   "cell_type": "code",
   "execution_count": 481,
   "id": "0d3c1403-0b18-4afc-a48d-de8e34b167b6",
   "metadata": {},
   "outputs": [
    {
     "data": {
      "text/plain": [
       "{1, 2, 3, 4, 5, 6, 7, 8}"
      ]
     },
     "execution_count": 481,
     "metadata": {},
     "output_type": "execute_result"
    }
   ],
   "source": [
    "A.union(B) #union of A & B"
   ]
  },
  {
   "cell_type": "code",
   "execution_count": 483,
   "id": "f95dc286-81ae-41ef-8c3f-00c915039e25",
   "metadata": {},
   "outputs": [
    {
     "data": {
      "text/plain": [
       "{1, 2, 3, 4, 5, 6, 7, 8}"
      ]
     },
     "execution_count": 483,
     "metadata": {},
     "output_type": "execute_result"
    }
   ],
   "source": [
    "B.union(A)"
   ]
  },
  {
   "cell_type": "code",
   "execution_count": 485,
   "id": "2183c6ff-1096-42e3-8e7d-41812e7ded0a",
   "metadata": {},
   "outputs": [
    {
     "name": "stdout",
     "output_type": "stream",
     "text": [
      "{1, 2, 3, 4, 5, 6, 7, 8}\n"
     ]
    }
   ],
   "source": [
    "print(A | B) #it is also union"
   ]
  },
  {
   "cell_type": "code",
   "execution_count": 487,
   "id": "708914b6-e7c0-4b5d-b760-849c13ba0db2",
   "metadata": {},
   "outputs": [
    {
     "data": {
      "text/plain": [
       "{1, 2, 3, 4, 5, 6, 7, 8, 9, 10}"
      ]
     },
     "execution_count": 487,
     "metadata": {},
     "output_type": "execute_result"
    }
   ],
   "source": [
    "A.union(B,C)"
   ]
  },
  {
   "cell_type": "code",
   "execution_count": 489,
   "id": "32718dce-15e2-42bc-8361-5965693a44d9",
   "metadata": {},
   "outputs": [
    {
     "data": {
      "text/plain": [
       "{4, 5}"
      ]
     },
     "execution_count": 489,
     "metadata": {},
     "output_type": "execute_result"
    }
   ],
   "source": [
    "A.intersection(B) #intersection"
   ]
  },
  {
   "cell_type": "code",
   "execution_count": 491,
   "id": "27e7b670-b896-4b1d-9c95-48ba85b9187e",
   "metadata": {},
   "outputs": [
    {
     "name": "stdout",
     "output_type": "stream",
     "text": [
      "{4, 5}\n"
     ]
    }
   ],
   "source": [
    "print(A & B)"
   ]
  },
  {
   "cell_type": "code",
   "execution_count": 493,
   "id": "d152d84a-b79f-460c-a167-e7824fa7c31b",
   "metadata": {},
   "outputs": [
    {
     "data": {
      "text/plain": [
       "{1, 2, 3}"
      ]
     },
     "execution_count": 493,
     "metadata": {},
     "output_type": "execute_result"
    }
   ],
   "source": [
    "A.difference(B)"
   ]
  },
  {
   "cell_type": "raw",
   "id": "956356e5-132c-432a-aeaa-707943bb2df4",
   "metadata": {},
   "source": [
    "B.difference(A)"
   ]
  },
  {
   "cell_type": "code",
   "execution_count": 497,
   "id": "372256f6-18c7-424b-a6af-ac9a6f9a4797",
   "metadata": {},
   "outputs": [],
   "source": [
    "str = {\"A\",\"B\",\"C\",\"D\"}\n",
    "str1 = {\"C\",\"D\",\"E\",\"F\"}\n",
    "str2 = {\"F\",\"G\",\"H\"}"
   ]
  },
  {
   "cell_type": "code",
   "execution_count": 499,
   "id": "0f6a484f-1225-4988-bdda-636675cc0122",
   "metadata": {},
   "outputs": [
    {
     "data": {
      "text/plain": [
       "{'E', 'F'}"
      ]
     },
     "execution_count": 499,
     "metadata": {},
     "output_type": "execute_result"
    }
   ],
   "source": [
    "str1.difference(str)"
   ]
  },
  {
   "cell_type": "code",
   "execution_count": 501,
   "id": "acdbca19-56fe-4ffe-952b-3a11ed0b35f1",
   "metadata": {},
   "outputs": [
    {
     "data": {
      "text/plain": [
       "{'A', 'B'}"
      ]
     },
     "execution_count": 501,
     "metadata": {},
     "output_type": "execute_result"
    }
   ],
   "source": [
    "str.difference(str1)"
   ]
  },
  {
   "cell_type": "code",
   "execution_count": 503,
   "id": "c7fc806e-843c-43ae-95dc-7b4595fe0964",
   "metadata": {},
   "outputs": [
    {
     "name": "stdout",
     "output_type": "stream",
     "text": [
      "{'C', 'D'}\n"
     ]
    }
   ],
   "source": [
    "print(str & str1)"
   ]
  },
  {
   "cell_type": "code",
   "execution_count": 505,
   "id": "abd3d90f-dcc4-4171-8a73-515cc011acf3",
   "metadata": {},
   "outputs": [
    {
     "data": {
      "text/plain": [
       "{'C', 'D'}"
      ]
     },
     "execution_count": 505,
     "metadata": {},
     "output_type": "execute_result"
    }
   ],
   "source": [
    "str.intersection(str1)"
   ]
  },
  {
   "cell_type": "code",
   "execution_count": 507,
   "id": "666de953-90fb-42de-824d-d6e1ee0c54b5",
   "metadata": {},
   "outputs": [
    {
     "data": {
      "text/plain": [
       "{'A', 'B', 'C', 'D', 'E', 'F'}"
      ]
     },
     "execution_count": 507,
     "metadata": {},
     "output_type": "execute_result"
    }
   ],
   "source": [
    "str.union(str1)"
   ]
  },
  {
   "cell_type": "code",
   "execution_count": 509,
   "id": "cb8b6f10-5f36-4f1f-8dcb-38c9d2ead32c",
   "metadata": {},
   "outputs": [
    {
     "data": {
      "text/plain": [
       "{'A', 'B', 'C', 'D', 'E', 'F'}"
      ]
     },
     "execution_count": 509,
     "metadata": {},
     "output_type": "execute_result"
    }
   ],
   "source": [
    "str1.union(str)"
   ]
  },
  {
   "cell_type": "code",
   "execution_count": 519,
   "id": "8e888a51-b60d-4f20-a0a6-5e31f4d64221",
   "metadata": {},
   "outputs": [
    {
     "name": "stdout",
     "output_type": "stream",
     "text": [
      "{'B', 'A', 'C', 'D'}\n",
      "{'F', 'C', 'D', 'E'}\n",
      "{'G', 'H', 'F'}\n"
     ]
    }
   ],
   "source": [
    "print(str)\n",
    "print(str1)\n",
    "print(str2)"
   ]
  },
  {
   "cell_type": "code",
   "execution_count": 521,
   "id": "13efea97-9335-499d-9c9f-0fb724640138",
   "metadata": {},
   "outputs": [
    {
     "name": "stdout",
     "output_type": "stream",
     "text": [
      "{1, 2, 3, 4, 5}\n",
      "{4, 5, 6, 7, 8}\n",
      "{8, 9, 10}\n"
     ]
    }
   ],
   "source": [
    "print(A)\n",
    "print(B)\n",
    "print(C)"
   ]
  },
  {
   "cell_type": "markdown",
   "id": "c96e65df-4631-4acf-b5ce-3648da95d614",
   "metadata": {},
   "source": [
    "# Dictionary"
   ]
  },
  {
   "cell_type": "code",
   "execution_count": 524,
   "id": "359bb137-5bf7-4cd7-bf1c-1d11f4747421",
   "metadata": {},
   "outputs": [],
   "source": [
    "# crt diectionary \n",
    "d = {}"
   ]
  },
  {
   "cell_type": "code",
   "execution_count": 526,
   "id": "a15df155-d023-47b9-8e63-a8400889f2ca",
   "metadata": {},
   "outputs": [
    {
     "data": {
      "text/plain": [
       "dict"
      ]
     },
     "execution_count": 526,
     "metadata": {},
     "output_type": "execute_result"
    }
   ],
   "source": [
    "type(d)"
   ]
  },
  {
   "cell_type": "code",
   "execution_count": 528,
   "id": "7998a72c-59d1-42ab-885e-37ca6386463c",
   "metadata": {},
   "outputs": [],
   "source": [
    "mydict=dict()"
   ]
  },
  {
   "cell_type": "code",
   "execution_count": 530,
   "id": "0315e006-6a8b-4de6-9c49-adb599614a36",
   "metadata": {},
   "outputs": [
    {
     "data": {
      "text/plain": [
       "{}"
      ]
     },
     "execution_count": 530,
     "metadata": {},
     "output_type": "execute_result"
    }
   ],
   "source": [
    "mydict"
   ]
  },
  {
   "cell_type": "code",
   "execution_count": 532,
   "id": "ae52e0ca-0524-4ddd-922b-6ed0e882284a",
   "metadata": {},
   "outputs": [
    {
     "data": {
      "text/plain": [
       "dict"
      ]
     },
     "execution_count": 532,
     "metadata": {},
     "output_type": "execute_result"
    }
   ],
   "source": [
    "type(mydict)"
   ]
  },
  {
   "cell_type": "code",
   "execution_count": 534,
   "id": "a240a11c-e8df-40bc-8d65-f609f8592359",
   "metadata": {},
   "outputs": [
    {
     "data": {
      "text/plain": [
       "{1: 'one', 2: 'two', 3: 'three'}"
      ]
     },
     "execution_count": 534,
     "metadata": {},
     "output_type": "execute_result"
    }
   ],
   "source": [
    "mydict = {1:'one',2:'two',3:'three'}\n",
    "mydict"
   ]
  },
  {
   "cell_type": "code",
   "execution_count": 536,
   "id": "57f6b17a-abd4-460d-ab51-5f0efee9f1d1",
   "metadata": {},
   "outputs": [
    {
     "data": {
      "text/plain": [
       "dict"
      ]
     },
     "execution_count": 536,
     "metadata": {},
     "output_type": "execute_result"
    }
   ],
   "source": [
    "type(mydict)"
   ]
  },
  {
   "cell_type": "code",
   "execution_count": 538,
   "id": "d8e789aa-4f74-4b0a-b481-9d98b4651d12",
   "metadata": {},
   "outputs": [],
   "source": [
    "mydict = dict({1:'one',2:'two',3:'three'})"
   ]
  },
  {
   "cell_type": "code",
   "execution_count": 540,
   "id": "57d362b3-b3c8-4c75-baf5-976f348743c8",
   "metadata": {},
   "outputs": [
    {
     "data": {
      "text/plain": [
       "{1: 'one', 2: 'two', 3: 'three'}"
      ]
     },
     "execution_count": 540,
     "metadata": {},
     "output_type": "execute_result"
    }
   ],
   "source": [
    "mydict"
   ]
  },
  {
   "cell_type": "code",
   "execution_count": 542,
   "id": "f34fff88-cee9-4cf9-8546-d5e5b65502bd",
   "metadata": {},
   "outputs": [
    {
     "data": {
      "text/plain": [
       "dict_keys([1, 2, 3])"
      ]
     },
     "execution_count": 542,
     "metadata": {},
     "output_type": "execute_result"
    }
   ],
   "source": [
    "mydict.keys() # returnd all dict keys"
   ]
  },
  {
   "cell_type": "code",
   "execution_count": 544,
   "id": "c765f9a2-00a1-4800-9652-a2a34ccff833",
   "metadata": {},
   "outputs": [
    {
     "data": {
      "text/plain": [
       "dict_values(['one', 'two', 'three'])"
      ]
     },
     "execution_count": 544,
     "metadata": {},
     "output_type": "execute_result"
    }
   ],
   "source": [
    "mydict.values() # return all dict values"
   ]
  },
  {
   "cell_type": "code",
   "execution_count": 548,
   "id": "dc2ba4b2-261f-4eec-bfdb-63d5b1cc2bc2",
   "metadata": {},
   "outputs": [
    {
     "data": {
      "text/plain": [
       "dict_items([(1, 'one'), (2, 'two'), (3, 'three')])"
      ]
     },
     "execution_count": 548,
     "metadata": {},
     "output_type": "execute_result"
    }
   ],
   "source": [
    "mydict.items() #gievs all key and values access"
   ]
  },
  {
   "cell_type": "code",
   "execution_count": 550,
   "id": "56bb63b5-f456-427f-9d1e-2323691978de",
   "metadata": {},
   "outputs": [
    {
     "data": {
      "text/plain": [
       "{1: 'one', 2: 'two', 3: 'three'}"
      ]
     },
     "execution_count": 550,
     "metadata": {},
     "output_type": "execute_result"
    }
   ],
   "source": [
    "mydict"
   ]
  },
  {
   "cell_type": "code",
   "execution_count": 552,
   "id": "76c16d05-f5ec-4a01-b887-4bc29665db62",
   "metadata": {},
   "outputs": [
    {
     "data": {
      "text/plain": [
       "{1: 'one', 2: 'two', 'A': ['Data', 'John', 'Maria']}"
      ]
     },
     "execution_count": 552,
     "metadata": {},
     "output_type": "execute_result"
    }
   ],
   "source": [
    "mydict ={1:'one',2:'two','A':['Data','John','Maria']}\n",
    "mydict"
   ]
  },
  {
   "cell_type": "code",
   "execution_count": 554,
   "id": "717fa3ce-10ad-468d-8399-cf76bef41b10",
   "metadata": {},
   "outputs": [
    {
     "data": {
      "text/plain": [
       "'Maria'"
      ]
     },
     "execution_count": 554,
     "metadata": {},
     "output_type": "execute_result"
    }
   ],
   "source": [
    "mydict['A'][2]"
   ]
  },
  {
   "cell_type": "code",
   "execution_count": 556,
   "id": "76e34c67-ebb2-4540-ad6e-4662158ff039",
   "metadata": {},
   "outputs": [],
   "source": [
    "d={0:{'one':1,'two':2,'three':3,'four':4},\n",
    "  1:{'city':'banglore','area':'kudlu'},\n",
    "  'three':{'city':'mumbai','area':'dharavi'}}"
   ]
  },
  {
   "cell_type": "code",
   "execution_count": 558,
   "id": "89fc65f1-426d-4794-b45b-aaf82e82ce3d",
   "metadata": {},
   "outputs": [
    {
     "data": {
      "text/plain": [
       "{0: {'one': 1, 'two': 2, 'three': 3, 'four': 4},\n",
       " 1: {'city': 'banglore', 'area': 'kudlu'},\n",
       " 'three': {'city': 'mumbai', 'area': 'dharavi'}}"
      ]
     },
     "execution_count": 558,
     "metadata": {},
     "output_type": "execute_result"
    }
   ],
   "source": [
    "d"
   ]
  },
  {
   "cell_type": "code",
   "execution_count": 562,
   "id": "5a973689-2412-4b06-b9ab-d4d309b15bcf",
   "metadata": {},
   "outputs": [
    {
     "data": {
      "text/plain": [
       "'mumbai'"
      ]
     },
     "execution_count": 562,
     "metadata": {},
     "output_type": "execute_result"
    }
   ],
   "source": [
    "d['three']['city']"
   ]
  },
  {
   "cell_type": "code",
   "execution_count": 564,
   "id": "9fa4032b-51f3-4815-88db-51040a7a9df8",
   "metadata": {},
   "outputs": [
    {
     "data": {
      "text/plain": [
       "list"
      ]
     },
     "execution_count": 564,
     "metadata": {},
     "output_type": "execute_result"
    }
   ],
   "source": [
    "type(a)"
   ]
  },
  {
   "cell_type": "code",
   "execution_count": 566,
   "id": "be5d6592-007d-43ba-a0e3-7da3f307da48",
   "metadata": {},
   "outputs": [],
   "source": [
    "v = [0,1,2,3,[8,{5:[67,89,90,{'area':'kudlu','city':'banglore'}]}]]"
   ]
  },
  {
   "cell_type": "code",
   "execution_count": 568,
   "id": "2c868d98-a404-46a2-aa31-de43691fec17",
   "metadata": {},
   "outputs": [
    {
     "data": {
      "text/plain": [
       "[0, 1, 2, 3, [8, {5: [67, 89, 90, {'area': 'kudlu', 'city': 'banglore'}]}]]"
      ]
     },
     "execution_count": 568,
     "metadata": {},
     "output_type": "execute_result"
    }
   ],
   "source": [
    "v"
   ]
  },
  {
   "cell_type": "code",
   "execution_count": 575,
   "id": "2a8d8bd0-e184-4c22-9932-00d690e36c6f",
   "metadata": {},
   "outputs": [
    {
     "data": {
      "text/plain": [
       "[0, 1, 2, 3, [8, {5: [67, 89, 90, {'area': 'kudlu', 'city': 'banglore'}]}]]"
      ]
     },
     "execution_count": 575,
     "metadata": {},
     "output_type": "execute_result"
    }
   ],
   "source": [
    "# task extrcat banglore\n",
    "v"
   ]
  },
  {
   "cell_type": "code",
   "execution_count": 591,
   "id": "542bcb58-33ea-4589-98ab-784eeaa53b55",
   "metadata": {},
   "outputs": [
    {
     "data": {
      "text/plain": [
       "list"
      ]
     },
     "execution_count": 591,
     "metadata": {},
     "output_type": "execute_result"
    }
   ],
   "source": [
    "type(v)"
   ]
  },
  {
   "cell_type": "code",
   "execution_count": 629,
   "id": "01a5c91e-5043-41e1-ab46-24ab8134010f",
   "metadata": {},
   "outputs": [
    {
     "name": "stdout",
     "output_type": "stream",
     "text": [
      "[8, {5: [67, 89, 90, {'area': 'kudlu', 'city': 'banglore'}]}]\n",
      "{5: [67, 89, 90, {'area': 'kudlu', 'city': 'banglore'}]}\n",
      "[67, 89, 90, {'area': 'kudlu', 'city': 'banglore'}]\n",
      "{'area': 'kudlu', 'city': 'banglore'}\n",
      "banglore\n"
     ]
    }
   ],
   "source": [
    "print(v[4])\n",
    "print(v[4][1])\n",
    "print(v[4][1][5])\n",
    "print(v[4][1][5][3])\n",
    "print(v[4][1][5][3]['city'])"
   ]
  },
  {
   "cell_type": "code",
   "execution_count": 645,
   "id": "49a24a55-c4a2-4024-929c-4918b66f076e",
   "metadata": {},
   "outputs": [],
   "source": [
    "# task \n",
    "student = {\n",
    "           1:['rahul',24,'DA'],\n",
    "           2:['aditya',22,'DS'],\n",
    "           3:['sanket',26,'DS'],\n",
    "           4:['raghav',67,'Bussiness'],\n",
    "           5:['adi',35,'Science'],\n",
    "           6:['Empty',0,'NA']\n",
    "          }"
   ]
  },
  {
   "cell_type": "code",
   "execution_count": 647,
   "id": "5a728804-afc7-4635-89de-9ba8cc26f21b",
   "metadata": {},
   "outputs": [
    {
     "data": {
      "text/plain": [
       "{1: ['rahul', 24, 'DA'],\n",
       " 2: ['aditya', 22, 'DS'],\n",
       " 3: ['sanket', 26, 'DS'],\n",
       " 4: ['raghav', 67, 'Bussiness'],\n",
       " 5: ['adi', 35, 'Science'],\n",
       " 6: ['Empty', 0, 'NA']}"
      ]
     },
     "execution_count": 647,
     "metadata": {},
     "output_type": "execute_result"
    }
   ],
   "source": [
    "student"
   ]
  },
  {
   "cell_type": "code",
   "execution_count": 683,
   "id": "f9b3d02b-f041-4c20-bb60-66d007e1827e",
   "metadata": {},
   "outputs": [],
   "source": [
    "student1 = {\n",
    "            'roll_no':[1,2,3,4],\n",
    "            'name':['rahul','aditya','adi','sanket'],\n",
    "            'age':[25,23,24,26],\n",
    "            'course_details':['DA','DS','AI','FULL STACK']\n",
    "            }"
   ]
  },
  {
   "cell_type": "code",
   "execution_count": 685,
   "id": "20008c00-042b-4dd3-bafb-3199b79e1cb8",
   "metadata": {},
   "outputs": [
    {
     "name": "stdout",
     "output_type": "stream",
     "text": [
      "24\n"
     ]
    }
   ],
   "source": [
    "print(student1['age'][2])"
   ]
  },
  {
   "cell_type": "code",
   "execution_count": 701,
   "id": "9bced2b1-baab-4d79-b268-eb1a18f41e2f",
   "metadata": {},
   "outputs": [
    {
     "ename": "TypeError",
     "evalue": "unsupported operand type(s) for +: 'int' and 'str'",
     "output_type": "error",
     "traceback": [
      "\u001b[1;31m---------------------------------------------------------------------------\u001b[0m",
      "\u001b[1;31mTypeError\u001b[0m                                 Traceback (most recent call last)",
      "Cell \u001b[1;32mIn[701], line 5\u001b[0m\n\u001b[0;32m      1\u001b[0m \u001b[38;5;66;03m#student1['roll_no'][1]['name'][1]['age'][1]['course_details'][1]\u001b[39;00m\n\u001b[0;32m      2\u001b[0m \u001b[38;5;66;03m#student1['roll_no','name','age','course_details'][1]\u001b[39;00m\n\u001b[0;32m      3\u001b[0m \u001b[38;5;66;03m#student1[{['roll_no'][1]},{['name'][1]},{['age'][1]},{['course_details'][1]}]\u001b[39;00m\n\u001b[0;32m      4\u001b[0m \u001b[38;5;66;03m#student1{['roll_no','name','age','course_details']}\u001b[39;00m\n\u001b[1;32m----> 5\u001b[0m \u001b[38;5;28mprint\u001b[39m(student1[\u001b[38;5;124m'\u001b[39m\u001b[38;5;124mroll_no\u001b[39m\u001b[38;5;124m'\u001b[39m][\u001b[38;5;241m1\u001b[39m]\u001b[38;5;241m+\u001b[39mstudent1[\u001b[38;5;124m'\u001b[39m\u001b[38;5;124mname\u001b[39m\u001b[38;5;124m'\u001b[39m][\u001b[38;5;241m1\u001b[39m])\n",
      "\u001b[1;31mTypeError\u001b[0m: unsupported operand type(s) for +: 'int' and 'str'"
     ]
    }
   ],
   "source": [
    "#student1['roll_no'][1]['name'][1]['age'][1]['course_details'][1]\n",
    "#student1['roll_no','name','age','course_details'][1]\n",
    "#student1[{['roll_no'][1]},{['name'][1]},{['age'][1]},{['course_details'][1]}]\n",
    "#student1{['roll_no','name','age','course_details']}\n",
    "#roll_no, name, age = \n",
    "#student1['roll_no'][1], student1['name'][1], student1['age'][1]\n",
    "\n",
    "#print(roll_no, name, age)\n"
   ]
  },
  {
   "cell_type": "code",
   "execution_count": 707,
   "id": "d70696a5-2a09-410e-86cb-407d95228049",
   "metadata": {},
   "outputs": [
    {
     "name": "stdout",
     "output_type": "stream",
     "text": [
      "2 aditya DS\n"
     ]
    }
   ],
   "source": [
    "#roll_no,age,name,course_details= student1['roll_no'][1],\n",
    "                                ##student1['name'][1],\n",
    "                                #student1['course_details'][1]\n",
    "print(student1['roll_no'][1],student1['name'][1],student1['course_details'][1])"
   ]
  },
  {
   "cell_type": "markdown",
   "id": "020f1136-4952-4821-adf3-7e78af98340d",
   "metadata": {},
   "source": [
    "# Add, Remove & change items"
   ]
  },
  {
   "cell_type": "code",
   "execution_count": 710,
   "id": "a02fc0b9-1934-4b2a-a78b-c587104619e7",
   "metadata": {},
   "outputs": [
    {
     "data": {
      "text/plain": [
       "{'Name': ['Data', 'ABC'],\n",
       " 'ID': [12345, 12, 11],\n",
       " 'DOB': 1991,\n",
       " 'Address': 'HIHI'}"
      ]
     },
     "execution_count": 710,
     "metadata": {},
     "output_type": "execute_result"
    }
   ],
   "source": [
    "mydict1 = {'Name':['Data','ABC'],'ID':[12345,12,11],'DOB':1991,'Address':'HIHI'}\n",
    "mydict1"
   ]
  },
  {
   "cell_type": "code",
   "execution_count": 712,
   "id": "27656db4-ba3a-47c5-8a03-4a74c3f04561",
   "metadata": {},
   "outputs": [],
   "source": [
    "mydict1.update({'key':'value1'})"
   ]
  },
  {
   "cell_type": "code",
   "execution_count": 716,
   "id": "25be2347-3188-43f2-89c8-c5bb52aa0e70",
   "metadata": {},
   "outputs": [],
   "source": [
    "mydict1.update({'age':12,'std':2})"
   ]
  },
  {
   "cell_type": "code",
   "execution_count": 718,
   "id": "0ce0e4b5-5839-4ba8-8b9b-f69979353e92",
   "metadata": {},
   "outputs": [
    {
     "data": {
      "text/plain": [
       "{'Name': ['Data', 'ABC'],\n",
       " 'ID': [12345, 12, 11],\n",
       " 'DOB': 1991,\n",
       " 'Address': 'HIHI',\n",
       " 'key': 'value1',\n",
       " 'age': 12,\n",
       " 'std': 2,\n",
       " 'Job': 'Analyst'}"
      ]
     },
     "execution_count": 718,
     "metadata": {},
     "output_type": "execute_result"
    }
   ],
   "source": [
    "mydict1['Job']= 'Analyst'\n",
    "mydict1"
   ]
  },
  {
   "cell_type": "code",
   "execution_count": 720,
   "id": "4c367bba-0c73-44bd-be51-c5b22f9c04d8",
   "metadata": {},
   "outputs": [],
   "source": [
    "mydict1['ABC']=1"
   ]
  },
  {
   "cell_type": "code",
   "execution_count": 722,
   "id": "5ff7a9e6-aa75-4546-ac52-e02dec6d1d37",
   "metadata": {},
   "outputs": [
    {
     "data": {
      "text/plain": [
       "{'Name': ['Data', 'ABC'],\n",
       " 'ID': [12345, 12, 11],\n",
       " 'DOB': 1991,\n",
       " 'Address': 'HIHI',\n",
       " 'key': 'value1',\n",
       " 'age': 12,\n",
       " 'std': 2,\n",
       " 'Job': 'Analyst',\n",
       " 'ABC': 1}"
      ]
     },
     "execution_count": 722,
     "metadata": {},
     "output_type": "execute_result"
    }
   ],
   "source": [
    "mydict1"
   ]
  },
  {
   "cell_type": "code",
   "execution_count": 756,
   "id": "6e30f4fc-1ce0-44f9-a720-8f0cbbcaa801",
   "metadata": {},
   "outputs": [
    {
     "ename": "NameError",
     "evalue": "name 'mydict1' is not defined",
     "output_type": "error",
     "traceback": [
      "\u001b[1;31m---------------------------------------------------------------------------\u001b[0m",
      "\u001b[1;31mNameError\u001b[0m                                 Traceback (most recent call last)",
      "Cell \u001b[1;32mIn[756], line 2\u001b[0m\n\u001b[0;32m      1\u001b[0m \u001b[38;5;66;03m#mydict1['Name'].append('PQR')\u001b[39;00m\n\u001b[1;32m----> 2\u001b[0m mydict1[\u001b[38;5;124m'\u001b[39m\u001b[38;5;124mname\u001b[39m\u001b[38;5;124m'\u001b[39m]\u001b[38;5;241m.\u001b[39mappend(\u001b[38;5;241m1\u001b[39m)\n",
      "\u001b[1;31mNameError\u001b[0m: name 'mydict1' is not defined"
     ]
    }
   ],
   "source": [
    "#mydict1['Name'].append('PQR')\n",
    "mydict1['name'].append(1)"
   ]
  },
  {
   "cell_type": "code",
   "execution_count": 726,
   "id": "7c639387-ff45-4b33-99a1-028a9ebcba35",
   "metadata": {},
   "outputs": [],
   "source": [
    "mydict1['Name'].insert(1,'c')"
   ]
  },
  {
   "cell_type": "code",
   "execution_count": 728,
   "id": "b5c44daf-560b-48c3-b265-88ec2ed33f13",
   "metadata": {},
   "outputs": [],
   "source": [
    "mydict1['Name'].extend(['a','b'])"
   ]
  },
  {
   "cell_type": "code",
   "execution_count": 730,
   "id": "72cc687f-810a-419a-8cde-49f57e0ad542",
   "metadata": {},
   "outputs": [
    {
     "data": {
      "text/plain": [
       "{'Name': ['Data', 'c', 'ABC', 'PQR', 'a', 'b'],\n",
       " 'ID': [12345, 12, 11],\n",
       " 'DOB': 1991,\n",
       " 'Address': 'HIHI',\n",
       " 'key': 'value1',\n",
       " 'age': 12,\n",
       " 'std': 2,\n",
       " 'Job': 'Analyst',\n",
       " 'ABC': 1}"
      ]
     },
     "execution_count": 730,
     "metadata": {},
     "output_type": "execute_result"
    }
   ],
   "source": [
    "mydict1"
   ]
  },
  {
   "cell_type": "code",
   "execution_count": 732,
   "id": "4e194437-388c-43f9-a0a7-7c63ca2e4b38",
   "metadata": {},
   "outputs": [],
   "source": [
    "mydict1['name']=mydict1.pop('Name')"
   ]
  },
  {
   "cell_type": "code",
   "execution_count": 734,
   "id": "b0996d92-6f24-4377-8de2-4960e0229584",
   "metadata": {},
   "outputs": [
    {
     "data": {
      "text/plain": [
       "{'ID': [12345, 12, 11],\n",
       " 'DOB': 1991,\n",
       " 'Address': 'HIHI',\n",
       " 'key': 'value1',\n",
       " 'age': 12,\n",
       " 'std': 2,\n",
       " 'Job': 'Analyst',\n",
       " 'ABC': 1,\n",
       " 'name': ['Data', 'c', 'ABC', 'PQR', 'a', 'b']}"
      ]
     },
     "execution_count": 734,
     "metadata": {},
     "output_type": "execute_result"
    }
   ],
   "source": [
    "mydict1"
   ]
  },
  {
   "cell_type": "code",
   "execution_count": 736,
   "id": "9cae1a94-0187-4e13-8c6d-221d80daf626",
   "metadata": {},
   "outputs": [
    {
     "data": {
      "text/plain": [
       "{'ID': [12345, 12, 11],\n",
       " 'DOB': 1992,\n",
       " 'Address': 'HIHI',\n",
       " 'key': 'value1',\n",
       " 'age': 12,\n",
       " 'std': 2,\n",
       " 'Job': 'Analyst',\n",
       " 'ABC': 1,\n",
       " 'name': ['Data', 'c', 'ABC', 'PQR', 'a', 'b']}"
      ]
     },
     "execution_count": 736,
     "metadata": {},
     "output_type": "execute_result"
    }
   ],
   "source": [
    "mydict1['DOB']=1992\n",
    "mydict1"
   ]
  },
  {
   "cell_type": "code",
   "execution_count": 738,
   "id": "1b1cfe62-4554-4d9c-ab1a-dd05e166cbad",
   "metadata": {},
   "outputs": [],
   "source": [
    "del mydict1['ID'][1]"
   ]
  },
  {
   "cell_type": "code",
   "execution_count": 740,
   "id": "bc5ff1f7-e2e9-46bd-be51-ef09421d531e",
   "metadata": {},
   "outputs": [
    {
     "data": {
      "text/plain": [
       "{'ID': [12345, 11],\n",
       " 'DOB': 1992,\n",
       " 'Address': 'HIHI',\n",
       " 'key': 'value1',\n",
       " 'age': 12,\n",
       " 'std': 2,\n",
       " 'Job': 'Analyst',\n",
       " 'ABC': 1,\n",
       " 'name': ['Data', 'c', 'ABC', 'PQR', 'a', 'b']}"
      ]
     },
     "execution_count": 740,
     "metadata": {},
     "output_type": "execute_result"
    }
   ],
   "source": [
    "mydict1\n"
   ]
  },
  {
   "cell_type": "code",
   "execution_count": 742,
   "id": "b66e897b-87bd-4cb9-aa81-b63f4caf9a00",
   "metadata": {},
   "outputs": [
    {
     "data": {
      "text/plain": [
       "'value1'"
      ]
     },
     "execution_count": 742,
     "metadata": {},
     "output_type": "execute_result"
    }
   ],
   "source": [
    "mydict1.pop(\"key\")"
   ]
  },
  {
   "cell_type": "code",
   "execution_count": 744,
   "id": "a61e352d-45c9-4b6f-a0a1-e0de778c4f91",
   "metadata": {},
   "outputs": [],
   "source": [
    "del[mydict1['ID']]"
   ]
  },
  {
   "cell_type": "code",
   "execution_count": 746,
   "id": "ed174d17-a6ea-4fe3-a22d-0ea496945cba",
   "metadata": {},
   "outputs": [
    {
     "data": {
      "text/plain": [
       "{'DOB': 1992,\n",
       " 'Address': 'HIHI',\n",
       " 'age': 12,\n",
       " 'std': 2,\n",
       " 'Job': 'Analyst',\n",
       " 'ABC': 1,\n",
       " 'name': ['Data', 'c', 'ABC', 'PQR', 'a', 'b']}"
      ]
     },
     "execution_count": 746,
     "metadata": {},
     "output_type": "execute_result"
    }
   ],
   "source": [
    "mydict1"
   ]
  },
  {
   "cell_type": "code",
   "execution_count": 748,
   "id": "2a23c1c1-e8e4-4ed5-a7f5-77bb835736ae",
   "metadata": {},
   "outputs": [
    {
     "data": {
      "text/plain": [
       "{}"
      ]
     },
     "execution_count": 748,
     "metadata": {},
     "output_type": "execute_result"
    }
   ],
   "source": [
    "mydict1.clear()\n",
    "mydict1"
   ]
  },
  {
   "cell_type": "code",
   "execution_count": 750,
   "id": "3cdfcc75-9d3e-4261-8740-8005ebed590d",
   "metadata": {},
   "outputs": [
    {
     "ename": "NameError",
     "evalue": "name 'mydict1' is not defined",
     "output_type": "error",
     "traceback": [
      "\u001b[1;31m---------------------------------------------------------------------------\u001b[0m",
      "\u001b[1;31mNameError\u001b[0m                                 Traceback (most recent call last)",
      "Cell \u001b[1;32mIn[750], line 2\u001b[0m\n\u001b[0;32m      1\u001b[0m \u001b[38;5;28;01mdel\u001b[39;00m mydict1\n\u001b[1;32m----> 2\u001b[0m mydict1\n",
      "\u001b[1;31mNameError\u001b[0m: name 'mydict1' is not defined"
     ]
    }
   ],
   "source": [
    "del mydict1\n",
    "mydict1"
   ]
  },
  {
   "cell_type": "code",
   "execution_count": null,
   "id": "80850343-022e-4c06-bfdb-db045433480e",
   "metadata": {},
   "outputs": [],
   "source": []
  }
 ],
 "metadata": {
  "kernelspec": {
   "display_name": "Python 3 (ipykernel)",
   "language": "python",
   "name": "python3"
  },
  "language_info": {
   "codemirror_mode": {
    "name": "ipython",
    "version": 3
   },
   "file_extension": ".py",
   "mimetype": "text/x-python",
   "name": "python",
   "nbconvert_exporter": "python",
   "pygments_lexer": "ipython3",
   "version": "3.12.7"
  }
 },
 "nbformat": 4,
 "nbformat_minor": 5
}
