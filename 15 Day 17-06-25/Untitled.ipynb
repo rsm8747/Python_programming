{
 "cells": [
  {
   "cell_type": "markdown",
   "id": "92a994f0-2213-4a6a-96a5-364e3fbebb4a",
   "metadata": {},
   "source": [
    "## Python Logic-Building Questions\n"
   ]
  },
  {
   "cell_type": "code",
   "execution_count": 4,
   "id": "812ae374-a16f-41aa-9607-a95b6100cf18",
   "metadata": {},
   "outputs": [
    {
     "name": "stdout",
     "output_type": "stream",
     "text": [
      "This is a test\n"
     ]
    }
   ],
   "source": [
    "# 141 Remove all digit from a String\n",
    "def remove_digits(s):\n",
    "    return ''.join(c for c in s if not c.isdigit())\n",
    "\n",
    "print(remove_digits(\"This is a test\"))"
   ]
  },
  {
   "cell_type": "code",
   "execution_count": 12,
   "id": "fa1688da-8e2f-48b9-a55e-831538d1f2a9",
   "metadata": {},
   "outputs": [
    {
     "name": "stdout",
     "output_type": "stream",
     "text": [
      "[(2, 4), (1, 5)]\n"
     ]
    }
   ],
   "source": [
    "# 142 Find all pairs in a list with a given sum \n",
    "def find_pairs(lst, target):\n",
    "    pairs = []\n",
    "    seen = set()\n",
    "    for num in lst:\n",
    "        diff = target - num\n",
    "        if diff in seen:\n",
    "            pairs.append((diff, num))\n",
    "        seen.add(num)\n",
    "    return pairs\n",
    "\n",
    "print(find_pairs([1, 2, 3, 4, 5], 6))  # Output: [(2, 4), (1, 5)]\n"
   ]
  },
  {
   "cell_type": "code",
   "execution_count": 14,
   "id": "59e19538-542c-43d9-8826-39de6499d123",
   "metadata": {},
   "outputs": [
    {
     "name": "stdout",
     "output_type": "stream",
     "text": [
      "True\n",
      "False\n"
     ]
    }
   ],
   "source": [
    "# 143 Check if a string contains only alphabtes \n",
    "def is_alpha(s):\n",
    "    return s.isalpha()\n",
    "print(is_alpha(\"HelloWorld\")) #True\n",
    "print(is_alpha(\"Hello123\")) # False"
   ]
  },
  {
   "cell_type": "code",
   "execution_count": 18,
   "id": "fbc8570e-07da-4dd8-a8e4-ab16b97f9ca6",
   "metadata": {},
   "outputs": [
    {
     "name": "stdout",
     "output_type": "stream",
     "text": [
      "4\n"
     ]
    }
   ],
   "source": [
    "# 144 Get the second largest number in a list\n",
    "def second_largest(lst):\n",
    "    unique=list(set(lst))\n",
    "    unique.sort()\n",
    "    return unique[-2] if len(unique)>=2 else None \n",
    "print(second_largest([1,2,3,4,5]))"
   ]
  },
  {
   "cell_type": "code",
   "execution_count": 22,
   "id": "cd5e33dd-a999-4edd-975b-8cf845862e9e",
   "metadata": {},
   "outputs": [
    {
     "name": "stdout",
     "output_type": "stream",
     "text": [
      "hello_world_python\n"
     ]
    }
   ],
   "source": [
    "# 145. Convert a String to Snake case\n",
    "def to_snake_case(s):\n",
    "    return s.strip().lower().replace(' ','_')\n",
    "\n",
    "print(to_snake_case(\"Hello World Python\")) # hellow_world_python"
   ]
  },
  {
   "cell_type": "code",
   "execution_count": 28,
   "id": "1eabface-f7a8-4516-8e00-8cb59b2302c8",
   "metadata": {},
   "outputs": [
    {
     "name": "stdout",
     "output_type": "stream",
     "text": [
      "['a', 'ab', 'abc', 'b', 'bc', 'c']\n"
     ]
    }
   ],
   "source": [
    "# 146. Get All Substrings of a string\n",
    "def all_substrings(s):\n",
    "    return [s[i:j] for i in range(len(s)) for j in range(i+1,len(s)+1)]\n",
    "print(all_substrings(\"abc\"))"
   ]
  },
  {
   "cell_type": "code",
   "execution_count": 30,
   "id": "998183f0-b592-465c-8c23-207e01432d80",
   "metadata": {},
   "outputs": [
    {
     "name": "stdout",
     "output_type": "stream",
     "text": [
      "['a', 'ab', 'abc', 'b', 'bc', 'c']\n"
     ]
    }
   ],
   "source": [
    "# 146. Get all substrings of a string \n",
    "def all_substrings(s):\n",
    "    return [s[i:j] for i in range(len(s)) for j in range(i+1,len(s)+1)]\n",
    "\n",
    "print(all_substrings(\"abc\"))"
   ]
  },
  {
   "cell_type": "code",
   "execution_count": 34,
   "id": "b974820b-96f8-4a55-bb03-fc8648599842",
   "metadata": {},
   "outputs": [
    {
     "name": "stdout",
     "output_type": "stream",
     "text": [
      "bab\n"
     ]
    }
   ],
   "source": [
    "#147. Find the Longest Palindromic Substring \n",
    "def longest_palindrome(s):\n",
    "    longest = \"\"\n",
    "    for i in range(len(s)):\n",
    "        for j in range(i+1, len(s)+1):\n",
    "            substr = s[i:j]\n",
    "            if substr == substr[::-1] and len(substr) > len(longest):\n",
    "                longest = substr\n",
    "    return longest\n",
    "\n",
    "print(longest_palindrome(\"babad\"))  # Output could be \"bab\" or \"aba\""
   ]
  },
  {
   "cell_type": "code",
   "execution_count": 36,
   "id": "3c9d427e-e76c-403d-bc74-e9430701f1aa",
   "metadata": {},
   "outputs": [
    {
     "name": "stdout",
     "output_type": "stream",
     "text": [
      "9\n"
     ]
    }
   ],
   "source": [
    "# 148. Convert Roman Numerals to Integer\n",
    "def roman_to_int(s):\n",
    "    roman={'I':1,'V':5,'X':10,'L':50,'C':100,'D':500,'M':1000}\n",
    "    total =0\n",
    "    prev = 0\n",
    "    for ch in reversed(s):\n",
    "        curr = roman[ch]\n",
    "        if curr < prev:\n",
    "            total-=curr\n",
    "        else:\n",
    "            total+=curr\n",
    "        prev=curr\n",
    "    return total\n",
    "print(roman_to_int(\"IX\"))"
   ]
  },
  {
   "cell_type": "code",
   "execution_count": 38,
   "id": "61087475-507a-4f96-a3a1-d430d6bbf2c7",
   "metadata": {},
   "outputs": [
    {
     "name": "stdout",
     "output_type": "stream",
     "text": [
      "2\n"
     ]
    }
   ],
   "source": [
    "# 149. Find the Most Frequent Element in a list\n",
    "from collections import Counter\n",
    "def most_frequent(lst):\n",
    "    freq = Counter(lst)\n",
    "    return freq.most_common(1)[0][0]\n",
    "print(most_frequent([1,2,3,2,4,2]))"
   ]
  },
  {
   "cell_type": "code",
   "execution_count": null,
   "id": "78a4e65e-78f2-48c5-a225-97a87db1c5ae",
   "metadata": {},
   "outputs": [],
   "source": [
    "# 150. Convert a List of Strings to Integers \n",
    "def str_list_to_int(lst):\n",
    "    return [int(x) for x in lst]\n",
    "\n",
    "print(str_list_to_int(['1','2'"
   ]
  }
 ],
 "metadata": {
  "kernelspec": {
   "display_name": "Python 3 (ipykernel)",
   "language": "python",
   "name": "python3"
  },
  "language_info": {
   "codemirror_mode": {
    "name": "ipython",
    "version": 3
   },
   "file_extension": ".py",
   "mimetype": "text/x-python",
   "name": "python",
   "nbconvert_exporter": "python",
   "pygments_lexer": "ipython3",
   "version": "3.12.7"
  }
 },
 "nbformat": 4,
 "nbformat_minor": 5
}
