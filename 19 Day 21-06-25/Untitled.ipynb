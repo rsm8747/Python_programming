{
 "cells": [
  {
   "cell_type": "code",
   "execution_count": 5,
   "id": "e9bf7c75-0da7-4272-878f-36580d2597b2",
   "metadata": {},
   "outputs": [
    {
     "name": "stdout",
     "output_type": "stream",
     "text": [
      "Hello world Its python\n"
     ]
    }
   ],
   "source": [
    "# 181. Remove all punctualtio from a string \n",
    "import string\n",
    "def remove_punctuations(s):\n",
    "    return ''.join(c for c in s if c not in string.punctuation)\n",
    "\n",
    "print(remove_punctuations(\"Hello, world! It's python.\"))"
   ]
  },
  {
   "cell_type": "code",
   "execution_count": 9,
   "id": "b3829453-1f87-43cf-9a01-afd7098f9f51",
   "metadata": {},
   "outputs": [
    {
     "name": "stdout",
     "output_type": "stream",
     "text": [
      "[(2, 4), (1, 5)]\n"
     ]
    }
   ],
   "source": [
    "# 182. Finc ALl pair in a list that sum to a given value\n",
    "def find_pairs(lst, target):\n",
    "    pairs = set()\n",
    "    seen = set()\n",
    "    for num in lst:\n",
    "        diff = target - num\n",
    "        if diff in seen:\n",
    "            pairs.add((min(num, diff), max(num, diff)))\n",
    "        seen.add(num)\n",
    "    return list(pairs)\n",
    "\n",
    "print(find_pairs([1, 2, 3, 4, 5], 6))  # Output: [(2, 4), (1, 5), (3, 3)] if 3 is repeated\n"
   ]
  },
  {
   "cell_type": "code",
   "execution_count": 11,
   "id": "6fd37390-b2b1-4bfa-9eaf-608380b9343a",
   "metadata": {},
   "outputs": [
    {
     "name": "stdout",
     "output_type": "stream",
     "text": [
      "[9, 7, 4]\n"
     ]
    }
   ],
   "source": [
    "# 183. Get the N largest ELements from a list\n",
    "import heapq\n",
    "def n_largest(lst,n):\n",
    "    return heapq.nlargest(n,lst)\n",
    "\n",
    "print(n_largest([4,1,7,3,9,2],3))"
   ]
  },
  {
   "cell_type": "code",
   "execution_count": 13,
   "id": "b8727b72-602c-4d0a-a9a7-88ff8364c4bb",
   "metadata": {},
   "outputs": [
    {
     "name": "stdout",
     "output_type": "stream",
     "text": [
      "[1, 2, 3]\n"
     ]
    }
   ],
   "source": [
    "# 184. Get the N Smallest ELements from a list \n",
    "import heapq\n",
    "def n_smallest(lst,n):\n",
    "    return heapq.nsmallest(n,lst)\n",
    "\n",
    "print(n_smallest([4,1,7,3,9,2],3))"
   ]
  },
  {
   "cell_type": "code",
   "execution_count": 15,
   "id": "4c5b9968-ea5b-4060-813b-fe1a601ccbc2",
   "metadata": {},
   "outputs": [
    {
     "name": "stdout",
     "output_type": "stream",
     "text": [
      "True\n"
     ]
    }
   ],
   "source": [
    "# 185. Check if a number is a perfect number\n",
    "def is_perfect(n):\n",
    "    return n == sum(i for i in range(1,n) if n%i==0)\n",
    "\n",
    "print(is_perfect(28))"
   ]
  },
  {
   "cell_type": "code",
   "execution_count": 17,
   "id": "b786f206-5f03-4c11-8211-6dc5a0c41268",
   "metadata": {},
   "outputs": [
    {
     "name": "stdout",
     "output_type": "stream",
     "text": [
      "1010\n"
     ]
    }
   ],
   "source": [
    "# 186. Convert a Decimal Number to Binary (without bin())\n",
    "def decimal_to_binary(n):\n",
    "    binary=''\n",
    "    while n>0:\n",
    "        binary = str(n%2)+binary\n",
    "        n//=2\n",
    "    return binary or '0'\n",
    "print(decimal_to_binary(10))"
   ]
  },
  {
   "cell_type": "code",
   "execution_count": 25,
   "id": "655e29a2-91fc-4052-98d4-dbf512b8f703",
   "metadata": {},
   "outputs": [
    {
     "name": "stdout",
     "output_type": "stream",
     "text": [
      "4\n"
     ]
    }
   ],
   "source": [
    "# 187. Count the number of prime numbers in a list \n",
    "def is_prime(n):\n",
    "    if n < 2:\n",
    "        return False\n",
    "    for i in range(2, int(n**0.5) + 1):\n",
    "        if n % i == 0:\n",
    "            return False\n",
    "    return True  # Correctly placed outside the loop\n",
    "\n",
    "def count_primes(lst):\n",
    "    return sum(1 for x in lst if is_prime(x))\n",
    "\n",
    "print(count_primes([2, 3, 4, 5, 6, 7, 8]))  # Output: 4\n"
   ]
  },
  {
   "cell_type": "code",
   "execution_count": 27,
   "id": "20c3f0ba-1f7e-4200-968e-c55590f19afe",
   "metadata": {},
   "outputs": [
    {
     "name": "stdout",
     "output_type": "stream",
     "text": [
      "[4, 5, 1, 2, 3]\n"
     ]
    }
   ],
   "source": [
    "# 189. Rotate a list by K elements \n",
    "def rotate_list(lst,k):\n",
    "    k %=len(lst)\n",
    "    return lst[-k:] + lst[:-k]\n",
    "\n",
    "print(rotate_list([1,2,3,4,5],2))"
   ]
  },
  {
   "cell_type": "code",
   "execution_count": 31,
   "id": "8085ba44-615a-44a0-a697-6876725c7a9d",
   "metadata": {},
   "outputs": [
    {
     "name": "stdout",
     "output_type": "stream",
     "text": [
      "5\n"
     ]
    }
   ],
   "source": [
    "# 190. Count the number of digits in a number (without string conversion)\n",
    "def count_digits(n):\n",
    "    count = 0\n",
    "    while n:\n",
    "        count += 1\n",
    "        n //= 10\n",
    "    return count or 1\n",
    "\n",
    "print(count_digits(12345))  # Output: 5\n"
   ]
  }
 ],
 "metadata": {
  "kernelspec": {
   "display_name": "Python 3 (ipykernel)",
   "language": "python",
   "name": "python3"
  },
  "language_info": {
   "codemirror_mode": {
    "name": "ipython",
    "version": 3
   },
   "file_extension": ".py",
   "mimetype": "text/x-python",
   "name": "python",
   "nbconvert_exporter": "python",
   "pygments_lexer": "ipython3",
   "version": "3.12.7"
  }
 },
 "nbformat": 4,
 "nbformat_minor": 5
}
