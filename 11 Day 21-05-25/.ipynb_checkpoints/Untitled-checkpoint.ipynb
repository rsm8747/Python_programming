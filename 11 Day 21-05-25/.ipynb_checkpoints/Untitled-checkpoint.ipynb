{
 "cells": [
  {
   "cell_type": "code",
   "execution_count": 1,
   "id": "e5ab4d4a-498e-4b23-86b6-351887a871a2",
   "metadata": {},
   "outputs": [
    {
     "name": "stdout",
     "output_type": "stream",
     "text": [
      "8\n"
     ]
    }
   ],
   "source": [
    "# 101 Find the length of the longest word in a sentence\n",
    "def longest_word_length(sentence):\n",
    "    words=sentence.split()\n",
    "    return max(len(word) for word in words)\n",
    "\n",
    "print(longest_word_length(\"Python is a powerful language\"))"
   ]
  },
  {
   "cell_type": "code",
   "execution_count": 3,
   "id": "51eb5fa2-2f4b-4161-aa98-93bfcc43e5e0",
   "metadata": {},
   "outputs": [
    {
     "name": "stdout",
     "output_type": "stream",
     "text": [
      "{'a': 1, 'b': 2}\n"
     ]
    }
   ],
   "source": [
    "# 102 Merge Two Dimensions\n",
    "def merge_dicts(d1,d2):\n",
    "    return {**d1,**d2}\n",
    "\n",
    "print(merge_dicts({'a':1},{'b':2}))"
   ]
  },
  {
   "cell_type": "code",
   "execution_count": 5,
   "id": "f3db3c23-788e-48fe-aa08-daf0f620af25",
   "metadata": {},
   "outputs": [
    {
     "name": "stdout",
     "output_type": "stream",
     "text": [
      "13\n"
     ]
    }
   ],
   "source": [
    "# 103 Sum of digits in a number \n",
    "def sum_of_digits(n):\n",
    "    return sum(int(d) for d in str(n))\n",
    "\n",
    "print(sum_of_digits(12334))"
   ]
  },
  {
   "cell_type": "code",
   "execution_count": 13,
   "id": "9318c430-455d-4f15-8ef7-afbeb01b1f3e",
   "metadata": {},
   "outputs": [
    {
     "name": "stdout",
     "output_type": "stream",
     "text": [
      "0 1 1 2 3 5 8 "
     ]
    }
   ],
   "source": [
    "# 104 Generate Fibonacci Series up to N terms \n",
    "def fibonacci(n):\n",
    "    a, b = 0, 1\n",
    "    for _ in range(n):\n",
    "        print(a, end=' ')\n",
    "        a, b = b, a + b\n",
    "\n",
    "fibonacci(7)\n"
   ]
  },
  {
   "cell_type": "code",
   "execution_count": 15,
   "id": "aef79723-11cb-4f7c-badf-fb28f702b070",
   "metadata": {},
   "outputs": [
    {
     "name": "stdout",
     "output_type": "stream",
     "text": [
      "3\n"
     ]
    }
   ],
   "source": [
    "# 105 Find Missing NUmber from a list of  1 to N \n",
    "def find_missing(lst,n):\n",
    "    expected_sum=n*(n+1)//2\n",
    "    actual_sum=sum(lst)\n",
    "    return expected_sum-actual_sum\n",
    "\n",
    "print(find_missing([1,2,4,5],5))"
   ]
  },
  {
   "cell_type": "code",
   "execution_count": 17,
   "id": "6340f87e-bb70-4edf-af45-91b92fbf0f38",
   "metadata": {},
   "outputs": [
    {
     "name": "stdout",
     "output_type": "stream",
     "text": [
      "[2, 3]\n"
     ]
    }
   ],
   "source": [
    "# 106 Find Intersection of Two Lists\n",
    "def intersection(lst1, lst2):\n",
    "    return list(set(lst1) & set(lst2))\n",
    "\n",
    "print(intersection([1,2,3],[2,3,4]))"
   ]
  },
  {
   "cell_type": "code",
   "execution_count": 19,
   "id": "2f292964-de10-40b1-af08-92389521a27e",
   "metadata": {},
   "outputs": [
    {
     "name": "stdout",
     "output_type": "stream",
     "text": [
      "_P_y_t_h_o_n_ _i_s_ _c_o_o_l_\n"
     ]
    }
   ],
   "source": [
    "# 107 Replace ALl Spaces with underscore in a string \n",
    "def replace_spaces(s):\n",
    "    return s.replace('','_')\n",
    "\n",
    "print(replace_spaces(\"Python is cool\"))"
   ]
  },
  {
   "cell_type": "code",
   "execution_count": 21,
   "id": "853e3c3d-c361-432b-a9a1-9283d212b66b",
   "metadata": {},
   "outputs": [
    {
     "name": "stdout",
     "output_type": "stream",
     "text": [
      "90\n"
     ]
    }
   ],
   "source": [
    "# 108 Concert Hours adn minutes to toal minutes \n",
    "def to_minutes(hours,minutes):\n",
    "    return hours*60+minutes\n",
    "\n",
    "print(to_minutes(1,30))"
   ]
  },
  {
   "cell_type": "code",
   "execution_count": 23,
   "id": "7ca69d0c-d562-4e48-a0b5-d0f0c2a9a739",
   "metadata": {},
   "outputs": [
    {
     "name": "stdout",
     "output_type": "stream",
     "text": [
      "{'a': 1, 'b': 2}\n"
     ]
    }
   ],
   "source": [
    "# 109 Create a dictionary from two lists \n",
    "def  lists_to_dict(keys,values):\n",
    "    return dict(zip(keys,values))\n",
    "\n",
    "print(lists_to_dict(['a','b'],[1,2]))"
   ]
  },
  {
   "cell_type": "code",
   "execution_count": 31,
   "id": "5314681a-10d4-40f5-a45b-39b72419d17c",
   "metadata": {},
   "outputs": [
    {
     "name": "stdout",
     "output_type": "stream",
     "text": [
      "5\n"
     ]
    }
   ],
   "source": [
    "# 110 Find the number of unique words in a senetcen \n",
    "def unique_words(senetence):\n",
    "    words=senetence.lower().split()\n",
    "    return len(set(words))\n",
    "\n",
    "print(unique_words(\"Python is great and python is easy\"))"
   ]
  }
 ],
 "metadata": {
  "kernelspec": {
   "display_name": "Python 3 (ipykernel)",
   "language": "python",
   "name": "python3"
  },
  "language_info": {
   "codemirror_mode": {
    "name": "ipython",
    "version": 3
   },
   "file_extension": ".py",
   "mimetype": "text/x-python",
   "name": "python",
   "nbconvert_exporter": "python",
   "pygments_lexer": "ipython3",
   "version": "3.12.7"
  }
 },
 "nbformat": 4,
 "nbformat_minor": 5
}
