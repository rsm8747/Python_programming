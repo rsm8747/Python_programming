{
 "cells": [
  {
   "cell_type": "code",
   "execution_count": 1,
   "id": "c0ac41c5-f213-4257-b1ea-7a1ada483259",
   "metadata": {},
   "outputs": [
    {
     "name": "stdout",
     "output_type": "stream",
     "text": [
      "[1, 2, 3, 4, 5]\n"
     ]
    }
   ],
   "source": [
    "# remove duplicate  from a list while preserving order\n",
    "def remove_duplicates(lst):\n",
    "    seen = set()\n",
    "    result = []\n",
    "    for item in lst:\n",
    "        if item not in seen:\n",
    "            seen.add(item)\n",
    "            result.append(item)\n",
    "    return result \n",
    "print(remove_duplicates([1,2,2,3,4,3,5]))"
   ]
  },
  {
   "cell_type": "code",
   "execution_count": 3,
   "id": "79d903dd-7d14-46bf-b97b-3602a338d919",
   "metadata": {},
   "outputs": [
    {
     "name": "stdout",
     "output_type": "stream",
     "text": [
      "True\n"
     ]
    }
   ],
   "source": [
    "# 362. Check if a number is an armstrong (sum of cubes of digits equals the number iteself)\n",
    "\n",
    "def is_armstrong(n):\n",
    "    digits=[int(d) for d in str(n)]\n",
    "    power = len(digits)\n",
    "    return n == sum(d** power for d in digits)\n",
    "\n",
    "print(is_armstrong(153))"
   ]
  },
  {
   "cell_type": "code",
   "execution_count": 5,
   "id": "0a816e95-6946-4632-8b4b-310f001b5bb9",
   "metadata": {},
   "outputs": [
    {
     "name": "stdout",
     "output_type": "stream",
     "text": [
      "flow\n"
     ]
    }
   ],
   "source": [
    "# 363. FInd the common prefix of two strings\n",
    "def common_prefix(s1,s2):\n",
    "    i =0\n",
    "    while i<min(len(s1),len(s2)) and s1[i] == s2[i]:\n",
    "        i+=1\n",
    "    return s1[:i]\n",
    "\n",
    "print(common_prefix(\"flower\",\"flow\"))"
   ]
  },
  {
   "cell_type": "code",
   "execution_count": 7,
   "id": "82ea485b-7c7d-46ce-a55f-fe8661b5d39c",
   "metadata": {},
   "outputs": [
    {
     "name": "stdout",
     "output_type": "stream",
     "text": [
      "15\n"
     ]
    }
   ],
   "source": [
    "# 364. Find the sum of the diagonal elements in a square matrix\n",
    "def diagonal_sum(matrix):\n",
    "    return sum(matrix[i][i] for i in range(len(matrix)))\n",
    "\n",
    "print(diagonal_sum([[1,2,3],[4,5,6],[7,8,9]]))"
   ]
  },
  {
   "cell_type": "code",
   "execution_count": 9,
   "id": "fca14045-d70c-4c04-b126-e534a994b1b1",
   "metadata": {},
   "outputs": [
    {
     "name": "stdout",
     "output_type": "stream",
     "text": [
      "1234\n"
     ]
    }
   ],
   "source": [
    "# 366. Convert a string to an integer without using int()\n",
    "def str_to_int(s):\n",
    "    result=0\n",
    "    for ch in s:\n",
    "        result = result*10+(ord(ch)-ord('0'))\n",
    "    return result \n",
    "print(str_to_int(\"1234\"))"
   ]
  },
  {
   "cell_type": "code",
   "execution_count": 11,
   "id": "f6082735-9214-4d4e-8cf7-80fb1b5f26b3",
   "metadata": {},
   "outputs": [
    {
     "name": "stdout",
     "output_type": "stream",
     "text": [
      "200\n"
     ]
    }
   ],
   "source": [
    "# 367. Find the maximum product of two integers in a lsit \n",
    "def max_product(lst):\n",
    "    max1=max(lst)\n",
    "    lst.remove(max1)\n",
    "    max2=max(lst)\n",
    "    return max1*max2\n",
    "\n",
    "print(max_product([1,20,3,10]))"
   ]
  },
  {
   "cell_type": "code",
   "execution_count": 13,
   "id": "9d8bfb68-c66b-4665-b44e-7b77cae827c9",
   "metadata": {},
   "outputs": [
    {
     "name": "stdout",
     "output_type": "stream",
     "text": [
      "True\n",
      "False\n"
     ]
    }
   ],
   "source": [
    "# 368. CHeck if a number is palindromic (Same forward and backward)\n",
    "def is_palindromic(n):\n",
    "    s=str(n)\n",
    "    return s==s[::-1]\n",
    "\n",
    "print(is_palindromic(121))\n",
    "print(is_palindromic(123))"
   ]
  },
  {
   "cell_type": "code",
   "execution_count": 15,
   "id": "ad475a57-7e7b-48d1-a11f-339a9007f064",
   "metadata": {},
   "outputs": [
    {
     "name": "stdout",
     "output_type": "stream",
     "text": [
      "5\n"
     ]
    }
   ],
   "source": [
    "# 369. Count the number of digits in an integer\n",
    "def count_digits(n):\n",
    "    return len(str(abs(n)))\n",
    "\n",
    "print(count_digits(-12345))"
   ]
  },
  {
   "cell_type": "code",
   "execution_count": null,
   "id": "28d08b5d-f82d-45cd-8a4e-afc8e2671e19",
   "metadata": {},
   "outputs": [],
   "source": [
    "# 370. Find the length of the sho"
   ]
  }
 ],
 "metadata": {
  "kernelspec": {
   "display_name": "Python 3 (ipykernel)",
   "language": "python",
   "name": "python3"
  },
  "language_info": {
   "codemirror_mode": {
    "name": "ipython",
    "version": 3
   },
   "file_extension": ".py",
   "mimetype": "text/x-python",
   "name": "python",
   "nbconvert_exporter": "python",
   "pygments_lexer": "ipython3",
   "version": "3.12.7"
  }
 },
 "nbformat": 4,
 "nbformat_minor": 5
}
