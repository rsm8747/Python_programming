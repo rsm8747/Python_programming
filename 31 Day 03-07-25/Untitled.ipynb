{
 "cells": [
  {
   "cell_type": "code",
   "execution_count": 5,
   "id": "76e4cc0f-22fe-4a48-baac-d4ddda005862",
   "metadata": {},
   "outputs": [
    {
     "name": "stdout",
     "output_type": "stream",
     "text": [
      "3\n"
     ]
    }
   ],
   "source": [
    "# 301 Count Vowels in a string \n",
    "def count_vowels(s):\n",
    "    vowel= \"aeiouAEIOU\"\n",
    "    return sum(ch in vowel for ch in s)\n",
    "\n",
    "print(count_vowels(\"Hello World\"))"
   ]
  },
  {
   "cell_type": "code",
   "execution_count": 7,
   "id": "4c78397c-0bba-4fbb-ae88-b4d6f02e44fc",
   "metadata": {},
   "outputs": [
    {
     "name": "stdout",
     "output_type": "stream",
     "text": [
      "True\n",
      "False\n"
     ]
    }
   ],
   "source": [
    "# 302 Check if a number is a power of two \n",
    "def is_power_of_two(n):\n",
    "    return n>0 and (n &(n-1))==0\n",
    "\n",
    "print(is_power_of_two(16))\n",
    "print(is_power_of_two(18))"
   ]
  },
  {
   "cell_type": "code",
   "execution_count": 9,
   "id": "8128d106-4e72-4d39-920b-16565b0a406b",
   "metadata": {},
   "outputs": [
    {
     "name": "stdout",
     "output_type": "stream",
     "text": [
      "[1, 3]\n"
     ]
    }
   ],
   "source": [
    "# 303. Find the difference betweeen two lists\n",
    "def difference(lst1, lst2):\n",
    "    return list(set(lst1)-set(lst2))\n",
    "\n",
    "print(difference([1,2,3,4],[2,4]))"
   ]
  },
  {
   "cell_type": "code",
   "execution_count": 15,
   "id": "10aaec1d-de22-4050-a9bf-6e4389b6b7a9",
   "metadata": {},
   "outputs": [
    {
     "name": "stdout",
     "output_type": "stream",
     "text": [
      "[[-1, -1, 2], [-1, 0, 1]]\n"
     ]
    }
   ],
   "source": [
    "# 304 Find all unique teiplets that sum to zeri (3sum problems)\n",
    "def three_sum(nums):\n",
    "    nums.sort()\n",
    "    res = []\n",
    "    \n",
    "    for i in range(len(nums) - 2):\n",
    "        if i > 0 and nums[i] == nums[i - 1]:  # skip duplicates\n",
    "            continue\n",
    "        l, r = i + 1, len(nums) - 1\n",
    "        while l < r:\n",
    "            total = nums[i] + nums[l] + nums[r]\n",
    "            if total == 0:\n",
    "                res.append([nums[i], nums[l], nums[r]])\n",
    "                # Skip duplicates for left pointer\n",
    "                while l < r and nums[l] == nums[l + 1]:\n",
    "                    l += 1\n",
    "                # Skip duplicates for right pointer\n",
    "                while l < r and nums[r] == nums[r - 1]:\n",
    "                    r -= 1\n",
    "                l += 1\n",
    "                r -= 1\n",
    "            elif total < 0:\n",
    "                l += 1\n",
    "            else:\n",
    "                r -= 1\n",
    "    return res\n",
    "\n",
    "# Test case\n",
    "print(three_sum([-1, 0, 1, 2, -1, -4]))\n"
   ]
  },
  {
   "cell_type": "code",
   "execution_count": 17,
   "id": "664e3e65-32c9-438a-b33c-2004a88c080e",
   "metadata": {},
   "outputs": [
    {
     "name": "stdout",
     "output_type": "stream",
     "text": [
      "w\n"
     ]
    }
   ],
   "source": [
    "# 305 Find the first non repeated character in a string \n",
    "from collections import Counter\n",
    "def first_non_repeated_char(s):\n",
    "    counts = Counter(s)\n",
    "    for ch in s:\n",
    "        if counts[ch] ==1:\n",
    "            return ch\n",
    "    return None\n",
    "\n",
    "print(first_non_repeated_char(\"swiss\"))"
   ]
  },
  {
   "cell_type": "code",
   "execution_count": 19,
   "id": "10221e37-064e-45af-9763-02975dd36e4c",
   "metadata": {},
   "outputs": [
    {
     "name": "stdout",
     "output_type": "stream",
     "text": [
      "True\n",
      "True\n",
      "False\n"
     ]
    }
   ],
   "source": [
    "# 306. Check if a string is a rotation of another \n",
    "def is_rotation(s1,s2):\n",
    "    return len(s1) == len(s2) and s2 in s1+s1\n",
    "\n",
    "print(is_rotation(\"waterbottle\",\"erbottlewat\"))\n",
    "print(is_rotation(\"hello\",\"llohe\"))\n",
    "print(is_rotation(\"hello\", \"olelh\"))"
   ]
  },
  {
   "cell_type": "code",
   "execution_count": 21,
   "id": "87ee9b18-ad87-4aad-bb86-1fd44bb1c3b7",
   "metadata": {},
   "outputs": [
    {
     "name": "stdout",
     "output_type": "stream",
     "text": [
      "24\n"
     ]
    }
   ],
   "source": [
    "#  307. Calculate the product of all elements in a list\n",
    "def product(lst):\n",
    "    result = 1\n",
    "    for num in lst:\n",
    "        result *=num\n",
    "    return result \n",
    "\n",
    "print(product([1,2,3,4]))"
   ]
  },
  {
   "cell_type": "code",
   "execution_count": 25,
   "id": "d2c288b2-af26-4e71-bc5b-f6573941b80a",
   "metadata": {},
   "outputs": [
    {
     "name": "stdout",
     "output_type": "stream",
     "text": [
      "0b1011\n"
     ]
    }
   ],
   "source": [
    "# 308.  Reverse the bits of an integer\n",
    "def reverse_bits(n):\n",
    "    result = 0\n",
    "    while n >0:\n",
    "        result = (result << 1) | (n & 1)\n",
    "        n >>=1\n",
    "    return result\n",
    "\n",
    "print(bin(reverse_bits(13)))"
   ]
  },
  {
   "cell_type": "code",
   "execution_count": 27,
   "id": "eac02a3a-bdbf-4067-90fc-2499170de7b9",
   "metadata": {},
   "outputs": [
    {
     "name": "stdout",
     "output_type": "stream",
     "text": [
      "2\n"
     ]
    }
   ],
   "source": [
    "# 309 Find the length of the shortest word in a sentence\n",
    "def shortest_word_length(sentence):\n",
    "    words = sentence.split()\n",
    "    return min(len(word) for word in words)\n",
    "\n",
    "print(shortest_word_length(\"Python is awesome\"))"
   ]
  },
  {
   "cell_type": "code",
   "execution_count": 31,
   "id": "fedaec82-4770-4181-a20b-a1ff3a0b79fc",
   "metadata": {},
   "outputs": [
    {
     "name": "stdout",
     "output_type": "stream",
     "text": [
      "[[], [1], [2], [1, 2], [3], [1, 3], [2, 3], [1, 2, 3]]\n"
     ]
    }
   ],
   "source": [
    "# 310. Generate all subsets (power set) of a list\n",
    "def subsets(nums):\n",
    "    res = [[]]\n",
    "    for num in nums:\n",
    "        res +=[curr + [num] for curr in res]\n",
    "    return res\n",
    "print(subsets([1,2,3]))"
   ]
  }
 ],
 "metadata": {
  "kernelspec": {
   "display_name": "Python 3 (ipykernel)",
   "language": "python",
   "name": "python3"
  },
  "language_info": {
   "codemirror_mode": {
    "name": "ipython",
    "version": 3
   },
   "file_extension": ".py",
   "mimetype": "text/x-python",
   "name": "python",
   "nbconvert_exporter": "python",
   "pygments_lexer": "ipython3",
   "version": "3.12.7"
  }
 },
 "nbformat": 4,
 "nbformat_minor": 5
}
