{
 "cells": [
  {
   "cell_type": "code",
   "execution_count": 1,
   "id": "8436d26e-3123-4166-91b2-6af463a15b64",
   "metadata": {},
   "outputs": [
    {
     "name": "stdout",
     "output_type": "stream",
     "text": [
      "True\n",
      "False\n"
     ]
    }
   ],
   "source": [
    "# 221. Check if a number is a hardhad number (is divisible by the sum of its digits)\n",
    "def is_harshad(n):\n",
    "    s = sum(int(d) for d in str(n))\n",
    "    return n % s==0\n",
    "print(is_harshad(18))\n",
    "print(is_harshad(19))"
   ]
  },
  {
   "cell_type": "code",
   "execution_count": 3,
   "id": "99737722-ae8e-4e1b-b935-13276a723e93",
   "metadata": {},
   "outputs": [
    {
     "name": "stdout",
     "output_type": "stream",
     "text": [
      "['abc', 'acb', 'bac', 'bca', 'cab', 'cba']\n"
     ]
    }
   ],
   "source": [
    "# 222. generate all permutations of a string\n",
    "from itertools import permutations\n",
    "def all_permutations(s):\n",
    "    return [''.join(p) for p in permutations(s)]\n",
    "\n",
    "print(all_permutations(\"abc\"))"
   ]
  },
  {
   "cell_type": "code",
   "execution_count": 7,
   "id": "905767ef-a8f1-4896-aa18-e9d4ed6311f7",
   "metadata": {},
   "outputs": [
    {
     "name": "stdout",
     "output_type": "stream",
     "text": [
      "bab\n"
     ]
    }
   ],
   "source": [
    "# 223. Find the longest palindrome substring\n",
    "def longest_palindrome(s):\n",
    "    res = \"\"\n",
    "    for i in range(len(s)):\n",
    "        # Odd length palindromes (centered at i)\n",
    "        l, r = i, i\n",
    "        while l >= 0 and r < len(s) and s[l] == s[r]:\n",
    "            if (r - l + 1) > len(res):\n",
    "                res = s[l:r+1]\n",
    "            l -= 1\n",
    "            r += 1\n",
    "        \n",
    "        # Even length palindromes (centered between i and i+1)\n",
    "        l, r = i, i + 1\n",
    "        while l >= 0 and r < len(s) and s[l] == s[r]:\n",
    "            if (r - l + 1) > len(res):\n",
    "                res = s[l:r+1]\n",
    "            l -= 1\n",
    "            r += 1\n",
    "    return res\n",
    "\n",
    "print(longest_palindrome(\"babad\"))  # Output: \"bab\" or \"aba\"\n",
    "        "
   ]
  },
  {
   "cell_type": "code",
   "execution_count": 11,
   "id": "e48fcd0b-2f8c-48ef-8dc5-424592abd38d",
   "metadata": {},
   "outputs": [
    {
     "name": "stdout",
     "output_type": "stream",
     "text": [
      "5\n"
     ]
    }
   ],
   "source": [
    "# 224 Count the number of words in a senetence \n",
    "def count_words(sentence):\n",
    "    return len(sentence.split())\n",
    "\n",
    "print(count_words(\"Hello world this is Python\"))"
   ]
  },
  {
   "cell_type": "code",
   "execution_count": 13,
   "id": "919a4f3f-ab4e-4ca1-bccb-389a8adc98ef",
   "metadata": {},
   "outputs": [
    {
     "name": "stdout",
     "output_type": "stream",
     "text": [
      "3\n"
     ]
    }
   ],
   "source": [
    "# 225. Find the missing number in a consecutive list\n",
    "def find_missing_number(lst):\n",
    "    n =len(lst)+1\n",
    "    expected_sum=n*(n+1)//2\n",
    "    actual_sum = sum(lst)\n",
    "    return expected_sum-actual_sum\n",
    "print(find_missing_number([1,2,4,5,6]))"
   ]
  },
  {
   "cell_type": "code",
   "execution_count": 15,
   "id": "3e99c9f8-150b-4468-a448-c6d2ed789ecb",
   "metadata": {},
   "outputs": [
    {
     "name": "stdout",
     "output_type": "stream",
     "text": [
      "24\n"
     ]
    }
   ],
   "source": [
    "# 226. Calculate the product of all elements in a list\n",
    "def product(lst):\n",
    "    result=1\n",
    "    for num in lst:\n",
    "        result*=num\n",
    "    return result\n",
    "print(product([1,2,3,4]))"
   ]
  },
  {
   "cell_type": "code",
   "execution_count": 19,
   "id": "8ee352aa-2f33-416a-9712-9817f904d957",
   "metadata": {},
   "outputs": [
    {
     "name": "stdout",
     "output_type": "stream",
     "text": [
      "3\n"
     ]
    }
   ],
   "source": [
    "# 227. Find the mode (most frequent element) in a list\n",
    "from collections import Counter\n",
    "def find_mode(lst):\n",
    "    c=Counter(lst)\n",
    "    return c.most_common(1)[0][0]\n",
    "print(find_mode([1,2,2,3,3,3,4]))"
   ]
  },
  {
   "cell_type": "code",
   "execution_count": 21,
   "id": "887b64e8-f691-4ea9-911c-30a8c2c8e402",
   "metadata": {},
   "outputs": [
    {
     "name": "stdout",
     "output_type": "stream",
     "text": [
      "[1, 3, 5]\n"
     ]
    }
   ],
   "source": [
    "# 228. Remove all even numbers from a list\n",
    "def remove_even(lst):\n",
    "    return [x for x in lst if x%2!=0]\n",
    "print(remove_even([1,2,3,4,5,6]))"
   ]
  },
  {
   "cell_type": "code",
   "execution_count": 25,
   "id": "4c9fc090-2b29-4804-b076-873d142c710c",
   "metadata": {},
   "outputs": [
    {
     "name": "stdout",
     "output_type": "stream",
     "text": [
      "True\n",
      "False\n"
     ]
    }
   ],
   "source": [
    "# 229. Check if a number is a strong number(a strong equals the sum of the factorial of its digits.)\n",
    "import math\n",
    "def is_strong(n):\n",
    "    return n == sum(math.factorial(int(d)) for d in str(n))\n",
    "print(is_strong(145))\n",
    "print(is_strong(123))"
   ]
  },
  {
   "cell_type": "code",
   "execution_count": 29,
   "id": "e808349a-1c35-466e-aa8c-b307afb77c50",
   "metadata": {},
   "outputs": [
    {
     "name": "stdout",
     "output_type": "stream",
     "text": [
      "w\n"
     ]
    }
   ],
   "source": [
    "# 230. find the first non-repeating character in a string \n",
    "from collections import Counter\n",
    "def first_non_repeating(s):\n",
    "    counts=Counter(s)\n",
    "    for ch in s:\n",
    "        if counts[ch]==1:\n",
    "            return ch\n",
    "    return None\n",
    "print(first_non_repeating(\"swiss\"))"
   ]
  }
 ],
 "metadata": {
  "kernelspec": {
   "display_name": "Python 3 (ipykernel)",
   "language": "python",
   "name": "python3"
  },
  "language_info": {
   "codemirror_mode": {
    "name": "ipython",
    "version": 3
   },
   "file_extension": ".py",
   "mimetype": "text/x-python",
   "name": "python",
   "nbconvert_exporter": "python",
   "pygments_lexer": "ipython3",
   "version": "3.12.7"
  }
 },
 "nbformat": 4,
 "nbformat_minor": 5
}
