{
 "cells": [
  {
   "cell_type": "code",
   "execution_count": 1,
   "id": "3414ed47-cd53-40dd-9582-66634a778ec5",
   "metadata": {},
   "outputs": [
    {
     "name": "stdout",
     "output_type": "stream",
     "text": [
      "True\n",
      "False\n"
     ]
    }
   ],
   "source": [
    "# 241. CHeck if a number is a perfect square \n",
    "def is_perfect_square(n):\n",
    "    return int(n**0.5)**2==n\n",
    "print(is_perfect_square(16))\n",
    "print(is_perfect_square(14))"
   ]
  },
  {
   "cell_type": "code",
   "execution_count": 3,
   "id": "004c9045-5e5a-45b7-bb0b-092fbb4321c1",
   "metadata": {},
   "outputs": [
    {
     "name": "stdout",
     "output_type": "stream",
     "text": [
      "3\n"
     ]
    }
   ],
   "source": [
    "# 242. Find the second largest number in a list\n",
    "def second_largest(lst):\n",
    "    unique = list(set(lst))\n",
    "    unique.sort()\n",
    "    return unique[-2] if len(unique)>=2 else None\n",
    "print(second_largest([2,3,1,4,4]))"
   ]
  },
  {
   "cell_type": "code",
   "execution_count": 5,
   "id": "eeb94acf-b49d-4aca-8d1e-8737f921a6d9",
   "metadata": {},
   "outputs": [
    {
     "name": "stdout",
     "output_type": "stream",
     "text": [
      "5\n"
     ]
    }
   ],
   "source": [
    "# 243. Count the number of digits in an integer\n",
    "def count_digits(n):\n",
    "    return len(str(abs(n)))\n",
    "print(count_digits(-12345))"
   ]
  },
  {
   "cell_type": "code",
   "execution_count": 7,
   "id": "a305ed1b-1898-48b9-9e96-b6d6fe5d8edc",
   "metadata": {},
   "outputs": [
    {
     "name": "stdout",
     "output_type": "stream",
     "text": [
      "funisPython\n"
     ]
    }
   ],
   "source": [
    "# 244. Reverse words in a senetence\n",
    "def reverse_sentence(sentence):\n",
    "    return ''.join(sentence.split()[::-1])\n",
    "\n",
    "print(reverse_sentence(\"Python is fun\"))"
   ]
  },
  {
   "cell_type": "code",
   "execution_count": 9,
   "id": "3c255138-8f42-4ed2-96ec-c29776620127",
   "metadata": {},
   "outputs": [
    {
     "name": "stdout",
     "output_type": "stream",
     "text": [
      "6\n"
     ]
    }
   ],
   "source": [
    "# 245. Find the GCD (greatest common divisor) of two numbers\n",
    "def gcd(a,b):\n",
    "    while b:\n",
    "        a,b = b, a % b\n",
    "    return a\n",
    "\n",
    "print(gcd(48,18))"
   ]
  },
  {
   "cell_type": "code",
   "execution_count": 13,
   "id": "82634f42-b2a8-44c7-807c-29d2c8093948",
   "metadata": {},
   "outputs": [
    {
     "name": "stdout",
     "output_type": "stream",
     "text": [
      "b\n"
     ]
    }
   ],
   "source": [
    "# 246. Remove Duplicates from a string while maintaining order\n",
    "\n",
    "def remove_duplicates_str(s):\n",
    "    result=[]\n",
    "    for ch in s:\n",
    "        if ch not in result:\n",
    "            result.append(ch)\n",
    "        return''.join(result)\n",
    "\n",
    "print(remove_duplicates_str(\"banana\"))"
   ]
  },
  {
   "cell_type": "code",
   "execution_count": 15,
   "id": "1eaf61f3-9efb-4992-aa7e-626aa5b04903",
   "metadata": {},
   "outputs": [
    {
     "name": "stdout",
     "output_type": "stream",
     "text": [
      "1010\n"
     ]
    }
   ],
   "source": [
    "# 347. Convert Decimal to Binary String\n",
    "def decimal_to_binary(n):\n",
    "    return bin(n)[2:]\n",
    "print(decimal_to_binary(10))"
   ]
  },
  {
   "cell_type": "code",
   "execution_count": 17,
   "id": "3de42b62-b9f9-463a-9051-497e295de20e",
   "metadata": {},
   "outputs": [
    {
     "name": "stdout",
     "output_type": "stream",
     "text": [
      "55\n"
     ]
    }
   ],
   "source": [
    "# 348. Find the sum of squares of first N natural numbers\n",
    "def sum_squares(n):\n",
    "    return sum(i*i for i in range(1,n+1))\n",
    "\n",
    "print(sum_squares(5))"
   ]
  },
  {
   "cell_type": "code",
   "execution_count": 19,
   "id": "0895cf00-a7cb-45c9-9eaf-896da02cd315",
   "metadata": {},
   "outputs": [
    {
     "name": "stdout",
     "output_type": "stream",
     "text": [
      "True\n",
      "False\n"
     ]
    }
   ],
   "source": [
    "# 249. Check if a number is a fibinacci number\n",
    "def is_fibonacci(n):\n",
    "    def perfect_square(x):\n",
    "        return int(x**0.5)**2==x\n",
    "    return perfect_square(5*n*n+4) or perfect_square(5*n*n-4)\n",
    "\n",
    "print(is_fibonacci(21))\n",
    "print(is_fibonacci(22))"
   ]
  },
  {
   "cell_type": "code",
   "execution_count": 23,
   "id": "7478ebe1-ed98-4ad3-ae40-d487fd6bd780",
   "metadata": {},
   "outputs": [
    {
     "name": "stdout",
     "output_type": "stream",
     "text": [
      "4\n"
     ]
    }
   ],
   "source": [
    "# 250. Find the length of longest consecutive elements sequence in a list\n",
    "\n",
    "def longest_consecutive(lst):\n",
    "    nums = set(lst)\n",
    "    longest = 0\n",
    "    for num in nums:\n",
    "        if num -1 not in nums:\n",
    "            length=1\n",
    "            while num + length in nums:\n",
    "                length += 1\n",
    "            longest = max(longest, length)\n",
    "        return longest\n",
    "print(longest_consecutive([100,4,200,1,3,2]))"
   ]
  }
 ],
 "metadata": {
  "kernelspec": {
   "display_name": "Python 3 (ipykernel)",
   "language": "python",
   "name": "python3"
  },
  "language_info": {
   "codemirror_mode": {
    "name": "ipython",
    "version": 3
   },
   "file_extension": ".py",
   "mimetype": "text/x-python",
   "name": "python",
   "nbconvert_exporter": "python",
   "pygments_lexer": "ipython3",
   "version": "3.12.7"
  }
 },
 "nbformat": 4,
 "nbformat_minor": 5
}
