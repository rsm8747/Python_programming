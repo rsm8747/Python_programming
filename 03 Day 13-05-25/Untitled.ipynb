{
 "cells": [
  {
   "cell_type": "code",
   "execution_count": 3,
   "id": "98d38aec-d120-4c2f-ad85-be4fa39290aa",
   "metadata": {},
   "outputs": [
    {
     "name": "stdout",
     "output_type": "stream",
     "text": [
      "1010\n"
     ]
    }
   ],
   "source": [
    "# 21 Convert Decimal to Binary\n",
    "def decimal_to_binary(n):\n",
    "    return bin(n).replace(\"0b\", \"\")\n",
    "\n",
    "print(decimal_to_binary(10))  # Output: 1010"
   ]
  },
  {
   "cell_type": "code",
   "execution_count": 5,
   "id": "96394901-de3a-4e82-822b-4d22905bb1cb",
   "metadata": {},
   "outputs": [
    {
     "name": "stdout",
     "output_type": "stream",
     "text": [
      "20\n"
     ]
    }
   ],
   "source": [
    "# 22 Find the largest of three numbers\n",
    "def largest_of_three(a,b,c):\n",
    "    return max(a,b,c)\n",
    "\n",
    "print(largest_of_three(10,20,15))"
   ]
  },
  {
   "cell_type": "code",
   "execution_count": null,
   "id": "23336897-5a8c-4070-ae7a-ee52ff118412",
   "metadata": {},
   "outputs": [],
   "source": [
    "# 23 Check Armstrong NUmber in a Ranger\n",
    "def armstrong_range(start,end):\n",
    "    for num in range(start,end+1):\n",
    "        digits = [int(d) for d in str(num)]\n",
    "        if num == sum(d**len(digits) for d in digits):\n",
    "            print(num)\n",
    "\n",
    "armstrong_range(100,999)"
   ]
  },
  {
   "cell_type": "code",
   "execution_count": 16,
   "id": "fa746040-3a54-4133-ac21-d96a25d69ba2",
   "metadata": {},
   "outputs": [
    {
     "name": "stdout",
     "output_type": "stream",
     "text": [
      "{'b': 1, 'a': 3, 'n': 2}\n"
     ]
    }
   ],
   "source": [
    "# 24 Count Frequency of Character\n",
    "from collections import Counter\n",
    "def char_frequency(s):\n",
    "    return dict(Counter(s))\n",
    "\n",
    "print(char_frequency(\"banana\"))"
   ]
  },
  {
   "cell_type": "code",
   "execution_count": 18,
   "id": "fb30728b-7706-44c9-a8c1-309a5d102a31",
   "metadata": {},
   "outputs": [
    {
     "name": "stdout",
     "output_type": "stream",
     "text": [
      "1111131315171717191919212323232525252729292929"
     ]
    }
   ],
   "source": [
    "# 25 Print prime numbers in range\n",
    "def prime_range(start,end):\n",
    "    for n in range(start, end+1):\n",
    "        if n>1:\n",
    "            for i in range(2,int(n**0.5)+1):\n",
    "                if n % i == 0:\n",
    "                    break\n",
    "                else:\n",
    "                    print(n,end='')\n",
    "\n",
    "prime_range(10,30)"
   ]
  },
  {
   "cell_type": "code",
   "execution_count": 20,
   "id": "ba1c22cc-5b5b-42f3-939b-6b682cd58de9",
   "metadata": {},
   "outputs": [
    {
     "name": "stdout",
     "output_type": "stream",
     "text": [
      "True\n"
     ]
    }
   ],
   "source": [
    "# 26. Check if list in Palindrome\n",
    "\n",
    "def is_palindrome_list(lst):\n",
    "    return lst == lst[::-1]\n",
    "\n",
    "print(is_palindrome_list([1,2,3,2,1]))"
   ]
  },
  {
   "cell_type": "code",
   "execution_count": 22,
   "id": "37cc511a-39ca-4e03-9c76-a34a3acce85e",
   "metadata": {},
   "outputs": [
    {
     "name": "stdout",
     "output_type": "stream",
     "text": [
      "32\n"
     ]
    }
   ],
   "source": [
    "# 27 Find power of Number (x^y)\n",
    "\n",
    "def power(x,y):\n",
    "    return x**y\n",
    "\n",
    "print(power(2,5))"
   ]
  },
  {
   "cell_type": "code",
   "execution_count": 30,
   "id": "b517234a-4d63-4d59-9df8-53b1aae9d08e",
   "metadata": {},
   "outputs": [
    {
     "name": "stdout",
     "output_type": "stream",
     "text": [
      "[[6, 8], [10, 12]]\n"
     ]
    }
   ],
   "source": [
    "def add_matrices(a, b):\n",
    "    return [[a[i][j] + b[i][j] for j in range(len(a[0]))] for i in range(len(a))]\n",
    "\n",
    "a = [[1, 2], [3, 4]]\n",
    "b = [[5, 6], [7, 8]]\n",
    "\n",
    "print(add_matrices(a, b))\n"
   ]
  },
  {
   "cell_type": "code",
   "execution_count": 32,
   "id": "36b9ccea-2639-4fec-9e88-60295ad4033f",
   "metadata": {},
   "outputs": [
    {
     "name": "stdout",
     "output_type": "stream",
     "text": [
      "[1, 2, 3, 4, 5, 6]\n"
     ]
    }
   ],
   "source": [
    "# 29 Merge Two Sorted Lists\n",
    "\n",
    "def merge_sorted_lists(a,b):\n",
    "    return sorted(a+b)\n",
    "print(merge_sorted_lists([1,3,5],[2,4,6]))"
   ]
  },
  {
   "cell_type": "code",
   "execution_count": 34,
   "id": "f249f1b8-f882-4287-ac0c-36eada5ab609",
   "metadata": {},
   "outputs": [
    {
     "name": "stdout",
     "output_type": "stream",
     "text": [
      "True\n"
     ]
    }
   ],
   "source": [
    "# 30 Check perfet number \n",
    "def is_perfect(n):\n",
    "    return sum(i for i in range(1,n) if n%i==0)==n\n",
    "\n",
    "print(is_perfect(28))"
   ]
  },
  {
   "cell_type": "code",
   "execution_count": null,
   "id": "6a03e717-42bd-4f78-baf1-06ba6de9dea7",
   "metadata": {},
   "outputs": [],
   "source": []
  }
 ],
 "metadata": {
  "kernelspec": {
   "display_name": "Python 3 (ipykernel)",
   "language": "python",
   "name": "python3"
  },
  "language_info": {
   "codemirror_mode": {
    "name": "ipython",
    "version": 3
   },
   "file_extension": ".py",
   "mimetype": "text/x-python",
   "name": "python",
   "nbconvert_exporter": "python",
   "pygments_lexer": "ipython3",
   "version": "3.12.7"
  }
 },
 "nbformat": 4,
 "nbformat_minor": 5
}
