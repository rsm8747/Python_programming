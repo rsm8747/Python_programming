{
 "cells": [
  {
   "cell_type": "code",
   "execution_count": 1,
   "id": "c84e5e39-2aa2-4f38-b81d-cd04959fb3a0",
   "metadata": {},
   "outputs": [
    {
     "name": "stdin",
     "output_type": "stream",
     "text": [
      "Enter a year: 2000\n"
     ]
    },
    {
     "name": "stdout",
     "output_type": "stream",
     "text": [
      "Leap Year\n"
     ]
    }
   ],
   "source": [
    "# 1. leap year check\n",
    "year = int(input(\"Enter a year:\"))\n",
    "if (year % 4 == 0 and year % 100 != 0) or (year % 400 == 0):\n",
    "    print(\"Leap Year\")\n",
    "else:\n",
    "    print(\"Not Leap Year\")"
   ]
  },
  {
   "cell_type": "code",
   "execution_count": 3,
   "id": "4fc463ce-1a2e-457b-a8f9-2ef0b67fb900",
   "metadata": {},
   "outputs": [
    {
     "name": "stdin",
     "output_type": "stream",
     "text": [
      "Enter marks: 78\n"
     ]
    },
    {
     "name": "stdout",
     "output_type": "stream",
     "text": [
      "C\n"
     ]
    }
   ],
   "source": [
    "# 2. Grade Calcultion\n",
    "marks = int(input(\"Enter marks:\"))\n",
    "if 90 <= marks <= 100:\n",
    "    print(\"A\")\n",
    "elif 80 <= marks < 90:\n",
    "    print(\"B\")\n",
    "\n",
    "elif 70 <= marks <80:\n",
    "    print(\"C\")\n",
    "\n",
    "elif 60 <= marks <70:\n",
    "    print(\"D\")\n",
    "\n",
    "else:\n",
    "    print(\"F\")"
   ]
  },
  {
   "cell_type": "code",
   "execution_count": 5,
   "id": "e5e3efe6-7f7c-4af2-a533-6f500d87ae34",
   "metadata": {},
   "outputs": [
    {
     "name": "stdin",
     "output_type": "stream",
     "text": [
      "Enter a number:  buzz\n"
     ]
    },
    {
     "ename": "ValueError",
     "evalue": "invalid literal for int() with base 10: 'buzz'",
     "output_type": "error",
     "traceback": [
      "\u001b[1;31m---------------------------------------------------------------------------\u001b[0m",
      "\u001b[1;31mValueError\u001b[0m                                Traceback (most recent call last)",
      "Cell \u001b[1;32mIn[5], line 2\u001b[0m\n\u001b[0;32m      1\u001b[0m \u001b[38;5;66;03m# 3. FizzBuzz\u001b[39;00m\n\u001b[1;32m----> 2\u001b[0m n \u001b[38;5;241m=\u001b[39m \u001b[38;5;28mint\u001b[39m(\u001b[38;5;28minput\u001b[39m(\u001b[38;5;124m\"\u001b[39m\u001b[38;5;124mEnter a number: \u001b[39m\u001b[38;5;124m\"\u001b[39m))\n\u001b[0;32m      3\u001b[0m \u001b[38;5;28;01mfor\u001b[39;00m i \u001b[38;5;129;01min\u001b[39;00m \u001b[38;5;28mrange\u001b[39m(\u001b[38;5;241m1\u001b[39m,n\u001b[38;5;241m+\u001b[39m\u001b[38;5;241m1\u001b[39m):\n\u001b[0;32m      4\u001b[0m     \u001b[38;5;28;01mif\u001b[39;00m i \u001b[38;5;241m%\u001b[39m \u001b[38;5;241m3\u001b[39m \u001b[38;5;241m==\u001b[39m \u001b[38;5;241m0\u001b[39m \u001b[38;5;129;01mand\u001b[39;00m i \u001b[38;5;241m%\u001b[39m \u001b[38;5;241m5\u001b[39m \u001b[38;5;241m==\u001b[39m\u001b[38;5;241m0\u001b[39m:\n",
      "\u001b[1;31mValueError\u001b[0m: invalid literal for int() with base 10: 'buzz'"
     ]
    }
   ],
   "source": [
    "# 3. FizzBuzz\n",
    "n = int(input(\"Enter a number: \"))\n",
    "for i in range(1,n+1):\n",
    "    if i % 3 == 0 and i % 5 ==0:\n",
    "        print(\"FizzBUzz\")\n",
    "    elif i % 3== 0:\n",
    "        print(\"Fizz\")\n",
    "    elif i % 5 == 0:\n",
    "        print(\"Buzz\")\n",
    "    else:\n",
    "        print(i)\n"
   ]
  },
  {
   "cell_type": "code",
   "execution_count": 7,
   "id": "c3ceceb6-d2a3-4c0e-9f1d-8b5f7eb9529d",
   "metadata": {},
   "outputs": [
    {
     "name": "stdin",
     "output_type": "stream",
     "text": [
      "Enter a number :  3\n"
     ]
    },
    {
     "name": "stdout",
     "output_type": "stream",
     "text": [
      "factorial: 6\n"
     ]
    }
   ],
   "source": [
    "# Factorial Using Loop \n",
    "n = int(input(\"Enter a number : \"))\n",
    "fact = 1\n",
    "for i in range(1,n+1):\n",
    "    fact *= i \n",
    "print(\"factorial:\",fact)"
   ]
  },
  {
   "cell_type": "code",
   "execution_count": 9,
   "id": "2f943259-63f3-4e4d-b4bd-a0336e8cfeca",
   "metadata": {},
   "outputs": [
    {
     "name": "stdin",
     "output_type": "stream",
     "text": [
      "Emter a string :  rahul\n"
     ]
    },
    {
     "name": "stdout",
     "output_type": "stream",
     "text": [
      "Number of vowels: 2\n"
     ]
    }
   ],
   "source": [
    "# 5. Count Vowels in a String \n",
    "s = input(\"Emter a string : \").lower()\n",
    "vowels = \"aeiou\"\n",
    "count = 0\n",
    "for ch in s:\n",
    "    if ch in vowels:\n",
    "        count +=1\n",
    "\n",
    "print(\"Number of vowels:\",count)"
   ]
  },
  {
   "cell_type": "code",
   "execution_count": 11,
   "id": "08575ae3-e7e6-4a21-a12c-16a628a7a3c6",
   "metadata": {},
   "outputs": [
    {
     "name": "stdin",
     "output_type": "stream",
     "text": [
      "Enter a number :  121\n"
     ]
    },
    {
     "name": "stdout",
     "output_type": "stream",
     "text": [
      "Palindrome\n"
     ]
    }
   ],
   "source": [
    "# 6. Palindrome Number \n",
    "n = input(\"Enter a number : \")\n",
    "if n == n[::-1]:\n",
    "    print(\"Palindrome\")\n",
    "\n",
    "else:\n",
    "    print(\"Not palindrome\")"
   ]
  },
  {
   "cell_type": "code",
   "execution_count": 13,
   "id": "5c773657-2a1a-4e82-a1e1-970f8d327394",
   "metadata": {},
   "outputs": [
    {
     "name": "stdin",
     "output_type": "stream",
     "text": [
      "Enter a number:  34\n"
     ]
    },
    {
     "name": "stdout",
     "output_type": "stream",
     "text": [
      "Sum of digits: 7\n"
     ]
    }
   ],
   "source": [
    "# 7. Sum of digits\n",
    "n = int(input(\"Enter a number: \"))\n",
    "sum_digits=0\n",
    "while n>0:\n",
    "    sum_digits +=n%10\n",
    "    n//=10\n",
    "\n",
    "print(\"Sum of digits:\",sum_digits)"
   ]
  },
  {
   "cell_type": "code",
   "execution_count": 15,
   "id": "3c62c862-062b-403c-a007-49145ad64d3b",
   "metadata": {},
   "outputs": [
    {
     "name": "stdin",
     "output_type": "stream",
     "text": [
      "Enter a number:  122\n"
     ]
    },
    {
     "name": "stdout",
     "output_type": "stream",
     "text": [
      "Not armstrong\n"
     ]
    }
   ],
   "source": [
    "# 8. Armstrong Number\n",
    "num = int(input(\"Enter a number: \"))\n",
    "sum_of_powers = sum(int(digit)**len(str(num)) for digit in str(num))\n",
    "if sum_of_powers == num:\n",
    "    print(\"Armstrong\")\n",
    "else:\n",
    "    print(\"Not armstrong\")\n"
   ]
  },
  {
   "cell_type": "code",
   "execution_count": 17,
   "id": "ca46bea9-da42-4abf-a20c-19e097893101",
   "metadata": {},
   "outputs": [
    {
     "name": "stdin",
     "output_type": "stream",
     "text": [
      "Enter a number: 12\n"
     ]
    },
    {
     "name": "stdout",
     "output_type": "stream",
     "text": [
      "Not prime\n"
     ]
    }
   ],
   "source": [
    "# 9. Prime number check \n",
    "num = int(input(\"Enter a number:\"))\n",
    "if num <=1:\n",
    "    print(\"Not prime\")\n",
    "else:\n",
    "    for i in range(2, int(num**0.5)+1):\n",
    "        if num%i==0:\n",
    "            print(\"Not prime\")\n",
    "            break\n",
    "        else:\n",
    "            print(\"Prime\")"
   ]
  },
  {
   "cell_type": "code",
   "execution_count": 19,
   "id": "aa5344c4-24f7-47dc-8ebc-3aaf936d4c46",
   "metadata": {},
   "outputs": [
    {
     "name": "stdin",
     "output_type": "stream",
     "text": [
      "Enter  number of terms: 12\n"
     ]
    },
    {
     "name": "stdout",
     "output_type": "stream",
     "text": [
      "0 1 1 2 3 5 8 13 21 34 55 89 "
     ]
    }
   ],
   "source": [
    "# 20. Print Fibonacci Series\n",
    "n = int(input(\"Enter  number of terms:\"))\n",
    "a,b=0,1\n",
    "for _ in range(n):\n",
    "    print(a,end=' ')\n",
    "    a,b=b,a+b"
   ]
  }
 ],
 "metadata": {
  "kernelspec": {
   "display_name": "Python 3 (ipykernel)",
   "language": "python",
   "name": "python3"
  },
  "language_info": {
   "codemirror_mode": {
    "name": "ipython",
    "version": 3
   },
   "file_extension": ".py",
   "mimetype": "text/x-python",
   "name": "python",
   "nbconvert_exporter": "python",
   "pygments_lexer": "ipython3",
   "version": "3.12.7"
  }
 },
 "nbformat": 4,
 "nbformat_minor": 5
}
