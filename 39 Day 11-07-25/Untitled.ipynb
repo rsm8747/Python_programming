{
 "cells": [
  {
   "cell_type": "code",
   "execution_count": 1,
   "id": "edde4e93-6d41-4694-8237-e355c3219ee3",
   "metadata": {},
   "outputs": [
    {
     "name": "stdout",
     "output_type": "stream",
     "text": [
      "[1, 2, 3, 4, 5, 6]\n"
     ]
    }
   ],
   "source": [
    "# 381. Flatten a nested list of arbitrary depth \n",
    "def flatten(lst):\n",
    "    flat_list=[]\n",
    "    for item in lst:\n",
    "        if isinstance(item,list):\n",
    "            flat_list.extend(flatten(item))\n",
    "        else:\n",
    "            flat_list.append(item)\n",
    "    return flat_list\n",
    "\n",
    "print(flatten([1,[2,[3,4],5],6]))"
   ]
  },
  {
   "cell_type": "code",
   "execution_count": 3,
   "id": "3231463e-a00b-4897-9514-e2c7bced1284",
   "metadata": {},
   "outputs": [
    {
     "name": "stdout",
     "output_type": "stream",
     "text": [
      "True\n",
      "False\n"
     ]
    }
   ],
   "source": [
    "# 382. Check if two strings are anagrams\n",
    "def are_anagrams(s1,s2):\n",
    "    return sorted(s1) == sorted(s2)\n",
    "\n",
    "print(are_anagrams(\"listen\",\"silent\"))\n",
    "print(are_anagrams(\"Hello\",\"world\"))"
   ]
  },
  {
   "cell_type": "code",
   "execution_count": 5,
   "id": "d3635de9-8f48-4540-9182-2ba87f4a4894",
   "metadata": {},
   "outputs": [
    {
     "ename": "ModuleNotFoundError",
     "evalue": "No module named 'collectons'",
     "output_type": "error",
     "traceback": [
      "\u001b[1;31m---------------------------------------------------------------------------\u001b[0m",
      "\u001b[1;31mModuleNotFoundError\u001b[0m                       Traceback (most recent call last)",
      "Cell \u001b[1;32mIn[5], line 10\u001b[0m\n\u001b[0;32m      7\u001b[0m             \u001b[38;5;28;01mreturn\u001b[39;00m ch\n\u001b[0;32m      8\u001b[0m     \u001b[38;5;28;01mreturn\u001b[39;00m \u001b[38;5;28;01mNone\u001b[39;00m\n\u001b[1;32m---> 10\u001b[0m \u001b[38;5;28mprint\u001b[39m(first_non_repeated_char(\u001b[38;5;124m\"\u001b[39m\u001b[38;5;124mswiss\u001b[39m\u001b[38;5;124m\"\u001b[39m))\n",
      "Cell \u001b[1;32mIn[5], line 3\u001b[0m, in \u001b[0;36mfirst_non_repeated_char\u001b[1;34m(s)\u001b[0m\n\u001b[0;32m      2\u001b[0m \u001b[38;5;28;01mdef\u001b[39;00m \u001b[38;5;21mfirst_non_repeated_char\u001b[39m(s):\n\u001b[1;32m----> 3\u001b[0m     \u001b[38;5;28;01mfrom\u001b[39;00m \u001b[38;5;21;01mcollectons\u001b[39;00m \u001b[38;5;28;01mimport\u001b[39;00m Counter\n\u001b[0;32m      4\u001b[0m     counts\u001b[38;5;241m=\u001b[39mCounter(s)\n\u001b[0;32m      5\u001b[0m     \u001b[38;5;28;01mfor\u001b[39;00m ch \u001b[38;5;129;01min\u001b[39;00m s:\n",
      "\u001b[1;31mModuleNotFoundError\u001b[0m: No module named 'collectons'"
     ]
    }
   ],
   "source": [
    "# 383. Find first non repeated character in a string\n",
    "def first_non_repeated_char(s):\n",
    "    from collectons import Counter\n",
    "    counts=Counter(s)\n",
    "    for ch in s:\n",
    "        if counts[ch]==1:\n",
    "            return ch\n",
    "    return None\n",
    "\n",
    "print(first_non_repeated_char(\"swiss\"))\n",
    "    "
   ]
  }
 ],
 "metadata": {
  "kernelspec": {
   "display_name": "Python 3 (ipykernel)",
   "language": "python",
   "name": "python3"
  },
  "language_info": {
   "codemirror_mode": {
    "name": "ipython",
    "version": 3
   },
   "file_extension": ".py",
   "mimetype": "text/x-python",
   "name": "python",
   "nbconvert_exporter": "python",
   "pygments_lexer": "ipython3",
   "version": "3.12.7"
  }
 },
 "nbformat": 4,
 "nbformat_minor": 5
}
