{
 "cells": [
  {
   "cell_type": "code",
   "execution_count": null,
   "id": "6d82c06b-d210-475c-b96c-dbef8b41f105",
   "metadata": {},
   "outputs": [],
   "source": [
    "import keyword\n",
    "print(keyword.kwlist) #it will give all keywords of python"
   ]
  },
  {
   "cell_type": "code",
   "execution_count": null,
   "id": "86d2e69c-d151-400c-bdbb-39afbb200cfe",
   "metadata": {},
   "outputs": [],
   "source": [
    "len(keyword.kwlist) #len is funtion"
   ]
  },
  {
   "cell_type": "code",
   "execution_count": null,
   "id": "6d200f86-5659-4f2b-b2b7-efd8d7310a86",
   "metadata": {},
   "outputs": [],
   "source": [
    "a=2\n",
    "print(a)\n",
    "a=3\n",
    "print(a)"
   ]
  },
  {
   "cell_type": "markdown",
   "id": "320f6041-0b94-4388-ade8-a7fc66699694",
   "metadata": {},
   "source": [
    "# rules \n",
    "1) 2a= 2\n",
    "2) not using special character (we can use _)\n",
    "3) "
   ]
  },
  {
   "cell_type": "code",
   "execution_count": null,
   "id": "6f9b3e98-9867-4ddb-be13-9f3b3d43d682",
   "metadata": {},
   "outputs": [],
   "source": [
    "a =3\n",
    "print(a)"
   ]
  },
  {
   "cell_type": "code",
   "execution_count": null,
   "id": "483e083d-b35b-48f9-8ec0-7d15cbc21b12",
   "metadata": {},
   "outputs": [],
   "source": [
    "2var=34 #identifies can not be initiate with digit"
   ]
  },
  {
   "cell_type": "code",
   "execution_count": null,
   "id": "ce8828ca-4a44-4aa1-be85-d6c1147c3bcd",
   "metadata": {},
   "outputs": [],
   "source": [
    "var2 = 43 "
   ]
  },
  {
   "cell_type": "code",
   "execution_count": null,
   "id": "5b7d3033-ecf5-4aae-8c91-14d96f644997",
   "metadata": {},
   "outputs": [],
   "source": [
    "print(var2)"
   ]
  },
  {
   "cell_type": "code",
   "execution_count": null,
   "id": "630bd9ba-8029-41bf-8662-a7dad712ec37",
   "metadata": {},
   "outputs": [],
   "source": [
    "var@123='abc' # identifier cantnot use special symbol\n",
    "print(var@123)"
   ]
  },
  {
   "cell_type": "code",
   "execution_count": null,
   "id": "74f546c3-6af3-468b-a4f1-2b0422e105d5",
   "metadata": {},
   "outputs": [],
   "source": [
    "var_12='abc' # identifies can use only underscore(_)\n",
    "print(var_12)"
   ]
  },
  {
   "cell_type": "code",
   "execution_count": null,
   "id": "af892fab-cec6-48f5-80f9-d6a1b326b681",
   "metadata": {},
   "outputs": [],
   "source": [
    "var1= 12\n",
    "print(var1)\n"
   ]
  },
  {
   "cell_type": "code",
   "execution_count": null,
   "id": "dfa52866-d33c-435c-8b98-291e2bd6cd20",
   "metadata": {},
   "outputs": [],
   "source": [
    "var1=15\n",
    "print(var1)"
   ]
  },
  {
   "cell_type": "code",
   "execution_count": null,
   "id": "6ca2d7a6-43cc-4dd2-9c39-6e4a6ef9cdb9",
   "metadata": {},
   "outputs": [],
   "source": [
    "a=2\n",
    "print(a)\n",
    "\n",
    "a=1\n",
    "print(a)"
   ]
  },
  {
   "cell_type": "code",
   "execution_count": null,
   "id": "e25545dd-96a5-49c1-adfe-237c2639e772",
   "metadata": {},
   "outputs": [],
   "source": [
    "a=3\n",
    "print(a)"
   ]
  },
  {
   "cell_type": "code",
   "execution_count": null,
   "id": "23a8b715-a06b-417a-9fbd-627ad50204bd",
   "metadata": {},
   "outputs": [],
   "source": [
    "\n",
    "import =123\n",
    "print(import)"
   ]
  },
  {
   "cell_type": "code",
   "execution_count": null,
   "id": "fd52ca1f-caf6-43cc-9ef4-7d1d0fdda44c",
   "metadata": {},
   "outputs": [],
   "source": [
    "Import=123\n",
    "print(Import)   #import is keyword we cant assign but here I is caoital so it is working"
   ]
  },
  {
   "cell_type": "code",
   "execution_count": null,
   "id": "9a8e6492-7d89-4733-bd7b-b9b51413dee0",
   "metadata": {},
   "outputs": [],
   "source": [
    "\"\"\"\n",
    "Correct way of defining an identifies (Identifiers can be cimbination of letters in lowercase (a to z ) or upper case (A to Z) \n",
    "we can use only special character allowed is_)\n",
    "\"\"\"\n",
    "var=2\n",
    "# var is entity called as variable has been created adn assigned with values of 2"
   ]
  },
  {
   "cell_type": "code",
   "execution_count": null,
   "id": "61ddcd80-f901-4e0f-8ab1-0001d2a8de4b",
   "metadata": {},
   "outputs": [],
   "source": [
    "var"
   ]
  },
  {
   "cell_type": "code",
   "execution_count": null,
   "id": "0867eb54-7867-4652-987e-c9f1c29946e4",
   "metadata": {},
   "outputs": [],
   "source": [
    "var_12='Data'"
   ]
  },
  {
   "cell_type": "code",
   "execution_count": null,
   "id": "2da813d2-acf6-4fd2-a8c6-a0ab93ec4232",
   "metadata": {},
   "outputs": [],
   "source": [
    "var_12"
   ]
  },
  {
   "cell_type": "markdown",
   "id": "e5002a55-3f4c-4710-b092-5a6105b3d095",
   "metadata": {},
   "source": [
    "# Comments"
   ]
  },
  {
   "cell_type": "code",
   "execution_count": null,
   "id": "4ffa50f2-4088-4db1-866f-f3deb60d03f4",
   "metadata": {},
   "outputs": [],
   "source": [
    "# for single line comment "
   ]
  },
  {
   "cell_type": "code",
   "execution_count": null,
   "id": "cbd2a0a5-5d95-4812-ac13-82cb29e2a5f1",
   "metadata": {},
   "outputs": [],
   "source": [
    "\"\"\" for multiline comment \"\"\""
   ]
  },
  {
   "cell_type": "code",
   "execution_count": null,
   "id": "c364c11e-deee-499f-95a3-f3501d2481ca",
   "metadata": {},
   "outputs": [],
   "source": [
    "''' also use this for multiline comment'''"
   ]
  },
  {
   "cell_type": "code",
   "execution_count": null,
   "id": "6ff8e918-c780-442b-9f4b-7dc2403742eb",
   "metadata": {},
   "outputs": [],
   "source": [
    "# for_\n",
    "# multiline code\n",
    "# select code &\n",
    "# press \n",
    "# cntr+forward slash"
   ]
  },
  {
   "cell_type": "code",
   "execution_count": null,
   "id": "8c4d76a0-2ccb-4a1c-8042-54dffeb08a47",
   "metadata": {},
   "outputs": [],
   "source": [
    "remove\n",
    "multiline comment remove\n",
    "select code &\n",
    "press \n",
    "cntr+forward slash"
   ]
  },
  {
   "cell_type": "code",
   "execution_count": null,
   "id": "82a8f161-4dc2-4ccd-b07c-84f282b6d540",
   "metadata": {},
   "outputs": [],
   "source": []
  },
  {
   "cell_type": "markdown",
   "id": "32e35b74-efb6-434a-b73a-3b5b0f756743",
   "metadata": {},
   "source": [
    "# Statement\n",
    "- Insruction that a pyhton interpreter can execute\n",
    "  - Single line statement\n",
    "  - Multiline statment we need to use \\ for continue "
   ]
  },
  {
   "cell_type": "code",
   "execution_count": null,
   "id": "b51c2df5-623f-444f-9d89-fef14d11f7ce",
   "metadata": {},
   "outputs": [],
   "source": [
    "a = 'string'\n",
    "a"
   ]
  },
  {
   "cell_type": "code",
   "execution_count": null,
   "id": "3b3b0def-a0f3-4fc9-875c-41ac413fb0ef",
   "metadata": {},
   "outputs": [],
   "source": [
    "a= 20+ 30\\\n",
    "+40+50  \n",
    "+10+20\n",
    "\n",
    "a"
   ]
  },
  {
   "cell_type": "code",
   "execution_count": null,
   "id": "8d77ff73-5201-488d-b217-c8e8572c824f",
   "metadata": {},
   "outputs": [],
   "source": [
    "#for multiline statement's\n",
    "a= ['a','b','c','d']\n",
    "a"
   ]
  },
  {
   "cell_type": "code",
   "execution_count": null,
   "id": "05dbdc2d-1a34-463c-874f-ac329aa91560",
   "metadata": {},
   "outputs": [],
   "source": []
  },
  {
   "cell_type": "markdown",
   "id": "a8d325e3-609a-452e-b8bf-096e1e6eb50e",
   "metadata": {},
   "source": [
    "# Variables\n",
    "- A pyhtin variable is a reserved memory location to store values\n",
    "- A variable is created the moment you first assign a value to it"
   ]
  },
  {
   "cell_type": "code",
   "execution_count": null,
   "id": "15e6a8a8-77fe-44f2-a56e-934adb59ca91",
   "metadata": {},
   "outputs": [],
   "source": [
    "k = 30"
   ]
  },
  {
   "cell_type": "code",
   "execution_count": null,
   "id": "9142ffe2-74a2-4812-8fca-1658324cf4a1",
   "metadata": {},
   "outputs": [],
   "source": [
    "k ##calling k"
   ]
  },
  {
   "cell_type": "code",
   "execution_count": null,
   "id": "d54eb1e4-af10-4e83-8195-792f379c7cd8",
   "metadata": {},
   "outputs": [],
   "source": [
    "print(k) ##print value of k"
   ]
  },
  {
   "cell_type": "code",
   "execution_count": null,
   "id": "1896bb8b-976a-4b1d-adb0-6b7b97f9ce4c",
   "metadata": {},
   "outputs": [],
   "source": [
    "print('The value of k is: 300')"
   ]
  },
  {
   "cell_type": "code",
   "execution_count": null,
   "id": "b5eb1c97-8be1-44f6-8c3d-a18a4d66a4a2",
   "metadata": {},
   "outputs": [],
   "source": [
    "print('The values of k is: ',k)"
   ]
  },
  {
   "cell_type": "markdown",
   "id": "b73f9262-f832-4ecf-9784-cbef56527dee",
   "metadata": {},
   "source": [
    "# string"
   ]
  },
  {
   "cell_type": "code",
   "execution_count": null,
   "id": "741bb1d8-197b-4dd5-bd71-17afce3aaa71",
   "metadata": {},
   "outputs": [],
   "source": [
    "print('This is print function') #we can use single ' also"
   ]
  },
  {
   "cell_type": "code",
   "execution_count": null,
   "id": "264ca506-8cb9-47e2-ac07-92a3cf9b7a2a",
   "metadata": {},
   "outputs": [],
   "source": [
    "print(\"This is print function with double quotes\")"
   ]
  },
  {
   "cell_type": "code",
   "execution_count": null,
   "id": "e355336e-c00e-46ec-8e74-6e415bd89676",
   "metadata": {},
   "outputs": [],
   "source": [
    "print(12)"
   ]
  },
  {
   "cell_type": "code",
   "execution_count": null,
   "id": "13b722b5-14da-40b7-a6e6-5f82d7083be0",
   "metadata": {},
   "outputs": [],
   "source": [
    "print('b')"
   ]
  },
  {
   "cell_type": "code",
   "execution_count": null,
   "id": "2e84c4a1-8d56-401a-9c68-3df52de29f4f",
   "metadata": {},
   "outputs": [],
   "source": [
    "k"
   ]
  },
  {
   "cell_type": "code",
   "execution_count": null,
   "id": "47e2319a-66a9-4368-8ba2-29cd7a8433d8",
   "metadata": {},
   "outputs": [],
   "source": [
    "type(k) # type gives us datatype"
   ]
  },
  {
   "cell_type": "code",
   "execution_count": null,
   "id": "f13c06fb-cf12-4953-8ec8-0bc9bd62aa23",
   "metadata": {},
   "outputs": [],
   "source": [
    "b=35.5"
   ]
  },
  {
   "cell_type": "code",
   "execution_count": null,
   "id": "f029042a-122b-4a78-b31c-b84fcbacbf82",
   "metadata": {},
   "outputs": [],
   "source": [
    "b"
   ]
  },
  {
   "cell_type": "code",
   "execution_count": null,
   "id": "ef370b1c-5f66-437b-b62b-62d01536d203",
   "metadata": {},
   "outputs": [],
   "source": [
    "type(b)"
   ]
  },
  {
   "cell_type": "code",
   "execution_count": null,
   "id": "9e8bda4c-1608-4ce6-82ef-e250351d6ec2",
   "metadata": {},
   "outputs": [],
   "source": [
    "g = 'abc'"
   ]
  },
  {
   "cell_type": "code",
   "execution_count": null,
   "id": "243ec7bb-dea6-4753-a69b-ea5bb2b0c7de",
   "metadata": {},
   "outputs": [],
   "source": [
    "g"
   ]
  },
  {
   "cell_type": "code",
   "execution_count": null,
   "id": "0829a26c-bb9d-4a5f-bf18-bc2a8f19efeb",
   "metadata": {},
   "outputs": [],
   "source": [
    "type(g)"
   ]
  },
  {
   "cell_type": "markdown",
   "id": "ec14b5aa-29bf-42fb-aafa-21b7f9571f82",
   "metadata": {},
   "source": [
    "## Boolean"
   ]
  },
  {
   "cell_type": "code",
   "execution_count": null,
   "id": "58e094ee-05f2-42e8-bbe3-9e11d269cd76",
   "metadata": {},
   "outputs": [],
   "source": [
    "c = True\n",
    "type(c)"
   ]
  },
  {
   "cell_type": "code",
   "execution_count": null,
   "id": "8c586810-144b-46e0-bd3b-6b7279377a0d",
   "metadata": {},
   "outputs": [],
   "source": [
    "d = False\n",
    "type(d)"
   ]
  },
  {
   "cell_type": "code",
   "execution_count": null,
   "id": "a8aeb88e-be2d-44bd-afee-4d50796908a8",
   "metadata": {},
   "outputs": [],
   "source": [
    "d = 'adbs'\n",
    "type(d)"
   ]
  },
  {
   "cell_type": "markdown",
   "id": "7e582e90-fbe8-4962-8c67-9dbee213ec40",
   "metadata": {},
   "source": [
    "# Complex"
   ]
  },
  {
   "cell_type": "code",
   "execution_count": null,
   "id": "67a64c04-8407-4437-9974-4d753884fd52",
   "metadata": {},
   "outputs": [],
   "source": [
    "a = 5+10j\n",
    "print(a)\n"
   ]
  },
  {
   "cell_type": "code",
   "execution_count": null,
   "id": "8d7df556-5b64-4516-afc7-4df39d1c5555",
   "metadata": {},
   "outputs": [],
   "source": [
    "type(a)"
   ]
  },
  {
   "cell_type": "markdown",
   "id": "42f3a290-e40d-4f40-a4a0-ee78f9b972b6",
   "metadata": {},
   "source": [
    "# Variable Assignment"
   ]
  },
  {
   "cell_type": "code",
   "execution_count": null,
   "id": "3dabf765-272e-4e07-bba0-a8bcd3201c3d",
   "metadata": {},
   "outputs": [],
   "source": [
    "intvar =10 #integer \n",
    "floatvar = 2.57 #flaot variable\n",
    "strvar = \"Pyhton language\"  # String variable\n",
    "print('Value of intvar : ',intvar)\n",
    "print('Value of floatvar : ',floatvar)\n",
    "print('Value of strvar : ',strvar)"
   ]
  },
  {
   "cell_type": "code",
   "execution_count": null,
   "id": "efdf4354-3672-4b5b-be73-5a4e1bfda129",
   "metadata": {},
   "outputs": [],
   "source": [
    "print(\"Here we can check type of floatvar: \")\n",
    "type(floatvar)"
   ]
  },
  {
   "cell_type": "code",
   "execution_count": null,
   "id": "a9d0efdc-4388-48c2-abe2-1d24a7737a47",
   "metadata": {},
   "outputs": [],
   "source": [
    "\n",
    "print(\"here we can check type of intvar\")\n",
    "type(intvar)"
   ]
  },
  {
   "cell_type": "code",
   "execution_count": null,
   "id": "ab449b6f-9d58-4a68-8fa9-10182d67f069",
   "metadata": {},
   "outputs": [],
   "source": []
  },
  {
   "cell_type": "markdown",
   "id": "e0d81a61-4873-4df1-8055-ea20d937d4be",
   "metadata": {},
   "source": [
    "# Multiple assignment"
   ]
  },
  {
   "cell_type": "code",
   "execution_count": null,
   "id": "359ae1ed-7c32-4d73-a431-3e95bbc32c46",
   "metadata": {},
   "outputs": [],
   "source": [
    "intvar, flaotvar, strvar = 10.9,25.8,\"Pyhtin lang\"\n",
    "print(intvar,floatvar,strvar)"
   ]
  },
  {
   "cell_type": "code",
   "execution_count": null,
   "id": "cbb19bf4-c493-452b-bc38-7d2217562430",
   "metadata": {},
   "outputs": [],
   "source": [
    "type(intvar)"
   ]
  },
  {
   "cell_type": "code",
   "execution_count": null,
   "id": "702cd1a9-b4ec-43cf-8983-5738557b2f6b",
   "metadata": {},
   "outputs": [],
   "source": [
    "p1=p2=p3=p4=30\n",
    "\n",
    "print(\"values of p1,p2,p3,p4 as:\",p1,p2,p3,p4)"
   ]
  },
  {
   "cell_type": "markdown",
   "id": "7a9736eb-c3a9-46f8-88cb-a22fbbd5372c",
   "metadata": {},
   "source": [
    "# Data Types \n",
    "## Numeric"
   ]
  },
  {
   "cell_type": "code",
   "execution_count": null,
   "id": "9734369d-01f5-400b-b55e-c09949343e43",
   "metadata": {},
   "outputs": [],
   "source": [
    "import sys"
   ]
  },
  {
   "cell_type": "code",
   "execution_count": null,
   "id": "c81a2c74-b696-4db2-9391-22b50753afbc",
   "metadata": {},
   "outputs": [],
   "source": [
    "val1 = 92 # int data type \n",
    "print(val1)\n",
    "print(type(val1)) # type of object\n",
    "print(sys.getsizeof(val1)) #size of int object int bytes\n",
    "print(val1, \"is int?\", isinstance(val1,int)) #val2 is an instance of float"
   ]
  },
  {
   "cell_type": "code",
   "execution_count": null,
   "id": "b542b441-cb1a-412f-b24c-fa50ef88dc63",
   "metadata": {},
   "outputs": [],
   "source": [
    "val2 = 98.78 # float data type\n",
    "print(val2)\n",
    "print(type(val2))  #type of obj \n",
    "print(sys.getsizeof(val2)) #size of float obj in bytes\n",
    "print(val2,\" is float?\", isinstance(val2,float)) #val2 is an instance of flaot"
   ]
  },
  {
   "cell_type": "code",
   "execution_count": null,
   "id": "72a647b0-8250-446f-ba5d-73a148fa5a89",
   "metadata": {},
   "outputs": [],
   "source": [
    "val3 =25+10j\n",
    "print(val3)\n",
    "print(type(val3)) #type of obj\n",
    "print(sys.getsizeof(val3)) # size of float obj in  bytes\n",
    "print(val3, \"is complex?\", isinstance(val3,complex)) #val3 is an instance of complex"
   ]
  },
  {
   "cell_type": "markdown",
   "id": "97108db0-d43e-4b83-b830-331342618d71",
   "metadata": {},
   "source": [
    "# Boolean "
   ]
  },
  {
   "cell_type": "code",
   "execution_count": null,
   "id": "7ff41c14-07b3-46b2-a523-3e6e75db3590",
   "metadata": {},
   "outputs": [],
   "source": [
    "bool1 = True"
   ]
  },
  {
   "cell_type": "code",
   "execution_count": null,
   "id": "c4166ef9-56e0-4582-b90f-576f5068921c",
   "metadata": {},
   "outputs": [],
   "source": [
    "bool2 = False"
   ]
  },
  {
   "cell_type": "code",
   "execution_count": null,
   "id": "978735fd-3b53-4908-9190-0cfd7dcec9d6",
   "metadata": {},
   "outputs": [],
   "source": [
    "type(bool1)"
   ]
  },
  {
   "cell_type": "code",
   "execution_count": null,
   "id": "5974f92d-710b-4b7c-95e7-316a24d6cd71",
   "metadata": {},
   "outputs": [],
   "source": [
    "isinstance(bool1,bool)"
   ]
  },
  {
   "cell_type": "code",
   "execution_count": null,
   "id": "90b42acb-1f10-464e-9554-295765c99d6e",
   "metadata": {},
   "outputs": [],
   "source": [
    "bool(0)"
   ]
  },
  {
   "cell_type": "code",
   "execution_count": null,
   "id": "09a08d86-2cc8-4165-a747-719b95005e84",
   "metadata": {},
   "outputs": [],
   "source": [
    "bool()"
   ]
  },
  {
   "cell_type": "code",
   "execution_count": null,
   "id": "714555bd-edfb-48af-a172-c504d9cb0fea",
   "metadata": {},
   "outputs": [],
   "source": [
    "bool(None)"
   ]
  },
  {
   "cell_type": "code",
   "execution_count": null,
   "id": "2bd2bdbc-32df-4ec4-a9d9-058d413a013c",
   "metadata": {},
   "outputs": [],
   "source": [
    "bool(21)"
   ]
  },
  {
   "cell_type": "code",
   "execution_count": null,
   "id": "93eeb2d4-fcd7-4f59-9a3b-09f63758ecac",
   "metadata": {},
   "outputs": [],
   "source": [
    "bool(-98)"
   ]
  },
  {
   "cell_type": "code",
   "execution_count": null,
   "id": "2f3c642d-42a8-4a75-b8de-15e580d5ea50",
   "metadata": {},
   "outputs": [],
   "source": [
    "bool('abc')"
   ]
  },
  {
   "cell_type": "markdown",
   "id": "0de05706-14d1-46f3-becc-151c29060ecf",
   "metadata": {},
   "source": [
    "# String\n",
    "## String creation"
   ]
  },
  {
   "cell_type": "code",
   "execution_count": null,
   "id": "af648942-92bf-4eaf-8576-5fc2ebf27cfa",
   "metadata": {},
   "outputs": [],
   "source": [
    "str1 = \"Hello Pyhton\" # string definition using double uotes\n",
    "print(str1)"
   ]
  },
  {
   "cell_type": "code",
   "execution_count": null,
   "id": "c92b667b-3692-48dc-91aa-5211a37121c7",
   "metadata": {},
   "outputs": [],
   "source": [
    "mystr = \"Hello World\" # define string using single quotes\n",
    "print(mystr)"
   ]
  },
  {
   "cell_type": "markdown",
   "id": "01ee3f98-8689-4b7b-b61f-a82bdb0374e5",
   "metadata": {},
   "source": [
    " # String indexing"
   ]
  },
  {
   "cell_type": "code",
   "execution_count": null,
   "id": "bb12db15-7f18-4bf5-a2d3-76f2a5131c29",
   "metadata": {},
   "outputs": [],
   "source": [
    "str1 = 'HELlO PYTHON' "
   ]
  },
  {
   "cell_type": "code",
   "execution_count": null,
   "id": "7c52caff-9276-42c1-a0d1-88d588dcd6bc",
   "metadata": {},
   "outputs": [],
   "source": [
    "str1[-9]"
   ]
  },
  {
   "cell_type": "code",
   "execution_count": null,
   "id": "970bc591-5a76-45a4-b6fe-bfda6fc95aec",
   "metadata": {},
   "outputs": [],
   "source": [
    "str1[6]"
   ]
  },
  {
   "cell_type": "code",
   "execution_count": null,
   "id": "5237df33-14d6-4bbb-b56c-6fc1400dd512",
   "metadata": {},
   "outputs": [],
   "source": [
    "str1[-6]"
   ]
  },
  {
   "cell_type": "code",
   "execution_count": null,
   "id": "a637d3b2-1dfc-4767-923d-a771d678d26a",
   "metadata": {},
   "outputs": [],
   "source": [
    "str1[0] #first character in string \"str1\""
   ]
  },
  {
   "cell_type": "code",
   "execution_count": null,
   "id": "bd78623c-685a-44a0-9ecb-0aef440169d3",
   "metadata": {},
   "outputs": [],
   "source": [
    "str1"
   ]
  },
  {
   "cell_type": "code",
   "execution_count": null,
   "id": "fa35e49b-d0b2-48b9-a546-0aba298ee7e0",
   "metadata": {},
   "outputs": [],
   "source": [
    "len(str1)  #length of string1 "
   ]
  },
  {
   "cell_type": "code",
   "execution_count": null,
   "id": "826d94b1-0f88-4083-b271-f68bde0648ee",
   "metadata": {},
   "outputs": [],
   "source": [
    "str1[len(str1)-1] #last character "
   ]
  },
  {
   "cell_type": "code",
   "execution_count": null,
   "id": "2d7a070a-181e-4437-98f8-ddf4ccee72f1",
   "metadata": {},
   "outputs": [],
   "source": [
    "str1[-1]"
   ]
  },
  {
   "cell_type": "code",
   "execution_count": null,
   "id": "b7545304-270d-4bcb-9251-e1bc6fbf4018",
   "metadata": {},
   "outputs": [],
   "source": [
    "str1[11]"
   ]
  },
  {
   "cell_type": "code",
   "execution_count": null,
   "id": "6a8d4279-91f4-48f6-93af-b6bf75379467",
   "metadata": {},
   "outputs": [],
   "source": [
    "str1[5]"
   ]
  },
  {
   "cell_type": "markdown",
   "id": "337c73d4-3a2c-4f9d-9e14-74ccdcfdce49",
   "metadata": {},
   "source": [
    "# String Slicing"
   ]
  },
  {
   "cell_type": "code",
   "execution_count": null,
   "id": "9be8bfee-b10d-412a-b338-1b945116dd5e",
   "metadata": {},
   "outputs": [],
   "source": [
    "str1 = \"HELLO PYTHON\""
   ]
  },
  {
   "cell_type": "code",
   "execution_count": null,
   "id": "155f7706-6870-4e11-b808-a65d7675b66d",
   "metadata": {},
   "outputs": [],
   "source": [
    "str1"
   ]
  },
  {
   "cell_type": "code",
   "execution_count": null,
   "id": "655aa8e8-c367-4012-b4ae-1e1221d641ad",
   "metadata": {},
   "outputs": [],
   "source": [
    "str1[6:9]"
   ]
  },
  {
   "cell_type": "code",
   "execution_count": null,
   "id": "f489c734-cec0-41a4-9ee6-796757efe9d3",
   "metadata": {},
   "outputs": [],
   "source": [
    "str1[0:5] #strat:end"
   ]
  },
  {
   "cell_type": "code",
   "execution_count": null,
   "id": "dda3e86a-98ff-4089-9bab-a5e13d70da4d",
   "metadata": {},
   "outputs": [],
   "source": [
    "str2=\"Data is new fuel\"\n",
    "#task - extract new and data from above string"
   ]
  },
  {
   "cell_type": "code",
   "execution_count": null,
   "id": "e8ad41ed-e665-41ef-a8c3-9a42f9aaea42",
   "metadata": {},
   "outputs": [],
   "source": [
    "str2[8:11]"
   ]
  },
  {
   "cell_type": "code",
   "execution_count": null,
   "id": "00e92d16-5325-45b9-9d10-32dbd270f132",
   "metadata": {},
   "outputs": [],
   "source": [
    "str2[0:4]"
   ]
  },
  {
   "cell_type": "code",
   "execution_count": null,
   "id": "32f072b6-7db4-4476-913f-98434fc2faec",
   "metadata": {},
   "outputs": [],
   "source": [
    "str1"
   ]
  },
  {
   "cell_type": "code",
   "execution_count": null,
   "id": "df81afe1-0af8-47e4-a852-b1b72252bb94",
   "metadata": {},
   "outputs": [],
   "source": [
    "str1[-6:-9:1]"
   ]
  },
  {
   "cell_type": "code",
   "execution_count": null,
   "id": "0cfc875e-db76-4ea2-b89e-9cf687da4c31",
   "metadata": {},
   "outputs": [],
   "source": [
    "str2"
   ]
  },
  {
   "cell_type": "code",
   "execution_count": null,
   "id": "1f3c59cc-66cb-4acd-be58-851e747d592e",
   "metadata": {},
   "outputs": [],
   "source": [
    "str2[0:11:2]"
   ]
  },
  {
   "cell_type": "code",
   "execution_count": null,
   "id": "9f510cc5-ab6f-4752-be26-cc92a6d36c63",
   "metadata": {},
   "outputs": [],
   "source": [
    "str2"
   ]
  },
  {
   "cell_type": "code",
   "execution_count": null,
   "id": "22dd475b-d332-4d49-b037-a95842d3cf4d",
   "metadata": {},
   "outputs": [],
   "source": [
    "str2[:]"
   ]
  },
  {
   "cell_type": "code",
   "execution_count": null,
   "id": "1f7ea1b2-436c-4748-9adb-1eb18a70e8a6",
   "metadata": {},
   "outputs": [],
   "source": [
    "str2[3:]"
   ]
  },
  {
   "cell_type": "code",
   "execution_count": null,
   "id": "b363128f-4820-4aa0-9a5f-4a974fc3092f",
   "metadata": {},
   "outputs": [],
   "source": [
    "str2[:7]"
   ]
  },
  {
   "cell_type": "code",
   "execution_count": null,
   "id": "8d0e3686-628e-4670-80f6-255299e09c33",
   "metadata": {},
   "outputs": [],
   "source": [
    "str2"
   ]
  },
  {
   "cell_type": "code",
   "execution_count": null,
   "id": "9c5a5ef5-128c-4fa4-b9dd-280eaa168cbe",
   "metadata": {},
   "outputs": [],
   "source": [
    "len(str2)"
   ]
  },
  {
   "cell_type": "code",
   "execution_count": null,
   "id": "9c961094-c8de-4a4c-b26b-986305e03a39",
   "metadata": {},
   "outputs": [],
   "source": [
    "str2[-17:-10]"
   ]
  },
  {
   "cell_type": "code",
   "execution_count": null,
   "id": "293c0e42-45be-4b57-ab88-dd22ba8a079a",
   "metadata": {},
   "outputs": [],
   "source": [
    "# str1 [start:end:step]\n",
    "str2[::-1]"
   ]
  },
  {
   "cell_type": "code",
   "execution_count": null,
   "id": "a8648217-cd52-41a7-8a9e-d249e3e6538c",
   "metadata": {},
   "outputs": [],
   "source": [
    "str2[-1:-17:-1]"
   ]
  },
  {
   "cell_type": "markdown",
   "id": "3030a677-191c-4532-a5fd-2f632320f503",
   "metadata": {},
   "source": [
    "# Day 06 / 10 Dec 2024"
   ]
  },
  {
   "cell_type": "code",
   "execution_count": null,
   "id": "f7a80f47-4ef2-463a-a7da-010b38617532",
   "metadata": {},
   "outputs": [],
   "source": [
    "# task \n",
    "str2 = \"Data is new fuel\"\n",
    "print(\"Str2 as: \", str2)\n",
    "print(\"extract data :\",str2[0:12:2])\n",
    "print(\"extract data: \",str2[0:11])\n",
    "print(\"extract data: \",str2[0:4])"
   ]
  },
  {
   "cell_type": "code",
   "execution_count": null,
   "id": "59ca630c-f982-4000-9ad9-d092f60ab0cb",
   "metadata": {},
   "outputs": [],
   "source": [
    "# task \n",
    "#crate a string 'Hello Everyone'\n",
    "#adn use indexing and slicing on the string"
   ]
  },
  {
   "cell_type": "code",
   "execution_count": null,
   "id": "4d154ac2-caaf-4f2e-b7f9-15a344b4e0df",
   "metadata": {},
   "outputs": [],
   "source": [
    "str3= \"Hello Everyone\""
   ]
  },
  {
   "cell_type": "code",
   "execution_count": null,
   "id": "2b8caddc-61fe-4748-958a-6d971b26e465",
   "metadata": {},
   "outputs": [],
   "source": [
    "print(\"str3: \",str3)\n",
    "print(\"len(str3): \",len(str3))\n",
    "print(\"str3[::1]\",str3[::1])\n",
    "print(\"str3[::-1]\",str3[::-1])\n",
    "print(\"str3[-1:-14:-1]\",str3[-1:-14:-1])\n",
    "print(\"str3[-1:-14:-2]: \",str3[-1:-14:-2])\n",
    "print(\"str3[-1:-14:1]: \",str3[-1:-14:1])\n",
    "print(\"str3[::1]: \",str3[::1])\n",
    "print(\"str3[-1::-1]: \",str3[-1::-1])\n",
    "print(\"str3[1::1] :\",str3[1::1])\n",
    "print(\"str3[-14:-9:-1]\",str3[-14:-9:-1])\n",
    "print(\"str3[-10:-14:-1]: \",str3[-10:-14:-1])\n",
    "print(\"str3[::2]: \",str3[::2])\n",
    "str3[-17:10]\n",
    "print(\"reverse string: \",str3[::-1])\n",
    "print(\"reverse string: \",str3[-1:-15:-1])"
   ]
  },
  {
   "cell_type": "code",
   "execution_count": null,
   "id": "a808b84b-b5c7-40cb-b004-94ae16a6c0f3",
   "metadata": {},
   "outputs": [],
   "source": [
    "str4=\"Data is new fuel\"\n",
    "str4[-16:10:-1]"
   ]
  },
  {
   "cell_type": "code",
   "execution_count": null,
   "id": "2fdf98be-e485-44e2-97f7-45966a4b18de",
   "metadata": {},
   "outputs": [],
   "source": [
    "print(\"\\033[1mreverse string:\\033[0m\")\n",
    "print(\"\\033[3mreverse string:\\033[0m\")  "
   ]
  },
  {
   "cell_type": "markdown",
   "id": "4a845db0-c5dd-4009-bf4a-cf19b68f39db",
   "metadata": {},
   "source": [
    "# upoadet and delete"
   ]
  },
  {
   "cell_type": "code",
   "execution_count": null,
   "id": "4076d1bf-8384-45de-930f-703453a62a4b",
   "metadata": {},
   "outputs": [],
   "source": [
    "str1 = \"Hello pyhton\""
   ]
  },
  {
   "cell_type": "code",
   "execution_count": null,
   "id": "2c9d5465-1d44-4d10-bd11-ec4a3b4b51e2",
   "metadata": {},
   "outputs": [],
   "source": [
    "str1[0]='h' #bcz its small 'h' and we take capital 'H'=> it cant change bcz its immutable string"
   ]
  },
  {
   "cell_type": "code",
   "execution_count": null,
   "id": "a13dfd23-2c70-4217-a35c-04812c4c054f",
   "metadata": {},
   "outputs": [],
   "source": [
    "str1[0:2]=\"HI\"  #immutable string so it cant change"
   ]
  },
  {
   "cell_type": "code",
   "execution_count": null,
   "id": "0e1273ca-a598-4dc0-afa1-03a3ed4dcd92",
   "metadata": {},
   "outputs": [],
   "source": [
    "#in same strign we cant change so we need to take another string str3\n",
    "#str3=str1.replace('old_value','new_value')\n",
    "str3=str1.replace('He',\"HE\")\n",
    "print(str3)"
   ]
  },
  {
   "cell_type": "code",
   "execution_count": null,
   "id": "5c763158-57f0-4726-93dc-7f6836b4acb2",
   "metadata": {},
   "outputs": [],
   "source": [
    "str2=\"Hello Hel\"\n",
    "print(str2)"
   ]
  },
  {
   "cell_type": "code",
   "execution_count": null,
   "id": "de77e29a-abab-4af4-b6e2-bfdb40247d37",
   "metadata": {},
   "outputs": [],
   "source": [
    "str3=str2.replace(\"He\",\"Le\")\n",
    "print(\"str3: \",str3)\n",
    "print(\"str2: \",str2)"
   ]
  },
  {
   "cell_type": "code",
   "execution_count": null,
   "id": "9103f2d3-9c61-4ebf-9c17-ccea556467a5",
   "metadata": {},
   "outputs": [],
   "source": [
    "str4=\"pyhton\"\n",
    "print(str4[::-1])\n",
    "print(str4[-1:-6:-1])\n",
    "print(str4[0:6:1])"
   ]
  },
  {
   "cell_type": "markdown",
   "id": "afb78e87-376d-4ea0-a8a9-e59e9fb12022",
   "metadata": {},
   "source": [
    "## String concatenation\n",
    "- concatenation means joining of string or adding string"
   ]
  },
  {
   "cell_type": "code",
   "execution_count": null,
   "id": "2b5ffd5f-c66b-4cdf-a298-8f72303b21cb",
   "metadata": {},
   "outputs": [],
   "source": [
    "s1= \"Data\"\n",
    "s2= \"Science\"\n",
    "s=s1+s2\n",
    "print(\"s=s1+s2:\", s)\n"
   ]
  },
  {
   "cell_type": "code",
   "execution_count": null,
   "id": "a7bc6958-e073-41e5-999a-fd909e87334f",
   "metadata": {},
   "outputs": [],
   "source": [
    "s3= s1+\" \"+s2\n",
    "print(\"s3: \",s3)"
   ]
  },
  {
   "cell_type": "code",
   "execution_count": null,
   "id": "b89adb4d-25e0-4bd9-aafd-b1b1b0f4a39f",
   "metadata": {},
   "outputs": [],
   "source": [
    "'data'+' '+'science'"
   ]
  },
  {
   "cell_type": "markdown",
   "id": "9bf4d1ca-0ae2-4dc4-aa25-f610bf0f89dd",
   "metadata": {},
   "source": [
    "# update & delete"
   ]
  },
  {
   "cell_type": "code",
   "execution_count": null,
   "id": "d0578d9b-252a-4620-b542-8818e8791a57",
   "metadata": {},
   "outputs": [],
   "source": [
    "str1= \"heelo pyhton\""
   ]
  },
  {
   "cell_type": "markdown",
   "id": "f8021824-a690-4f05-a494-6f3abb109f20",
   "metadata": {},
   "source": [
    "# del"
   ]
  },
  {
   "cell_type": "code",
   "execution_count": null,
   "id": "f8fa8b00-622a-40ac-a3a2-ef5985e9690f",
   "metadata": {},
   "outputs": [],
   "source": [
    "del str1"
   ]
  },
  {
   "cell_type": "code",
   "execution_count": null,
   "id": "c0395fe7-63c8-48a8-9b7e-3f4c7176bd02",
   "metadata": {},
   "outputs": [],
   "source": [
    "str1 #we deleted string"
   ]
  },
  {
   "cell_type": "markdown",
   "id": "530a2cc0-7005-43a6-892c-1bcf0542ac07",
   "metadata": {},
   "source": [
    "## String memebership"
   ]
  },
  {
   "cell_type": "code",
   "execution_count": null,
   "id": "8549e03e-b5d4-4b0b-adba-a2207e6caba0",
   "metadata": {},
   "outputs": [],
   "source": [
    "# string membership\n",
    "mystr1= \"Hello Everynone\" "
   ]
  },
  {
   "cell_type": "code",
   "execution_count": null,
   "id": "a67b0024-e4cd-4a0b-8dd0-20b20fa08613",
   "metadata": {},
   "outputs": [],
   "source": [
    "'Hello' in mystr1 #check string present or not "
   ]
  },
  {
   "cell_type": "code",
   "execution_count": null,
   "id": "6c0afa29-faeb-4fec-87ed-b53a3c77d335",
   "metadata": {},
   "outputs": [],
   "source": [
    "'hello' in mystr1 # check hello is present or not"
   ]
  },
  {
   "cell_type": "code",
   "execution_count": null,
   "id": "257de1d3-e633-4727-8d3c-c82eb4d4ea3b",
   "metadata": {},
   "outputs": [],
   "source": [
    "'E' in mystr1"
   ]
  },
  {
   "cell_type": "markdown",
   "id": "596fd85b-1353-48b6-af93-b946d6fef8c1",
   "metadata": {},
   "source": [
    "## String partioining"
   ]
  },
  {
   "cell_type": "code",
   "execution_count": null,
   "id": "9a1f0d97-1acf-4c28-84f6-3cfe60486500",
   "metadata": {},
   "outputs": [],
   "source": [
    "\"\"\"\n",
    "The partition() method searches for a specified string and splits the string into\n",
    " - The first element contains the part before the argument string.\n",
    " - The second element contains the argument string.\n",
    " - The third element contains the part after the argument string.\n",
    " \"\"\"\n",
    "str5 = \"Natural lang processing with python and R And Java\"\n",
    "L=str5.partition(\"and\")\n",
    "L"
   ]
  },
  {
   "cell_type": "code",
   "execution_count": null,
   "id": "d8daa533-ca90-45eb-a319-c919a54c42ed",
   "metadata": {},
   "outputs": [],
   "source": [
    "str5"
   ]
  },
  {
   "cell_type": "code",
   "execution_count": null,
   "id": "d9406ff0-ab66-46cf-a2e4-22e325a05cf5",
   "metadata": {},
   "outputs": [],
   "source": [
    "L"
   ]
  },
  {
   "cell_type": "markdown",
   "id": "395ff8f8-927f-477d-b605-9d84bf86c759",
   "metadata": {},
   "source": [
    "### String function"
   ]
  },
  {
   "cell_type": "code",
   "execution_count": null,
   "id": "aa617c1f-2b51-45ea-a54f-5230e145b224",
   "metadata": {},
   "outputs": [],
   "source": [
    "mystr2=\" Hello Everyone \" # added space before and after\n",
    "mystr2"
   ]
  },
  {
   "cell_type": "code",
   "execution_count": null,
   "id": "7fabc7a7-35ed-452f-a690-e1fcd30e0b04",
   "metadata": {},
   "outputs": [],
   "source": [
    "mystr2.count('e') # count all 'e' in mystr2 string"
   ]
  },
  {
   "cell_type": "code",
   "execution_count": null,
   "id": "65bca797-3e80-4f93-84ff-e6efdc8028f4",
   "metadata": {},
   "outputs": [],
   "source": [
    "len(mystr2) #gives all string len"
   ]
  },
  {
   "cell_type": "code",
   "execution_count": null,
   "id": "7eab366e-1d97-4534-bee2-c9bbee7339ee",
   "metadata": {},
   "outputs": [],
   "source": [
    "mystr2.count(\"E\") #Count 'E' comes in mystr2 string"
   ]
  },
  {
   "cell_type": "code",
   "execution_count": null,
   "id": "78263f30-081e-47ee-b1bc-06df2f7e63e0",
   "metadata": {},
   "outputs": [],
   "source": [
    "mystr2"
   ]
  },
  {
   "cell_type": "code",
   "execution_count": null,
   "id": "58f00fd0-2c73-4ea5-ba9e-0540749c63b8",
   "metadata": {},
   "outputs": [],
   "source": [
    "mystr2.strip() #removes white spaces before and after strig"
   ]
  },
  {
   "cell_type": "code",
   "execution_count": null,
   "id": "0a205b6c-7ace-47f9-b8e8-eb57f04e890a",
   "metadata": {},
   "outputs": [],
   "source": [
    "mystr2"
   ]
  },
  {
   "cell_type": "code",
   "execution_count": null,
   "id": "050750d2-afa4-4be9-9a75-3946d51e84f5",
   "metadata": {},
   "outputs": [],
   "source": [
    "str1=mystr2.strip() #remove white space abd store it into str1"
   ]
  },
  {
   "cell_type": "code",
   "execution_count": null,
   "id": "993a3bd0-7ea8-437e-86a4-68b633543bca",
   "metadata": {},
   "outputs": [],
   "source": [
    "str1"
   ]
  },
  {
   "cell_type": "code",
   "execution_count": null,
   "id": "dd8d8e11-ecb5-497c-9828-461fd83e6a19",
   "metadata": {},
   "outputs": [],
   "source": [
    "mystr2.lstrip() # removes left hand side white spaces"
   ]
  },
  {
   "cell_type": "code",
   "execution_count": null,
   "id": "3ebda5b3-5fff-44d3-a31c-06616d2f8725",
   "metadata": {},
   "outputs": [],
   "source": [
    "mystr2.rstrip() # remove right hand white spaces"
   ]
  },
  {
   "cell_type": "code",
   "execution_count": null,
   "id": "f843ccb2-33dc-462f-a06f-ce55c02062d1",
   "metadata": {},
   "outputs": [],
   "source": [
    "mystr2 = \"******Hello Everyone**************All The Best************\"\n",
    "mystr2"
   ]
  },
  {
   "cell_type": "code",
   "execution_count": null,
   "id": "6c6e4477-504e-4df5-aab0-f289d7f7bac1",
   "metadata": {},
   "outputs": [],
   "source": [
    "mystr2.strip('*') # removes all '*' from both start and end "
   ]
  },
  {
   "cell_type": "code",
   "execution_count": null,
   "id": "bdc0599e-0080-4737-887e-38fafd42591b",
   "metadata": {},
   "outputs": [],
   "source": [
    "mystr2.lstrip(\"*\") # removes all '*' from left"
   ]
  },
  {
   "cell_type": "code",
   "execution_count": null,
   "id": "71198a23-ef8a-4a3d-ba2a-5d59bf426941",
   "metadata": {},
   "outputs": [],
   "source": [
    "mystr2.rstrip(\"*\") #removes all \"*\" from right"
   ]
  },
  {
   "cell_type": "code",
   "execution_count": null,
   "id": "8a1937b0-8974-471f-8d80-a03cac8f2644",
   "metadata": {},
   "outputs": [],
   "source": [
    "mystr2=\"HELLO PYHTON\""
   ]
  },
  {
   "cell_type": "code",
   "execution_count": null,
   "id": "ce8aab85-98d5-457c-a8bf-4094433db4b9",
   "metadata": {},
   "outputs": [],
   "source": [
    "mystr2.lower()"
   ]
  },
  {
   "cell_type": "code",
   "execution_count": null,
   "id": "cc95a14c-a6f2-458c-8063-123d7f8b8837",
   "metadata": {},
   "outputs": [],
   "source": [
    "mystr2.upper()"
   ]
  },
  {
   "cell_type": "code",
   "execution_count": null,
   "id": "54c2a0dc-272b-42aa-8329-30299c1e7344",
   "metadata": {},
   "outputs": [],
   "source": [
    "mystr5 = \"hello python\""
   ]
  },
  {
   "cell_type": "code",
   "execution_count": null,
   "id": "c9198eb4-b4f3-48b2-96bd-3d6e7c4781b8",
   "metadata": {},
   "outputs": [],
   "source": [
    "mystr5.upper()"
   ]
  },
  {
   "cell_type": "code",
   "execution_count": null,
   "id": "69e80ee0-5888-4359-a408-e6948bb2d50d",
   "metadata": {},
   "outputs": [],
   "source": [
    "mystr5.startswith(\"he\") #it will start 'he ' then print true"
   ]
  },
  {
   "cell_type": "code",
   "execution_count": null,
   "id": "c2908ae3-3687-425c-b307-9202df707ec3",
   "metadata": {},
   "outputs": [],
   "source": [
    "mystr5.endswith(\"on\") #it will ends 'on' then print false"
   ]
  },
  {
   "cell_type": "code",
   "execution_count": null,
   "id": "aaf6f091-825d-4947-8369-c80d554b6cb7",
   "metadata": {},
   "outputs": [],
   "source": [
    "mystr4 = \"Hello Evryone how are you\""
   ]
  },
  {
   "cell_type": "code",
   "execution_count": null,
   "id": "657cbaff-ea44-403c-841f-7fbc7779f184",
   "metadata": {},
   "outputs": [],
   "source": [
    "mystr4"
   ]
  },
  {
   "cell_type": "code",
   "execution_count": null,
   "id": "41797245-881f-411f-abf5-cb7df23917f5",
   "metadata": {},
   "outputs": [],
   "source": [
    "mystr4.split()"
   ]
  },
  {
   "cell_type": "code",
   "execution_count": null,
   "id": "51b92ac4-5dee-4022-ab45-1661f225bab5",
   "metadata": {},
   "outputs": [],
   "source": [
    "print(mystr4.split('e')) # whenever it will reach to 'e' it will split that "
   ]
  },
  {
   "cell_type": "code",
   "execution_count": null,
   "id": "14f7f079-8d18-44e9-9e02-2b9e1aa8796e",
   "metadata": {},
   "outputs": [],
   "source": [
    "#Combining string & mnumber using format method\n",
    "item1 =40\n",
    "item2 =55\n",
    "item3 =77\n",
    "print(\"Cost if item1,item2 and item3 are {},{} and {} \".format(item2,item1,item3)) #what format we cant format keyword gives us in tha format"
   ]
  },
  {
   "cell_type": "code",
   "execution_count": null,
   "id": "77edb76b-2dda-4473-b3fd-678b91b3034f",
   "metadata": {},
   "outputs": [],
   "source": [
    "a=5\n",
    "b=6\n",
    "c=9\n",
    "print(\"value of a : {} nd the value of b {} value of c is {}\".format(a,b,c))"
   ]
  },
  {
   "cell_type": "markdown",
   "id": "b73302b2-3c84-4301-b060-cdd5f4a66b7f",
   "metadata": {},
   "source": [
    " # 1st word capital \n",
    " ## both startuing words capital"
   ]
  },
  {
   "cell_type": "code",
   "execution_count": 2,
   "id": "7b33be4d-fda4-4c86-a52f-4f539511f9e3",
   "metadata": {},
   "outputs": [],
   "source": [
    "str5 = \"hello python\""
   ]
  },
  {
   "cell_type": "code",
   "execution_count": 4,
   "id": "04ef08b8-a8a0-45f4-9f7e-47aba652e969",
   "metadata": {},
   "outputs": [
    {
     "data": {
      "text/plain": [
       "'Hello python'"
      ]
     },
     "execution_count": 4,
     "metadata": {},
     "output_type": "execute_result"
    }
   ],
   "source": [
    "str5.capitalize()"
   ]
  },
  {
   "cell_type": "code",
   "execution_count": 6,
   "id": "580f36a4-1c95-4710-90bc-2950db846b1f",
   "metadata": {},
   "outputs": [
    {
     "data": {
      "text/plain": [
       "'Hello Python'"
      ]
     },
     "execution_count": 6,
     "metadata": {},
     "output_type": "execute_result"
    }
   ],
   "source": [
    "str5.title()"
   ]
  },
  {
   "cell_type": "code",
   "execution_count": 8,
   "id": "b54f66a5-5540-41da-bbc1-6e58dbc1313a",
   "metadata": {},
   "outputs": [
    {
     "data": {
      "text/plain": [
       "'hello python'"
      ]
     },
     "execution_count": 8,
     "metadata": {},
     "output_type": "execute_result"
    }
   ],
   "source": [
    "str5"
   ]
  },
  {
   "cell_type": "markdown",
   "id": "a115618a-5df6-46f1-b242-2b1096fb704c",
   "metadata": {},
   "source": [
    "# split function"
   ]
  },
  {
   "cell_type": "code",
   "execution_count": 13,
   "id": "a5b7abb2-7710-4eba-8687-2039e71d137d",
   "metadata": {},
   "outputs": [],
   "source": [
    "mystr6 = \"Hey buddy this is split function\""
   ]
  },
  {
   "cell_type": "code",
   "execution_count": 15,
   "id": "f100ca97-2a40-4d00-921d-056c38b3515e",
   "metadata": {},
   "outputs": [
    {
     "data": {
      "text/plain": [
       "['Hey', 'buddy', 'this', 'is', 'split', 'function']"
      ]
     },
     "execution_count": 15,
     "metadata": {},
     "output_type": "execute_result"
    }
   ],
   "source": [
    "mystr6.split()"
   ]
  },
  {
   "cell_type": "code",
   "execution_count": 19,
   "id": "dcabd2d8-97a3-415c-aaf9-b40fe839ef65",
   "metadata": {},
   "outputs": [
    {
     "data": {
      "text/plain": [
       "['He', ' budd', ' this is split function']"
      ]
     },
     "execution_count": 19,
     "metadata": {},
     "output_type": "execute_result"
    }
   ],
   "source": [
    "mystr6.split('y')"
   ]
  },
  {
   "cell_type": "markdown",
   "id": "944957ae-b847-460f-a985-0f9ed1b6e1e0",
   "metadata": {},
   "source": [
    "# format function"
   ]
  },
  {
   "cell_type": "code",
   "execution_count": 26,
   "id": "20201241-2919-4336-a61f-0604cb84eb95",
   "metadata": {},
   "outputs": [
    {
     "name": "stdout",
     "output_type": "stream",
     "text": [
      "String of str1,str2,str3 and str4 are ra,hul,mo and hey\n"
     ]
    }
   ],
   "source": [
    "str1= \"ra\"\n",
    "str2=\"hul\"\n",
    "str3=\"mo\"\n",
    "str4=\"hey\"\n",
    "    print(\"String of str1,str2,str3 and str4 are {},{},{} and {}\".format(str1,str2,str3,str4))"
   ]
  },
  {
   "cell_type": "code",
   "execution_count": 28,
   "id": "17bae349-4a97-4010-877d-ca9d7ebd4198",
   "metadata": {},
   "outputs": [
    {
     "name": "stdout",
     "output_type": "stream",
     "text": [
      "String of str1,str2,str3 and str4 are hul,hey,ra and mo\n"
     ]
    }
   ],
   "source": [
    "print(\"String of str1,str2,str3 and str4 are {},{},{} and {}\".format(str2,str4,str1,str3))"
   ]
  },
  {
   "cell_type": "markdown",
   "id": "f053afab-7042-420d-9618-eed0756cc150",
   "metadata": {},
   "source": [
    " # Typecasting"
   ]
  },
  {
   "cell_type": "code",
   "execution_count": 31,
   "id": "2f4171d2-0ef3-4a30-a36d-704d9ca3aabe",
   "metadata": {},
   "outputs": [
    {
     "data": {
      "text/plain": [
       "9.67"
      ]
     },
     "execution_count": 31,
     "metadata": {},
     "output_type": "execute_result"
    }
   ],
   "source": [
    "4+5.67+False"
   ]
  },
  {
   "cell_type": "code",
   "execution_count": 35,
   "id": "2b87b24a-7587-4be2-a0c9-6bbe55c8c226",
   "metadata": {},
   "outputs": [
    {
     "data": {
      "text/plain": [
       "10.6"
      ]
     },
     "execution_count": 35,
     "metadata": {},
     "output_type": "execute_result"
    }
   ],
   "source": [
    "4+5.6+False+True"
   ]
  },
  {
   "cell_type": "code",
   "execution_count": 39,
   "id": "718441d6-e6db-47f1-813e-72dcbac41727",
   "metadata": {},
   "outputs": [
    {
     "ename": "TypeError",
     "evalue": "unsupported operand type(s) for +: 'int' and 'str'",
     "output_type": "error",
     "traceback": [
      "\u001b[1;31m---------------------------------------------------------------------------\u001b[0m",
      "\u001b[1;31mTypeError\u001b[0m                                 Traceback (most recent call last)",
      "Cell \u001b[1;32mIn[39], line 1\u001b[0m\n\u001b[1;32m----> 1\u001b[0m \u001b[38;5;241m4\u001b[39m\u001b[38;5;241m+\u001b[39m\u001b[38;5;241m3\u001b[39m\u001b[38;5;241m+\u001b[39m\u001b[38;5;124m'\u001b[39m\u001b[38;5;124mdata\u001b[39m\u001b[38;5;124m'\u001b[39m\u001b[38;5;241m+\u001b[39m\u001b[38;5;241m6.7\u001b[39m\n",
      "\u001b[1;31mTypeError\u001b[0m: unsupported operand type(s) for +: 'int' and 'str'"
     ]
    }
   ],
   "source": [
    "4+3+'data'+6.7 # error cz int cant goes to string "
   ]
  },
  {
   "cell_type": "markdown",
   "id": "d6e18f93-28e0-447f-b044-a3f9fb2053e5",
   "metadata": {},
   "source": [
    "## Forced typecasting"
   ]
  },
  {
   "cell_type": "code",
   "execution_count": 42,
   "id": "1bf58a20-d970-4e0d-b965-983508667d42",
   "metadata": {},
   "outputs": [],
   "source": [
    "a = 9.7 #goes to float"
   ]
  },
  {
   "cell_type": "code",
   "execution_count": 44,
   "id": "8b8a5ed4-081e-4e60-a7e6-2fb863e6b99e",
   "metadata": {},
   "outputs": [
    {
     "data": {
      "text/plain": [
       "float"
      ]
     },
     "execution_count": 44,
     "metadata": {},
     "output_type": "execute_result"
    }
   ],
   "source": [
    "type(a)"
   ]
  },
  {
   "cell_type": "code",
   "execution_count": 46,
   "id": "d77e9510-539c-4034-b911-a6924c13864a",
   "metadata": {},
   "outputs": [
    {
     "data": {
      "text/plain": [
       "9"
      ]
     },
     "execution_count": 46,
     "metadata": {},
     "output_type": "execute_result"
    }
   ],
   "source": [
    "int(a)"
   ]
  },
  {
   "cell_type": "code",
   "execution_count": 48,
   "id": "6797bbfe-43c6-4810-ba2d-2262dc3186b3",
   "metadata": {},
   "outputs": [
    {
     "data": {
      "text/plain": [
       "True"
      ]
     },
     "execution_count": 48,
     "metadata": {},
     "output_type": "execute_result"
    }
   ],
   "source": [
    "bool(a)"
   ]
  },
  {
   "cell_type": "code",
   "execution_count": 50,
   "id": "961f9613-e74f-48b1-9569-26b58bafe3f0",
   "metadata": {},
   "outputs": [
    {
     "data": {
      "text/plain": [
       "'9.7'"
      ]
     },
     "execution_count": 50,
     "metadata": {},
     "output_type": "execute_result"
    }
   ],
   "source": [
    "str(a)"
   ]
  },
  {
   "cell_type": "code",
   "execution_count": 52,
   "id": "8455e0eb-6644-43de-b5f2-98b83da83dfa",
   "metadata": {},
   "outputs": [
    {
     "data": {
      "text/plain": [
       "9.7"
      ]
     },
     "execution_count": 52,
     "metadata": {},
     "output_type": "execute_result"
    }
   ],
   "source": [
    "a"
   ]
  },
  {
   "cell_type": "code",
   "execution_count": 54,
   "id": "f898821d-59e2-4111-863a-92368c55cd84",
   "metadata": {},
   "outputs": [],
   "source": [
    "ab=str(a)"
   ]
  },
  {
   "cell_type": "code",
   "execution_count": 56,
   "id": "4c45048b-83bd-4f92-bde2-a23571bbf944",
   "metadata": {},
   "outputs": [
    {
     "data": {
      "text/plain": [
       "'9.7'"
      ]
     },
     "execution_count": 56,
     "metadata": {},
     "output_type": "execute_result"
    }
   ],
   "source": [
    "ab"
   ]
  },
  {
   "cell_type": "code",
   "execution_count": 58,
   "id": "a6b9df1e-aa2d-4ab9-8f3d-e764ddd902d3",
   "metadata": {},
   "outputs": [
    {
     "data": {
      "text/plain": [
       "str"
      ]
     },
     "execution_count": 58,
     "metadata": {},
     "output_type": "execute_result"
    }
   ],
   "source": [
    "type(ab)"
   ]
  },
  {
   "cell_type": "code",
   "execution_count": 60,
   "id": "0eaab84c-448c-49ed-b0f6-9065d44a024e",
   "metadata": {},
   "outputs": [
    {
     "data": {
      "text/plain": [
       "float"
      ]
     },
     "execution_count": 60,
     "metadata": {},
     "output_type": "execute_result"
    }
   ],
   "source": [
    "type(a)"
   ]
  },
  {
   "cell_type": "code",
   "execution_count": 62,
   "id": "4b2af02c-a694-45e2-810e-f1b9c2d5414a",
   "metadata": {},
   "outputs": [],
   "source": [
    "a=5 #int"
   ]
  },
  {
   "cell_type": "code",
   "execution_count": 66,
   "id": "f6058e32-646d-4b68-9210-8d6667c752de",
   "metadata": {},
   "outputs": [
    {
     "data": {
      "text/plain": [
       "5.0"
      ]
     },
     "execution_count": 66,
     "metadata": {},
     "output_type": "execute_result"
    }
   ],
   "source": [
    "float(a)"
   ]
  },
  {
   "cell_type": "code",
   "execution_count": 68,
   "id": "9fc2ef97-d011-4b13-8dac-2e31d04437b7",
   "metadata": {},
   "outputs": [
    {
     "data": {
      "text/plain": [
       "True"
      ]
     },
     "execution_count": 68,
     "metadata": {},
     "output_type": "execute_result"
    }
   ],
   "source": [
    "bool(a)"
   ]
  },
  {
   "cell_type": "code",
   "execution_count": 70,
   "id": "020cbf6e-d1fc-471b-a3a5-91b0ecaee492",
   "metadata": {},
   "outputs": [
    {
     "data": {
      "text/plain": [
       "'5'"
      ]
     },
     "execution_count": 70,
     "metadata": {},
     "output_type": "execute_result"
    }
   ],
   "source": [
    "str(a)"
   ]
  },
  {
   "cell_type": "code",
   "execution_count": 72,
   "id": "10ee9cf6-e046-416c-b025-f29ac2a884a9",
   "metadata": {},
   "outputs": [],
   "source": [
    "a=False #bool"
   ]
  },
  {
   "cell_type": "code",
   "execution_count": 74,
   "id": "e9df532e-2a6c-4a16-9f75-fdb11179c279",
   "metadata": {},
   "outputs": [
    {
     "data": {
      "text/plain": [
       "0.0"
      ]
     },
     "execution_count": 74,
     "metadata": {},
     "output_type": "execute_result"
    }
   ],
   "source": [
    "float(a)"
   ]
  },
  {
   "cell_type": "code",
   "execution_count": 76,
   "id": "bc77010a-4033-4712-a39d-f5a25e3f6cda",
   "metadata": {},
   "outputs": [
    {
     "data": {
      "text/plain": [
       "0"
      ]
     },
     "execution_count": 76,
     "metadata": {},
     "output_type": "execute_result"
    }
   ],
   "source": [
    "int(a)"
   ]
  },
  {
   "cell_type": "code",
   "execution_count": 78,
   "id": "094614bb-6124-4ea2-ad4b-37e72882a2c6",
   "metadata": {},
   "outputs": [
    {
     "data": {
      "text/plain": [
       "'False'"
      ]
     },
     "execution_count": 78,
     "metadata": {},
     "output_type": "execute_result"
    }
   ],
   "source": [
    "str(a)"
   ]
  },
  {
   "cell_type": "code",
   "execution_count": 80,
   "id": "fe409747-2d67-4438-943e-560cba7070c1",
   "metadata": {},
   "outputs": [],
   "source": [
    "a='abc' #String"
   ]
  },
  {
   "cell_type": "code",
   "execution_count": 82,
   "id": "e4087b29-a5d6-44cf-9906-16aaac54d664",
   "metadata": {},
   "outputs": [
    {
     "ename": "ValueError",
     "evalue": "could not convert string to float: 'abc'",
     "output_type": "error",
     "traceback": [
      "\u001b[1;31m---------------------------------------------------------------------------\u001b[0m",
      "\u001b[1;31mValueError\u001b[0m                                Traceback (most recent call last)",
      "Cell \u001b[1;32mIn[82], line 1\u001b[0m\n\u001b[1;32m----> 1\u001b[0m \u001b[38;5;28mfloat\u001b[39m(a)\n",
      "\u001b[1;31mValueError\u001b[0m: could not convert string to float: 'abc'"
     ]
    }
   ],
   "source": [
    "float(a) #string cant goes to flaoat and int"
   ]
  },
  {
   "cell_type": "code",
   "execution_count": 84,
   "id": "90395751-f6e9-4ff5-aada-54bbad5a3fab",
   "metadata": {},
   "outputs": [
    {
     "ename": "ValueError",
     "evalue": "invalid literal for int() with base 10: 'abc'",
     "output_type": "error",
     "traceback": [
      "\u001b[1;31m---------------------------------------------------------------------------\u001b[0m",
      "\u001b[1;31mValueError\u001b[0m                                Traceback (most recent call last)",
      "Cell \u001b[1;32mIn[84], line 1\u001b[0m\n\u001b[1;32m----> 1\u001b[0m \u001b[38;5;28mint\u001b[39m(a)\n",
      "\u001b[1;31mValueError\u001b[0m: invalid literal for int() with base 10: 'abc'"
     ]
    }
   ],
   "source": [
    "int(a) #string cant goes to flaot and int"
   ]
  },
  {
   "cell_type": "code",
   "execution_count": 86,
   "id": "f454d32a-f294-4916-8be4-009400cfa301",
   "metadata": {},
   "outputs": [
    {
     "data": {
      "text/plain": [
       "True"
      ]
     },
     "execution_count": 86,
     "metadata": {},
     "output_type": "execute_result"
    }
   ],
   "source": [
    "bool(a)"
   ]
  },
  {
   "cell_type": "code",
   "execution_count": 88,
   "id": "62ce6f98-ae92-4aa3-bae1-c7c18ff2aebb",
   "metadata": {},
   "outputs": [
    {
     "data": {
      "text/plain": [
       "1"
      ]
     },
     "execution_count": 88,
     "metadata": {},
     "output_type": "execute_result"
    }
   ],
   "source": [
    "int(True) #bool"
   ]
  },
  {
   "cell_type": "code",
   "execution_count": 90,
   "id": "295a36c1-0f64-4bf8-a89b-09ed171ba7a5",
   "metadata": {},
   "outputs": [
    {
     "data": {
      "text/plain": [
       "0"
      ]
     },
     "execution_count": 90,
     "metadata": {},
     "output_type": "execute_result"
    }
   ],
   "source": [
    "int(False)"
   ]
  },
  {
   "cell_type": "code",
   "execution_count": 94,
   "id": "5b71ea7c-8b8c-49c9-ab34-0683b0feb5c1",
   "metadata": {},
   "outputs": [
    {
     "data": {
      "text/plain": [
       "1.0"
      ]
     },
     "execution_count": 94,
     "metadata": {},
     "output_type": "execute_result"
    }
   ],
   "source": [
    "float(True)"
   ]
  },
  {
   "cell_type": "code",
   "execution_count": 96,
   "id": "5e7cb5a4-d15d-4070-aee4-023b427dd720",
   "metadata": {},
   "outputs": [
    {
     "data": {
      "text/plain": [
       "0.0"
      ]
     },
     "execution_count": 96,
     "metadata": {},
     "output_type": "execute_result"
    }
   ],
   "source": [
    "float(False)"
   ]
  },
  {
   "cell_type": "code",
   "execution_count": 98,
   "id": "bff6ee86-d5c1-4c40-b70a-06ab1b9a3d78",
   "metadata": {},
   "outputs": [
    {
     "data": {
      "text/plain": [
       "True"
      ]
     },
     "execution_count": 98,
     "metadata": {},
     "output_type": "execute_result"
    }
   ],
   "source": [
    "bool(8.9) #converting flaot type into bool"
   ]
  },
  {
   "cell_type": "code",
   "execution_count": 100,
   "id": "28cf5d88-eba7-478d-ad83-f2082226576d",
   "metadata": {},
   "outputs": [
    {
     "data": {
      "text/plain": [
       "False"
      ]
     },
     "execution_count": 100,
     "metadata": {},
     "output_type": "execute_result"
    }
   ],
   "source": [
    "bool(0)"
   ]
  },
  {
   "cell_type": "code",
   "execution_count": 102,
   "id": "ec199639-629c-4e65-9f27-c0040e666cb1",
   "metadata": {},
   "outputs": [
    {
     "data": {
      "text/plain": [
       "True"
      ]
     },
     "execution_count": 102,
     "metadata": {},
     "output_type": "execute_result"
    }
   ],
   "source": [
    "bool(-1)"
   ]
  },
  {
   "cell_type": "code",
   "execution_count": 104,
   "id": "593bdda9-c5c3-47cb-b1d7-a926cdf666ab",
   "metadata": {},
   "outputs": [
    {
     "data": {
      "text/plain": [
       "'24'"
      ]
     },
     "execution_count": 104,
     "metadata": {},
     "output_type": "execute_result"
    }
   ],
   "source": [
    "str(2) + str(4)"
   ]
  },
  {
   "cell_type": "code",
   "execution_count": 108,
   "id": "3e287ba2-6c8c-465f-9bbf-6c884cc06ded",
   "metadata": {},
   "outputs": [
    {
     "data": {
      "text/plain": [
       "5"
      ]
     },
     "execution_count": 108,
     "metadata": {},
     "output_type": "execute_result"
    }
   ],
   "source": [
    "int(1.5)+4+bool(0\n",
    "               )"
   ]
  },
  {
   "cell_type": "code",
   "execution_count": 110,
   "id": "d1b26229-05dc-463e-a789-65ad27abb226",
   "metadata": {},
   "outputs": [
    {
     "data": {
      "text/plain": [
       "12.0"
      ]
     },
     "execution_count": 110,
     "metadata": {},
     "output_type": "execute_result"
    }
   ],
   "source": [
    "int(5.6)+float(6)+bool(23)"
   ]
  },
  {
   "cell_type": "code",
   "execution_count": 112,
   "id": "1425ed77-5b01-4c76-81fa-31a4bf950bb1",
   "metadata": {},
   "outputs": [
    {
     "data": {
      "text/plain": [
       "12.2"
      ]
     },
     "execution_count": 112,
     "metadata": {},
     "output_type": "execute_result"
    }
   ],
   "source": [
    "int(6.5)+1.2+int(5.5)+bool(0)"
   ]
  },
  {
   "cell_type": "code",
   "execution_count": 114,
   "id": "8e20ccd6-e9c2-40cd-9a8a-dbef4eb3dd0e",
   "metadata": {},
   "outputs": [
    {
     "data": {
      "text/plain": [
       "'5'"
      ]
     },
     "execution_count": 114,
     "metadata": {},
     "output_type": "execute_result"
    }
   ],
   "source": [
    "str(5)"
   ]
  },
  {
   "cell_type": "code",
   "execution_count": 116,
   "id": "d81a6a1b-ee7a-4c29-af1c-b068c01082b4",
   "metadata": {},
   "outputs": [
    {
     "data": {
      "text/plain": [
       "'9.0'"
      ]
     },
     "execution_count": 116,
     "metadata": {},
     "output_type": "execute_result"
    }
   ],
   "source": [
    "str(9.0)"
   ]
  },
  {
   "cell_type": "code",
   "execution_count": 118,
   "id": "78d799a0-b1d2-4548-adbf-8fc89b962146",
   "metadata": {},
   "outputs": [
    {
     "data": {
      "text/plain": [
       "'True'"
      ]
     },
     "execution_count": 118,
     "metadata": {},
     "output_type": "execute_result"
    }
   ],
   "source": [
    "str(True)"
   ]
  },
  {
   "cell_type": "code",
   "execution_count": 120,
   "id": "fa38075c-598a-4a12-926d-22f3f70e2bff",
   "metadata": {},
   "outputs": [
    {
     "data": {
      "text/plain": [
       "'False'"
      ]
     },
     "execution_count": 120,
     "metadata": {},
     "output_type": "execute_result"
    }
   ],
   "source": [
    "str(False)"
   ]
  },
  {
   "cell_type": "code",
   "execution_count": 124,
   "id": "f7df3198-e42c-4546-a137-949db1e58d5e",
   "metadata": {},
   "outputs": [
    {
     "ename": "TypeError",
     "evalue": "unsupported operand type(s) for +: 'int' and 'str'",
     "output_type": "error",
     "traceback": [
      "\u001b[1;31m---------------------------------------------------------------------------\u001b[0m",
      "\u001b[1;31mTypeError\u001b[0m                                 Traceback (most recent call last)",
      "Cell \u001b[1;32mIn[124], line 1\u001b[0m\n\u001b[1;32m----> 1\u001b[0m \u001b[38;5;241m2\u001b[39m\u001b[38;5;241m+\u001b[39m\u001b[38;5;124m'\u001b[39m\u001b[38;5;124m2\u001b[39m\u001b[38;5;124m'\u001b[39m\n",
      "\u001b[1;31mTypeError\u001b[0m: unsupported operand type(s) for +: 'int' and 'str'"
     ]
    }
   ],
   "source": [
    "2+'2' #cant goes to int + string"
   ]
  },
  {
   "cell_type": "code",
   "execution_count": 126,
   "id": "81d04191-cbb9-4482-9abf-87753eacb9c4",
   "metadata": {},
   "outputs": [
    {
     "data": {
      "text/plain": [
       "2"
      ]
     },
     "execution_count": 126,
     "metadata": {},
     "output_type": "execute_result"
    }
   ],
   "source": [
    "int('2')"
   ]
  },
  {
   "cell_type": "code",
   "execution_count": 128,
   "id": "7f228798-3fe1-4129-8764-d23682e4b279",
   "metadata": {},
   "outputs": [
    {
     "data": {
      "text/plain": [
       "4"
      ]
     },
     "execution_count": 128,
     "metadata": {},
     "output_type": "execute_result"
    }
   ],
   "source": [
    "2+int('2')"
   ]
  },
  {
   "cell_type": "code",
   "execution_count": 130,
   "id": "637d278f-e857-45c9-926b-64db94d69fe3",
   "metadata": {},
   "outputs": [
    {
     "data": {
      "text/plain": [
       "'22'"
      ]
     },
     "execution_count": 130,
     "metadata": {},
     "output_type": "execute_result"
    }
   ],
   "source": [
    "str(2)+'2'"
   ]
  },
  {
   "cell_type": "code",
   "execution_count": 136,
   "id": "0d1f8017-ab65-44df-9369-f49a4ddfb24a",
   "metadata": {},
   "outputs": [
    {
     "data": {
      "text/plain": [
       "'abc'"
      ]
     },
     "execution_count": 136,
     "metadata": {},
     "output_type": "execute_result"
    }
   ],
   "source": [
    "a"
   ]
  },
  {
   "cell_type": "code",
   "execution_count": 138,
   "id": "92148002-7bbd-4fd5-8314-daf506aaab90",
   "metadata": {},
   "outputs": [
    {
     "data": {
      "text/plain": [
       "1.0"
      ]
     },
     "execution_count": 138,
     "metadata": {},
     "output_type": "execute_result"
    }
   ],
   "source": [
    "float('1')"
   ]
  },
  {
   "cell_type": "code",
   "execution_count": 140,
   "id": "2aa3fbf0-2918-4261-ac61-5db930b158b5",
   "metadata": {},
   "outputs": [
    {
     "data": {
      "text/plain": [
       "5"
      ]
     },
     "execution_count": 140,
     "metadata": {},
     "output_type": "execute_result"
    }
   ],
   "source": [
    "int(5.9)"
   ]
  },
  {
   "cell_type": "code",
   "execution_count": 146,
   "id": "a6f68a68-c3bc-42cf-8b7d-8c529d759f29",
   "metadata": {},
   "outputs": [
    {
     "data": {
      "text/plain": [
       "17.2"
      ]
     },
     "execution_count": 146,
     "metadata": {},
     "output_type": "execute_result"
    }
   ],
   "source": [
    "5.2+True+bool(-5)-4+42//5+bool(0)+False+int(5.9)+float('1')"
   ]
  },
  {
   "cell_type": "code",
   "execution_count": null,
   "id": "73530b1d-a546-47a8-8ff2-9a5afea68a87",
   "metadata": {},
   "outputs": [],
   "source": []
  }
 ],
 "metadata": {
  "kernelspec": {
   "display_name": "Python 3 (ipykernel)",
   "language": "python",
   "name": "python3"
  },
  "language_info": {
   "codemirror_mode": {
    "name": "ipython",
    "version": 3
   },
   "file_extension": ".py",
   "mimetype": "text/x-python",
   "name": "python",
   "nbconvert_exporter": "python",
   "pygments_lexer": "ipython3",
   "version": "3.12.7"
  }
 },
 "nbformat": 4,
 "nbformat_minor": 5
}
