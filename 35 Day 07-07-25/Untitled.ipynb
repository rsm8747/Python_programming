{
 "cells": [
  {
   "cell_type": "code",
   "execution_count": 3,
   "id": "55635895-cb82-46df-871a-c31fbf31013b",
   "metadata": {},
   "outputs": [
    {
     "name": "stdout",
     "output_type": "stream",
     "text": [
      "w\n"
     ]
    }
   ],
   "source": [
    "# 341. Find the First Non-Repeated character in a string\n",
    "from collections import Counter \n",
    "def first_non_repearted_char(s):\n",
    "    counts = Counter(s)\n",
    "    for ch in s:\n",
    "        if counts[ch] == 1:\n",
    "            return ch\n",
    "    return None\n",
    "\n",
    "print(first_non_repearted_char(\"swiss\"))\n",
    "    "
   ]
  },
  {
   "cell_type": "code",
   "execution_count": 5,
   "id": "760ccd1a-d32c-4386-92be-0dee8dfa3c70",
   "metadata": {},
   "outputs": [
    {
     "name": "stdout",
     "output_type": "stream",
     "text": [
      "True\n",
      "False\n"
     ]
    }
   ],
   "source": [
    "# 342. Check id two strings are rotations of each other \n",
    "def are_rotations(s1,s2):\n",
    "    return len(s1) == len(s2) and s2 in s1+s1\n",
    "print(are_rotations(\"abcd\",\"cdab\"))\n",
    "print(are_rotations(\"abcd\",\"acbd\"))"
   ]
  },
  {
   "cell_type": "code",
   "execution_count": 9,
   "id": "2879daba-7b17-4d5a-a9b7-0830b5df5dcc",
   "metadata": {},
   "outputs": [
    {
     "name": "stdout",
     "output_type": "stream",
     "text": [
      "[1, 2, 3, 4, 5, 6]\n"
     ]
    }
   ],
   "source": [
    "# 343. Flatten a Nested list of arbitary bepth \n",
    "def flatten(lst):\n",
    "    result=[]\n",
    "    for el in lst:\n",
    "        if isinstance(el,list):\n",
    "            result.extend(flatten(el))\n",
    "        else:\n",
    "            result.append(el)\n",
    "    return result\n",
    "\n",
    "print(flatten([1,[2,[3,4],5],6]))\n",
    "\n"
   ]
  },
  {
   "cell_type": "code",
   "execution_count": 11,
   "id": "cdb10079-b71e-4539-b5ff-e27e234fb4d1",
   "metadata": {},
   "outputs": [
    {
     "name": "stdout",
     "output_type": "stream",
     "text": [
      "True\n",
      "False\n"
     ]
    }
   ],
   "source": [
    "# 344. Check if a number is a happy number \n",
    "# (A happy number eventually reaches 1 when replaced by sum of squares of digits repeatedly)\n",
    "\n",
    "def is_happy(n):\n",
    "    seen = set()\n",
    "    while n!=1 and n not in seen:\n",
    "        seen.add(n)\n",
    "        n = sum(int(d)**2 for d in str(n))\n",
    "    return n ==1\n",
    "\n",
    "print(is_happy(19))\n",
    "print(is_happy(20))"
   ]
  },
  {
   "cell_type": "code",
   "execution_count": 15,
   "id": "2e90ccf7-4a30-4be1-a212-12d6509db5c7",
   "metadata": {},
   "outputs": [
    {
     "name": "stdout",
     "output_type": "stream",
     "text": [
      "2\n",
      "2.5\n"
     ]
    }
   ],
   "source": [
    "# 345. Find the median of two sorted lists\n",
    "def find_median_sorted_lists(nums1,nums2):\n",
    "    merged=sorted(nums1+nums2)\n",
    "    n = len(merged)\n",
    "    mid=n//2\n",
    "    if n%2==0:\n",
    "        return (merged[mid-1]+merged[mid])/2\n",
    "    else:\n",
    "        return merged[mid]\n",
    "\n",
    "print(find_median_sorted_lists([1,3],[2]))\n",
    "print(find_median_sorted_lists([1,2],[3,4]))"
   ]
  },
  {
   "cell_type": "code",
   "execution_count": 17,
   "id": "f563432a-7536-4757-803a-4aa15d1ed853",
   "metadata": {},
   "outputs": [
    {
     "name": "stdout",
     "output_type": "stream",
     "text": [
      "2\n"
     ]
    }
   ],
   "source": [
    "# 346. Find the most frequent elements in a list \n",
    "from collections import Counter \n",
    "def most_frequent(nums):\n",
    "    return Counter(nums).most_common(1)[0][0]\n",
    "\n",
    "print(most_frequent([1,2,2,3,3,3,2]))"
   ]
  },
  {
   "cell_type": "code",
   "execution_count": 19,
   "id": "17d6a801-1c4e-4a8e-8148-a837bc11fd4a",
   "metadata": {},
   "outputs": [
    {
     "name": "stdout",
     "output_type": "stream",
     "text": [
      "[[], [1], [2], [1, 2]]\n"
     ]
    }
   ],
   "source": [
    "# 347. Generate all subsets (power set) of a list\n",
    "def subsets(nums):\n",
    "    res=[[]]\n",
    "    for num in nums:\n",
    "        res+=[curr+[num] for curr in res]\n",
    "    return res\n",
    "\n",
    "print(subsets([1,2]))"
   ]
  },
  {
   "cell_type": "code",
   "execution_count": 21,
   "id": "f833a573-8d28-4374-ac54-cc16a66c0864",
   "metadata": {},
   "outputs": [
    {
     "name": "stdout",
     "output_type": "stream",
     "text": [
      "True\n"
     ]
    }
   ],
   "source": [
    "# 348. Find the missing number in a consecutive list of numbers\n",
    "def valid_palindrome(s):\n",
    "    filtered = ''.join(ch.lower() for ch in s if ch.isalnum())\n",
    "    return filtered==filtered[::-1]\n",
    "\n",
    "print(valid_palindrome(\"A man , a plan, a canal: Panama\"))"
   ]
  },
  {
   "cell_type": "code",
   "execution_count": 23,
   "id": "820a065d-a3ef-4d0f-a1dd-e44c92eb83a9",
   "metadata": {},
   "outputs": [
    {
     "name": "stdout",
     "output_type": "stream",
     "text": [
      "3\n"
     ]
    }
   ],
   "source": [
    "# 349. CHeck if a string is a valid palindrome (ignoring non-alphanumeric)\n",
    "def missing_number(nums):\n",
    "    n = len(nums)+1\n",
    "    return n*(n+1)//2-sum(nums)\n",
    "\n",
    "print(missing_number([1,2,4,5,6]))"
   ]
  },
  {
   "cell_type": "code",
   "execution_count": 25,
   "id": "f8dcbdc7-1a5d-4910-9aaf-b66da6598410",
   "metadata": {},
   "outputs": [
    {
     "name": "stdout",
     "output_type": "stream",
     "text": [
      "True\n",
      "False\n"
     ]
    }
   ],
   "source": [
    "# 350. Check if a number is a power of two \n",
    "def is_power_of_two(n):\n",
    "    return n>0 and (n &(n-1))==0\n",
    "\n",
    "print(is_power_of_two(16))\n",
    "print(is_power_of_two(18))"
   ]
  }
 ],
 "metadata": {
  "kernelspec": {
   "display_name": "Python 3 (ipykernel)",
   "language": "python",
   "name": "python3"
  },
  "language_info": {
   "codemirror_mode": {
    "name": "ipython",
    "version": 3
   },
   "file_extension": ".py",
   "mimetype": "text/x-python",
   "name": "python",
   "nbconvert_exporter": "python",
   "pygments_lexer": "ipython3",
   "version": "3.12.7"
  }
 },
 "nbformat": 4,
 "nbformat_minor": 5
}
