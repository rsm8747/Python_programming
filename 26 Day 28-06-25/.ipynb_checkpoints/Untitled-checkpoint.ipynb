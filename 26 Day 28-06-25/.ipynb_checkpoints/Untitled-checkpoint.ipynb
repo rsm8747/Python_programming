{
 "cells": [
  {
   "cell_type": "code",
   "execution_count": 1,
   "id": "44136e3b-06f4-43a4-88f8-7189d4445511",
   "metadata": {},
   "outputs": [
    {
     "name": "stdout",
     "output_type": "stream",
     "text": [
      "2\n"
     ]
    }
   ],
   "source": [
    "# 251. Find the smallesyt positive missing numbers in an unsorted list\n",
    "def smallest_missing_positive(nums):\n",
    "    s= set(nums)\n",
    "    i=1\n",
    "    while i in s:\n",
    "        i +=1\n",
    "        return i\n",
    "\n",
    "print(smallest_missing_positive([3,4,-1,1]))"
   ]
  },
  {
   "cell_type": "code",
   "execution_count": 3,
   "id": "ea8b0d41-0c3c-4d14-a2af-8e074274e1b1",
   "metadata": {},
   "outputs": [
    {
     "name": "stdout",
     "output_type": "stream",
     "text": [
      "True\n",
      "False\n"
     ]
    }
   ],
   "source": [
    "# 252. Check is two strings are rotations of each other \n",
    "def are_rotations(s1,s2):\n",
    "    return len(s1) == len(s2) and s2 in s1+s1\n",
    "\n",
    "print(are_rotations(\"abcde\",\"deabc\"))\n",
    "print(are_rotations(\"abc\",\"acb\"))"
   ]
  },
  {
   "cell_type": "code",
   "execution_count": 5,
   "id": "6f36af5c-b6b6-4f28-8305-634f4e307493",
   "metadata": {},
   "outputs": [
    {
     "name": "stdout",
     "output_type": "stream",
     "text": [
      "8\n"
     ]
    }
   ],
   "source": [
    "# 253. Implement a basic calculate to evaluate a simple expression\n",
    "\n",
    "def basic_calculator(expr):\n",
    "    return eval(expr)\n",
    "\n",
    "print(basic_calculator(\"2+3-1+4\"))"
   ]
  },
  {
   "cell_type": "code",
   "execution_count": 7,
   "id": "dcdfcd75-1478-4096-a64c-b37d7ad3b7c1",
   "metadata": {},
   "outputs": [
    {
     "name": "stdout",
     "output_type": "stream",
     "text": [
      "True\n",
      "False\n"
     ]
    }
   ],
   "source": [
    "# 254. check if a number is an amrstrong number\n",
    "def is_armstrong(n):\n",
    "    digits = str(n)\n",
    "    return n == sum(int(d)**3 for d in digits)\n",
    "print(is_armstrong(153))\n",
    "print(is_armstrong(123))"
   ]
  },
  {
   "cell_type": "code",
   "execution_count": 9,
   "id": "ee81ed1a-5b32-4202-b818-89d2c0803b77",
   "metadata": {},
   "outputs": [
    {
     "name": "stdout",
     "output_type": "stream",
     "text": [
      "10\n"
     ]
    }
   ],
   "source": [
    "# 255. Find the sum of digits of a number recursively \n",
    "def sum_digits_recursive(n):\n",
    "    if n == 0:\n",
    "        return 0\n",
    "    return n % 10 + sum_digits_recursive(n//10)\n",
    "\n",
    "print(sum_digits_recursive(1234))"
   ]
  },
  {
   "cell_type": "code",
   "execution_count": 11,
   "id": "8e568bbb-c776-432a-b2cc-d975b11ee2e0",
   "metadata": {},
   "outputs": [
    {
     "name": "stdout",
     "output_type": "stream",
     "text": [
      "1234\n"
     ]
    }
   ],
   "source": [
    "# 256. Convert a String to an integer without using int()\n",
    "def string_to_int(s):\n",
    "    result = 0\n",
    "    for ch in s:\n",
    "        result = result*10+(ord(ch)-ord('0'))\n",
    "    return result\n",
    "\n",
    "print(string_to_int(\"1234\"))"
   ]
  },
  {
   "cell_type": "code",
   "execution_count": 17,
   "id": "4c3c372a-ff39-4ca8-829a-7e2857d1b28f",
   "metadata": {},
   "outputs": [
    {
     "name": "stdout",
     "output_type": "stream",
     "text": [
      "9\n"
     ]
    }
   ],
   "source": [
    "# 258. Find the largest element in a list without using max()\n",
    "def largest_elements(lst):\n",
    "    largest = lst[0]\n",
    "    for num in lst:\n",
    "        if num > largest:\n",
    "            largest = num\n",
    "    return largest\n",
    "\n",
    "print(largest_elements([1,5,2,9,3]))"
   ]
  },
  {
   "cell_type": "code",
   "execution_count": 19,
   "id": "d6dad41c-f06b-4aaa-b296-2f0b325c4d18",
   "metadata": {},
   "outputs": [
    {
     "name": "stdout",
     "output_type": "stream",
     "text": [
      "120\n"
     ]
    }
   ],
   "source": [
    "# 259. Calculate the factorial of a number using recursion\n",
    "def factorial(n):\n",
    "    if n == 0:\n",
    "        return 1\n",
    "    return n*factorial(n-1)\n",
    "\n",
    "print(factorial(5))"
   ]
  },
  {
   "cell_type": "code",
   "execution_count": 23,
   "id": "85d4997f-1f71-4452-a5bc-545e5779b2b7",
   "metadata": {},
   "outputs": [
    {
     "name": "stdout",
     "output_type": "stream",
     "text": [
      "[1, 2, 3, 4, 5, 6]\n"
     ]
    }
   ],
   "source": [
    "# 260. Flatten a nested list of arbitrary depth \n",
    "def flatten(lst):\n",
    "    flat_list=[]\n",
    "    for i in lst:\n",
    "        if isinstance(i,list):\n",
    "            flat_list.extend(flatten(i))\n",
    "        else:\n",
    "            flat_list.append(i)\n",
    "    return flat_list\n",
    "\n",
    "print(flatten([1,[2,[3,4],5],6]))"
   ]
  }
 ],
 "metadata": {
  "kernelspec": {
   "display_name": "Python 3 (ipykernel)",
   "language": "python",
   "name": "python3"
  },
  "language_info": {
   "codemirror_mode": {
    "name": "ipython",
    "version": 3
   },
   "file_extension": ".py",
   "mimetype": "text/x-python",
   "name": "python",
   "nbconvert_exporter": "python",
   "pygments_lexer": "ipython3",
   "version": "3.12.7"
  }
 },
 "nbformat": 4,
 "nbformat_minor": 5
}
