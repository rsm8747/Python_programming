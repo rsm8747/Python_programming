{
 "cells": [
  {
   "cell_type": "code",
   "execution_count": 1,
   "id": "726b6817-2981-4cf4-9eaf-bdc68c926b84",
   "metadata": {},
   "outputs": [
    {
     "name": "stdout",
     "output_type": "stream",
     "text": [
      "12\n"
     ]
    }
   ],
   "source": [
    "# 331. Find the sum of all even numbers in a list \n",
    "def sum_even(nums):\n",
    "    return sum(num for num in nums if num%2==0)\n",
    "\n",
    "print(sum_even([1,2,3,4,5,6]))"
   ]
  },
  {
   "cell_type": "code",
   "execution_count": 5,
   "id": "a13ffb70-0ed6-43e3-a1b8-136d8ab6f294",
   "metadata": {},
   "outputs": [
    {
     "name": "stdout",
     "output_type": "stream",
     "text": [
      "True\n",
      "False\n"
     ]
    }
   ],
   "source": [
    "# 332. check if  a number is a perfect number (a perfect number equals the sum of its proper divisors)\n",
    "\n",
    "def is_perfect(n):\n",
    "    divisors_sum = sum(i for i in range(1,n) if n % i==0)\n",
    "    return divisors_sum==n\n",
    "\n",
    "print(is_perfect(28))\n",
    "print(is_perfect(12))"
   ]
  },
  {
   "cell_type": "code",
   "execution_count": 7,
   "id": "2c1ecf74-acbd-4161-9ebb-53b2f256dd3e",
   "metadata": {},
   "outputs": [
    {
     "name": "stdout",
     "output_type": "stream",
     "text": [
      "1010\n"
     ]
    }
   ],
   "source": [
    "# 333. Convert a decimal number to binary string\n",
    "def decimal_to_binary(n):\n",
    "    return bin(n)[2:]\n",
    "\n",
    "print(decimal_to_binary(10))"
   ]
  },
  {
   "cell_type": "code",
   "execution_count": 13,
   "id": "2b95af11-3a48-4258-8bfd-e3f73b8bda9b",
   "metadata": {},
   "outputs": [
    {
     "name": "stdout",
     "output_type": "stream",
     "text": [
      "bab\n"
     ]
    }
   ],
   "source": [
    "# 334. Find the length of the longest palindromic substring \n",
    "def longest_palindrome(s):\n",
    "    n = len(s)\n",
    "    if n == 0:\n",
    "        return \"\"\n",
    "    \n",
    "    max_len = 1\n",
    "    start = 0\n",
    "\n",
    "    def expand_around_center(left, right):\n",
    "        while left >= 0 and right < n and s[left] == s[right]:\n",
    "            left -= 1\n",
    "            right += 1\n",
    "        return right - left - 1\n",
    "\n",
    "    for i in range(n):\n",
    "        len1 = expand_around_center(i, i)       # Odd length palindrome\n",
    "        len2 = expand_around_center(i, i + 1)   # Even length palindrome\n",
    "        curr_len = max(len1, len2)\n",
    "        \n",
    "        if curr_len > max_len:\n",
    "            max_len = curr_len\n",
    "            start = i - (curr_len - 1) // 2\n",
    "\n",
    "    return s[start:start + max_len]\n",
    "\n",
    "# Test the function\n",
    "print(longest_palindrome(\"babad\"))  # Output could be \"bab\" or \"aba\"\n"
   ]
  },
  {
   "cell_type": "code",
   "execution_count": 17,
   "id": "ba59d1e1-59eb-4c7b-8097-30ba26aa1a4c",
   "metadata": {},
   "outputs": [
    {
     "name": "stdout",
     "output_type": "stream",
     "text": [
      "4\n"
     ]
    }
   ],
   "source": [
    "# 335. Count the number of prime numbers less than N \n",
    "def count_prime(n):\n",
    "    if n <=2:\n",
    "        return 0\n",
    "    sieve = [True]*n\n",
    "    sieve[0] = sieve[1]=False\n",
    "    for i in range(2,int(n**0.5)+1):\n",
    "        if sieve[i]:\n",
    "            for j in range(i*i,n,i):\n",
    "                sieve[j]=False\n",
    "    return sum(sieve)\n",
    "\n",
    "print(count_prime(10))"
   ]
  },
  {
   "cell_type": "code",
   "execution_count": 23,
   "id": "981acc6f-25ab-44a8-8bb1-c2489764eadb",
   "metadata": {},
   "outputs": [
    {
     "name": "stdout",
     "output_type": "stream",
     "text": [
      "flow\n"
     ]
    }
   ],
   "source": [
    "# 338. Find the longest common prefix among a list of string\n",
    "def longest_common_prefix(strs):\n",
    "    if not strs:\n",
    "        return \"\"\n",
    "    prefix = strs[0]\n",
    "    for s in strs[1:]:\n",
    "        while not s.startswith(prefix):\n",
    "            prefix=prefix[:-1]\n",
    "            if not prefix:\n",
    "                return \"\"\n",
    "        return prefix\n",
    "\n",
    "print(longest_common_prefix([\"flower\",\"flow\",\"flight\"]))"
   ]
  },
  {
   "cell_type": "code",
   "execution_count": 25,
   "id": "ae144980-85d8-47a2-9286-0398d54d3c85",
   "metadata": {},
   "outputs": [
    {
     "name": "stdout",
     "output_type": "stream",
     "text": [
      "True\n",
      "False\n"
     ]
    }
   ],
   "source": [
    "# 339. Check if a number is narcissistic number (same as armstrong but generally for 3-digit numbers)\n",
    "def is_narcissistic(n):\n",
    "    digits = [int(d) for d in str(n)]\n",
    "    power = len(digits)\n",
    "    return n == sum(d**power for d in digits)\n",
    "\n",
    "print(is_narcissistic(153))\n",
    "print(is_narcissistic(123))"
   ]
  },
  {
   "cell_type": "code",
   "execution_count": null,
   "id": "f2bc62f6-9d2d-401d-8d5f-708323592475",
   "metadata": {},
   "outputs": [],
   "source": [
    "# 340. Rotate a list to the right by k steps \n",
    "def rotate_list(nums,k):\n",
    "    k%=len(nums)\n",
    "    return nums[-k:] + nums[:-k]\n",
    "\n",
    "print(rotate_list([1,2,3,4,5],2))"
   ]
  }
 ],
 "metadata": {
  "kernelspec": {
   "display_name": "Python 3 (ipykernel)",
   "language": "python",
   "name": "python3"
  },
  "language_info": {
   "codemirror_mode": {
    "name": "ipython",
    "version": 3
   },
   "file_extension": ".py",
   "mimetype": "text/x-python",
   "name": "python",
   "nbconvert_exporter": "python",
   "pygments_lexer": "ipython3",
   "version": "3.12.7"
  }
 },
 "nbformat": 4,
 "nbformat_minor": 5
}
