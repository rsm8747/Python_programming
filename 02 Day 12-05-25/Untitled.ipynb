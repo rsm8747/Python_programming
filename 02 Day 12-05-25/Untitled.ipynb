{
 "cells": [
  {
   "cell_type": "code",
   "execution_count": 3,
   "id": "02345996-38f2-4b9f-aa0f-f172245e4465",
   "metadata": {},
   "outputs": [
    {
     "name": "stdout",
     "output_type": "stream",
     "text": [
      "12\n"
     ]
    }
   ],
   "source": [
    "# 11. find GCD of two numbers\n",
    "\n",
    "def gcd(a,b):\n",
    "    while b:\n",
    "        a,b =b, a%b\n",
    "    return a\n",
    "\n",
    "print(gcd(60,48))"
   ]
  },
  {
   "cell_type": "code",
   "execution_count": 5,
   "id": "9fd75d76-618c-4a1f-9bde-d69a64303622",
   "metadata": {},
   "outputs": [
    {
     "name": "stdout",
     "output_type": "stream",
     "text": [
      "True\n"
     ]
    }
   ],
   "source": [
    "# 12. Check lear year\n",
    "def is_leap_year(year):\n",
    "    return year % 4 ==0 and (year % 100!=0 or year % 400 ==0)\n",
    "\n",
    "print(is_leap_year(2024))"
   ]
  },
  {
   "cell_type": "code",
   "execution_count": 7,
   "id": "3811365e-6050-4927-b985-5e6fad506d77",
   "metadata": {},
   "outputs": [
    {
     "name": "stdout",
     "output_type": "stream",
     "text": [
      "12\n"
     ]
    }
   ],
   "source": [
    "# 13 Sum of Even NUmbers in a List\n",
    "\n",
    "def sum_even(numbers):\n",
    "    return sum(n for n in numbers if n% 2 ==0)\n",
    "\n",
    "print(sum_even([1,2,3,4,5,6]))\n"
   ]
  },
  {
   "cell_type": "code",
   "execution_count": 9,
   "id": "c4c82778-e611-48fa-b6e5-616f38bb33fe",
   "metadata": {},
   "outputs": [
    {
     "name": "stdout",
     "output_type": "stream",
     "text": [
      "True\n"
     ]
    }
   ],
   "source": [
    "# 14 check if a string is Anagram \n",
    "def is_anagram(s1,s2):\n",
    "    return sorted(s1)==sorted(s2)\n",
    "\n",
    "print(is_anagram(\"listen\",\"silent\"))"
   ]
  },
  {
   "cell_type": "code",
   "execution_count": 11,
   "id": "ef2b6ed0-cf40-49f1-a3e3-8f616feb69c9",
   "metadata": {},
   "outputs": [
    {
     "name": "stdout",
     "output_type": "stream",
     "text": [
      "[1, 2, 3, 4, 5]\n"
     ]
    }
   ],
   "source": [
    "# 15. Find Unique Elements in List\n",
    "def unique_elements(lst):\n",
    "    return list(set(lst))\n",
    "\n",
    "print(unique_elements([1,2,2,3,4,4,5]))"
   ]
  },
  {
   "cell_type": "code",
   "execution_count": 19,
   "id": "3bfbcc73-400f-459d-bd6b-9af6faa25d40",
   "metadata": {},
   "outputs": [
    {
     "name": "stdout",
     "output_type": "stream",
     "text": [
      "3\n"
     ]
    }
   ],
   "source": [
    "# 16. Find MIssing NUmber in Array 1 to n\n",
    "\n",
    "def missing_number(arr,n):\n",
    "    return n*(n+1)//2-sum(arr)\n",
    "\n",
    "print(missing_number([1,2,4,5,6],6))"
   ]
  },
  {
   "cell_type": "code",
   "execution_count": 21,
   "id": "9fb0d53e-89c3-416f-8174-47a874d3e0ad",
   "metadata": {},
   "outputs": [
    {
     "name": "stdout",
     "output_type": "stream",
     "text": [
      "[[1, 3], [2, 4]]\n"
     ]
    }
   ],
   "source": [
    "# 17. Matrix Transpose\n",
    "\n",
    "def transpose(matrix):\n",
    "    return [list(row) for row in zip(*matrix)]\n",
    "\n",
    "matrix = [[1,2],[3,4]]\n",
    "print(transpose(matrix))"
   ]
  },
  {
   "cell_type": "code",
   "execution_count": 27,
   "id": "1b87e2b9-0ded-4c88-b094-16b5428cabed",
   "metadata": {},
   "outputs": [
    {
     "name": "stdout",
     "output_type": "stream",
     "text": [
      "[2, 4]\n"
     ]
    }
   ],
   "source": [
    "# Find all duplicates in list\n",
    "def find_duplicate(lst):\n",
    "    seen = set()\n",
    "    duplicates = set()\n",
    "    for num in lst:\n",
    "        if num in seen:\n",
    "            duplicates.add(num)\n",
    "        else:\n",
    "            seen.add(num)\n",
    "    return list(duplicates)\n",
    "\n",
    "print(find_duplicate([1, 2, 3, 4, 2, 4]))"
   ]
  },
  {
   "cell_type": "code",
   "execution_count": 29,
   "id": "d4db623e-0a1d-4d8e-aa5f-2206d87ee6da",
   "metadata": {},
   "outputs": [
    {
     "name": "stdout",
     "output_type": "stream",
     "text": [
      "5\n"
     ]
    }
   ],
   "source": [
    "# 19 Count Words in a Sentence\n",
    "def word_count(sentence):\n",
    "    return len(sentence.split())\n",
    "\n",
    "print(word_count(\"Python is a powerful language\"))"
   ]
  },
  {
   "cell_type": "code",
   "execution_count": 33,
   "id": "1bb6b0cc-4e34-4ec7-95dd-f82058a067c6",
   "metadata": {},
   "outputs": [
    {
     "name": "stdout",
     "output_type": "stream",
     "text": [
      "[1]\n",
      "[1, 1]\n",
      "[1, 2, 1]\n",
      "[1, 3, 3, 1]\n",
      "[1, 4, 6, 4, 1]\n"
     ]
    }
   ],
   "source": [
    "# 20 Print pascal's Triangle (n rows)\n",
    "\n",
    "def pascal_triangle(n):\n",
    "    triangle = []\n",
    "    for i in range(n):\n",
    "        row = [1]\n",
    "        if i > 0:\n",
    "            for j in range(1, i):\n",
    "                row.append(triangle[i - 1][j - 1] + triangle[i - 1][j])\n",
    "            row.append(1)\n",
    "        triangle.append(row)\n",
    "    return triangle\n",
    "\n",
    "# Print Pascal's triangle\n",
    "result = pascal_triangle(5)\n",
    "for row in result:\n",
    "    print(row)"
   ]
  }
 ],
 "metadata": {
  "kernelspec": {
   "display_name": "Python 3 (ipykernel)",
   "language": "python",
   "name": "python3"
  },
  "language_info": {
   "codemirror_mode": {
    "name": "ipython",
    "version": 3
   },
   "file_extension": ".py",
   "mimetype": "text/x-python",
   "name": "python",
   "nbconvert_exporter": "python",
   "pygments_lexer": "ipython3",
   "version": "3.12.7"
  }
 },
 "nbformat": 4,
 "nbformat_minor": 5
}
