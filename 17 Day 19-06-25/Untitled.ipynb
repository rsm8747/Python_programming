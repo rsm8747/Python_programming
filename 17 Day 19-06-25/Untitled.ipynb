{
 "cells": [
  {
   "cell_type": "code",
   "execution_count": 1,
   "id": "aad9206c-dcd7-438c-ab45-4162ff7d1496",
   "metadata": {},
   "outputs": [
    {
     "name": "stdout",
     "output_type": "stream",
     "text": [
      "hELLO world\n"
     ]
    }
   ],
   "source": [
    "#161. Swap case of each character in a string\n",
    "def swap_case(s):\n",
    "    return s.swapcase()\n",
    "\n",
    "print(swap_case(\"Hello WORLD\")) # hELLO world"
   ]
  },
  {
   "cell_type": "code",
   "execution_count": 3,
   "id": "e73fe7ce-d29d-49f1-bb62-6857d45ab525",
   "metadata": {},
   "outputs": [
    {
     "name": "stdout",
     "output_type": "stream",
     "text": [
      "5\n"
     ]
    }
   ],
   "source": [
    "# 162. Count the Number of words in a senetence\n",
    "def count_words(sentence):\n",
    "    return len(sentence.split())\n",
    "\n",
    "print(count_words(\"Python is easy to learn\"))"
   ]
  },
  {
   "cell_type": "code",
   "execution_count": 5,
   "id": "08ccc387-87e9-4ebe-8c49-9a1b47c8c418",
   "metadata": {},
   "outputs": [
    {
     "name": "stdout",
     "output_type": "stream",
     "text": [
      "True\n"
     ]
    }
   ],
   "source": [
    "# 163. Check if a number is an Armstrong Number\n",
    "def is_armstrong(n):\n",
    "    digits = [int(d) for d in str(n)]\n",
    "    return n==sum(d**len(digits) for d in digits)\n",
    "\n",
    "print(is_armstrong(153))"
   ]
  },
  {
   "cell_type": "code",
   "execution_count": 7,
   "id": "795fe683-6167-4d1a-ae9e-18d215a43694",
   "metadata": {},
   "outputs": [
    {
     "name": "stdout",
     "output_type": "stream",
     "text": [
      "[1, 2, 3, 4]\n"
     ]
    }
   ],
   "source": [
    "# 164. Flatten a Nested List\n",
    "def flatten_list(nested):\n",
    "    return [item for sublist in nested for item in sublist]\n",
    "\n",
    "print(flatten_list([[1,2],[3,4]]))"
   ]
  },
  {
   "cell_type": "code",
   "execution_count": 9,
   "id": "6332ce44-5813-4072-a2e1-dfdbda061376",
   "metadata": {},
   "outputs": [
    {
     "name": "stdout",
     "output_type": "stream",
     "text": [
      "120\n"
     ]
    }
   ],
   "source": [
    "# 165. Calculate the Factorial of a number (Using Recursiion)\n",
    "def factorial(n):\n",
    "    return 1 if n ==0 else n*factorial(n-1)\n",
    "\n",
    "print(factorial(5))"
   ]
  },
  {
   "cell_type": "code",
   "execution_count": 11,
   "id": "795e3e6a-86e3-4171-ae98-bdd6b0fe375f",
   "metadata": {},
   "outputs": [
    {
     "name": "stdout",
     "output_type": "stream",
     "text": [
      "Python is fun\n"
     ]
    }
   ],
   "source": [
    "# 166. Convert a list into a string (with separator)\n",
    "\n",
    "def list_to_string(lst,sep=','):\n",
    "    return sep.join(lst)\n",
    "\n",
    "print(list_to_string([\"Python\",\"is\",\"fun\"],\" \"))"
   ]
  },
  {
   "cell_type": "code",
   "execution_count": 17,
   "id": "80d7a418-2f95-43f0-b870-19122daac4e2",
   "metadata": {},
   "outputs": [
    {
     "name": "stdout",
     "output_type": "stream",
     "text": [
      "[2, 3]\n"
     ]
    }
   ],
   "source": [
    "# 167. Find the common elements in multiple lists\n",
    "def common_elements(*lists):\n",
    "    return list(set.intersection(*map(set,lists)))\n",
    "\n",
    "print(common_elements([1,2,3],[2,3,4],[0,2,3]))"
   ]
  },
  {
   "cell_type": "code",
   "execution_count": 21,
   "id": "c53f82bb-d031-45af-b186-4339d8df964c",
   "metadata": {},
   "outputs": [
    {
     "name": "stdout",
     "output_type": "stream",
     "text": [
      "JavaScript\n"
     ]
    }
   ],
   "source": [
    "# 168. Find the longest word in a list\n",
    "def longest_word(words):\n",
    "    return max(words,key=len)\n",
    "\n",
    "print(longest_word([\"Python\",\"Java\",\"JavaScript\"]))"
   ]
  },
  {
   "cell_type": "code",
   "execution_count": 23,
   "id": "2f546d4e-abc1-463b-9cd6-f24f20c4b481",
   "metadata": {},
   "outputs": [
    {
     "name": "stdout",
     "output_type": "stream",
     "text": [
      "H*ll* W*rld\n"
     ]
    }
   ],
   "source": [
    "# 169. Replace vowels in a string with '*'\n",
    "def replace_vowels(s):\n",
    "    return ''.join('*' if c.lower() in 'aeiou' else c for c in s)\n",
    "\n",
    "print(replace_vowels(\"Hello World\"))"
   ]
  },
  {
   "cell_type": "code",
   "execution_count": 25,
   "id": "eab02c47-31c8-4892-aaff-bc86cb26e08b",
   "metadata": {},
   "outputs": [
    {
     "name": "stdout",
     "output_type": "stream",
     "text": [
      "['abc', 'acb', 'bac', 'bca', 'cab', 'cba']\n"
     ]
    }
   ],
   "source": [
    "# 170. GEt all permutattions of a string \n",
    "from itertools import permutations\n",
    "def string_permutations(s):\n",
    "    return [''.join(p) for p in permutations(s)]\n",
    "\n",
    "print(string_permutations(\"abc\"))"
   ]
  }
 ],
 "metadata": {
  "kernelspec": {
   "display_name": "Python 3 (ipykernel)",
   "language": "python",
   "name": "python3"
  },
  "language_info": {
   "codemirror_mode": {
    "name": "ipython",
    "version": 3
   },
   "file_extension": ".py",
   "mimetype": "text/x-python",
   "name": "python",
   "nbconvert_exporter": "python",
   "pygments_lexer": "ipython3",
   "version": "3.12.7"
  }
 },
 "nbformat": 4,
 "nbformat_minor": 5
}
