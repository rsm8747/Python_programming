{
 "cells": [
  {
   "cell_type": "code",
   "execution_count": 5,
   "id": "c132632e-43f3-4a19-8fd5-147ee5c771e8",
   "metadata": {},
   "outputs": [
    {
     "name": "stdout",
     "output_type": "stream",
     "text": [
      "[1, 2, 3, 4]\n"
     ]
    }
   ],
   "source": [
    "# 201. Remove Duplicates from a list without using set()\n",
    "\n",
    "def remove_duplicates(lst):\n",
    "    result=[]\n",
    "    for item in lst:\n",
    "        if item not in result:\n",
    "            result.append(item)\n",
    "    return result\n",
    "print(remove_duplicates([1,2,2,3,4,4]))"
   ]
  },
  {
   "cell_type": "code",
   "execution_count": 7,
   "id": "3ccb66b7-27d5-432d-ba09-831ab89e99dd",
   "metadata": {},
   "outputs": [
    {
     "name": "stdout",
     "output_type": "stream",
     "text": [
      "[1, 2, 3, 4, 5]\n"
     ]
    }
   ],
   "source": [
    "# 202. Flatten a Nested List\n",
    "def flatten(lst):\n",
    "    return [item for sublist in lst for item in sublist]\n",
    "print(flatten([[1,2],[3,4],[5]]))"
   ]
  },
  {
   "cell_type": "code",
   "execution_count": 11,
   "id": "90320b18-42a7-4f84-bb5b-a44b0d05706a",
   "metadata": {},
   "outputs": [
    {
     "name": "stdout",
     "output_type": "stream",
     "text": [
      "ollehdlrow\n"
     ]
    }
   ],
   "source": [
    "# 203. Reverse Each Word in a sentence\n",
    "def reverse_words(sentence):\n",
    "    return ''.join(word[::-1] for word in sentence.split())\n",
    "print(reverse_words(\"hello world\"))"
   ]
  },
  {
   "cell_type": "code",
   "execution_count": 13,
   "id": "de95b0ef-4d5e-46bf-a92c-6bf299a3e3e1",
   "metadata": {},
   "outputs": [
    {
     "name": "stdout",
     "output_type": "stream",
     "text": [
      "6\n"
     ]
    }
   ],
   "source": [
    "# 204. Finf the Index of the First Occurrence of a substring \n",
    "def first_occurrence(s,sub):\n",
    "    return s.find(sub)\n",
    "print(first_occurrence(\"hello world\",\"world\"))"
   ]
  },
  {
   "cell_type": "code",
   "execution_count": 17,
   "id": "908f3162-5deb-47c0-b066-bf735fa3ae11",
   "metadata": {},
   "outputs": [
    {
     "name": "stdout",
     "output_type": "stream",
     "text": [
      "PythonIsAwesome\n"
     ]
    }
   ],
   "source": [
    "# 205. Capitalize the first letter of each wprd in senetence\n",
    "def capitalize_words(senetence):\n",
    "    return ''.join(word.capitalize() for word in senetence.split())\n",
    "print(capitalize_words(\"Python is awesome\"))"
   ]
  },
  {
   "cell_type": "code",
   "execution_count": 19,
   "id": "55ef253b-c77c-43de-b11d-6492443c5ed8",
   "metadata": {},
   "outputs": [
    {
     "name": "stdout",
     "output_type": "stream",
     "text": [
      "2\n"
     ]
    }
   ],
   "source": [
    "# 206. COunt how many times a substring appears in a string\n",
    "def count_substring(s,sub):\n",
    "    return s.count(sub)\n",
    "\n",
    "print(count_substring(\"banana\",\"an\"))"
   ]
  },
  {
   "cell_type": "code",
   "execution_count": 27,
   "id": "9d2937e6-3ad6-46f2-8ae6-53a6a1d46d16",
   "metadata": {},
   "outputs": [
    {
     "name": "stdout",
     "output_type": "stream",
     "text": [
      "[123, 45]\n"
     ]
    }
   ],
   "source": [
    "# 207 Find all numbers in a string\n",
    "import re \n",
    "def find_numbers(s):\n",
    "    return list(map(int,re.findall(r'\\d+',s)))\n",
    "print(find_numbers(\"abc123def45\"))"
   ]
  },
  {
   "cell_type": "code",
   "execution_count": 25,
   "id": "85b073ce-88d5-4fa9-9ac8-83c3f0b0e06e",
   "metadata": {},
   "outputs": [
    {
     "name": "stdout",
     "output_type": "stream",
     "text": [
      "123\n"
     ]
    }
   ],
   "source": [
    "# 208. Convert a list of integers to a single integer \n",
    "def list_to_number(lst):\n",
    "    return int(''.join(map(str,lst)))\n",
    "print(list_to_number([1,2,3]))"
   ]
  },
  {
   "cell_type": "code",
   "execution_count": 31,
   "id": "9f2009a8-51a0-4869-b5b7-78986a8cea74",
   "metadata": {},
   "outputs": [
    {
     "name": "stdout",
     "output_type": "stream",
     "text": [
      "btfl\n"
     ]
    }
   ],
   "source": [
    "# 209. Remove all vowels from a string \n",
    "def remove_vowels(s):\n",
    "    return ''.join(c for c in s if c.lower() not in 'aeiou')\n",
    "print(remove_vowels(\"beautiful\"))"
   ]
  },
  {
   "cell_type": "code",
   "execution_count": 35,
   "id": "4fbbd935-afbd-4061-ae3a-74fd016d473a",
   "metadata": {},
   "outputs": [
    {
     "name": "stdout",
     "output_type": "stream",
     "text": [
      "[1, 3]\n"
     ]
    }
   ],
   "source": [
    "# 210. Find the Difference Between Two Lists\n",
    "def list_difference(a,b):\n",
    "    return list(set(a)-set(b))\n",
    "\n",
    "print(list_difference([1,2,3,4],[2,4]))"
   ]
  }
 ],
 "metadata": {
  "kernelspec": {
   "display_name": "Python 3 (ipykernel)",
   "language": "python",
   "name": "python3"
  },
  "language_info": {
   "codemirror_mode": {
    "name": "ipython",
    "version": 3
   },
   "file_extension": ".py",
   "mimetype": "text/x-python",
   "name": "python",
   "nbconvert_exporter": "python",
   "pygments_lexer": "ipython3",
   "version": "3.12.7"
  }
 },
 "nbformat": 4,
 "nbformat_minor": 5
}
