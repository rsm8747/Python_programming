{
 "cells": [
  {
   "cell_type": "code",
   "execution_count": 1,
   "id": "3f079ef1-e186-45f7-9e33-0cd3fca322e9",
   "metadata": {},
   "outputs": [
    {
     "name": "stdout",
     "output_type": "stream",
     "text": [
      "True\n",
      "False\n"
     ]
    }
   ],
   "source": [
    "# 291. Check if a string contains only digits \n",
    "def is_digits_only(s):\n",
    "    return s.isdigit()\n",
    "\n",
    "print(is_digits_only(\"1234\"))\n",
    "print(is_digits_only(\"123a5\"))"
   ]
  },
  {
   "cell_type": "code",
   "execution_count": 5,
   "id": "e6ab1f24-3061-4063-8644-06df0db1ece8",
   "metadata": {},
   "outputs": [
    {
     "name": "stdout",
     "output_type": "stream",
     "text": [
      "c\n"
     ]
    }
   ],
   "source": [
    "# 292. Find the highest frequency character in a string \n",
    "from collections import Counter\n",
    "def highest_freq_char(s):\n",
    "    return Counter(s).most_common(1)[0][0]\n",
    "print(highest_freq_char(\"aabbccc\"))  # c\n"
   ]
  },
  {
   "cell_type": "code",
   "execution_count": 7,
   "id": "90927a74-68dd-4eca-9b9c-8b43f438320d",
   "metadata": {},
   "outputs": [
    {
     "name": "stdout",
     "output_type": "stream",
     "text": [
      "[1, 2, 3, 4]\n"
     ]
    }
   ],
   "source": [
    "# 293. Remove Duplicates from a list while preserving order\n",
    "def remove_duplicates(lst):\n",
    "    seen=set()\n",
    "    result=[]\n",
    "    for item in lst:\n",
    "        if item not in seen:\n",
    "            seen.add(item)\n",
    "            result.append(item)\n",
    "    return result\n",
    "\n",
    "print(remove_duplicates([1,2,2,3,1,4]))"
   ]
  },
  {
   "cell_type": "code",
   "execution_count": 9,
   "id": "d6bbb996-f04d-4371-a2c1-afe2abead053",
   "metadata": {},
   "outputs": [
    {
     "name": "stdout",
     "output_type": "stream",
     "text": [
      "13\n"
     ]
    }
   ],
   "source": [
    "# 294. Convert a Binar String to Decimal Integer\n",
    "def binary_to_decimal(bin_str):\n",
    "    return int(bin_str,2)\n",
    "\n",
    "print(binary_to_decimal(\"1101\"))"
   ]
  },
  {
   "cell_type": "code",
   "execution_count": 11,
   "id": "97a65c4c-4276-4e66-bbb7-a29a3d2d3711",
   "metadata": {},
   "outputs": [
    {
     "name": "stdout",
     "output_type": "stream",
     "text": [
      "120\n"
     ]
    }
   ],
   "source": [
    "# 295. Calculate the factorial of a number using recursion\n",
    "def factorial(n):\n",
    "    if n ==0:\n",
    "        return 1\n",
    "    return n*factorial(n-1)\n",
    "\n",
    "print(factorial(5))"
   ]
  },
  {
   "cell_type": "code",
   "execution_count": 13,
   "id": "6e2e461f-3785-4c40-afa2-55e9112e71a9",
   "metadata": {},
   "outputs": [
    {
     "name": "stdout",
     "output_type": "stream",
     "text": [
      "True\n",
      "False\n"
     ]
    }
   ],
   "source": [
    "# 296. Check if two lists are equal(same elements and order)\n",
    "def lists_equal(lst1,lst2):\n",
    "    return lst1==lst2\n",
    "\n",
    "print(lists_equal([1,2,3],[1,2,3]))\n",
    "print(lists_equal([1,2,3],[3,2,1]))"
   ]
  },
  {
   "cell_type": "code",
   "execution_count": 17,
   "id": "68ae562e-74a2-4bea-8876-09239a9f6e52",
   "metadata": {},
   "outputs": [
    {
     "name": "stdout",
     "output_type": "stream",
     "text": [
      "[2, 3]\n"
     ]
    }
   ],
   "source": [
    "# 297. Find the model(s) in a list\n",
    "from collections import Counter\n",
    "def find_models(lst):\n",
    "    counts=Counter(lst)\n",
    "    max_count=max(counts.values())\n",
    "    return [k for k, v in counts.items()if v ==max_count]\n",
    "\n",
    "print(find_models([1,2,2,3,3]))"
   ]
  },
  {
   "cell_type": "code",
   "execution_count": 19,
   "id": "11b1bed0-af14-4870-a011-5b4fc1d94878",
   "metadata": {},
   "outputs": [
    {
     "name": "stdout",
     "output_type": "stream",
     "text": [
      "True\n",
      "False\n"
     ]
    }
   ],
   "source": [
    "# 298. Check if a number is a number is a perfect square\n",
    "import math \n",
    "def is_perfect_square(n):\n",
    "    return int(math.sqrt(n))**2==n\n",
    "\n",
    "print(is_perfect_square(16))\n",
    "print(is_perfect_square(15))"
   ]
  },
  {
   "cell_type": "code",
   "execution_count": 21,
   "id": "2abbd6e3-c457-4851-9fad-cd3196292713",
   "metadata": {},
   "outputs": [
    {
     "name": "stdout",
     "output_type": "stream",
     "text": [
      "pythonfromworldHello\n"
     ]
    }
   ],
   "source": [
    "#299. Reverse words in a sentence\n",
    "def reverse_words(sentence):\n",
    "    return ''.join(sentence.split()[::-1])\n",
    "\n",
    "print(reverse_words(\"Hello world from python \"))"
   ]
  }
 ],
 "metadata": {
  "kernelspec": {
   "display_name": "Python 3 (ipykernel)",
   "language": "python",
   "name": "python3"
  },
  "language_info": {
   "codemirror_mode": {
    "name": "ipython",
    "version": 3
   },
   "file_extension": ".py",
   "mimetype": "text/x-python",
   "name": "python",
   "nbconvert_exporter": "python",
   "pygments_lexer": "ipython3",
   "version": "3.12.7"
  }
 },
 "nbformat": 4,
 "nbformat_minor": 5
}
