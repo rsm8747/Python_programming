{
 "cells": [
  {
   "cell_type": "code",
   "execution_count": 1,
   "id": "d5cf9acc-4395-4d54-b891-5a9b0ecf66dc",
   "metadata": {},
   "outputs": [
    {
     "name": "stdout",
     "output_type": "stream",
     "text": [
      "True\n",
      "False\n"
     ]
    }
   ],
   "source": [
    "# 311. Check if two strings are anagrams \n",
    "def are_anagrams(s1,s2):\n",
    "    return sorted(s1) == sorted(s2)\n",
    "\n",
    "print(are_anagrams(\"listen\",\"silent\"))\n",
    "print(are_anagrams(\"hello\",\"bello\"))"
   ]
  },
  {
   "cell_type": "code",
   "execution_count": 5,
   "id": "d9a78431-3d36-4170-b362-f60bc7e33cd5",
   "metadata": {},
   "outputs": [
    {
     "name": "stdout",
     "output_type": "stream",
     "text": [
      "4\n"
     ]
    }
   ],
   "source": [
    "# 312. Fiind the second largest number in a list\n",
    "def second_largest(nums):\n",
    "    unique_nums = list(set(nums))\n",
    "    unique_nums.sort()\n",
    "    return unique_nums[-2] if len(unique_nums) >=2 else None\n",
    "\n",
    "print(second_largest([4,2,1,5,5,3]))"
   ]
  },
  {
   "cell_type": "code",
   "execution_count": 9,
   "id": "5f6cb890-3c29-4da6-83f5-dae7dcce9d89",
   "metadata": {},
   "outputs": [
    {
     "name": "stdout",
     "output_type": "stream",
     "text": [
      "3\n"
     ]
    }
   ],
   "source": [
    "# 313. Count the number of words in a sentence\n",
    "def count_words(senetence):\n",
    "    return len(senetence.split())\n",
    "\n",
    "print(count_words(\"Python is great\"))"
   ]
  },
  {
   "cell_type": "code",
   "execution_count": 11,
   "id": "f01e9c52-c062-488b-a40e-8d062f6178fd",
   "metadata": {},
   "outputs": [
    {
     "name": "stdout",
     "output_type": "stream",
     "text": [
      "funisPython\n"
     ]
    }
   ],
   "source": [
    "# 314. Reverse the order of words in a senetence \n",
    "def reverse_sentence(sentence):\n",
    "    return ''.join(sentence.split()[::-1])\n",
    "\n",
    "print(reverse_sentence(\"Python is fun\"))"
   ]
  },
  {
   "cell_type": "code",
   "execution_count": 15,
   "id": "de5ebc8b-028c-4c21-b2f9-8610d5da8efd",
   "metadata": {},
   "outputs": [
    {
     "name": "stdout",
     "output_type": "stream",
     "text": [
      "True\n",
      "False\n"
     ]
    }
   ],
   "source": [
    "# 315. check if a number is a prime number \n",
    "def is_prime(n):\n",
    "    if n <=1:\n",
    "        return False\n",
    "    for i in range(2, int(n**0.5)+1):\n",
    "        if n % i ==0:\n",
    "            return False\n",
    "    return True\n",
    "print(is_prime(17))\n",
    "print(is_prime(18))"
   ]
  },
  {
   "cell_type": "code",
   "execution_count": 17,
   "id": "9dffeaa5-0085-465f-9d32-35182a57d282",
   "metadata": {},
   "outputs": [
    {
     "name": "stdout",
     "output_type": "stream",
     "text": [
      "6\n"
     ]
    }
   ],
   "source": [
    "# 316. Find the GCD of two numbers \n",
    "def gcd(a,b):\n",
    "    while b:\n",
    "        a,b = b, a%b\n",
    "    return a\n",
    "\n",
    "print(gcd(48,18))"
   ]
  },
  {
   "cell_type": "code",
   "execution_count": 19,
   "id": "f32d6d95-ad0c-4866-ae4e-d54e6e93717b",
   "metadata": {},
   "outputs": [
    {
     "name": "stdout",
     "output_type": "stream",
     "text": [
      "12\n"
     ]
    }
   ],
   "source": [
    "# 317. Find the lcm of twi numbers\n",
    "def lcm(a,b):\n",
    "    def gcd(x,y):\n",
    "        while y:\n",
    "            x,y=y,x%y\n",
    "        return x\n",
    "    return a*b //gcd(a,b)\n",
    "\n",
    "print(lcm(4,6))"
   ]
  },
  {
   "cell_type": "code",
   "execution_count": 21,
   "id": "f2f1c4f6-1391-446f-8ce1-50f8a1ec49b8",
   "metadata": {},
   "outputs": [
    {
     "name": "stdout",
     "output_type": "stream",
     "text": [
      "Hll Wrld\n"
     ]
    }
   ],
   "source": [
    "# 318. Remove all vowels from a string \n",
    "def remove_vowels(s):\n",
    "    vowels='aeiouAEIOU'\n",
    "    return ''.join(ch for ch in s if ch not in vowels)\n",
    "\n",
    "print(remove_vowels(\"Hello World\"))"
   ]
  },
  {
   "cell_type": "code",
   "execution_count": 23,
   "id": "446b1ee6-0c8c-4841-a319-8a3c7956329b",
   "metadata": {},
   "outputs": [
    {
     "name": "stdout",
     "output_type": "stream",
     "text": [
      "5\n"
     ]
    }
   ],
   "source": [
    "# 319. Count the number of digits in an integer\n",
    "def count_digits(n):\n",
    "    return len(str(abs(n)))\n",
    "\n",
    "print(count_digits(12345))"
   ]
  },
  {
   "cell_type": "code",
   "execution_count": null,
   "id": "cffef413-0012-4f1c-8439-916bff566dbc",
   "metadata": {},
   "outputs": [],
   "source": [
    "# 320. Find the sum of the suares of numbers in a list\n",
    "def sum_of_squares(nums"
   ]
  }
 ],
 "metadata": {
  "kernelspec": {
   "display_name": "Python 3 (ipykernel)",
   "language": "python",
   "name": "python3"
  },
  "language_info": {
   "codemirror_mode": {
    "name": "ipython",
    "version": 3
   },
   "file_extension": ".py",
   "mimetype": "text/x-python",
   "name": "python",
   "nbconvert_exporter": "python",
   "pygments_lexer": "ipython3",
   "version": "3.12.7"
  }
 },
 "nbformat": 4,
 "nbformat_minor": 5
}
