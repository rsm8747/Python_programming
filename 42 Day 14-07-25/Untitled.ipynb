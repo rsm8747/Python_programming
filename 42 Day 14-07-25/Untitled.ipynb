{
 "cells": [
  {
   "cell_type": "code",
   "execution_count": 1,
   "id": "98a84064-f685-48c0-8d07-73c13ce6fb2f",
   "metadata": {},
   "outputs": [
    {
     "name": "stdout",
     "output_type": "stream",
     "text": [
      "Reversed: nohtyP\n"
     ]
    }
   ],
   "source": [
    "# 1. Reverse a String\n",
    "text = \"Python\"\n",
    "reversed_text=text[::-1]\n",
    "print(\"Reversed:\",reversed_text)"
   ]
  },
  {
   "cell_type": "code",
   "execution_count": 3,
   "id": "29fbf1e0-47c6-4eba-8744-b51415321103",
   "metadata": {},
   "outputs": [
    {
     "name": "stdout",
     "output_type": "stream",
     "text": [
      "Prime\n"
     ]
    }
   ],
   "source": [
    "# 2. Check if a number is prime \n",
    "num =29\n",
    "is_prime=True\n",
    "if num>1:\n",
    "    for i in range(2,int(num**0.5)+1):\n",
    "        if num % i ==0:\n",
    "            is_prime=False\n",
    "            break\n",
    "else:\n",
    "    is_prime=False\n",
    "\n",
    "print(\"Prime\" if is_prime else \"Not prime\")"
   ]
  },
  {
   "cell_type": "code",
   "execution_count": 5,
   "id": "b0291c3d-e75b-4376-be39-b52a00492ae4",
   "metadata": {},
   "outputs": [
    {
     "name": "stdout",
     "output_type": "stream",
     "text": [
      "0 1 1 2 3 5 8 13 21 34 "
     ]
    }
   ],
   "source": [
    "# 3. Fibonacci Series up to N terms \n",
    "n =10\n",
    "a,b=0,1\n",
    "for _ in range(n):\n",
    "    print(a,end=' ')\n",
    "    a,b=b,a+b"
   ]
  },
  {
   "cell_type": "code",
   "execution_count": 7,
   "id": "f822270e-d7f7-4bc3-b0d6-79f6dab7d1de",
   "metadata": {},
   "outputs": [
    {
     "name": "stdout",
     "output_type": "stream",
     "text": [
      "factorial: 120\n"
     ]
    }
   ],
   "source": [
    "# Find factorial of a number \n",
    "num = 5\n",
    "fact =1 \n",
    "for i in range(1,num+1):\n",
    "    fact *= i\n",
    "\n",
    "print(\"factorial:\",fact)"
   ]
  },
  {
   "cell_type": "code",
   "execution_count": 9,
   "id": "dcff618f-8745-4530-868e-3dea904b1c5b",
   "metadata": {},
   "outputs": [
    {
     "name": "stdout",
     "output_type": "stream",
     "text": [
      "Vowel Count: 3\n"
     ]
    }
   ],
   "source": [
    "# 5 . count vowel in a string\n",
    "s = \"Hello World\"\n",
    "vowels = \"aeiouAEIOU\"\n",
    "count=sum(1 for char in s if char in vowels)\n",
    "print(\"Vowel Count:\",count)"
   ]
  },
  {
   "cell_type": "code",
   "execution_count": 11,
   "id": "d8bc45ef-e6ea-47eb-bb72-7a33a8301049",
   "metadata": {},
   "outputs": [
    {
     "name": "stdout",
     "output_type": "stream",
     "text": [
      "Palindrome\n"
     ]
    }
   ],
   "source": [
    "# 6. Palindrome Check \n",
    "s = \"madam\"\n",
    "if s == s[::-1]:\n",
    "    print(\"Palindrome\")\n",
    "else:\n",
    "    print(\"Not a palindrome\")"
   ]
  },
  {
   "cell_type": "code",
   "execution_count": 13,
   "id": "9ed77a3c-cc4d-4dc6-8e74-72163e20af96",
   "metadata": {},
   "outputs": [
    {
     "name": "stdout",
     "output_type": "stream",
     "text": [
      "Sum of digits: 15\n"
     ]
    }
   ],
   "source": [
    "# 7. Sum if digits of a number \n",
    "num = 12345\n",
    "sum_digits=sum(int(digit) for digit in str(num))\n",
    "print(\"Sum of digits:\", sum_digits)"
   ]
  },
  {
   "cell_type": "code",
   "execution_count": 15,
   "id": "b0c83176-9fe4-4e7b-beb5-9a3a18baefee",
   "metadata": {},
   "outputs": [
    {
     "name": "stdout",
     "output_type": "stream",
     "text": [
      "Max element: 20\n"
     ]
    }
   ],
   "source": [
    "# 8. Find largest element in a list\n",
    "lst = [5,10,3,8,20,1]\n",
    "print(\"Max element:\", max(lst))\n",
    "      "
   ]
  },
  {
   "cell_type": "code",
   "execution_count": 17,
   "id": "f9c21f28-1449-4fa7-b039-2a7417d1aea2",
   "metadata": {},
   "outputs": [
    {
     "name": "stdout",
     "output_type": "stream",
     "text": [
      "*\n",
      "**\n",
      "***\n",
      "****\n",
      "*****\n"
     ]
    }
   ],
   "source": [
    "# 9. Print a right angled triangle pattern \n",
    "n = 5\n",
    "for i in range(1,n+1):\n",
    "    print(\"*\" * i)"
   ]
  },
  {
   "cell_type": "code",
   "execution_count": 19,
   "id": "7ab2eb82-4a36-4190-b47c-c4ae946c90fa",
   "metadata": {},
   "outputs": [
    {
     "name": "stdout",
     "output_type": "stream",
     "text": [
      "Without duplicates: [1, 2, 3, 4, 5]\n"
     ]
    }
   ],
   "source": [
    "# 10. Remove Duplicate from a list\n",
    "lst = [1,2,2,3,4,4,5]\n",
    "unique=list(set(lst))\n",
    "print(\"Without duplicates:\",unique)"
   ]
  }
 ],
 "metadata": {
  "kernelspec": {
   "display_name": "Python 3 (ipykernel)",
   "language": "python",
   "name": "python3"
  },
  "language_info": {
   "codemirror_mode": {
    "name": "ipython",
    "version": 3
   },
   "file_extension": ".py",
   "mimetype": "text/x-python",
   "name": "python",
   "nbconvert_exporter": "python",
   "pygments_lexer": "ipython3",
   "version": "3.12.7"
  }
 },
 "nbformat": 4,
 "nbformat_minor": 5
}
