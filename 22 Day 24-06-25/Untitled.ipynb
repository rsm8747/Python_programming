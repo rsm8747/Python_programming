{
 "cells": [
  {
   "cell_type": "code",
   "execution_count": 3,
   "id": "1d33f5b1-20c1-49f4-b969-6d800de983bd",
   "metadata": {},
   "outputs": [
    {
     "name": "stdout",
     "output_type": "stream",
     "text": [
      "True\n"
     ]
    }
   ],
   "source": [
    "# 211. Check if a string is a pangram (A pangram contains every letter of the alphabet at leat once.)\n",
    "\n",
    "import string\n",
    "\n",
    "def is_pangram(s):\n",
    "    s = s.lower()\n",
    "    return all(letter in s for letter in string.ascii_lowercase)\n",
    "\n",
    "# Test the function\n",
    "print(is_pangram(\"The quick brown fox jumps over the lazy dog\"))  # Output: True\n"
   ]
  },
  {
   "cell_type": "code",
   "execution_count": 5,
   "id": "4b417e40-e928-4109-abdd-2a10e6f1e230",
   "metadata": {},
   "outputs": [
    {
     "name": "stdout",
     "output_type": "stream",
     "text": [
      "4\n"
     ]
    }
   ],
   "source": [
    "# 112.Find the length of the longest increasing subsequence in a list\n",
    "def length_of_LIS(nums):\n",
    "    if not nums:\n",
    "        return 0\n",
    "    dp = [1]* len(nums)\n",
    "    for i in range(len(nums)):\n",
    "        for j in range(i):\n",
    "            if nums[i]>nums[j]:\n",
    "                dp[i] = max(dp[i],dp[j]+1)\n",
    "    return max(dp)\n",
    "print(length_of_LIS([10,9,2,5,3,7,101,18]))"
   ]
  },
  {
   "cell_type": "code",
   "execution_count": 7,
   "id": "3e08c975-1f94-4c6e-b550-76975c0959a5",
   "metadata": {},
   "outputs": [
    {
     "name": "stdout",
     "output_type": "stream",
     "text": [
      "{'H': 1, 'e': 1, 'l': 3, 'o': 2, ' ': 1, 'w': 1, 'r': 1, 'd': 1}\n"
     ]
    }
   ],
   "source": [
    "# 213. Count Occurrences of Each Character in a String \n",
    "from collections import Counter\n",
    "def char_count(s):\n",
    "    return dict(Counter(s))\n",
    "print(char_count(\"Hello world\"))"
   ]
  },
  {
   "cell_type": "code",
   "execution_count": 11,
   "id": "679bf497-a82b-452d-9550-ecce6aff4a47",
   "metadata": {},
   "outputs": [
    {
     "name": "stdout",
     "output_type": "stream",
     "text": [
      "906609\n"
     ]
    }
   ],
   "source": [
    "# 214. Find the Largest Palindrome Made from the product of two 3-digit numbers\n",
    "\n",
    "def is_palindrome(num):\n",
    "    return str(num) == str(num)[::-1]\n",
    "def largest_palindrome_product():\n",
    "    max_palindrome = 0\n",
    "    for i in range(999,99,-1):\n",
    "        for j in range(i,99,-1):\n",
    "            product = i*j\n",
    "            if is_palindrome(product) and product > max_palindrome:\n",
    "                max_palindrome = product\n",
    "    return max_palindrome\n",
    "print(largest_palindrome_product())"
   ]
  },
  {
   "cell_type": "code",
   "execution_count": 15,
   "id": "b918aa61-fd12-4d99-91f9-48d26201d828",
   "metadata": {},
   "outputs": [
    {
     "name": "stdout",
     "output_type": "stream",
     "text": [
      "3\n"
     ]
    }
   ],
   "source": [
    "# 215.Find the most common element in a list \n",
    "from collections import Counter \n",
    "def most_common(lst):\n",
    "    return Counter(lst).most_common(1)[0][0]\n",
    "print(most_common([1,2,2,3,3,3,4]))"
   ]
  },
  {
   "cell_type": "code",
   "execution_count": 17,
   "id": "a7fe4e20-c6a4-4ea8-b488-c8611011de27",
   "metadata": {},
   "outputs": [
    {
     "name": "stdout",
     "output_type": "stream",
     "text": [
      "32\n"
     ]
    }
   ],
   "source": [
    "# 216. Calculate the power of a number using recurssion \n",
    "def power(base,exp):\n",
    "    if exp == 0:\n",
    "        return 1\n",
    "    return base*power(base,exp-1)\n",
    "print(power(2,5))"
   ]
  },
  {
   "cell_type": "code",
   "execution_count": 21,
   "id": "5968fa92-1748-45bd-a68b-75773e77623b",
   "metadata": {},
   "outputs": [
    {
     "name": "stdout",
     "output_type": "stream",
     "text": [
      "[1, 2, 3, 4, 5, 6]\n"
     ]
    }
   ],
   "source": [
    "# 217, Merge TWo Sorted lists into one sorted list\n",
    "def merge_sorted_list(a,b):\n",
    "    result=[]\n",
    "    i=j=0\n",
    "    while i < len(a) and j<len(b):\n",
    "        if a[i] < b[j]:\n",
    "            result.append(a[i])\n",
    "            i+=1\n",
    "        else:\n",
    "            result.append(b[j])\n",
    "            j+=1\n",
    "    result.extend(a[i::])\n",
    "    result.extend(b[j:])\n",
    "    return result\n",
    "print(merge_sorted_list([1,3,5],[2,4,6]))"
   ]
  },
  {
   "cell_type": "code",
   "execution_count": 23,
   "id": "ee8d311c-5d4a-4fee-a51e-718ae8ed40f4",
   "metadata": {},
   "outputs": [
    {
     "name": "stdout",
     "output_type": "stream",
     "text": [
      "5\n"
     ]
    }
   ],
   "source": [
    "# 218. Find the maximum sum subarray (Kadane's algorithm)\n",
    "def max_subarray_sum(arr):\n",
    "    max_current = max_global = arr[0]\n",
    "    for num in arr[1:]:\n",
    "        max_current = max(num,max_current+num)\n",
    "    if max_current > max_global:\n",
    "        max_global = max_current\n",
    "    return max_global\n",
    "print(max_subarray_sum([-2,1,-3,4,-1,2,1,-5,4]))"
   ]
  },
  {
   "cell_type": "code",
   "execution_count": 25,
   "id": "fd7416b1-a509-48d7-9ad2-8d996e358d9d",
   "metadata": {},
   "outputs": [
    {
     "name": "stdout",
     "output_type": "stream",
     "text": [
      "True\n"
     ]
    }
   ],
   "source": [
    "# 219. Chdck if two strings are arnagrams\n",
    "def are_anagrams(s1,s2):\n",
    "    return sorted(s1) == sorted(s2)\n",
    "print(are_anagrams(\"listen\",\"silent\"))"
   ]
  },
  {
   "cell_type": "code",
   "execution_count": 27,
   "id": "756cd20b-9144-457f-90d5-6a0fe2aa12c2",
   "metadata": {},
   "outputs": [
    {
     "name": "stdout",
     "output_type": "stream",
     "text": [
      "2\n"
     ]
    }
   ],
   "source": [
    "# 220. Find the sum of digit remains (Digital roots)\n",
    "def digital_root(n):\n",
    "    while n > 9:\n",
    "        n = sum(int(d) for d in str(n))\n",
    "    return n \n",
    "print(digital_root(9875))"
   ]
  }
 ],
 "metadata": {
  "kernelspec": {
   "display_name": "Python 3 (ipykernel)",
   "language": "python",
   "name": "python3"
  },
  "language_info": {
   "codemirror_mode": {
    "name": "ipython",
    "version": 3
   },
   "file_extension": ".py",
   "mimetype": "text/x-python",
   "name": "python",
   "nbconvert_exporter": "python",
   "pygments_lexer": "ipython3",
   "version": "3.12.7"
  }
 },
 "nbformat": 4,
 "nbformat_minor": 5
}
