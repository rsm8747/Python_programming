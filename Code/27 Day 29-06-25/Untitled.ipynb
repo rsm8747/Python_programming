{
 "cells": [
  {
   "cell_type": "code",
   "execution_count": 1,
   "id": "955ed339-5bf6-41f0-ab56-9d01d5ee48aa",
   "metadata": {},
   "outputs": [
    {
     "name": "stdout",
     "output_type": "stream",
     "text": [
      "6\n"
     ]
    }
   ],
   "source": [
    "# 261. Find the index of the occurrence of a substring \n",
    "def find_substring_index(s,sub):\n",
    "    return s.find(sub)\n",
    "\n",
    "print(find_substring_index(\"hello world\", \"world\"))"
   ]
  },
  {
   "cell_type": "code",
   "execution_count": 3,
   "id": "15ee1856-984d-453e-9e62-cc317c1873fe",
   "metadata": {},
   "outputs": [
    {
     "name": "stdout",
     "output_type": "stream",
     "text": [
      "True\n",
      "False\n"
     ]
    }
   ],
   "source": [
    "# 262. Check if a number is palindrome\n",
    "def is_palindrome_num(n):\n",
    "    return str(n) == str(n)[::-1]\n",
    "\n",
    "print(is_palindrome_num(121))\n",
    "print(is_palindrome_num(123))"
   ]
  },
  {
   "cell_type": "code",
   "execution_count": 5,
   "id": "9ed92a2f-1cd8-4818-8228-3b900e9dabee",
   "metadata": {},
   "outputs": [
    {
     "name": "stdout",
     "output_type": "stream",
     "text": [
      "{'h': 1, 'e': 1, 'l': 2, 'o': 1}\n"
     ]
    }
   ],
   "source": [
    "# 263. Count the frequency of each charater in  a string \n",
    "from collections import Counter\n",
    "def char_frequency(s):\n",
    "    return dict(Counter(s))\n",
    "\n",
    "print(char_frequency(\"hello\"))"
   ]
  },
  {
   "cell_type": "code",
   "execution_count": 7,
   "id": "d930fc57-f5bb-4f13-b7f5-7619b0796088",
   "metadata": {},
   "outputs": [
    {
     "name": "stdout",
     "output_type": "stream",
     "text": [
      "[1, 2, 5, 9]\n"
     ]
    }
   ],
   "source": [
    "# 264. Implement bubble sort\n",
    "def bubble_sort(lst):\n",
    "    n = len (lst)\n",
    "    for i in range(n):\n",
    "        for j in range(0,n-i-1):\n",
    "            if lst[j] > lst[j+1]:\n",
    "                lst[j],lst[j+1]=lst[j+1],lst[j]\n",
    "    return lst\n",
    "print(bubble_sort([5,2,9,1]))"
   ]
  },
  {
   "cell_type": "code",
   "execution_count": 11,
   "id": "3d4d69e9-42c4-453e-b5b4-8448b92531db",
   "metadata": {},
   "outputs": [
    {
     "name": "stdout",
     "output_type": "stream",
     "text": [
      "['1', '2', '3']\n"
     ]
    }
   ],
   "source": [
    "# 265. Convert a list of integers to a list of strings \n",
    "def int_to_str(lst):\n",
    "    return [str(i) for i in lst]\n",
    "\n",
    "print(int_to_str([1,2,3]))"
   ]
  },
  {
   "cell_type": "code",
   "execution_count": 13,
   "id": "f1c84994-dc33-49b4-9a00-507ce4f24eb9",
   "metadata": {},
   "outputs": [
    {
     "name": "stdout",
     "output_type": "stream",
     "text": [
      "[2, 3]\n"
     ]
    }
   ],
   "source": [
    "# 266. Find the intersection of multipe lists\n",
    "def intersect_lists(lists):\n",
    "    return list(set.intersection(*map(set,lists)))\n",
    "\n",
    "print(intersect_lists([[1,2,3],[2,3,5]]))"
   ]
  },
  {
   "cell_type": "code",
   "execution_count": 15,
   "id": "d4544c0b-dbe8-4def-aa3a-dcebb67e8e20",
   "metadata": {},
   "outputs": [
    {
     "name": "stdout",
     "output_type": "stream",
     "text": [
      "False\n",
      "False\n"
     ]
    }
   ],
   "source": [
    "# 267. Check is a string is a pangram \n",
    "#( a pangram contains every letter of the alphabet at least once)\n",
    "\n",
    "import string \n",
    "def is_pangram(s):\n",
    "    s = s.lower()\n",
    "    return all(c in s for c in string.ascii_lowercase)\n",
    "\n",
    "print(is_pangram(\"The quick brown for jumps over the ;azy dog\"))\n",
    "print(is_pangram(\"Hello world\"))"
   ]
  },
  {
   "cell_type": "code",
   "execution_count": 17,
   "id": "02c38a2d-7b23-42a1-a27f-3ec189345e10",
   "metadata": {},
   "outputs": [
    {
     "name": "stdout",
     "output_type": "stream",
     "text": [
      "32\n"
     ]
    }
   ],
   "source": [
    "# 268. calculatge the power of a number unsing recurssion\n",
    "def power(base, exp):\n",
    "    if exp == 0:\n",
    "        return 1\n",
    "    return base*power(base, exp-1)\n",
    "\n",
    "print(power(2,5))"
   ]
  },
  {
   "cell_type": "code",
   "execution_count": 19,
   "id": "f9ec9293-8bbc-40fa-b1cb-5bf57443f081",
   "metadata": {},
   "outputs": [
    {
     "name": "stdout",
     "output_type": "stream",
     "text": [
      "[4, 5, 1, 2]\n"
     ]
    }
   ],
   "source": [
    "# 269. Rotate a list to the right by k steps\n",
    "def rotate_list(lst,k):\n",
    "    k = k% len(lst)\n",
    "    return lst[-k:] + lst[:k]\n",
    "\n",
    "print(rotate_list([1,2,3,4,5],2))"
   ]
  },
  {
   "cell_type": "code",
   "execution_count": 21,
   "id": "494e6b42-706e-4739-a714-3e2fd60394ea",
   "metadata": {},
   "outputs": [
    {
     "name": "stdout",
     "output_type": "stream",
     "text": [
      "['a', 'p', 'e']\n"
     ]
    }
   ],
   "source": [
    "# 270. Find the Common Characters Between Two Strings\n",
    "def common_chars(s1, s2):\n",
    "    return list(set(s1) & set(s2))\n",
    "\n",
    "print(common_chars(\"apple\",\"grapes\"))"
   ]
  }
 ],
 "metadata": {
  "kernelspec": {
   "display_name": "Python 3 (ipykernel)",
   "language": "python",
   "name": "python3"
  },
  "language_info": {
   "codemirror_mode": {
    "name": "ipython",
    "version": 3
   },
   "file_extension": ".py",
   "mimetype": "text/x-python",
   "name": "python",
   "nbconvert_exporter": "python",
   "pygments_lexer": "ipython3",
   "version": "3.12.7"
  }
 },
 "nbformat": 4,
 "nbformat_minor": 5
}
