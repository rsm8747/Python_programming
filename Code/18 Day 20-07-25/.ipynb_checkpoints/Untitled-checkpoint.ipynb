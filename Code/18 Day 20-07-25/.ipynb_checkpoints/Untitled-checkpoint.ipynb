{
 "cells": [
  {
   "cell_type": "code",
   "execution_count": 5,
   "id": "bd457a98-6c00-4bbc-bc8e-4f0cc9115290",
   "metadata": {},
   "outputs": [
    {
     "name": "stdout",
     "output_type": "stream",
     "text": [
      "24\n"
     ]
    }
   ],
   "source": [
    "# 171. Find the product of all elements in a list \n",
    "from functools import reduce\n",
    "\n",
    "def product_of_list(lst):\n",
    "    return reduce(lambda x, y: x * y, lst)\n",
    "\n",
    "print(product_of_list([1, 2, 3, 4]))  # Output: 24\n"
   ]
  },
  {
   "cell_type": "code",
   "execution_count": 7,
   "id": "a857c0c8-03f9-4341-8f41-45444ac9bf74",
   "metadata": {},
   "outputs": [
    {
     "name": "stdout",
     "output_type": "stream",
     "text": [
      "Pythonawesomeis\n"
     ]
    }
   ],
   "source": [
    "# 172. Sort Words in a Sentence Alphabetically \n",
    "def sort_words(sentence):\n",
    "    return ''.join(sorted(sentence.split()))\n",
    "\n",
    "print(sort_words(\"Python is awesome\"))"
   ]
  },
  {
   "cell_type": "code",
   "execution_count": 9,
   "id": "90ad18ad-591e-468e-a587-3dab3c3edcce",
   "metadata": {},
   "outputs": [
    {
     "name": "stdout",
     "output_type": "stream",
     "text": [
      "True\n"
     ]
    }
   ],
   "source": [
    "# 173. Check if alist is a palindrome \n",
    "def is_list_palindrome(lst):\n",
    "    return lst == lst[::-1]\n",
    "\n",
    "print(is_list_palindrome([1,2,3,2,1]))"
   ]
  },
  {
   "cell_type": "code",
   "execution_count": 15,
   "id": "568b5a31-3794-4335-a068-b9eedc22944f",
   "metadata": {},
   "outputs": [
    {
     "name": "stdout",
     "output_type": "stream",
     "text": [
      "11\n"
     ]
    }
   ],
   "source": [
    "# 174. Convert a Binary Number (as String) to Decimal \n",
    "def binary_to_decimal(binary_str):\n",
    "    return int(binary_str,2)\n",
    "\n",
    "print(binary_to_decimal(\"1011\"))"
   ]
  },
  {
   "cell_type": "code",
   "execution_count": 17,
   "id": "03f0a3f3-0030-4ad5-9aaf-1188594349f4",
   "metadata": {},
   "outputs": [
    {
     "name": "stdout",
     "output_type": "stream",
     "text": [
      "{'python': 2, 'is': 2, 'great': 1, 'and': 1, 'easy': 1}\n"
     ]
    }
   ],
   "source": [
    "# 175 Get the Frequency of Each Word in a Sentence \n",
    "from collections import Counter \n",
    "def word_frequency(senetence):\n",
    "    return dict(Counter(senetence.lower().split()))\n",
    "\n",
    "print(word_frequency(\"Python is great and python is easy\"))"
   ]
  },
  {
   "cell_type": "code",
   "execution_count": 19,
   "id": "65a390a2-6c8e-48e3-9e0e-6501b39f37c6",
   "metadata": {},
   "outputs": [
    {
     "name": "stdout",
     "output_type": "stream",
     "text": [
      "32.0\n"
     ]
    }
   ],
   "source": [
    "# 176. Convert Celsius to Fahrenheit \n",
    "def celsius_to_fahrenheit(c):\n",
    "    return (c*9/5)+32\n",
    "\n",
    "print(celsius_to_fahrenheit(0))"
   ]
  },
  {
   "cell_type": "code",
   "execution_count": 21,
   "id": "530b4bd9-9c91-4b05-b376-79afb2cc0baa",
   "metadata": {},
   "outputs": [
    {
     "name": "stdout",
     "output_type": "stream",
     "text": [
      "True\n"
     ]
    }
   ],
   "source": [
    "# 177. Check if a year is leap year \n",
    "def is_leap_year(year):\n",
    "    return year % 4 == 0 and (year % 100 !=0 or year % 400 ==0)\n",
    "\n",
    "print(is_leap_year(2020))"
   ]
  },
  {
   "cell_type": "code",
   "execution_count": 23,
   "id": "6912bee0-8a21-4702-8709-038f62859f4c",
   "metadata": {},
   "outputs": [
    {
     "name": "stdout",
     "output_type": "stream",
     "text": [
      "True\n",
      "False\n"
     ]
    }
   ],
   "source": [
    " # 178. Check it All Elements in a List are Unique \n",
    "def all_unique(lst):\n",
    "    return len(lst) == len(set(lst))\n",
    "\n",
    "print(all_unique([1,2,3,4]))\n",
    "print(all_unique([1,2,2,3]))"
   ]
  },
  {
   "cell_type": "code",
   "execution_count": 25,
   "id": "a8d5d7d5-9ef5-499f-a7fe-702747f77a0f",
   "metadata": {},
   "outputs": [
    {
     "name": "stdout",
     "output_type": "stream",
     "text": [
      "c\n"
     ]
    }
   ],
   "source": [
    "# 179. Find the First Non-Repeated Character in a String \n",
    "from collections import Counter\n",
    "def first_unique_char(s):\n",
    "    counts = Counter(s)\n",
    "    for c in s:\n",
    "        if counts[c] ==1:\n",
    "            return c\n",
    "    return None\n",
    "\n",
    "print(first_unique_char(\"aabbcdeff\"))"
   ]
  },
  {
   "cell_type": "code",
   "execution_count": null,
   "id": "ec7cbc12-e59b-496a-beb8-4b667340971f",
   "metadata": {},
   "outputs": [],
   "source": [
    "# 180. Count Uppercase and Lowercase letters in a string\n",
    "def count_case(s):\n",
    "    upper = sum(1 for c in s if c.isupper())\n",
    "    lower = sum"
   ]
  }
 ],
 "metadata": {
  "kernelspec": {
   "display_name": "Python 3 (ipykernel)",
   "language": "python",
   "name": "python3"
  },
  "language_info": {
   "codemirror_mode": {
    "name": "ipython",
    "version": 3
   },
   "file_extension": ".py",
   "mimetype": "text/x-python",
   "name": "python",
   "nbconvert_exporter": "python",
   "pygments_lexer": "ipython3",
   "version": "3.12.7"
  }
 },
 "nbformat": 4,
 "nbformat_minor": 5
}
