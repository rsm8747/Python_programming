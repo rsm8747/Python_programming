{
 "cells": [
  {
   "cell_type": "code",
   "execution_count": 1,
   "id": "34e4d152-8a3d-4774-a865-1d5140e95586",
   "metadata": {},
   "outputs": [
    {
     "name": "stdout",
     "output_type": "stream",
     "text": [
      "44\n"
     ]
    }
   ],
   "source": [
    "# 231. Calculate the sum of even fibonacci numbers up to  N\n",
    "def sum_even_fibonacci(n):\n",
    "    a,b=0,1\n",
    "    total =0\n",
    "    while b<=n:\n",
    "        if b % 2 == 0:\n",
    "            total += b\n",
    "        a,b = b,a+b\n",
    "    return total\n",
    "print(sum_even_fibonacci(100))"
   ]
  },
  {
   "cell_type": "code",
   "execution_count": 5,
   "id": "7967cbe9-17c4-4373-ba37-bd483ac60b41",
   "metadata": {},
   "outputs": [
    {
     "name": "stdout",
     "output_type": "stream",
     "text": [
      "[4, 3, 2, 1]\n"
     ]
    }
   ],
   "source": [
    "# 232. Reverse a list without using reverse() or slicing \n",
    "def reverse_list(lst):\n",
    "    result = []\n",
    "    for i in range(len(lst)):\n",
    "        result.append(lst[len(lst)-1-i])\n",
    "    return result\n",
    "print(reverse_list([1,2,3,4]))"
   ]
  },
  {
   "cell_type": "code",
   "execution_count": 7,
   "id": "df312a4d-94b2-4e77-a136-50330b459d0c",
   "metadata": {},
   "outputs": [
    {
     "name": "stdout",
     "output_type": "stream",
     "text": [
      "True\n",
      "False\n"
     ]
    }
   ],
   "source": [
    "# 233. Check if a list is sorted in non-decreasing order\n",
    "def is_sorted(lst):\n",
    "    return all(lst[i] <= lst[i+1] for i in range(len(lst)-1))\n",
    "print(is_sorted([1,2,2,4]))\n",
    "print(is_sorted([1,3,2]))"
   ]
  },
  {
   "cell_type": "code",
   "execution_count": 13,
   "id": "7345fc37-fa74-4835-ba11-717d4dcb67f8",
   "metadata": {},
   "outputs": [
    {
     "name": "stdout",
     "output_type": "stream",
     "text": [
      "[1]\n",
      "[1, 1]\n",
      "[1, 2, 1]\n",
      "[1, 3, 3, 1]\n",
      "[1, 4, 6, 4, 1]\n"
     ]
    }
   ],
   "source": [
    "# 234. Generate Pascal's Triangle up to n rows\n",
    "def pascal_triangle(n: int):\n",
    "    \"\"\"Return Pascal’s Triangle with n rows as a list of lists.\"\"\"\n",
    "    triangle = []\n",
    "    for i in range(n):\n",
    "        if i == 0:\n",
    "            # first row is always [1]\n",
    "            triangle.append([1])\n",
    "        else:\n",
    "            prev = triangle[-1]\n",
    "            row = [1]                                   # left edge\n",
    "            row += [prev[j] + prev[j + 1]               # interior values\n",
    "                     for j in range(len(prev) - 1)]\n",
    "            row.append(1)                               # right edge\n",
    "            triangle.append(row)\n",
    "    return triangle\n",
    "\n",
    "# example\n",
    "for r in pascal_triangle(5):\n",
    "    print(r)\n"
   ]
  },
  {
   "cell_type": "code",
   "execution_count": 15,
   "id": "2883f978-2c67-4c56-9f23-2ed5d8e3c3e9",
   "metadata": {},
   "outputs": [
    {
     "name": "stdout",
     "output_type": "stream",
     "text": [
      "3\n"
     ]
    }
   ],
   "source": [
    "# 235. COunt the number of vowels in a string \n",
    "def count_vowels(s):\n",
    "    return sum(c.lower() in 'aeiou' for c in s)\n",
    "print(count_vowels(\"Hello World\"))"
   ]
  },
  {
   "cell_type": "code",
   "execution_count": 17,
   "id": "5b497776-643e-416a-86ed-76e1af53eca9",
   "metadata": {},
   "outputs": [
    {
     "name": "stdout",
     "output_type": "stream",
     "text": [
      "200\n"
     ]
    }
   ],
   "source": [
    "# 236. Find the maximum product of two integers in a list\n",
    "def max_product(lst):\n",
    "    lst.sort()\n",
    "    return max(lst[0]*lst[1],lst[-1]*lst[-2])\n",
    "print(max_product([-10,-20,1,3,2]))"
   ]
  },
  {
   "cell_type": "code",
   "execution_count": 21,
   "id": "b8fb3314-b5c0-4b25-b844-72a3f0df4d40",
   "metadata": {},
   "outputs": [
    {
     "name": "stdout",
     "output_type": "stream",
     "text": [
      "10\n"
     ]
    }
   ],
   "source": [
    "# 237. Convert a binary string to decimal integer\n",
    "def binary_to_decimal(b):\n",
    "    return int(b,2)\n",
    "print(binary_to_decimal(\"1010\"))"
   ]
  },
  {
   "cell_type": "code",
   "execution_count": 23,
   "id": "a87d3eda-fda4-4ab2-84e6-ad9cef540964",
   "metadata": {},
   "outputs": [
    {
     "name": "stdout",
     "output_type": "stream",
     "text": [
      "[(), (1,), (2,), (3,), (1, 2), (1, 3), (2, 3), (1, 2, 3)]\n"
     ]
    }
   ],
   "source": [
    "# 238. Generate All Subsets (power set) of a list\n",
    "\n",
    "from itertools import chain, combinations\n",
    "def powerset(lst):\n",
    "    return list(chain.from_iterable(combinations(lst,r) for r in range(len(lst)+1)))\n",
    "print(powerset([1,2,3]))"
   ]
  },
  {
   "cell_type": "code",
   "execution_count": 25,
   "id": "90a484d9-890d-4373-b98e-b9adcb89ef21",
   "metadata": {},
   "outputs": [
    {
     "name": "stdout",
     "output_type": "stream",
     "text": [
      "5\n"
     ]
    }
   ],
   "source": [
    "# 239. Find the length of the last word in a string \n",
    "def length_of_last_word(s):\n",
    "    return len(s.strip().split()[-1])\n",
    "print(length_of_last_word(\"Hello world\"))"
   ]
  },
  {
   "cell_type": "code",
   "execution_count": 31,
   "id": "c93e449b-3156-4246-bdad-51146158cee8",
   "metadata": {},
   "outputs": [
    {
     "name": "stdout",
     "output_type": "stream",
     "text": [
      "7\n"
     ]
    }
   ],
   "source": [
    "# 240. Find the sum of two largest distinct elements in a list\n",
    "def sum_two_largest(lst):\n",
    "    unique = list(set(lst))\n",
    "    unique.sort()\n",
    "    return sum(unique[-2:]) if len(unique)>=2 else None\n",
    "print(sum_two_largest([1,2,3,4,4]))"
   ]
  }
 ],
 "metadata": {
  "kernelspec": {
   "display_name": "Python 3 (ipykernel)",
   "language": "python",
   "name": "python3"
  },
  "language_info": {
   "codemirror_mode": {
    "name": "ipython",
    "version": 3
   },
   "file_extension": ".py",
   "mimetype": "text/x-python",
   "name": "python",
   "nbconvert_exporter": "python",
   "pygments_lexer": "ipython3",
   "version": "3.12.7"
  }
 },
 "nbformat": 4,
 "nbformat_minor": 5
}
