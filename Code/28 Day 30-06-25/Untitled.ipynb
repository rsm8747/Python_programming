{
 "cells": [
  {
   "cell_type": "code",
   "execution_count": 1,
   "id": "e55208ef-1a5e-4744-9808-9fc4187b6a7b",
   "metadata": {},
   "outputs": [
    {
     "name": "stdout",
     "output_type": "stream",
     "text": [
      "True\n",
      "False\n"
     ]
    }
   ],
   "source": [
    "# 271. Check if a list is a Palindrome\n",
    "def is_list_palindrome(lst):\n",
    "    return lst == lst[::-1]\n",
    "\n",
    "print(is_list_palindrome([1,2,3,2,1]))\n",
    "print(is_list_palindrome([1,2,3]))"
   ]
  },
  {
   "cell_type": "code",
   "execution_count": 3,
   "id": "d24770d9-c551-441b-86a4-05119066c30f",
   "metadata": {},
   "outputs": [
    {
     "name": "stdout",
     "output_type": "stream",
     "text": [
      "3\n"
     ]
    }
   ],
   "source": [
    "# 272. Find the most frequent element in a list\n",
    "from collections import Counter\n",
    "def most_frequent(lst):\n",
    "    return Counter(lst).most_common(1)[0][0]\n",
    "\n",
    "print(most_frequent([1,2,2,3,3,3,4]))"
   ]
  },
  {
   "cell_type": "code",
   "execution_count": 5,
   "id": "dddcf6ee-b386-4469-a40e-a02c08994089",
   "metadata": {},
   "outputs": [
    {
     "name": "stdout",
     "output_type": "stream",
     "text": [
      "[2, 3, 5, 6, 8]\n"
     ]
    }
   ],
   "source": [
    "# 273. Implement Insertion Sort\n",
    "def insertion_sort(lst):\n",
    "    for i in range(1,len(lst)):\n",
    "        key = lst[i]\n",
    "        j = i -1\n",
    "        while j >=0 and lst[j] > key:\n",
    "            lst[j+1] = lst[j]\n",
    "            j-=1\n",
    "        lst[j+1] = key\n",
    "    return lst\n",
    "\n",
    "print(insertion_sort([5,3,8,6,2]))"
   ]
  },
  {
   "cell_type": "code",
   "execution_count": 11,
   "id": "771bb731-b08b-41d3-a2db-a9d67e533667",
   "metadata": {},
   "outputs": [
    {
     "name": "stdout",
     "output_type": "stream",
     "text": [
      "flow\n"
     ]
    }
   ],
   "source": [
    "# 274. Find the longest Common Prefix AMong a list of String\n",
    "def longest_common_prefix(strs):\n",
    "    if not strs:\n",
    "        return \"\"\n",
    "    prefix = strs[0]\n",
    "    for s in strs[1:]:\n",
    "        while not s.startswith(prefix):\n",
    "            prefix = prefix[:-1]\n",
    "            if not prefix:\n",
    "                return \"\"\n",
    "        return prefix\n",
    "print(longest_common_prefix([\"flower\",\"flow\",\"flight\"]))"
   ]
  },
  {
   "cell_type": "code",
   "execution_count": 13,
   "id": "0e140089-e9df-4a4a-a48b-8f9f1d6c8cf9",
   "metadata": {},
   "outputs": [
    {
     "name": "stdout",
     "output_type": "stream",
     "text": [
      "Hello World\n"
     ]
    }
   ],
   "source": [
    "# 275. Convert a String to Title Case\n",
    "def to_title_case(s):\n",
    "    return s.title()\n",
    "\n",
    "print(to_title_case(\"hello world\"))"
   ]
  },
  {
   "cell_type": "code",
   "execution_count": 15,
   "id": "a696381a-d149-4d82-9c8d-9f1cb0a22709",
   "metadata": {},
   "outputs": [
    {
     "name": "stdout",
     "output_type": "stream",
     "text": [
      "9\n"
     ]
    }
   ],
   "source": [
    "# 276. Calculate the Sum of ELements at Even Indices\n",
    "def sum_even_indices(lst):\n",
    "    return sum(lst[i] for i in range(0,len(lst),2))\n",
    "\n",
    "print(sum_even_indices([1,2,3,4,5]))"
   ]
  },
  {
   "cell_type": "code",
   "execution_count": 19,
   "id": "0d2c1834-f303-4dc1-8f8b-042fdb980002",
   "metadata": {},
   "outputs": [
    {
     "name": "stdout",
     "output_type": "stream",
     "text": [
      "Hello world\n"
     ]
    }
   ],
   "source": [
    "# 277. Remove ALl Punctuations from a String \n",
    "import string\n",
    "def remove_punctuation(s):\n",
    "    return s.translate(str.maketrans('','',string.punctuation))\n",
    "\n",
    "print(remove_punctuation(\"Hello, world!\"))"
   ]
  },
  {
   "cell_type": "code",
   "execution_count": 21,
   "id": "79ed9529-669f-4bc1-87c3-9d7bb6b9aff0",
   "metadata": {},
   "outputs": [
    {
     "name": "stdout",
     "output_type": "stream",
     "text": [
      "2\n"
     ]
    }
   ],
   "source": [
    "# 278. Find the second smallest number in a list \n",
    "def second_smallest(lst):\n",
    "    unique = list(set(lst))\n",
    "    unique.sort()\n",
    "    return unique[1] if len(unique)>1 else None\n",
    "\n",
    "print(second_smallest([4,2,1,3,1]))"
   ]
  },
  {
   "cell_type": "code",
   "execution_count": 31,
   "id": "8f8c659e-a415-4832-a2fb-3c20fd416fd6",
   "metadata": {},
   "outputs": [
    {
     "name": "stdout",
     "output_type": "stream",
     "text": [
      "[2, 3, 5, 7, 9, 11, 13, 15, 17, 19]\n"
     ]
    }
   ],
   "source": [
    "# 279. Find All Prime Number up to N\n",
    "def sieve_of_eratosthenes(n):\n",
    "    primes = [True]*(n+1)\n",
    "    primes[0],primes[1]=False, False\n",
    "    p=2\n",
    "    while p*p<=n:\n",
    "        if primes[p]:\n",
    "            for i in range(p*p,n+1,p):\n",
    "                primes[i]=False\n",
    "        p+=1\n",
    "        return [i for i in range(n+1) if primes[i]]\n",
    "\n",
    "print(sieve_of_eratosthenes(20))"
   ]
  },
  {
   "cell_type": "code",
   "execution_count": 33,
   "id": "0a0cc4a2-d61b-434d-a8d0-7ff9dc18f21b",
   "metadata": {},
   "outputs": [
    {
     "name": "stdout",
     "output_type": "stream",
     "text": [
      "True\n",
      "False\n"
     ]
    }
   ],
   "source": [
    "# 280. Check if Two  Strings Are Anagrams\n",
    "def are_anagrams(s1,s2):\n",
    "    return sorted(s1) == sorted(s2)\n",
    "\n",
    "print(are_anagrams(\"listen\",\"silent\"))\n",
    "print(are_anagrams(\"hello\",\"world\"))"
   ]
  }
 ],
 "metadata": {
  "kernelspec": {
   "display_name": "Python 3 (ipykernel)",
   "language": "python",
   "name": "python3"
  },
  "language_info": {
   "codemirror_mode": {
    "name": "ipython",
    "version": 3
   },
   "file_extension": ".py",
   "mimetype": "text/x-python",
   "name": "python",
   "nbconvert_exporter": "python",
   "pygments_lexer": "ipython3",
   "version": "3.12.7"
  }
 },
 "nbformat": 4,
 "nbformat_minor": 5
}
