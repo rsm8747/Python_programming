{
 "cells": [
  {
   "cell_type": "code",
   "execution_count": 1,
   "id": "5e738c4c-d47d-41ba-9285-3177441c1988",
   "metadata": {},
   "outputs": [
    {
     "name": "stdout",
     "output_type": "stream",
     "text": [
      "10\n"
     ]
    }
   ],
   "source": [
    "# 317 . Convert Binary Number (String ) to Decimal \n",
    "def binary_to_decimal(binary_str):\n",
    "    decimal=0\n",
    "    for digit in binary_str:\n",
    "        decimal=decimal*2+int(digit)\n",
    "    return decimal\n",
    "\n",
    "print(binary_to_decimal(\"1010\"))"
   ]
  },
  {
   "cell_type": "code",
   "execution_count": 5,
   "id": "db7af002-88ff-4654-bd08-61a357ead95b",
   "metadata": {},
   "outputs": [
    {
     "name": "stdout",
     "output_type": "stream",
     "text": [
      "3\n"
     ]
    }
   ],
   "source": [
    "# find the number of evene numbers in a list\n",
    "def count_even(lst):\n",
    "    return sum(1 for num in lst if num % 2 ==0)\n",
    "\n",
    "print(count_even([1,2,3,4,5,6]))"
   ]
  },
  {
   "cell_type": "code",
   "execution_count": 9,
   "id": "9252e631-604e-4c69-afbb-3211acb65659",
   "metadata": {},
   "outputs": [
    {
     "name": "stdout",
     "output_type": "stream",
     "text": [
      "4\n"
     ]
    }
   ],
   "source": [
    "# 373. fINSD the length of the longest increasing subsequence in a list\n",
    "def length_of_LIS(nums):\n",
    "    if not nums:\n",
    "        return 0\n",
    "    dp = [1]*len(nums)\n",
    "    for i in range(1,len(nums)):\n",
    "        for j in range(i):\n",
    "            if nums[i]>nums[j]:\n",
    "                dp[i]=max(dp[i],dp[j]+1)\n",
    "    return max(dp)\n",
    "\n",
    "print(length_of_LIS([10,9,2,5,3,7,101,18]))\n"
   ]
  },
  {
   "cell_type": "code",
   "execution_count": 11,
   "id": "615ece8f-df24-4516-a2f7-ba6c8c747baf",
   "metadata": {},
   "outputs": [
    {
     "name": "stdout",
     "output_type": "stream",
     "text": [
      "2\n"
     ]
    }
   ],
   "source": [
    "# 374. Count the number of uppercase letters in a string \n",
    "def count_uppercase(s):\n",
    "    return sum(1 for ch in s if ch.isupper())\n",
    "\n",
    "print(count_uppercase(\"Hello World!\"))"
   ]
  },
  {
   "cell_type": "code",
   "execution_count": 19,
   "id": "1cfa99ce-6291-44a9-82aa-b0149fb4e6cd",
   "metadata": {},
   "outputs": [
    {
     "name": "stdout",
     "output_type": "stream",
     "text": [
      "[[1], [1, 1], [1, 2, 1], [1, 3, 3, 1], [1, 4, 6, 4, 1]]\n"
     ]
    }
   ],
   "source": [
    "# 375. Generate Pascal's Triangle up to N rows \n",
    "def pascals_triangle(n):\n",
    "    triangle = []\n",
    "    for i in range(n):\n",
    "        if i == 0:\n",
    "            row = [1]\n",
    "        else:\n",
    "            last_row = triangle[-1]\n",
    "            row = [1]\n",
    "            row += [last_row[j] + last_row[j + 1] for j in range(len(last_row) - 1)]\n",
    "            row.append(1)\n",
    "        triangle.append(row)\n",
    "    return triangle\n",
    "\n",
    "print(pascals_triangle(5))\n"
   ]
  },
  {
   "cell_type": "code",
   "execution_count": 25,
   "id": "4c7c935c-5c19-4d8f-8705-87f60a417ddd",
   "metadata": {},
   "outputs": [
    {
     "name": "stdout",
     "output_type": "stream",
     "text": [
      "bab\n"
     ]
    }
   ],
   "source": [
    "# 376. Find the longest palindromic substring in a string \n",
    "def longest_palindrome(s):\n",
    "    def expand(left,right):\n",
    "        while left >=0 and right <len(s) and s[left]==s[right]:\n",
    "            left-=1\n",
    "            right+=1\n",
    "        return s[left+1:right]\n",
    "    longest=\"\"\n",
    "    for i in range(len(s)):\n",
    "        odd = expand(i,i)\n",
    "        if len(odd)>len(longest):\n",
    "            longest=odd\n",
    "        even=expand(i,i+1)\n",
    "        if len(even)>len(longest):\n",
    "            longest=even\n",
    "    return longest\n",
    "\n",
    "print(longest_palindrome(\"babad\"))"
   ]
  },
  {
   "cell_type": "code",
   "execution_count": 27,
   "id": "176b682c-4979-4b8e-a7db-ca94625af2af",
   "metadata": {},
   "outputs": [
    {
     "name": "stdout",
     "output_type": "stream",
     "text": [
      "17\n"
     ]
    }
   ],
   "source": [
    "# 377. Find the sum of all prime numbers up to N \n",
    "def sum_prime(n):\n",
    "    def is_prime(x):\n",
    "        if x<2:\n",
    "            return False\n",
    "        for i in range(2,int(x**0.5)+1):\n",
    "            if x % i ==0:\n",
    "                return False\n",
    "        return True\n",
    "    return sum(i for i in range(2,n+1) if is_prime(i))\n",
    "print(sum_prime(10))\n",
    "        "
   ]
  },
  {
   "cell_type": "code",
   "execution_count": 29,
   "id": "b80aac7f-8973-4aee-be0f-9cd7ac6b2fcb",
   "metadata": {},
   "outputs": [
    {
     "name": "stdout",
     "output_type": "stream",
     "text": [
      "Hello world\n"
     ]
    }
   ],
   "source": [
    "# 378. Remove ALl punctualtiosn from a string\n",
    "import string \n",
    "def remove_punctuations(s):\n",
    "    return ''.join(ch for ch in s if ch not in string.punctuation)\n",
    "\n",
    "print(remove_punctuations(\"Hello, world!\"))"
   ]
  },
  {
   "cell_type": "code",
   "execution_count": 31,
   "id": "e6bd0894-67a0-4c3e-94f6-e8dfbae606a9",
   "metadata": {},
   "outputs": [
    {
     "name": "stdout",
     "output_type": "stream",
     "text": [
      "1024\n"
     ]
    }
   ],
   "source": [
    "# 379. Calculate the power of a number (x^n) using Recursion\n",
    "def power(x,n):\n",
    "    if n==0:\n",
    "        return 1\n",
    "    half=power(x,n//2)\n",
    "    if n%2==0:\n",
    "        return half*half\n",
    "    else:\n",
    "        return half*half*x\n",
    "\n",
    "print(power(2,10))"
   ]
  },
  {
   "cell_type": "code",
   "execution_count": 33,
   "id": "f60a6b66-7d4b-4a31-bef5-a83a8a02e65d",
   "metadata": {},
   "outputs": [
    {
     "name": "stdout",
     "output_type": "stream",
     "text": [
      "2\n"
     ]
    }
   ],
   "source": [
    "# 380. Find the smallest positiove missing number in an unsorted list\n",
    "def smallest_missing(nums):\n",
    "    nums=set(nums)\n",
    "    i=1\n",
    "    while i in nums:\n",
    "        i+=1\n",
    "    return i\n",
    "\n",
    "print(smallest_missing([3,4,-1,1]))"
   ]
  }
 ],
 "metadata": {
  "kernelspec": {
   "display_name": "Python 3 (ipykernel)",
   "language": "python",
   "name": "python3"
  },
  "language_info": {
   "codemirror_mode": {
    "name": "ipython",
    "version": 3
   },
   "file_extension": ".py",
   "mimetype": "text/x-python",
   "name": "python",
   "nbconvert_exporter": "python",
   "pygments_lexer": "ipython3",
   "version": "3.12.7"
  }
 },
 "nbformat": 4,
 "nbformat_minor": 5
}
