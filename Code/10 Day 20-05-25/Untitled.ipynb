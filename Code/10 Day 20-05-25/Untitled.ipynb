{
 "cells": [
  {
   "cell_type": "code",
   "execution_count": 2,
   "id": "c55fe418-b755-4ef3-bf54-b5e7b59ed940",
   "metadata": {},
   "outputs": [
    {
     "name": "stdout",
     "output_type": "stream",
     "text": [
      "8\n"
     ]
    }
   ],
   "source": [
    "# 90 Calculate the power of number without using **\n",
    "def power(base, exp):\n",
    "    result = 1\n",
    "    for _ in range(exp):  # fixed typo: `_in` → `in`\n",
    "        result *= base     # fixed typo: `basee` → `base`\n",
    "    return result\n",
    "\n",
    "print(power(2, 3))  # Output: 8\n",
    "    \n"
   ]
  },
  {
   "cell_type": "code",
   "execution_count": 4,
   "id": "1f3fa360-4f6b-41b3-998a-c07a7bb74582",
   "metadata": {},
   "outputs": [
    {
     "name": "stdout",
     "output_type": "stream",
     "text": [
      "{'b': 1, 'a': 3, 'n': 2}\n"
     ]
    }
   ],
   "source": [
    "# 91 Count Occurrences of Each Character in String \n",
    "def char_count(s):\n",
    "    result={}\n",
    "    for char in s:\n",
    "        result[char]=result.get(char,0)+1\n",
    "    return result\n",
    "\n",
    "print(char_count(\"banana\"))"
   ]
  },
  {
   "cell_type": "code",
   "execution_count": 6,
   "id": "7c31694d-5a1f-41e3-8b8d-632e3e74c9ca",
   "metadata": {},
   "outputs": [
    {
     "name": "stdout",
     "output_type": "stream",
     "text": [
      "[1, 2, 3, 4]\n"
     ]
    }
   ],
   "source": [
    "#92 Swap the First and Last Elements in a list \n",
    "def swap_first_last(lst):\n",
    "    if len(lst)>1:\n",
    "        lst[0],lst[-1],lst[0]\n",
    "    return lst\n",
    "\n",
    "print(swap_first_last([1,2,3,4]))"
   ]
  },
  {
   "cell_type": "code",
   "execution_count": 8,
   "id": "c70609ce-7364-4b37-a6ec-d680d1736eb0",
   "metadata": {},
   "outputs": [
    {
     "name": "stdout",
     "output_type": "stream",
     "text": [
      "4\n"
     ]
    }
   ],
   "source": [
    "# 93. Find the Second Largest Number in a List\n",
    "def second_largest(lst):\n",
    "    unique=list(set(lst))\n",
    "    unique.sort()\n",
    "    return unique[-2] if len(unique)>=2 else None\n",
    "\n",
    "print(second_largest([1,3,4,5,2]))"
   ]
  },
  {
   "cell_type": "code",
   "execution_count": 10,
   "id": "b2b36a0d-d32a-4239-9967-5972d27d2650",
   "metadata": {},
   "outputs": [
    {
     "name": "stdout",
     "output_type": "stream",
     "text": [
      "[1, 2, 3, 4, 5]\n"
     ]
    }
   ],
   "source": [
    "# 94. Flatten a Nested List\n",
    "def flatten(lst):\n",
    "    return [item for sublist in lst for item in sublist]\n",
    "\n",
    "print(flatten([[1,2],[3,4],[5]]))"
   ]
  },
  {
   "cell_type": "code",
   "execution_count": 12,
   "id": "b1de5d0d-b35a-4fce-94c3-7398f2780258",
   "metadata": {},
   "outputs": [
    {
     "name": "stdout",
     "output_type": "stream",
     "text": [
      "*\n",
      "**\n",
      "***\n",
      "****\n",
      "*****\n"
     ]
    }
   ],
   "source": [
    "# 95. Print a left-aligned triangle pattern \n",
    "def left_triangle(n):\n",
    "    for i in range(1,n+1):\n",
    "        print(\"*\" *i)\n",
    "\n",
    "left_triangle(5)"
   ]
  },
  {
   "cell_type": "code",
   "execution_count": 14,
   "id": "0acc9c9b-00e7-47f2-9934-4cbb774e9d86",
   "metadata": {},
   "outputs": [
    {
     "name": "stdout",
     "output_type": "stream",
     "text": [
      "4\n"
     ]
    }
   ],
   "source": [
    "# 96 Count the vowels in a string\n",
    "def count_vowels(s):\n",
    "    vowels='aeiouAEIOU'\n",
    "    return sum(1 for char in s if char in vowels)\n",
    "\n",
    "print(count_vowels(\"python programming\"))"
   ]
  },
  {
   "cell_type": "code",
   "execution_count": 16,
   "id": "430e9b5b-904e-4cf8-b4f8-3ead3be1cdce",
   "metadata": {},
   "outputs": [
    {
     "name": "stdout",
     "output_type": "stream",
     "text": [
      "[1]\n"
     ]
    }
   ],
   "source": [
    "# 97. Remove Consecutive Duplicate in  a list\n",
    "def remove_consecutive_duplucates(lst):\n",
    "    result = [lst[0]] if lst else[]\n",
    "    for item in lst[1:]:\n",
    "        if item !=result[-1]:\n",
    "            result.append(item)\n",
    "        return result\n",
    "\n",
    "print(remove_consecutive_duplucates([1,1,2,2,3,1,1]))"
   ]
  },
  {
   "cell_type": "code",
   "execution_count": 20,
   "id": "37628f79-16ed-4ecc-b700-35f5e50396a4",
   "metadata": {},
   "outputs": [
    {
     "name": "stdout",
     "output_type": "stream",
     "text": [
      "1010\n"
     ]
    }
   ],
   "source": [
    "# 98. Convert Decimal to Binary\n",
    "def dec_to_bin(n):\n",
    "    return bin(n)[2:]\n",
    "\n",
    "print(dec_to_bin(10))"
   ]
  },
  {
   "cell_type": "code",
   "execution_count": 22,
   "id": "4b110cc5-1576-4f77-b79c-68ed70fb362c",
   "metadata": {},
   "outputs": [
    {
     "name": "stdout",
     "output_type": "stream",
     "text": [
      "True\n"
     ]
    }
   ],
   "source": [
    "# 99. Check if a number is an Armstrong Number \n",
    "def is_armstrong(n):\n",
    "    digits=[int(d) for d in str(n)]\n",
    "    power = len(digits)\n",
    "    return sum(d** power for d in digits)==n\n",
    "\n",
    "print(is_armstrong(153))"
   ]
  },
  {
   "cell_type": "code",
   "execution_count": 24,
   "id": "b8459ba4-70c0-4a18-8f2e-9ee911f1a7d4",
   "metadata": {},
   "outputs": [
    {
     "name": "stdout",
     "output_type": "stream",
     "text": [
      "6\n"
     ]
    }
   ],
   "source": [
    "# 100. Count Total Words in a Sentence\n",
    "def word_count(sentence):\n",
    "    return len(sentence.split())\n",
    "\n",
    "print(word_count(\"Hello world, Python is fun !\"))"
   ]
  }
 ],
 "metadata": {
  "kernelspec": {
   "display_name": "Python 3 (ipykernel)",
   "language": "python",
   "name": "python3"
  },
  "language_info": {
   "codemirror_mode": {
    "name": "ipython",
    "version": 3
   },
   "file_extension": ".py",
   "mimetype": "text/x-python",
   "name": "python",
   "nbconvert_exporter": "python",
   "pygments_lexer": "ipython3",
   "version": "3.12.7"
  }
 },
 "nbformat": 4,
 "nbformat_minor": 5
}
