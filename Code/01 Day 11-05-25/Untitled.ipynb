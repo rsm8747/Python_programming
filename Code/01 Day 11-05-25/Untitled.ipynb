{
 "cells": [
  {
   "cell_type": "code",
   "execution_count": 7,
   "id": "a7592b18-512f-4fc1-845e-cef9c9788d31",
   "metadata": {},
   "outputs": [
    {
     "name": "stdout",
     "output_type": "stream",
     "text": [
      "olleh\n"
     ]
    }
   ],
   "source": [
    "# 1 Reverse s String\n",
    "# Q. Write a program to reverse a string without using built-int methods.\n",
    "\n",
    "def reverse_string(s):\n",
    "    reversed_s = ''\n",
    "    for char in s:\n",
    "        reversed_s = char+reversed_s\n",
    "    return reversed_s\n",
    "print(reverse_string(\"hello\"))"
   ]
  },
  {
   "cell_type": "code",
   "execution_count": 21,
   "id": "2ecc7188-a5e8-435f-9c09-6b071e9a97e8",
   "metadata": {},
   "outputs": [
    {
     "name": "stdout",
     "output_type": "stream",
     "text": [
      "True\n",
      "False\n"
     ]
    }
   ],
   "source": [
    "# 2 check palindrome NUmber\n",
    "# Q. Check whether a given number is a palindrome.\n",
    "\n",
    "def is_palindrome(n):\n",
    "    return str(n) == str(n)[::-1]\n",
    "\n",
    "\n",
    "print(is_palindrome(121)) # True\n",
    "print(is_palindrome(123)) # False"
   ]
  },
  {
   "cell_type": "code",
   "execution_count": 17,
   "id": "f9735f21-8dd2-46f0-9875-f15fee258ef1",
   "metadata": {},
   "outputs": [],
   "source": [
    "del str  # removes your overwritten version of str\n"
   ]
  },
  {
   "cell_type": "code",
   "execution_count": 23,
   "id": "5137922f-2ab7-41d3-ac53-6eabddffd646",
   "metadata": {},
   "outputs": [
    {
     "name": "stdout",
     "output_type": "stream",
     "text": [
      "0 1 1 2 3 5 8 13 21 34 "
     ]
    }
   ],
   "source": [
    "# 3 Fibonacci Seuence(n terms)\n",
    "# Q. Print the first n fibonacci numbers.\n",
    "\n",
    "def fibonacci(n):\n",
    "    a,b = 0,1\n",
    "    for _ in range(n):\n",
    "        print(a,end=' ')\n",
    "        a,b = b, a+b\n",
    "\n",
    "fibonacci(10)"
   ]
  },
  {
   "cell_type": "code",
   "execution_count": 25,
   "id": "d86e4903-1177-466c-9b51-7e737892e74b",
   "metadata": {},
   "outputs": [
    {
     "name": "stdout",
     "output_type": "stream",
     "text": [
      "120\n"
     ]
    }
   ],
   "source": [
    "# 4 Find the Factorial of a Number (Recursive)\n",
    "def factorial(n):\n",
    "    if n == 0 or n ==1:\n",
    "        return 1\n",
    "    return n * factorial(n-1)\n",
    "\n",
    "print(factorial(5))"
   ]
  },
  {
   "cell_type": "code",
   "execution_count": 27,
   "id": "271f1e94-e320-4acf-9903-bfc88082acae",
   "metadata": {},
   "outputs": [
    {
     "name": "stdout",
     "output_type": "stream",
     "text": [
      "10\n"
     ]
    }
   ],
   "source": [
    "# 5 Sum of Digits\n",
    "\n",
    "def sum_of_digits(n):\n",
    "    total = 0\n",
    "    while n > 0:\n",
    "        total += n % 10\n",
    "        n //=10\n",
    "\n",
    "    return total\n",
    "\n",
    "print(sum_of_digits(1234))\n",
    "    "
   ]
  },
  {
   "cell_type": "code",
   "execution_count": 31,
   "id": "c5219676-8c94-444f-a95b-df4c0bee5c03",
   "metadata": {},
   "outputs": [
    {
     "name": "stdout",
     "output_type": "stream",
     "text": [
      "False\n"
     ]
    }
   ],
   "source": [
    "# 6 Check Prime Number\n",
    "\n",
    "def is_prime(n):\n",
    "    if n <= 1:\n",
    "        return False\n",
    "    for i in range(2, int(n**0.5)+1):\n",
    "        if n% i == 0:\n",
    "            return False\n",
    "        return True\n",
    "\n",
    "# print(is_prime(13)) # True\n",
    "print(is_prime(10)) # False"
   ]
  },
  {
   "cell_type": "code",
   "execution_count": 33,
   "id": "e15b61df-18d9-4d09-a9c9-8a9402f8693a",
   "metadata": {},
   "outputs": [
    {
     "name": "stdout",
     "output_type": "stream",
     "text": [
      "5\n"
     ]
    }
   ],
   "source": [
    "# 7. Find Second Largest Number in a List\n",
    "\n",
    "def second_largest(nums):\n",
    "    nums = list(set(nums))\n",
    "    nums.sort()\n",
    "    return nums[-2]\n",
    "\n",
    "print(second_largest([4,2,7,7,5]))"
   ]
  },
  {
   "cell_type": "code",
   "execution_count": 35,
   "id": "6140ad2d-d330-48de-94e4-de72b5876959",
   "metadata": {},
   "outputs": [
    {
     "name": "stdout",
     "output_type": "stream",
     "text": [
      "True\n"
     ]
    }
   ],
   "source": [
    "# 8. Check for Armstrong Number\n",
    "\n",
    "def is_armstrong(n):\n",
    "    digits = [int(d) for d in str(n)]\n",
    "    return n == sum(d**len(digits) for d in digits)\n",
    "\n",
    "print(is_armstrong(153)) # True"
   ]
  },
  {
   "cell_type": "code",
   "execution_count": 39,
   "id": "a63e74ed-442d-4bb0-b828-78e4764a0819",
   "metadata": {},
   "outputs": [
    {
     "name": "stdout",
     "output_type": "stream",
     "text": [
      "6\n"
     ]
    }
   ],
   "source": [
    "# 9. Count Vowel in a String\n",
    "\n",
    "def count_vowel(s):\n",
    "    return sum(1 for char in s.lower() if char in 'aeiop')\n",
    "\n",
    "print(count_vowel(\"Python Programming\"))"
   ]
  },
  {
   "cell_type": "code",
   "execution_count": 47,
   "id": "447276c6-e0a4-41ae-8f4d-80f3942af5e6",
   "metadata": {},
   "outputs": [
    {
     "name": "stdout",
     "output_type": "stream",
     "text": [
      "{'b': 1, 'c': 2, 'a': 3}\n"
     ]
    }
   ],
   "source": [
    "# 10. Sort Dictionary by Values\n",
    "\n",
    "def sort_dict_by_value(d):\n",
    "    return dict(sorted(d.items(),key=lambda item: item[1]))\n",
    "\n",
    "print(sort_dict_by_value({'a':3,'b':1,'c':2}))"
   ]
  },
  {
   "cell_type": "code",
   "execution_count": null,
   "id": "8d837ecf-e4d0-4274-85c7-d05fd883101a",
   "metadata": {},
   "outputs": [],
   "source": [
    "\n"
   ]
  }
 ],
 "metadata": {
  "kernelspec": {
   "display_name": "Python 3 (ipykernel)",
   "language": "python",
   "name": "python3"
  },
  "language_info": {
   "codemirror_mode": {
    "name": "ipython",
    "version": 3
   },
   "file_extension": ".py",
   "mimetype": "text/x-python",
   "name": "python",
   "nbconvert_exporter": "python",
   "pygments_lexer": "ipython3",
   "version": "3.12.7"
  }
 },
 "nbformat": 4,
 "nbformat_minor": 5
}
