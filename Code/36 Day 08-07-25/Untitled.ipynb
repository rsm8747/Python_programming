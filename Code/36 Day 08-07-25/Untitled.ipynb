{
 "cells": [
  {
   "cell_type": "code",
   "execution_count": 3,
   "id": "82657eec-9e8e-40e5-82fa-42d9dd06eca5",
   "metadata": {},
   "outputs": [
    {
     "name": "stdout",
     "output_type": "stream",
     "text": [
      "9\n"
     ]
    }
   ],
   "source": [
    "# 351. Find the largest elements in a list without using max()\n",
    "def largest_elements(lst):\n",
    "    largest = lst[0]\n",
    "    for num in lst[1:]:\n",
    "        if num > largest:\n",
    "            largest=num\n",
    "    return largest\n",
    "\n",
    "print(largest_elements([3,5,1,9,2]))"
   ]
  },
  {
   "cell_type": "code",
   "execution_count": 5,
   "id": "35aa15a1-199e-4045-9c4e-8dc9826bea5e",
   "metadata": {},
   "outputs": [
    {
     "name": "stdout",
     "output_type": "stream",
     "text": [
      "4\n"
     ]
    }
   ],
   "source": [
    "# 352. Count vowels in a string\n",
    "def count_vowels(s):\n",
    "    vowels = 'aeiouAEIOU'\n",
    "    return sum(ch in vowels for ch in s)\n",
    "\n",
    "print(count_vowels(\"RAHUL MORE\"))"
   ]
  },
  {
   "cell_type": "code",
   "execution_count": 7,
   "id": "5d59ab29-6a9f-49b9-a2a9-4a5a6711e5d6",
   "metadata": {},
   "outputs": [
    {
     "name": "stdout",
     "output_type": "stream",
     "text": [
      "6\n"
     ]
    }
   ],
   "source": [
    "# 353. Find the GCD (Greatest COmmon Divisor) of two numbers\n",
    "def gcd(a,b):\n",
    "    while b:\n",
    "        a,b=b, a%b\n",
    "    return a\n",
    "\n",
    "print(gcd(48,18))"
   ]
  },
  {
   "cell_type": "code",
   "execution_count": 9,
   "id": "4301c951-868f-41d2-b081-df5cf6ff63e9",
   "metadata": {},
   "outputs": [
    {
     "name": "stdout",
     "output_type": "stream",
     "text": [
      "PythonfromworldHello\n"
     ]
    }
   ],
   "source": [
    "# 354. Reverse Words in a sentence\n",
    "def reverse_words(sentence):\n",
    "    return ''.join(sentence.split()[::-1])\n",
    "\n",
    "print(reverse_words(\"Hello world from Python\"))"
   ]
  },
  {
   "cell_type": "code",
   "execution_count": 13,
   "id": "3466d5b4-4f48-45eb-a1cd-7770422480d5",
   "metadata": {},
   "outputs": [
    {
     "name": "stdout",
     "output_type": "stream",
     "text": [
      "True\n",
      "True\n"
     ]
    }
   ],
   "source": [
    "# 355. Check if a string contains all unique characters\n",
    "def all_unique(s):\n",
    "    return len(set(s)) == len(s)\n",
    "\n",
    "print(all_unique(\"abcde\"))\n",
    "print(all_unique(\"abcde\"))"
   ]
  },
  {
   "cell_type": "code",
   "execution_count": 15,
   "id": "7e042b9e-3330-4068-a422-88c91599ddc4",
   "metadata": {},
   "outputs": [
    {
     "name": "stdout",
     "output_type": "stream",
     "text": [
      "10\n"
     ]
    }
   ],
   "source": [
    "# 356. Find the second largest number in a list\n",
    "def second_largest(nums):\n",
    "    first = second = float('-inf')\n",
    "    for num in nums:\n",
    "        if num > first:\n",
    "            second = first\n",
    "            first = num\n",
    "        elif first > num > second:\n",
    "            second = num\n",
    "    return second\n",
    "print(second_largest([10, 5, 8, 12, 3])) \n",
    "        "
   ]
  },
  {
   "cell_type": "code",
   "execution_count": 25,
   "id": "ae12dfe8-0e5d-4dd2-88c0-edcf755c8c2e",
   "metadata": {},
   "outputs": [
    {
     "name": "stdout",
     "output_type": "stream",
     "text": [
      "120\n"
     ]
    }
   ],
   "source": [
    "# 357. Calculate Factorial of a Number Using Recursion\n",
    "def factorial(n):\n",
    "    if n ==0:\n",
    "        return 1\n",
    "    return n*factorial(n-1)\n",
    "\n",
    "print(factorial(5))"
   ]
  },
  {
   "cell_type": "code",
   "execution_count": 19,
   "id": "f0e20d73-c4fe-4e02-894a-14eb519245db",
   "metadata": {},
   "outputs": [
    {
     "name": "stdout",
     "output_type": "stream",
     "text": [
      "This Is Title\n"
     ]
    }
   ],
   "source": [
    "# 358. Convert a string to Title Case\n",
    "def tit_case(s):\n",
    "    return s.title()\n",
    "\n",
    "print(tit_case(\"this is title\"))"
   ]
  },
  {
   "cell_type": "code",
   "execution_count": 21,
   "id": "5d5bbb92-2810-43ba-979a-12eb34c43de0",
   "metadata": {},
   "outputs": [
    {
     "name": "stdout",
     "output_type": "stream",
     "text": [
      "9\n"
     ]
    }
   ],
   "source": [
    "# 359. Find the sum of all add numbers in a list\n",
    "def sum_odd(nums):\n",
    "    return sum(num for num in nums if num %2!=0)\n",
    "\n",
    "print(sum_odd([1,2,3,4,5]))"
   ]
  },
  {
   "cell_type": "code",
   "execution_count": 27,
   "id": "ebd47300-82f0-4f76-a861-5012746e8449",
   "metadata": {},
   "outputs": [
    {
     "name": "stdout",
     "output_type": "stream",
     "text": [
      "True\n",
      "False\n"
     ]
    }
   ],
   "source": [
    "# 360. CHdck if a list is sorted in ascending order \n",
    "def is_sorted(lst):\n",
    "    return all(lst[i] <=lst[i+1] for i in range(len(lst)-1))\n",
    "\n",
    "print(is_sorted([1,2,3,4]))\n",
    "print(is_sorted([1,3,2,4]))"
   ]
  }
 ],
 "metadata": {
  "kernelspec": {
   "display_name": "Python 3 (ipykernel)",
   "language": "python",
   "name": "python3"
  },
  "language_info": {
   "codemirror_mode": {
    "name": "ipython",
    "version": 3
   },
   "file_extension": ".py",
   "mimetype": "text/x-python",
   "name": "python",
   "nbconvert_exporter": "python",
   "pygments_lexer": "ipython3",
   "version": "3.12.7"
  }
 },
 "nbformat": 4,
 "nbformat_minor": 5
}
