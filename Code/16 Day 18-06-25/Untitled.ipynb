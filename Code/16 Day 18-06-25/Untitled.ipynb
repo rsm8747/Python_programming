{
 "cells": [
  {
   "cell_type": "code",
   "execution_count": 1,
   "id": "1c903990-905d-4b5d-bcc5-fb560a20a624",
   "metadata": {},
   "outputs": [
    {
     "name": "stdout",
     "output_type": "stream",
     "text": [
      "14\n"
     ]
    }
   ],
   "source": [
    "# 151. Calculate the sum of squares of numbers in a list\n",
    "def sum_of_squares(lst):\n",
    "    return sum(x**2 for x in lst)\n",
    "\n",
    "print(sum_of_squares([1,2,3]))"
   ]
  },
  {
   "cell_type": "code",
   "execution_count": 3,
   "id": "9776b734-8645-469d-90f3-7f0fb8bfca1f",
   "metadata": {},
   "outputs": [
    {
     "name": "stdout",
     "output_type": "stream",
     "text": [
      "{'a': 1, 'b': 2}\n"
     ]
    }
   ],
   "source": [
    "# 152. Convert a List of Tuples to a dicstionary \n",
    "def tuples_to_dict(tuples):\n",
    "    return dict(tuples)\n",
    "print(tuples_to_dict([('a',1),('b',2)]))"
   ]
  },
  {
   "cell_type": "code",
   "execution_count": 7,
   "id": "5a5e3fd2-cf5c-4789-961c-368fa4d7b341",
   "metadata": {},
   "outputs": [
    {
     "name": "stdout",
     "output_type": "stream",
     "text": [
      "True\n"
     ]
    }
   ],
   "source": [
    "# 153. Check if two strings are anagrams \n",
    "def are_anagrams(s1,s2):\n",
    "    return sorted(s1)==sorted(s2)\n",
    "print(are_anagrams(\"listen\",\"silent\"))"
   ]
  },
  {
   "cell_type": "code",
   "execution_count": 9,
   "id": "46f1827f-5bf1-48bf-9e1c-c01b5cf44ca1",
   "metadata": {},
   "outputs": [
    {
     "name": "stdout",
     "output_type": "stream",
     "text": [
      "[1, 2, 3]\n"
     ]
    }
   ],
   "source": [
    "# 154. Extract Numbers from a mixed string \n",
    "def extract_numbers(s):\n",
    "    return [int(c) for c in s if c.isdigit()]\n",
    "print(extract_numbers(\"abc123\"))"
   ]
  },
  {
   "cell_type": "code",
   "execution_count": 11,
   "id": "86f8b02e-fc0a-41aa-be56-8c3c6c0a24f4",
   "metadata": {},
   "outputs": [
    {
     "name": "stdout",
     "output_type": "stream",
     "text": [
      "3\n"
     ]
    }
   ],
   "source": [
    "# 155. Find the Median of a list\n",
    "def find_median(lst):\n",
    "    lst=sorted(lst)\n",
    "    n = len(lst)\n",
    "    mid = n//2\n",
    "    if n%2==0:\n",
    "        return (lst[mid-1]+lst[mid])/2\n",
    "    else:\n",
    "        return lst[mid]\n",
    "\n",
    "print(find_median([5,2,1,3,4]))"
   ]
  },
  {
   "cell_type": "code",
   "execution_count": 13,
   "id": "b7fd13be-ac4d-4f34-98c3-d4bd7eeaf4d7",
   "metadata": {},
   "outputs": [
    {
     "name": "stdout",
     "output_type": "stream",
     "text": [
      "3\n"
     ]
    }
   ],
   "source": [
    "# 156. Count the number of vowels in a string \n",
    "def count_vowels(s):\n",
    "    return sum(1 for c in s.lower() if c in 'aeiou')\n",
    "\n",
    "print(count_vowels(\"Hello world\"))"
   ]
  },
  {
   "cell_type": "code",
   "execution_count": 19,
   "id": "39a016bc-c2fb-47ad-b5ac-077f8e7b2884",
   "metadata": {},
   "outputs": [
    {
     "name": "stdout",
     "output_type": "stream",
     "text": [
      "abcda\n"
     ]
    }
   ],
   "source": [
    "# 157. Remove Consecutive Duplicate Charaters from a string\n",
    "def remove_consecutive_duplicates(s):\n",
    "    result = [s[0]] if s else []\n",
    "    for c in s[1:]:\n",
    "        if c != result[-1]:\n",
    "            result.append(c)\n",
    "    return ''.join(result)\n",
    "\n",
    "print(remove_consecutive_duplicates(\"aaabbccdaa\"))  # Output: \"abcda\""
   ]
  },
  {
   "cell_type": "code",
   "execution_count": 21,
   "id": "fabde9c2-0a2b-40e7-9af7-3eded1715e13",
   "metadata": {},
   "outputs": [
    {
     "name": "stdout",
     "output_type": "stream",
     "text": [
      "12\n"
     ]
    }
   ],
   "source": [
    "# 158. Find the GCD of Two Numbers\n",
    "def gcd(a,b):\n",
    "    while b:\n",
    "        a,b=b,a%b\n",
    "    return a\n",
    "print(gcd(24,36))"
   ]
  },
  {
   "cell_type": "code",
   "execution_count": 25,
   "id": "4af84ded-87d4-4c3e-967c-875795d0df48",
   "metadata": {},
   "outputs": [
    {
     "name": "stdout",
     "output_type": "stream",
     "text": [
      "{'h': 1, 'e': 1, 'l': 2, 'o': 1}\n"
     ]
    }
   ],
   "source": [
    "# 159. Count Occurrences of Each Character in a String\n",
    "from collections import Counter\n",
    "def char_frequency(s):\n",
    "    return dict(Counter(s))\n",
    "\n",
    "print(char_frequency(\"hello\"))"
   ]
  },
  {
   "cell_type": "code",
   "execution_count": 27,
   "id": "3c69ed7f-fcd8-4d57-8376-080823ceab77",
   "metadata": {},
   "outputs": [
    {
     "name": "stdout",
     "output_type": "stream",
     "text": [
      "True\n",
      "False\n"
     ]
    }
   ],
   "source": [
    "# 160.Check if a List is Sorted \n",
    "def is_sorted(lst):\n",
    "    return lst == sorted(lst)\n",
    "\n",
    "print(is_sorted([1,2,3,4]))\n",
    "print(is_sorted([3,2,1]))"
   ]
  }
 ],
 "metadata": {
  "kernelspec": {
   "display_name": "Python 3 (ipykernel)",
   "language": "python",
   "name": "python3"
  },
  "language_info": {
   "codemirror_mode": {
    "name": "ipython",
    "version": 3
   },
   "file_extension": ".py",
   "mimetype": "text/x-python",
   "name": "python",
   "nbconvert_exporter": "python",
   "pygments_lexer": "ipython3",
   "version": "3.12.7"
  }
 },
 "nbformat": 4,
 "nbformat_minor": 5
}
