{
 "cells": [
  {
   "cell_type": "code",
   "execution_count": 1,
   "id": "a1d29792-f948-4c8d-a0f3-242762a719fd",
   "metadata": {},
   "outputs": [
    {
     "name": "stdout",
     "output_type": "stream",
     "text": [
      "45\n"
     ]
    }
   ],
   "source": [
    "# 391. Find the Second Largest Number in a list \n",
    "def second_largest(lst):\n",
    "    unique_nums=list(set(lst))\n",
    "    unique_nums.sort()\n",
    "    return unique_nums[-2] if len(unique_nums)>=2 else None\n",
    "print(second_largest([10,20,20,4,45,99]))"
   ]
  },
  {
   "cell_type": "code",
   "execution_count": 3,
   "id": "888abad1-ca72-476c-bedd-8ae84e0c4db8",
   "metadata": {},
   "outputs": [
    {
     "name": "stdout",
     "output_type": "stream",
     "text": [
      "False\n",
      "True\n"
     ]
    }
   ],
   "source": [
    "# 392. Check if two lists have any common elements \n",
    "def have_common_elements(lst1,lst2):\n",
    "    return bool(set(lst1) & set(lst2))\n",
    "\n",
    "print(have_common_elements([1,2,3],[4,5,6]))\n",
    "print(have_common_elements([1,2,3],[3,4,5]))"
   ]
  },
  {
   "cell_type": "code",
   "execution_count": 5,
   "id": "41e5a428-b174-43a3-b23a-531674543085",
   "metadata": {},
   "outputs": [
    {
     "name": "stdout",
     "output_type": "stream",
     "text": [
      "FF\n"
     ]
    }
   ],
   "source": [
    "# 393. Convert a Decimal Number to Hexadecimal String \n",
    "def decimal_to_hex(n):\n",
    "    if n == 0:\n",
    "        return \"0\"\n",
    "    hex_chars=\"0123456789ABCDEF\"\n",
    "    result=\"\"\n",
    "    while n>0:\n",
    "        result=hex_chars[n%16]+result\n",
    "        n //=16\n",
    "    return result\n",
    "\n",
    "print(decimal_to_hex(255))"
   ]
  },
  {
   "cell_type": "code",
   "execution_count": 7,
   "id": "a581637c-6146-478e-a67a-bdcbb66b1acf",
   "metadata": {},
   "outputs": [
    {
     "name": "stdout",
     "output_type": "stream",
     "text": [
      "{'h': 1, 'e': 1, 'l': 3, 'o': 2, ' ': 1, 'w': 1, 'r': 1, 'd': 1}\n"
     ]
    }
   ],
   "source": [
    "# 294. Count the Frequency of Each Charcter in a String\n",
    "from collections import Counter \n",
    "def char_frequency(s):\n",
    "    return dict(Counter(s))\n",
    "\n",
    "print(char_frequency(\"hello world\"))"
   ]
  },
  {
   "cell_type": "code",
   "execution_count": 9,
   "id": "5bdbcd10-3d4a-460e-a4a1-50b7f81a4cb4",
   "metadata": {},
   "outputs": [
    {
     "name": "stdout",
     "output_type": "stream",
     "text": [
      "8\n"
     ]
    }
   ],
   "source": [
    "# 295. Find the maximum difference between two elements such that larger element comes after smaller\n",
    "def max_difference(lst):\n",
    "    min_val = lst[0]\n",
    "    max_diff = 0\n",
    "    for num in lst[1:]:\n",
    "        if num - min_val > max_diff:\n",
    "            max_diff = num-min_val\n",
    "        if num < min_val:\n",
    "            min_val=num\n",
    "    return max_diff\n",
    "\n",
    "print(max_difference([2,3,10,6,4,8,1]))\n",
    "        "
   ]
  },
  {
   "cell_type": "code",
   "execution_count": 11,
   "id": "15b3cfe4-422d-4916-8bfc-9f2c340554a5",
   "metadata": {},
   "outputs": [
    {
     "name": "stdout",
     "output_type": "stream",
     "text": [
      "awesomeisPython\n"
     ]
    }
   ],
   "source": [
    "# 296. Reverse the words in a sentence\n",
    "def reverse_words(sentence):\n",
    "    return ''.join(sentence.split()[::-1])\n",
    "print(reverse_words(\"Python is awesome\"))"
   ]
  },
  {
   "cell_type": "code",
   "execution_count": 13,
   "id": "20fb66a7-ac1b-4fa5-ba9f-4972eedb9636",
   "metadata": {},
   "outputs": [
    {
     "name": "stdout",
     "output_type": "stream",
     "text": [
      "awesome\n"
     ]
    }
   ],
   "source": [
    "# 297. Find the longest word in a senetence\n",
    "def longest_word(sentence):\n",
    "    words=sentence.split()\n",
    "    return max(words,key=len)\n",
    "\n",
    "print(longest_word(\"Python is awesome\"))"
   ]
  },
  {
   "cell_type": "code",
   "execution_count": 17,
   "id": "e390b69c-ebc0-42b0-b38c-cef638d35925",
   "metadata": {},
   "outputs": [
    {
     "name": "stdout",
     "output_type": "stream",
     "text": [
      "True\n",
      "False\n"
     ]
    }
   ],
   "source": [
    "# 298. CHeck if a string contains only digits \n",
    "def is_digits_only(s):\n",
    "    return s.isdigit()\n",
    "\n",
    "print(is_digits_only(\"12345\"))\n",
    "print(is_digits_only(\"123a5\"))"
   ]
  },
  {
   "cell_type": "code",
   "execution_count": 19,
   "id": "3be1a1c5-5fda-4fd5-93c0-86f3d99b348a",
   "metadata": {},
   "outputs": [
    {
     "name": "stdout",
     "output_type": "stream",
     "text": [
      "12\n"
     ]
    }
   ],
   "source": [
    "# 399. Find the sum of all even numbers in a list\n",
    "def sum_even_numbers(lst):\n",
    "    return sum(num for num in lst if num%2==0)\n",
    "\n",
    "print(sum_even_numbers([1,2,3,4,5,6]))"
   ]
  },
  {
   "cell_type": "code",
   "execution_count": 21,
   "id": "b3aa5709-d71d-4273-a758-bb90f1bf77cf",
   "metadata": {},
   "outputs": [
    {
     "name": "stdout",
     "output_type": "stream",
     "text": [
      "24\n"
     ]
    }
   ],
   "source": [
    "# 400. Find the number of training zeros in a factorial of a number\n",
    "def trailing_zeros_factorial(n):\n",
    "    count=0\n",
    "    i=5\n",
    "    while n//i:\n",
    "        count += n//i\n",
    "        i*=5\n",
    "    return count\n",
    "\n",
    "print(trailing_zeros_factorial(100))"
   ]
  }
 ],
 "metadata": {
  "kernelspec": {
   "display_name": "Python 3 (ipykernel)",
   "language": "python",
   "name": "python3"
  },
  "language_info": {
   "codemirror_mode": {
    "name": "ipython",
    "version": 3
   },
   "file_extension": ".py",
   "mimetype": "text/x-python",
   "name": "python",
   "nbconvert_exporter": "python",
   "pygments_lexer": "ipython3",
   "version": "3.12.7"
  }
 },
 "nbformat": 4,
 "nbformat_minor": 5
}
