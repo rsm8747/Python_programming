{
 "cells": [
  {
   "cell_type": "code",
   "execution_count": 1,
   "id": "edde4e93-6d41-4694-8237-e355c3219ee3",
   "metadata": {},
   "outputs": [
    {
     "name": "stdout",
     "output_type": "stream",
     "text": [
      "[1, 2, 3, 4, 5, 6]\n"
     ]
    }
   ],
   "source": [
    "# 381. Flatten a nested list of arbitrary depth \n",
    "def flatten(lst):\n",
    "    flat_list=[]\n",
    "    for item in lst:\n",
    "        if isinstance(item,list):\n",
    "            flat_list.extend(flatten(item))\n",
    "        else:\n",
    "            flat_list.append(item)\n",
    "    return flat_list\n",
    "\n",
    "print(flatten([1,[2,[3,4],5],6]))"
   ]
  },
  {
   "cell_type": "code",
   "execution_count": 3,
   "id": "3231463e-a00b-4897-9514-e2c7bced1284",
   "metadata": {},
   "outputs": [
    {
     "name": "stdout",
     "output_type": "stream",
     "text": [
      "True\n",
      "False\n"
     ]
    }
   ],
   "source": [
    "# 382. Check if two strings are anagrams\n",
    "def are_anagrams(s1,s2):\n",
    "    return sorted(s1) == sorted(s2)\n",
    "\n",
    "print(are_anagrams(\"listen\",\"silent\"))\n",
    "print(are_anagrams(\"Hello\",\"world\"))"
   ]
  },
  {
   "cell_type": "code",
   "execution_count": 9,
   "id": "d3635de9-8f48-4540-9182-2ba87f4a4894",
   "metadata": {},
   "outputs": [
    {
     "name": "stdout",
     "output_type": "stream",
     "text": [
      "w\n"
     ]
    }
   ],
   "source": [
    "# 383. Find first non repeated character in a string\n",
    "def first_non_repeated_char(s):\n",
    "    def find_missing_number(lst):\n",
    "    n = len(lst) + 1\n",
    "    expected_sum = n * (n + 1) // 2\n",
    "    return expected_sum - sum(lst)\n",
    "print(find_missing_number([1, 2, 4, 5, 6]))\n",
    "\n",
    "    from collections import Counter\n",
    "    counts=Counter(s)\n",
    "    for ch in s:\n",
    "        if counts[ch]==1:\n",
    "            return ch\n",
    "    return None\n",
    "\n",
    "print(first_non_repeated_char(\"swiss\"))\n",
    "\n"
   ]
  },
  {
   "cell_type": "code",
   "execution_count": 13,
   "id": "31efc4f8-c5a5-4b6c-88d2-c78bf4b353f9",
   "metadata": {},
   "outputs": [
    {
     "name": "stdout",
     "output_type": "stream",
     "text": [
      "3\n"
     ]
    }
   ],
   "source": [
    "# 384. Calculate the missing number in a list of cinsecutive integers\n",
    "def consecutive_integers(lst):\n",
    "    n = len(lst) + 1\n",
    "    expected_sum=n*(n+1)//2\n",
    "    return expected_sum -sum(lst)\n",
    "\n",
    "print(consecutive_integers([1,2,3,5,7]))"
   ]
  },
  {
   "cell_type": "code",
   "execution_count": 15,
   "id": "5188ba78-7b1f-4d44-a9d9-59a0d4a70b57",
   "metadata": {},
   "outputs": [
    {
     "name": "stdout",
     "output_type": "stream",
     "text": [
      "32\n"
     ]
    }
   ],
   "source": [
    "# 385.Calculate the sun of digits raised to thier respective positions\n",
    "def sum_digits_pos(n):\n",
    "    return sum(int(d)**(i+1) for i,d in enumerate(str(n)))\n",
    "\n",
    "print(sum_digits_pos(123))"
   ]
  },
  {
   "cell_type": "code",
   "execution_count": 19,
   "id": "9dbb2f62-ee65-42bf-8df4-2f5e1f201caa",
   "metadata": {},
   "outputs": [
    {
     "name": "stdout",
     "output_type": "stream",
     "text": [
      "[[], [1], [2], [1, 2]]\n"
     ]
    }
   ],
   "source": [
    "# 386. Generate ALl subsetes (power set) of a list\n",
    "def power_set(lst):\n",
    "    result=[[]]\n",
    "    for elem in lst:\n",
    "        result+=[curr+[elem] for curr in result]\n",
    "    return result \n",
    "\n",
    "print(power_set([1,2]))"
   ]
  },
  {
   "cell_type": "code",
   "execution_count": 23,
   "id": "2225170f-6923-44e0-a9dc-bf084d027826",
   "metadata": {},
   "outputs": [
    {
     "name": "stdout",
     "output_type": "stream",
     "text": [
      "6\n"
     ]
    }
   ],
   "source": [
    "# 387. Count the number of palindromic substrings in a string\n",
    "def count_palindromic_substrings(s):\n",
    "    count = 0\n",
    "\n",
    "    def expand(left, right):\n",
    "        nonlocal count\n",
    "        while left >= 0 and right < len(s) and s[left] == s[right]:\n",
    "            count += 1\n",
    "            left -= 1\n",
    "            right += 1\n",
    "\n",
    "    for i in range(len(s)):\n",
    "        expand(i, i)       # Odd-length palindromes\n",
    "        expand(i, i + 1)   # Even-length palindromes\n",
    "\n",
    "    return count\n",
    "\n",
    "print(count_palindromic_substrings(\"aaa\"))\n"
   ]
  },
  {
   "cell_type": "code",
   "execution_count": 25,
   "id": "31e72101-48ac-4d3a-b4dd-48ce9cd6e9f3",
   "metadata": {},
   "outputs": [
    {
     "name": "stdout",
     "output_type": "stream",
     "text": [
      "[4, 5, 1, 2, 3]\n"
     ]
    }
   ],
   "source": [
    "# 388.  Rotate a list to the right by K steps \n",
    "def rotate_right(lst,k):\n",
    "    k=k%len(lst)\n",
    "    return lst[-k:]+lst[:-k]\n",
    "\n",
    "print(rotate_right([1,2,3,4,5],2))"
   ]
  },
  {
   "cell_type": "code",
   "execution_count": 27,
   "id": "81f76b2e-6b70-45df-91fd-952f85aca6be",
   "metadata": {},
   "outputs": [
    {
     "name": "stdout",
     "output_type": "stream",
     "text": [
      "[4, 5, 1, 2, 3]\n"
     ]
    }
   ],
   "source": [
    "# 389. Rotate a list to the right by K steps\n",
    "def rotate_right(lst,k):\n",
    "    k = k%len(lst)\n",
    "    return lst[-k:] + lst[:-k]\n",
    "\n",
    "print(rotate_right([1,2,3,4,5],2))"
   ]
  },
  {
   "cell_type": "code",
   "execution_count": 29,
   "id": "225b3940-853f-4325-af78-6f8ce495ced1",
   "metadata": {},
   "outputs": [
    {
     "name": "stdout",
     "output_type": "stream",
     "text": [
      "True\n",
      "False\n"
     ]
    }
   ],
   "source": [
    "# 389. Check if a number is a perfect number\n",
    "# (sum of proper divisors equals the number)\n",
    "def is_perfect_number(n):\n",
    "    divisors_sum = sum(i for i in range(1,n) if n % i ==0)\n",
    "    return divisors_sum == n\n",
    "\n",
    "print(is_perfect_number(28))\n",
    "print(is_perfect_number(12))"
   ]
  }
 ],
 "metadata": {
  "kernelspec": {
   "display_name": "Python 3 (ipykernel)",
   "language": "python",
   "name": "python3"
  },
  "language_info": {
   "codemirror_mode": {
    "name": "ipython",
    "version": 3
   },
   "file_extension": ".py",
   "mimetype": "text/x-python",
   "name": "python",
   "nbconvert_exporter": "python",
   "pygments_lexer": "ipython3",
   "version": "3.12.7"
  }
 },
 "nbformat": 4,
 "nbformat_minor": 5
}
