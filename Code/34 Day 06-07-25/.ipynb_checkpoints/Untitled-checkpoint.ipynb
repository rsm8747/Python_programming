{
 "cells": [
  {
   "cell_type": "code",
   "execution_count": 1,
   "id": "726b6817-2981-4cf4-9eaf-bdc68c926b84",
   "metadata": {},
   "outputs": [
    {
     "name": "stdout",
     "output_type": "stream",
     "text": [
      "12\n"
     ]
    }
   ],
   "source": [
    "# 331. Find the sum of all even numbers in a list \n",
    "def sum_even(nums):\n",
    "    return sum(num for num in nums if num%2==0)\n",
    "\n",
    "print(sum_even([1,2,3,4,5,6]))"
   ]
  },
  {
   "cell_type": "code",
   "execution_count": 5,
   "id": "a13ffb70-0ed6-43e3-a1b8-136d8ab6f294",
   "metadata": {},
   "outputs": [
    {
     "name": "stdout",
     "output_type": "stream",
     "text": [
      "True\n",
      "False\n"
     ]
    }
   ],
   "source": [
    "# 332. check if  a number is a perfect number (a perfect number equals the sum of its proper divisors)\n",
    "\n",
    "def is_perfect(n):\n",
    "    divisors_sum = sum(i for i in range(1,n) if n % i==0)\n",
    "    return divisors_sum==n\n",
    "\n",
    "print(is_perfect(28))\n",
    "print(is_perfect(12))"
   ]
  },
  {
   "cell_type": "code",
   "execution_count": 7,
   "id": "2c1ecf74-acbd-4161-9ebb-53b2f256dd3e",
   "metadata": {},
   "outputs": [
    {
     "name": "stdout",
     "output_type": "stream",
     "text": [
      "1010\n"
     ]
    }
   ],
   "source": [
    "# 333. Convert a decimal number to binary string\n",
    "def decimal_to_binary(n):\n",
    "    return bin(n)[2:]\n",
    "\n",
    "print(decimal_to_binary(10))"
   ]
  },
  {
   "cell_type": "code",
   "execution_count": null,
   "id": "2b95af11-3a48-4258-8bfd-e3f73b8bda9b",
   "metadata": {},
   "outputs": [],
   "source": [
    "# 334. Find the length of the longest palindromic substring \n",
    "def longe"
   ]
  }
 ],
 "metadata": {
  "kernelspec": {
   "display_name": "Python 3 (ipykernel)",
   "language": "python",
   "name": "python3"
  },
  "language_info": {
   "codemirror_mode": {
    "name": "ipython",
    "version": 3
   },
   "file_extension": ".py",
   "mimetype": "text/x-python",
   "name": "python",
   "nbconvert_exporter": "python",
   "pygments_lexer": "ipython3",
   "version": "3.12.7"
  }
 },
 "nbformat": 4,
 "nbformat_minor": 5
}
