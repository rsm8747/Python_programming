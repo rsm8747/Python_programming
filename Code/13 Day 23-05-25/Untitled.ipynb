{
 "cells": [
  {
   "cell_type": "code",
   "execution_count": null,
   "id": "8a5095dd-c007-4e80-beb7-6bbcc93d7dee",
   "metadata": {},
   "outputs": [],
   "source": [
    "Sum of Two Numbers: Write a function that takes two numbers and returns their sum.\n"
   ]
  },
  {
   "cell_type": "code",
   "execution_count": null,
   "id": "0259dc3c-6275-4f42-83c6-e2d81c88acb4",
   "metadata": {},
   "outputs": [],
   "source": [
    "Even or Odd: Write a function that checks if a number is even or odd.\n"
   ]
  },
  {
   "cell_type": "code",
   "execution_count": null,
   "id": "e3c101d0-b249-482e-85d4-f1f955104a46",
   "metadata": {},
   "outputs": [],
   "source": [
    "Factorial of a Number: Write a function to compute the factorial of a number (using loops)"
   ]
  },
  {
   "cell_type": "code",
   "execution_count": null,
   "id": "6fe36b92-4f42-48a5-b834-6d64701eb03a",
   "metadata": {},
   "outputs": [],
   "source": [
    "Check Prime Number: Write a function to check if a number is prime.\n",
    "\n"
   ]
  },
  {
   "cell_type": "code",
   "execution_count": null,
   "id": "fd6cc516-05eb-435d-982c-d64482a1da73",
   "metadata": {},
   "outputs": [],
   "source": [
    "Reverse a String: Write a function to reverse a given string without using [::-1]."
   ]
  },
  {
   "cell_type": "code",
   "execution_count": null,
   "id": "03106958-3742-4d21-85de-f255911ba91c",
   "metadata": {},
   "outputs": [],
   "source": [
    "Count Vowels: Write a function that counts the number of vowels in a string."
   ]
  },
  {
   "cell_type": "code",
   "execution_count": null,
   "id": "f6982128-acdc-4371-bed9-19456bb62122",
   "metadata": {},
   "outputs": [],
   "source": [
    "Fibonacci Sequence: Write a function to generate the first n Fibonacci numbers."
   ]
  },
  {
   "cell_type": "code",
   "execution_count": null,
   "id": "6391f3f6-ce99-4b96-8b4f-4762fa95f423",
   "metadata": {},
   "outputs": [],
   "source": [
    "List Comprehension (Squares): Using list comprehension, create a list of squares from 1 to 10.\n"
   ]
  },
  {
   "cell_type": "code",
   "execution_count": null,
   "id": "28e3e92f-58a4-43f2-a9ef-1b29d1f8a3d9",
   "metadata": {},
   "outputs": [],
   "source": [
    "Find Max in List: Write a function to find the largest number in a list without using max()."
   ]
  },
  {
   "cell_type": "code",
   "execution_count": null,
   "id": "b3eafefe-4dd6-41df-9d87-0f79cda973a6",
   "metadata": {},
   "outputs": [],
   "source": [
    "# 10) Hello, Name: Write a function that takes a name as input and prints \"Hello, [Name]!\".\n"
   ]
  }
 ],
 "metadata": {
  "kernelspec": {
   "display_name": "Python 3 (ipykernel)",
   "language": "python",
   "name": "python3"
  },
  "language_info": {
   "codemirror_mode": {
    "name": "ipython",
    "version": 3
   },
   "file_extension": ".py",
   "mimetype": "text/x-python",
   "name": "python",
   "nbconvert_exporter": "python",
   "pygments_lexer": "ipython3",
   "version": "3.12.7"
  }
 },
 "nbformat": 4,
 "nbformat_minor": 5
}
