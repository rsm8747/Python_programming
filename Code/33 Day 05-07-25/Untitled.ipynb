{
 "cells": [
  {
   "cell_type": "code",
   "execution_count": 1,
   "id": "e9b7ce91-0c9a-4bad-9b64-44dbdc9c6928",
   "metadata": {},
   "outputs": [
    {
     "name": "stdout",
     "output_type": "stream",
     "text": [
      "True\n"
     ]
    }
   ],
   "source": [
    "# 321. Check if a string is a palindrom (ignoring case and spaces)\n",
    "def is_palindrome(s):\n",
    "    s=''.join(ch.lower() for ch in s if ch.isalnum())\n",
    "    return s == s[::-1]\n",
    "\n",
    "print(is_palindrome(\"A man a plan a canal panama\"))"
   ]
  },
  {
   "cell_type": "code",
   "execution_count": 7,
   "id": "30647b43-9699-4cfe-95a8-224e26fb4fdb",
   "metadata": {},
   "outputs": [
    {
     "name": "stdout",
     "output_type": "stream",
     "text": [
      "8\n"
     ]
    }
   ],
   "source": [
    "# 322. Find the maximum differencce between two elements in a list (large number comes after smaller)\n",
    "\n",
    "def max_difference(nums):\n",
    "    min_num = float('inf')\n",
    "    max_diff=0\n",
    "    for num in nums:\n",
    "        if num < min_num:\n",
    "            min_num=num\n",
    "        elif num-min_num>max_diff:\n",
    "            max_diff = num-min_num\n",
    "    return max_diff\n",
    "print(max_difference([2,3,10,6,4,8,1]))"
   ]
  },
  {
   "cell_type": "code",
   "execution_count": 9,
   "id": "f43a5622-f38d-480b-a933-81e37ba2eb38",
   "metadata": {},
   "outputs": [
    {
     "name": "stdout",
     "output_type": "stream",
     "text": [
      "Python\n"
     ]
    }
   ],
   "source": [
    "# 323. Convert a list of character to a string \n",
    "def chars_to_string(chars):\n",
    "    return ''.join(chars)\n",
    "print(chars_to_string(['P','y','t','h','o','n']))"
   ]
  },
  {
   "cell_type": "code",
   "execution_count": 11,
   "id": "99891182-b4ba-447c-b321-420db133a9bc",
   "metadata": {},
   "outputs": [
    {
     "name": "stdout",
     "output_type": "stream",
     "text": [
      "24\n"
     ]
    }
   ],
   "source": [
    "# 324. Find the number of days between two dates \n",
    "from datetime import datetime\n",
    "def days_between(d1,d2):\n",
    "    date_format=\"%Y-%m-%d\"\n",
    "    a=datetime.strptime(d1,date_format)\n",
    "    b=datetime.strptime(d2,date_format)\n",
    "    return abs((b-a).days)\n",
    "\n",
    "print(days_between(\"2024-05-01\",\"2024-05-25\"))"
   ]
  },
  {
   "cell_type": "code",
   "execution_count": 13,
   "id": "ac3b24ac-3019-47ae-b1e8-9e923535d858",
   "metadata": {},
   "outputs": [
    {
     "name": "stdout",
     "output_type": "stream",
     "text": [
      "True\n",
      "False\n"
     ]
    }
   ],
   "source": [
    "# 325. Check if a string contains only alphabtes\n",
    "def is_alpha(s):\n",
    "    return s.isalpha()\n",
    "\n",
    "print(is_alpha(\"Hello\"))\n",
    "print(is_alpha(\"Hello123\"))"
   ]
  },
  {
   "cell_type": "code",
   "execution_count": 15,
   "id": "5a3d2f04-2417-4767-97f2-9cdba7824e65",
   "metadata": {},
   "outputs": [
    {
     "name": "stdout",
     "output_type": "stream",
     "text": [
      "4\n"
     ]
    }
   ],
   "source": [
    "# 326. Find the length of the longest increasing subsequence in a list\n",
    "def length_of_LIS(nums):\n",
    "    if not nums:\n",
    "        return 0\n",
    "    dp = [1]*len(nums)\n",
    "    for i in range(1,len(nums)):\n",
    "        for j in range(i):\n",
    "            if nums[i] > nums[j]:\n",
    "                dp[i]=max(dp[i],dp[j]+1)\n",
    "    return max(dp)\n",
    "\n",
    "print(length_of_LIS([10,9,2,5,3,7,101,18]))"
   ]
  },
  {
   "cell_type": "code",
   "execution_count": 17,
   "id": "d7665ecd-ffb5-414b-a333-03657a8a7889",
   "metadata": {},
   "outputs": [
    {
     "name": "stdout",
     "output_type": "stream",
     "text": [
      "a\n"
     ]
    }
   ],
   "source": [
    "#  327. Find the character that appears most in a string \n",
    "from collections import Counter\n",
    "def most_common_char(s):\n",
    "    return Counter(s).most_common(1)[0][0]\n",
    "\n",
    "print(most_common_char(\"banana\"))"
   ]
  },
  {
   "cell_type": "code",
   "execution_count": 19,
   "id": "ee3d0066-f0b1-4934-9a80-406892076a86",
   "metadata": {},
   "outputs": [
    {
     "name": "stdout",
     "output_type": "stream",
     "text": [
      "True\n",
      "False\n"
     ]
    }
   ],
   "source": [
    "# 328. Check if a number is armstrong number \n",
    "def is_armstrong(n):\n",
    "    digits=[int(d) for d in str(n)]\n",
    "    power = len(digits)\n",
    "    return n == sum(d**power for d in digits)\n",
    "\n",
    "print(is_armstrong(153))\n",
    "print(is_armstrong(123))"
   ]
  },
  {
   "cell_type": "code",
   "execution_count": 23,
   "id": "f6f8ea60-309e-4002-9e75-22c58a35f774",
   "metadata": {},
   "outputs": [
    {
     "name": "stdout",
     "output_type": "stream",
     "text": [
      "b\n"
     ]
    }
   ],
   "source": [
    "# 329. Remove Duplicates from a string while preserving\n",
    "def remove_duplicates(s):\n",
    "    seen=set()\n",
    "    result=[]\n",
    "    for ch in s:\n",
    "        if ch not in seen:\n",
    "            seen.add(ch)\n",
    "            result.append(ch)\n",
    "        return ''.join(result)\n",
    "\n",
    "print(remove_duplicates(\"banana\"))"
   ]
  },
  {
   "cell_type": "code",
   "execution_count": 25,
   "id": "c0a2fed5-3173-4f4b-a91e-2c4ad61e9c0a",
   "metadata": {},
   "outputs": [
    {
     "name": "stdout",
     "output_type": "stream",
     "text": [
      "[[1], [1, 1], [1, 2, 1], [1, 3, 3, 1], [1, 4, 6, 4, 1]]\n"
     ]
    }
   ],
   "source": [
    "# 330. Generete Pascal's triangle up to N rows\n",
    "def pascals_triangle(n):\n",
    "    triangle=[]\n",
    "    for i in range(n):\n",
    "        row=[1]\n",
    "        if triangle:\n",
    "            last_row=triangle[-1]\n",
    "            row.extend([sum(pair) for pair in zip(last_row, last_row[1:])])\n",
    "            row.append(1)\n",
    "        triangle.append(row)\n",
    "    return triangle\n",
    "\n",
    "print(pascals_triangle(5))"
   ]
  }
 ],
 "metadata": {
  "kernelspec": {
   "display_name": "Python 3 (ipykernel)",
   "language": "python",
   "name": "python3"
  },
  "language_info": {
   "codemirror_mode": {
    "name": "ipython",
    "version": 3
   },
   "file_extension": ".py",
   "mimetype": "text/x-python",
   "name": "python",
   "nbconvert_exporter": "python",
   "pygments_lexer": "ipython3",
   "version": "3.12.7"
  }
 },
 "nbformat": 4,
 "nbformat_minor": 5
}
