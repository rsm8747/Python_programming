{
 "cells": [
  {
   "cell_type": "code",
   "execution_count": 3,
   "id": "86b33752-de66-4254-9c3a-94e50adacffb",
   "metadata": {},
   "outputs": [
    {
     "name": "stdout",
     "output_type": "stream",
     "text": [
      "0 1 1 2 3 5 8 "
     ]
    }
   ],
   "source": [
    "# 71 Print Fibonacci Series up to N terms \n",
    "def fibonacci(n):\n",
    "    a, b = 0, 1\n",
    "    for _ in range(n):\n",
    "        print(a, end=\" \")\n",
    "        a, b = b, a + b\n",
    "\n",
    "fibonacci(7)\n"
   ]
  },
  {
   "cell_type": "code",
   "execution_count": 5,
   "id": "e7c4ff61-215a-4f4b-a021-c53c5a345dea",
   "metadata": {},
   "outputs": [
    {
     "name": "stdout",
     "output_type": "stream",
     "text": [
      "True\n"
     ]
    }
   ],
   "source": [
    "# 72. Check if a number is a perfecr square\n",
    "import math\n",
    "def is_perfect_square(n):\n",
    "    return math.isqrt(n)**2==n\n",
    "\n",
    "print(is_perfect_square(25))"
   ]
  },
  {
   "cell_type": "code",
   "execution_count": 7,
   "id": "0b8fa5e8-0cfb-42be-a762-78860b8a366b",
   "metadata": {},
   "outputs": [
    {
     "name": "stdout",
     "output_type": "stream",
     "text": [
      "4\n"
     ]
    }
   ],
   "source": [
    "# 73. Count Number of words in a sentence\n",
    "def count_words(s):\n",
    "    return len(s.split())\n",
    "\n",
    "print(count_words(\"Data Science is amazing\"))"
   ]
  },
  {
   "cell_type": "code",
   "execution_count": 9,
   "id": "4d09878d-745e-4196-8d1e-74b80b4777b3",
   "metadata": {},
   "outputs": [
    {
     "name": "stdout",
     "output_type": "stream",
     "text": [
      "5\n"
     ]
    }
   ],
   "source": [
    "# 74. Count Number of Digits in a integer\n",
    "def count_digits(n):\n",
    "    return len(str(abs(n)))\n",
    "\n",
    "print(count_digits(12345))"
   ]
  },
  {
   "cell_type": "code",
   "execution_count": 11,
   "id": "a461f482-67bb-4c60-9197-826e5bc04cef",
   "metadata": {},
   "outputs": [
    {
     "name": "stdout",
     "output_type": "stream",
     "text": [
      "4321\n"
     ]
    }
   ],
   "source": [
    "# 75. Reverse Digits of a Number\n",
    "def reverse_number(n):\n",
    "    return int(str(n)[::-1])\n",
    "\n",
    "print(reverse_number(1234))"
   ]
  },
  {
   "cell_type": "code",
   "execution_count": 13,
   "id": "578200fa-0cb4-47ff-b23d-4d5d9c71bce2",
   "metadata": {},
   "outputs": [
    {
     "name": "stdout",
     "output_type": "stream",
     "text": [
      "-p-y-t-h-o-n- -i-s- -f-u-n-\n"
     ]
    }
   ],
   "source": [
    "# 76. Replace Spaces with Hyphens in a string\n",
    "def replace_spaces(s):\n",
    "    return s.replace(\"\",\"-\")\n",
    "\n",
    "print(replace_spaces(\"python is fun\"))"
   ]
  },
  {
   "cell_type": "code",
   "execution_count": 15,
   "id": "b0b3ab4b-874a-4107-a25f-6a41cab72e42",
   "metadata": {},
   "outputs": [
    {
     "name": "stdout",
     "output_type": "stream",
     "text": [
      "3\n"
     ]
    }
   ],
   "source": [
    "# 77. Find Second Largest Element in a list\n",
    "def second_largest(lst):\n",
    "    lst=list(set(lst))\n",
    "    lst.sort()\n",
    "    return lst[-2]\n",
    "\n",
    "print(second_largest([1,4,3,4,2]))"
   ]
  },
  {
   "cell_type": "code",
   "execution_count": 17,
   "id": "e423e489-1e2e-421e-ab57-259fea91816d",
   "metadata": {},
   "outputs": [
    {
     "name": "stdout",
     "output_type": "stream",
     "text": [
      "65\n"
     ]
    }
   ],
   "source": [
    "# 78.Print ASCII value of a character\n",
    "def ascii_value(ch):\n",
    "    return ord(ch)\n",
    "\n",
    "print(ascii_value('A'))"
   ]
  },
  {
   "cell_type": "code",
   "execution_count": 21,
   "id": "8cc97b01-6f90-415b-85e9-9f1d367015d5",
   "metadata": {},
   "outputs": [
    {
     "name": "stdout",
     "output_type": "stream",
     "text": [
      "True\n"
     ]
    }
   ],
   "source": [
    "# 79. Check if a string is a pangram\n",
    "# Pangram contains all letters from a-z at least  once.\n",
    "\n",
    "import string\n",
    "def is_pangram(s):\n",
    "    return set(string.ascii_lowercase).issubset(set(s.lower()))\n",
    "\n",
    "print(is_pangram(\"The quick brown fox jumps over the lazy dog\"))"
   ]
  },
  {
   "cell_type": "code",
   "execution_count": 23,
   "id": "0cd6b703-3745-44d2-90ae-5f5800a1fb4d",
   "metadata": {},
   "outputs": [
    {
     "name": "stdout",
     "output_type": "stream",
     "text": [
      "6.0\n"
     ]
    }
   ],
   "source": [
    "# 80. Calculate Area of a Triangle (using Heron's Formula)\n",
    "import math\n",
    "def triangle_area(a,b,c):\n",
    "    s=(a+b+c)/2\n",
    "    return math.sqrt(s*(s-a)*(s-b)*(s-c))\n",
    "\n",
    "print(triangle_area(3,4,5))"
   ]
  },
  {
   "cell_type": "code",
   "execution_count": null,
   "id": "21679eb4-cc22-4a30-b96c-10c378350fe0",
   "metadata": {},
   "outputs": [],
   "source": []
  }
 ],
 "metadata": {
  "kernelspec": {
   "display_name": "Python 3 (ipykernel)",
   "language": "python",
   "name": "python3"
  },
  "language_info": {
   "codemirror_mode": {
    "name": "ipython",
    "version": 3
   },
   "file_extension": ".py",
   "mimetype": "text/x-python",
   "name": "python",
   "nbconvert_exporter": "python",
   "pygments_lexer": "ipython3",
   "version": "3.12.7"
  }
 },
 "nbformat": 4,
 "nbformat_minor": 5
}
